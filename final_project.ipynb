{
 "cells": [
  {
   "cell_type": "markdown",
   "id": "8b750025-903e-443c-a7d2-2198a797cd7d",
   "metadata": {},
   "source": [
    "# Analysis and Comparison of Tweets: Boston Marathon Bombings vs. Hurricane Sandy\n",
    "\n",
    "- Vicky Xie: Did the majority of the coding\n",
    "- Riley Smith: put their contribution here\n",
    "- Finnley O'Rourke: put their contribution here\n",
    "- Kayla Katakis: Research Questions, Dataset Descriptions, Results/Findings: Sentiment Analysis"
   ]
  },
  {
   "cell_type": "markdown",
   "id": "98f943a9-0647-4388-8a26-ad5666c4e840",
   "metadata": {
    "tags": []
   },
   "source": [
    "## Import and Install Necessary Packages"
   ]
  },
  {
   "cell_type": "code",
   "execution_count": 15,
   "id": "16ddbdb4-c1db-4c85-892f-51dd0c3d7cf3",
   "metadata": {
    "tags": []
   },
   "outputs": [
    {
     "name": "stdout",
     "output_type": "stream",
     "text": [
      "Requirement already satisfied: textblob in /opt/conda/lib/python3.10/site-packages (0.17.1)\n",
      "Requirement already satisfied: nltk>=3.1 in /opt/conda/lib/python3.10/site-packages (from textblob) (3.8.1)\n",
      "Requirement already satisfied: regex>=2021.8.3 in /opt/conda/lib/python3.10/site-packages (from nltk>=3.1->textblob) (2023.6.3)\n",
      "Requirement already satisfied: click in /opt/conda/lib/python3.10/site-packages (from nltk>=3.1->textblob) (8.1.3)\n",
      "Requirement already satisfied: tqdm in /opt/conda/lib/python3.10/site-packages (from nltk>=3.1->textblob) (4.65.0)\n",
      "Requirement already satisfied: joblib in /opt/conda/lib/python3.10/site-packages (from nltk>=3.1->textblob) (1.2.0)\n",
      "Requirement already satisfied: nltk in /opt/conda/lib/python3.10/site-packages (3.8.1)\n",
      "Requirement already satisfied: joblib in /opt/conda/lib/python3.10/site-packages (from nltk) (1.2.0)\n",
      "Requirement already satisfied: tqdm in /opt/conda/lib/python3.10/site-packages (from nltk) (4.65.0)\n",
      "Requirement already satisfied: click in /opt/conda/lib/python3.10/site-packages (from nltk) (8.1.3)\n",
      "Requirement already satisfied: regex>=2021.8.3 in /opt/conda/lib/python3.10/site-packages (from nltk) (2023.6.3)\n",
      "Requirement already satisfied: textblob in /opt/conda/lib/python3.10/site-packages (0.17.1)\n",
      "Requirement already satisfied: nltk>=3.1 in /opt/conda/lib/python3.10/site-packages (from textblob) (3.8.1)\n",
      "Requirement already satisfied: joblib in /opt/conda/lib/python3.10/site-packages (from nltk>=3.1->textblob) (1.2.0)\n",
      "Requirement already satisfied: click in /opt/conda/lib/python3.10/site-packages (from nltk>=3.1->textblob) (8.1.3)\n",
      "Requirement already satisfied: tqdm in /opt/conda/lib/python3.10/site-packages (from nltk>=3.1->textblob) (4.65.0)\n",
      "Requirement already satisfied: regex>=2021.8.3 in /opt/conda/lib/python3.10/site-packages (from nltk>=3.1->textblob) (2023.6.3)\n",
      "Requirement already satisfied: bokeh in /opt/conda/lib/python3.10/site-packages (3.1.1)\n",
      "Requirement already satisfied: pandas>=1.2 in /home/jovyan/.local/lib/python3.10/site-packages (from bokeh) (2.0.2)\n",
      "Requirement already satisfied: tornado>=5.1 in /opt/conda/lib/python3.10/site-packages (from bokeh) (6.2)\n",
      "Requirement already satisfied: packaging>=16.8 in /opt/conda/lib/python3.10/site-packages (from bokeh) (23.0)\n",
      "Requirement already satisfied: Jinja2>=2.9 in /opt/conda/lib/python3.10/site-packages (from bokeh) (3.1.2)\n",
      "Requirement already satisfied: xyzservices>=2021.09.1 in /opt/conda/lib/python3.10/site-packages (from bokeh) (2023.5.0)\n",
      "Requirement already satisfied: PyYAML>=3.10 in /opt/conda/lib/python3.10/site-packages (from bokeh) (6.0)\n",
      "Requirement already satisfied: numpy>=1.16 in /opt/conda/lib/python3.10/site-packages (from bokeh) (1.24.2)\n",
      "Requirement already satisfied: pillow>=7.1.0 in /opt/conda/lib/python3.10/site-packages (from bokeh) (9.4.0)\n",
      "Requirement already satisfied: contourpy>=1 in /opt/conda/lib/python3.10/site-packages (from bokeh) (1.0.7)\n",
      "Requirement already satisfied: MarkupSafe>=2.0 in /opt/conda/lib/python3.10/site-packages (from Jinja2>=2.9->bokeh) (2.1.2)\n",
      "Requirement already satisfied: pytz>=2020.1 in /opt/conda/lib/python3.10/site-packages (from pandas>=1.2->bokeh) (2022.7.1)\n",
      "Requirement already satisfied: tzdata>=2022.1 in /home/jovyan/.local/lib/python3.10/site-packages (from pandas>=1.2->bokeh) (2023.3)\n",
      "Requirement already satisfied: python-dateutil>=2.8.2 in /opt/conda/lib/python3.10/site-packages (from pandas>=1.2->bokeh) (2.8.2)\n",
      "Requirement already satisfied: six>=1.5 in /opt/conda/lib/python3.10/site-packages (from python-dateutil>=2.8.2->pandas>=1.2->bokeh) (1.16.0)\n"
     ]
    },
    {
     "name": "stderr",
     "output_type": "stream",
     "text": [
      "[nltk_data] Downloading package vader_lexicon to\n",
      "[nltk_data]     /home/jovyan/nltk_data...\n",
      "[nltk_data]   Package vader_lexicon is already up-to-date!\n",
      "[nltk_data] Downloading package stopwords to /home/jovyan/nltk_data...\n",
      "[nltk_data]   Package stopwords is already up-to-date!\n"
     ]
    }
   ],
   "source": [
    "# Install Neccesary Packages\n",
    "\n",
    "!pip install textblob\n",
    "!pip install nltk \n",
    "!pip install -U textblob\n",
    "!pip install bokeh\n",
    "\n",
    "# Import Necessary Libraries\n",
    "\n",
    "import pandas as pd\n",
    "import re\n",
    "import nltk\n",
    "nltk.download('vader_lexicon')\n",
    "from nltk.sentiment.vader import SentimentIntensityAnalyzer\n",
    "from textblob import TextBlob\n",
    "import matplotlib.pyplot as plt\n",
    "import seaborn as sns\n",
    "\n",
    "from sklearn.feature_extraction.text import CountVectorizer\n",
    "from sklearn.decomposition import LatentDirichletAllocation as LDA\n",
    "from nltk.corpus import stopwords\n",
    "\n",
    "# Downloading and Setting Up the Stopwords Package and Stemmer\n",
    "nltk.download('stopwords')\n",
    "stop_words = set(stopwords.words('english'))\n",
    "from nltk.stem import PorterStemmer\n",
    "stemmer = PorterStemmer()\n",
    "\n",
    "import matplotlib.colors as mcolors\n",
    "import numpy as np\n",
    "from sklearn.manifold import TSNE"
   ]
  },
  {
   "cell_type": "markdown",
   "id": "a4872ee5-9a7c-431e-915e-4617bad79d85",
   "metadata": {
    "jp-MarkdownHeadingCollapsed": true,
    "tags": []
   },
   "source": [
    "# Introduction"
   ]
  },
  {
   "cell_type": "markdown",
   "id": "68c9a2f0-032e-4d5c-bb9c-91b123a32d3f",
   "metadata": {
    "tags": []
   },
   "source": [
    "Our project focuses on the use of sentiment analysis and natural language processing in order to extract data from tweets regarding the Boston Marathon Bombings and Hurricane Sandy. The datasets observed looks at tweets in the aftermath of the both disasters, some of which are classified as “on topic” and others that are classified as “off-topic”. The “on-topic” tweets refer directly to the bombing or the hurricane while the “off-topic” tweets are about anything else. \n",
    " \n",
    "In order to extrapolate specific types of data from the data set our group used both VaderSentiment and TextBlob which helped create sentiment analysis scores for the various tweets. While both VaderSentiment and TextBlob are repositories that help coders perform sentiment analysis there are a few key differences that create variance within the data. \n",
    "\n",
    "Some of the differences between the two models include sentiment intensity vs. sentiment polarity. VaderSentimet uses a rule-based analysis in order to assign an intensity score (-1 to 1) to a given dataset. In contrast TextBlob uses a few different components like part-of-speech tagging and noun phrase extraction in order to assign a given tweet a polarity score (negative, neutral, or positive). Additionally, VaderSentiment is designed to incorporate other aspects of tweets such as emojis and capitalization which helps the program discern the level of sentiment."
   ]
  },
  {
   "cell_type": "markdown",
   "id": "f2cc8c86-9a5d-4c28-b17b-9440736067fd",
   "metadata": {
    "jp-MarkdownHeadingCollapsed": true,
    "tags": []
   },
   "source": [
    "# Research Questions"
   ]
  },
  {
   "cell_type": "markdown",
   "id": "f555a7ff-68fa-4c5a-b4f4-bca6d0726cb0",
   "metadata": {
    "tags": []
   },
   "source": [
    "In this project, we will perform sentiment analysis and topic modeling to answer the following questions:\n",
    "- How do Vader and TextBlob differ in creating sentiment scores for on topic tweets in regards to the Boston Marathon Bombings?\n",
    "- How do Vader and TextBlob differ in creating sentiment scores for on-topic tweets about man-made disasters (Boston Marathon Bombing) versus natural disasters (Hurricane Sandy)?\n",
    "- What are the main topic cluster that crop up in the tweets that are ‘on-topic’ in regards to the Boston Marathon Bombings? \n",
    "- How do they compare to the ‘on-topic’ topic clusters in the Hurricane Sandy tweets?"
   ]
  },
  {
   "cell_type": "markdown",
   "id": "851305a7-c792-4876-8000-0724b602e112",
   "metadata": {
    "tags": []
   },
   "source": [
    "# Dataset Description"
   ]
  },
  {
   "cell_type": "markdown",
   "id": "5be2ce09-aae9-49bf-b43f-9e5eccbf241a",
   "metadata": {},
   "source": [
    "The Boston Bombings dataset takes looks at just over 10,000 tweets that are either about the Boston Marathon bombings or about other random topics. The Boston Bombings dataset has 3 columns.\n",
    "\n",
    "- `label` - a string that indicates whether or not the tweet/observation is about the Boston Marathon Bombings , can either be ‘on-topic’ or ‘off-topic’\n",
    "- `tweet id` - a string that gives each observation a unique identifier value\n",
    "- `tweet` - a string that  represents the entire text of each unique tweet\n",
    "\n",
    "Using the describe() function, we can see the the number of values for each column (count), and how many of those values are unique (unique). Additionally, we can see the ‘top’ value, which represents the most common value , and its frequency. For this dataset, there are 10,012 tweet id’s that are all unique and 10,012 total tweets, with 9,226 of those being unique. We see that our “top” id value only has a frequency of one, which is intuitive due to the unique nature of that variable. Our “top” tweet is actually a retweet that shows up 34 times in the dataset, meaning that there is likely an original tweet that was retweeted 34 times. There are only two unique “label” values, either on-topic or off-topic, with the more common label being on-topic with a count of 5,648.\n",
    "\n",
    "The Hurricane Sandy dataset is structured identically to the Boston Bombing dataset, with the same 3 columns. The major difference, of course, is that being “on-topic” now refers to tweets that are directly related to Hurricane Sandy as opposed to the Boston Marathon Bombings. \n",
    "\n",
    "Using the describe() function on the Hurricane Sandy dataframe, we can see that there is nearly an equal number of tweets, with Hurricane Sandy having 10,008 tweets, each with their own unique id. Of the 10,008 tweets, 9,431 are unique with two potential labels, either on or off topic, which is the same as before. Similarly to the Boston Bombing data frame, the \"top\" tweet in this dataset is in the form of a retweet with a frequency of 28, meaning there is a likely an original tweet, and its retweets come up 28 times in this dataset. The more common label in this dataset is on-topic with a count of 6,138."
   ]
  },
  {
   "cell_type": "markdown",
   "id": "ada705f5-1ea0-4b1c-93da-f8a8f2ca7e64",
   "metadata": {
    "tags": []
   },
   "source": [
    "## 2013 Boston Bombing DF"
   ]
  },
  {
   "cell_type": "code",
   "execution_count": 2,
   "id": "f9e7b812-d39f-462d-b618-521e4909f7e5",
   "metadata": {
    "tags": []
   },
   "outputs": [
    {
     "data": {
      "text/html": [
       "<div>\n",
       "<style scoped>\n",
       "    .dataframe tbody tr th:only-of-type {\n",
       "        vertical-align: middle;\n",
       "    }\n",
       "\n",
       "    .dataframe tbody tr th {\n",
       "        vertical-align: top;\n",
       "    }\n",
       "\n",
       "    .dataframe thead th {\n",
       "        text-align: right;\n",
       "    }\n",
       "</style>\n",
       "<table border=\"1\" class=\"dataframe\">\n",
       "  <thead>\n",
       "    <tr style=\"text-align: right;\">\n",
       "      <th></th>\n",
       "      <th>tweet id</th>\n",
       "      <th>tweet</th>\n",
       "      <th>label</th>\n",
       "    </tr>\n",
       "  </thead>\n",
       "  <tbody>\n",
       "    <tr>\n",
       "      <th>count</th>\n",
       "      <td>10012</td>\n",
       "      <td>10012</td>\n",
       "      <td>10012</td>\n",
       "    </tr>\n",
       "    <tr>\n",
       "      <th>unique</th>\n",
       "      <td>10012</td>\n",
       "      <td>9226</td>\n",
       "      <td>2</td>\n",
       "    </tr>\n",
       "    <tr>\n",
       "      <th>top</th>\n",
       "      <td>'325208201740029952'</td>\n",
       "      <td>RT @DannyAmendola: I will DONATE $100 for EVER...</td>\n",
       "      <td>on-topic</td>\n",
       "    </tr>\n",
       "    <tr>\n",
       "      <th>freq</th>\n",
       "      <td>1</td>\n",
       "      <td>34</td>\n",
       "      <td>5648</td>\n",
       "    </tr>\n",
       "  </tbody>\n",
       "</table>\n",
       "</div>"
      ],
      "text/plain": [
       "                    tweet id  \\\n",
       "count                  10012   \n",
       "unique                 10012   \n",
       "top     '325208201740029952'   \n",
       "freq                       1   \n",
       "\n",
       "                                                    tweet     label  \n",
       "count                                               10012     10012  \n",
       "unique                                               9226         2  \n",
       "top     RT @DannyAmendola: I will DONATE $100 for EVER...  on-topic  \n",
       "freq                                                   34      5648  "
      ]
     },
     "execution_count": 2,
     "metadata": {},
     "output_type": "execute_result"
    }
   ],
   "source": [
    "bomb=pd.read_csv(\"2013_Boston_Bombings-ontopic_offtopic.csv\")\n",
    "bomb.describe()"
   ]
  },
  {
   "cell_type": "markdown",
   "id": "3b73d7f6-aeb0-49e8-816f-d739cf722250",
   "metadata": {
    "tags": []
   },
   "source": [
    "## 2012 Sandy Hurricane DF"
   ]
  },
  {
   "cell_type": "code",
   "execution_count": 3,
   "id": "962f598d-545b-4d5f-b568-2822da0e64fa",
   "metadata": {
    "tags": []
   },
   "outputs": [
    {
     "data": {
      "text/html": [
       "<div>\n",
       "<style scoped>\n",
       "    .dataframe tbody tr th:only-of-type {\n",
       "        vertical-align: middle;\n",
       "    }\n",
       "\n",
       "    .dataframe tbody tr th {\n",
       "        vertical-align: top;\n",
       "    }\n",
       "\n",
       "    .dataframe thead th {\n",
       "        text-align: right;\n",
       "    }\n",
       "</style>\n",
       "<table border=\"1\" class=\"dataframe\">\n",
       "  <thead>\n",
       "    <tr style=\"text-align: right;\">\n",
       "      <th></th>\n",
       "      <th>tweet id</th>\n",
       "      <th>tweet</th>\n",
       "      <th>label</th>\n",
       "    </tr>\n",
       "  </thead>\n",
       "  <tbody>\n",
       "    <tr>\n",
       "      <th>count</th>\n",
       "      <td>10008</td>\n",
       "      <td>10008</td>\n",
       "      <td>10008</td>\n",
       "    </tr>\n",
       "    <tr>\n",
       "      <th>unique</th>\n",
       "      <td>10008</td>\n",
       "      <td>9431</td>\n",
       "      <td>2</td>\n",
       "    </tr>\n",
       "    <tr>\n",
       "      <th>top</th>\n",
       "      <td>'262596552399396864'</td>\n",
       "      <td>RT @HurricaneSandyw: FOR EVERY 100 RETWEETS, W...</td>\n",
       "      <td>on-topic</td>\n",
       "    </tr>\n",
       "    <tr>\n",
       "      <th>freq</th>\n",
       "      <td>1</td>\n",
       "      <td>28</td>\n",
       "      <td>6138</td>\n",
       "    </tr>\n",
       "  </tbody>\n",
       "</table>\n",
       "</div>"
      ],
      "text/plain": [
       "                    tweet id  \\\n",
       "count                  10008   \n",
       "unique                 10008   \n",
       "top     '262596552399396864'   \n",
       "freq                       1   \n",
       "\n",
       "                                                    tweet     label  \n",
       "count                                               10008     10008  \n",
       "unique                                               9431         2  \n",
       "top     RT @HurricaneSandyw: FOR EVERY 100 RETWEETS, W...  on-topic  \n",
       "freq                                                   28      6138  "
      ]
     },
     "execution_count": 3,
     "metadata": {},
     "output_type": "execute_result"
    }
   ],
   "source": [
    "sandy=pd.read_csv(\"2012_Sandy_Hurricane-ontopic_offtopic.csv\")\n",
    "sandy.describe()"
   ]
  },
  {
   "cell_type": "markdown",
   "id": "2da1dc92-aeb2-4f27-a77d-6433d25b91ce",
   "metadata": {
    "tags": []
   },
   "source": [
    "# Preprocessing"
   ]
  },
  {
   "cell_type": "markdown",
   "id": "09bcf01e-e4fb-4f93-a6ed-844da7cda835",
   "metadata": {},
   "source": [
    "Before we begin analyzing the data, we first need to clean up our `tweet` column to get rid of any unnecessary information. \n",
    "To do so, we wrote a function called clean_text() that removes URLs, hashtags, mentions, and any unnecessary whitespace from the text to make sure that only the most meaningful aspects of the text are left for analysis. \n",
    "\n",
    "Additionally, our research questions revolve entirely around the on-topic tweets, so we will filter our datasets to include only these tweets to make our analysis easier and more efficient. We will also drop any empty tweets from the dataset."
   ]
  },
  {
   "cell_type": "code",
   "execution_count": 4,
   "id": "422a0f79-bbbf-4623-b59e-8665c29d7310",
   "metadata": {
    "tags": []
   },
   "outputs": [],
   "source": [
    "# text cleaning\n",
    "def clean_text(text):\n",
    "    text = re.sub(r'http\\S+|www\\S+|https\\S+', '', text, flags=re.MULTILINE)  # remove URLs\n",
    "    text = re.sub(r'@\\w+', '', text)  # remove mentions\n",
    "    text = re.sub(r'#', '', text) # remove hashtag\n",
    "    text = re.sub(r'\\s+', ' ', text)  # remove extra spaces\n",
    "    return text.strip()\n",
    "\n",
    "# Apply cleaning to Boston Bombing df:\n",
    "bomb['clean_text'] = bomb.loc[(bomb[' label'] == 'on-topic')][' tweet'].apply(clean_text)\n",
    "bomb=bomb.dropna(subset = ['clean_text'])\n",
    "\n",
    "# Apply cleaning to Hurrican Sandy df:\n",
    "sandy['clean_text'] = sandy.loc[(sandy[' label'] == 'on-topic')][' tweet'].apply(clean_text)\n",
    "sandy=sandy.dropna(subset = ['clean_text'])"
   ]
  },
  {
   "cell_type": "markdown",
   "id": "9b79ce8b-31b5-4b3e-a118-dc0b5ccc6e32",
   "metadata": {
    "tags": []
   },
   "source": [
    "## Boston Bombing processed text:"
   ]
  },
  {
   "cell_type": "code",
   "execution_count": 5,
   "id": "c61a0cea-059f-4caf-8c97-7af87b7df4e8",
   "metadata": {
    "tags": []
   },
   "outputs": [
    {
     "data": {
      "text/plain": [
       "2     This is fucking crazy. Suspect 2 has like 2 ho...\n",
       "5     Back Bay Businesses Large And Small Affected B...\n",
       "9     9000 agents/officers working for 14 hours, so ...\n",
       "17    Tough to grasp what's happening right now in ....\n",
       "19    Thank you to everyone who is keeping our city ...\n",
       "Name: clean_text, dtype: object"
      ]
     },
     "execution_count": 5,
     "metadata": {},
     "output_type": "execute_result"
    }
   ],
   "source": [
    "bomb['clean_text'].head()"
   ]
  },
  {
   "cell_type": "markdown",
   "id": "fdcc0035-3661-40be-879f-bafb45f0de7b",
   "metadata": {
    "tags": []
   },
   "source": [
    "## Hurricane Sandy processed text:"
   ]
  },
  {
   "cell_type": "code",
   "execution_count": 6,
   "id": "88807f27-5c37-4ea0-8114-ab17988d241f",
   "metadata": {
    "tags": []
   },
   "outputs": [
    {
     "data": {
      "text/plain": [
       "1     Sandy be soooo mad that she be shattering our ...\n",
       "5     Neighborly duties. arrives to the rescue sport...\n",
       "7     I don't know how I'm getting back to Jersey si...\n",
       "10              Already flooded so much SANDY @ Hoboken\n",
       "12    On that note, i pray that everyone stays safe,...\n",
       "Name: clean_text, dtype: object"
      ]
     },
     "execution_count": 6,
     "metadata": {},
     "output_type": "execute_result"
    }
   ],
   "source": [
    "sandy['clean_text'].head()"
   ]
  },
  {
   "cell_type": "markdown",
   "id": "5bf42a68-455a-426c-9722-993de158d5c8",
   "metadata": {
    "tags": []
   },
   "source": [
    "# Analysis"
   ]
  },
  {
   "cell_type": "markdown",
   "id": "75c8c039-a816-447b-95de-65df216598df",
   "metadata": {
    "tags": []
   },
   "source": [
    "For our analysis, we chose to use Sentiment Analysis and Topic Modeling. Because we are interesteed in the way people tweet about both man-made and natural disasters, we felt that Sentiment Analysis would be a great way to judge how people use Twitter to either sympathize with our create positivity from these disasters. Additionally, Topic Modeling can help us understand what common themes pop up in tweets about these disasters and help us understand how people react when these events occur."
   ]
  },
  {
   "cell_type": "markdown",
   "id": "d6e048c6-71fb-40a6-9c3e-2fff316c3e1e",
   "metadata": {
    "tags": []
   },
   "source": [
    "# Sentiment Analysis"
   ]
  },
  {
   "cell_type": "markdown",
   "id": "43446707-46b0-45df-bf15-7f42c80c07a4",
   "metadata": {
    "tags": []
   },
   "source": [
    "In order to carry out our Sentiment Analysis, we first had to develop a few functions that we can then apply to our two datasets using both TextBlob and Vader. \n",
    "\n",
    "Our first function `get_sentiment_textblob()` takes in a text value, which will be each tweet in the dataset, and then using the TextBlob package to return a sentiment score label. Any score greater than 0 is 'Positive' sentiment, less than 0 is 'Negative', and equal to 0 is 'Neutral'. Our other TextBlob function, `get_sent_textblob_cont()` takes each tweet and returns the numerical, continuous sentiment score.\n",
    "\n",
    "We also have `get_sentiment_vader()` that works the same way and gives tweets a 'Positive' label to tweets with a score of 0.05 or higher, 'Negative' when the score is less than -0.05, and 'Neutral' if the score is between those two values. Since the Vader library uses more aspects of the tweets, such as capitalizations and emojis, we chose to give the Vader functions a slightly wider range for neutral tweets to account for the larger scope of variables that go into calculating the score.  Similarly to its TextBlob counterpart, `get_sent_vader_cont()` takes each tweet and returns its numerical, continuous sentiment score.\n",
    "\n",
    "Then we apply all four of our functions to each of our two datasets to create dataframes that include each unique tweet and the sentiment scores and labels from each library."
   ]
  },
  {
   "cell_type": "code",
   "execution_count": 7,
   "id": "0e2a1e04-3ccb-4eff-9e26-6a6a812cb5de",
   "metadata": {
    "tags": []
   },
   "outputs": [],
   "source": [
    "# Define a function for sentiment analysis using TextBlob\n",
    "def get_sentiment_textblob(text):\n",
    "    \"\"\"\n",
    "    this function takes text as the input and calculates the sentiment score of this given text.\n",
    "    \"\"\"\n",
    "    sentiment = TextBlob(text).sentiment.polarity\n",
    "    if sentiment > 0:\n",
    "        return \"Positive\"\n",
    "    elif sentiment < 0:\n",
    "        return \"Negative\"\n",
    "    else:\n",
    "        return \"Neutral\"\n",
    "\n",
    "# get continuous textblob sentiment scores\n",
    "def get_sent_textblob_cont(text):\n",
    "    return TextBlob(text).sentiment.polarity\n",
    "\n",
    "# Define a function for sentiment analysis using NLTK's Vader\n",
    "def get_sentiment_vader(text):\n",
    "    sia = SentimentIntensityAnalyzer()\n",
    "    sentiment = sia.polarity_scores(text)\n",
    "    if sentiment['compound'] > 0.05:\n",
    "        return \"Positive\"\n",
    "    elif sentiment['compound'] < -0.05:\n",
    "        return \"Negative\"\n",
    "    else:\n",
    "        return \"Neutral\"\n",
    "    \n",
    "# get continuous vader sentiment scores\n",
    "def get_sent_vader_cont(text):\n",
    "    sia = SentimentIntensityAnalyzer()\n",
    "    return sia.polarity_scores(text)['compound']"
   ]
  },
  {
   "cell_type": "markdown",
   "id": "53b5c79d-be71-4330-99a6-89521cf6f921",
   "metadata": {
    "tags": []
   },
   "source": [
    "## Boston Bombing"
   ]
  },
  {
   "cell_type": "code",
   "execution_count": 8,
   "id": "0f0b601a-9ce3-41f1-865c-2c9513290673",
   "metadata": {
    "tags": []
   },
   "outputs": [
    {
     "data": {
      "text/html": [
       "<div>\n",
       "<style scoped>\n",
       "    .dataframe tbody tr th:only-of-type {\n",
       "        vertical-align: middle;\n",
       "    }\n",
       "\n",
       "    .dataframe tbody tr th {\n",
       "        vertical-align: top;\n",
       "    }\n",
       "\n",
       "    .dataframe thead th {\n",
       "        text-align: right;\n",
       "    }\n",
       "</style>\n",
       "<table border=\"1\" class=\"dataframe\">\n",
       "  <thead>\n",
       "    <tr style=\"text-align: right;\">\n",
       "      <th></th>\n",
       "      <th>clean_text</th>\n",
       "      <th>sentiment_textblob</th>\n",
       "      <th>sent_textblob_cont</th>\n",
       "      <th>sentiment_vader</th>\n",
       "      <th>sent_vader_cont</th>\n",
       "    </tr>\n",
       "  </thead>\n",
       "  <tbody>\n",
       "    <tr>\n",
       "      <th>2</th>\n",
       "      <td>This is fucking crazy. Suspect 2 has like 2 ho...</td>\n",
       "      <td>Negative</td>\n",
       "      <td>-0.600000</td>\n",
       "      <td>Negative</td>\n",
       "      <td>-0.3962</td>\n",
       "    </tr>\n",
       "    <tr>\n",
       "      <th>5</th>\n",
       "      <td>Back Bay Businesses Large And Small Affected B...</td>\n",
       "      <td>Negative</td>\n",
       "      <td>-0.011905</td>\n",
       "      <td>Negative</td>\n",
       "      <td>-0.1531</td>\n",
       "    </tr>\n",
       "    <tr>\n",
       "      <th>9</th>\n",
       "      <td>9000 agents/officers working for 14 hours, so ...</td>\n",
       "      <td>Positive</td>\n",
       "      <td>0.200000</td>\n",
       "      <td>Positive</td>\n",
       "      <td>0.5233</td>\n",
       "    </tr>\n",
       "    <tr>\n",
       "      <th>17</th>\n",
       "      <td>Tough to grasp what's happening right now in ....</td>\n",
       "      <td>Positive</td>\n",
       "      <td>0.132275</td>\n",
       "      <td>Positive</td>\n",
       "      <td>0.8519</td>\n",
       "    </tr>\n",
       "    <tr>\n",
       "      <th>19</th>\n",
       "      <td>Thank you to everyone who is keeping our city ...</td>\n",
       "      <td>Positive</td>\n",
       "      <td>0.500000</td>\n",
       "      <td>Positive</td>\n",
       "      <td>0.8271</td>\n",
       "    </tr>\n",
       "    <tr>\n",
       "      <th>...</th>\n",
       "      <td>...</td>\n",
       "      <td>...</td>\n",
       "      <td>...</td>\n",
       "      <td>...</td>\n",
       "      <td>...</td>\n",
       "    </tr>\n",
       "    <tr>\n",
       "      <th>10007</th>\n",
       "      <td>RT : Boston bombing suspects’ dad says sons we...</td>\n",
       "      <td>Negative</td>\n",
       "      <td>-0.250000</td>\n",
       "      <td>Neutral</td>\n",
       "      <td>0.0000</td>\n",
       "    </tr>\n",
       "    <tr>\n",
       "      <th>10008</th>\n",
       "      <td>Like the boston marathon, on a episode peter h...</td>\n",
       "      <td>Neutral</td>\n",
       "      <td>0.000000</td>\n",
       "      <td>Negative</td>\n",
       "      <td>-0.4939</td>\n",
       "    </tr>\n",
       "    <tr>\n",
       "      <th>10009</th>\n",
       "      <td>RT : MUST WATCH: Bruins fans sing emotional Na...</td>\n",
       "      <td>Negative</td>\n",
       "      <td>-0.050000</td>\n",
       "      <td>Positive</td>\n",
       "      <td>0.1531</td>\n",
       "    </tr>\n",
       "    <tr>\n",
       "      <th>10010</th>\n",
       "      <td>RT : So that Boston bombing was fake just like...</td>\n",
       "      <td>Negative</td>\n",
       "      <td>-0.500000</td>\n",
       "      <td>Negative</td>\n",
       "      <td>-0.1531</td>\n",
       "    </tr>\n",
       "    <tr>\n",
       "      <th>10011</th>\n",
       "      <td>RT : Both FBI and al Qaeda struggling to ident...</td>\n",
       "      <td>Negative</td>\n",
       "      <td>-0.400000</td>\n",
       "      <td>Negative</td>\n",
       "      <td>-0.4215</td>\n",
       "    </tr>\n",
       "  </tbody>\n",
       "</table>\n",
       "<p>5648 rows × 5 columns</p>\n",
       "</div>"
      ],
      "text/plain": [
       "                                              clean_text sentiment_textblob  \\\n",
       "2      This is fucking crazy. Suspect 2 has like 2 ho...           Negative   \n",
       "5      Back Bay Businesses Large And Small Affected B...           Negative   \n",
       "9      9000 agents/officers working for 14 hours, so ...           Positive   \n",
       "17     Tough to grasp what's happening right now in ....           Positive   \n",
       "19     Thank you to everyone who is keeping our city ...           Positive   \n",
       "...                                                  ...                ...   \n",
       "10007  RT : Boston bombing suspects’ dad says sons we...           Negative   \n",
       "10008  Like the boston marathon, on a episode peter h...            Neutral   \n",
       "10009  RT : MUST WATCH: Bruins fans sing emotional Na...           Negative   \n",
       "10010  RT : So that Boston bombing was fake just like...           Negative   \n",
       "10011  RT : Both FBI and al Qaeda struggling to ident...           Negative   \n",
       "\n",
       "       sent_textblob_cont sentiment_vader  sent_vader_cont  \n",
       "2               -0.600000        Negative          -0.3962  \n",
       "5               -0.011905        Negative          -0.1531  \n",
       "9                0.200000        Positive           0.5233  \n",
       "17               0.132275        Positive           0.8519  \n",
       "19               0.500000        Positive           0.8271  \n",
       "...                   ...             ...              ...  \n",
       "10007           -0.250000         Neutral           0.0000  \n",
       "10008            0.000000        Negative          -0.4939  \n",
       "10009           -0.050000        Positive           0.1531  \n",
       "10010           -0.500000        Negative          -0.1531  \n",
       "10011           -0.400000        Negative          -0.4215  \n",
       "\n",
       "[5648 rows x 5 columns]"
      ]
     },
     "execution_count": 8,
     "metadata": {},
     "output_type": "execute_result"
    }
   ],
   "source": [
    "#Apply Sentiment Analysis functions to the Boston Bombings dataset\n",
    "bomb['sentiment_textblob'] = bomb['clean_text'].apply(get_sentiment_textblob)\n",
    "bomb['sent_textblob_cont'] = bomb['clean_text'].apply(get_sent_textblob_cont)\n",
    "bomb['sentiment_vader'] = bomb['clean_text'].apply(get_sentiment_vader)\n",
    "bomb['sent_vader_cont'] = bomb['clean_text'].apply(get_sent_vader_cont)\n",
    "bomb[[\"clean_text\", \"sentiment_textblob\", \"sent_textblob_cont\", \"sentiment_vader\", \"sent_vader_cont\"]]"
   ]
  },
  {
   "cell_type": "markdown",
   "id": "1db197fb-b066-497f-a74c-b05c7c0306ae",
   "metadata": {
    "tags": []
   },
   "source": [
    "## Hurricane Sandy"
   ]
  },
  {
   "cell_type": "code",
   "execution_count": 9,
   "id": "b9b17b80-ea04-4785-8745-28b7f25a5dcd",
   "metadata": {
    "tags": []
   },
   "outputs": [
    {
     "data": {
      "text/html": [
       "<div>\n",
       "<style scoped>\n",
       "    .dataframe tbody tr th:only-of-type {\n",
       "        vertical-align: middle;\n",
       "    }\n",
       "\n",
       "    .dataframe tbody tr th {\n",
       "        vertical-align: top;\n",
       "    }\n",
       "\n",
       "    .dataframe thead th {\n",
       "        text-align: right;\n",
       "    }\n",
       "</style>\n",
       "<table border=\"1\" class=\"dataframe\">\n",
       "  <thead>\n",
       "    <tr style=\"text-align: right;\">\n",
       "      <th></th>\n",
       "      <th>clean_text</th>\n",
       "      <th>sentiment_textblob</th>\n",
       "      <th>sent_textblob_cont</th>\n",
       "      <th>sentiment_vader</th>\n",
       "      <th>sent_vader_cont</th>\n",
       "    </tr>\n",
       "  </thead>\n",
       "  <tbody>\n",
       "    <tr>\n",
       "      <th>1</th>\n",
       "      <td>Sandy be soooo mad that she be shattering our ...</td>\n",
       "      <td>Negative</td>\n",
       "      <td>-0.625000</td>\n",
       "      <td>Negative</td>\n",
       "      <td>-0.4939</td>\n",
       "    </tr>\n",
       "    <tr>\n",
       "      <th>5</th>\n",
       "      <td>Neighborly duties. arrives to the rescue sport...</td>\n",
       "      <td>Neutral</td>\n",
       "      <td>0.000000</td>\n",
       "      <td>Positive</td>\n",
       "      <td>0.5106</td>\n",
       "    </tr>\n",
       "    <tr>\n",
       "      <th>7</th>\n",
       "      <td>I don't know how I'm getting back to Jersey si...</td>\n",
       "      <td>Neutral</td>\n",
       "      <td>0.000000</td>\n",
       "      <td>Neutral</td>\n",
       "      <td>0.0000</td>\n",
       "    </tr>\n",
       "    <tr>\n",
       "      <th>10</th>\n",
       "      <td>Already flooded so much SANDY @ Hoboken</td>\n",
       "      <td>Positive</td>\n",
       "      <td>0.200000</td>\n",
       "      <td>Neutral</td>\n",
       "      <td>0.0000</td>\n",
       "    </tr>\n",
       "    <tr>\n",
       "      <th>12</th>\n",
       "      <td>On that note, i pray that everyone stays safe,...</td>\n",
       "      <td>Positive</td>\n",
       "      <td>0.392045</td>\n",
       "      <td>Positive</td>\n",
       "      <td>0.8439</td>\n",
       "    </tr>\n",
       "    <tr>\n",
       "      <th>...</th>\n",
       "      <td>...</td>\n",
       "      <td>...</td>\n",
       "      <td>...</td>\n",
       "      <td>...</td>\n",
       "      <td>...</td>\n",
       "    </tr>\n",
       "    <tr>\n",
       "      <th>10003</th>\n",
       "      <td>sandy is a weak name for a hurricane</td>\n",
       "      <td>Negative</td>\n",
       "      <td>-0.375000</td>\n",
       "      <td>Negative</td>\n",
       "      <td>-0.4404</td>\n",
       "    </tr>\n",
       "    <tr>\n",
       "      <th>10004</th>\n",
       "      <td>so freaking excited :D and i don't know...i ha...</td>\n",
       "      <td>Positive</td>\n",
       "      <td>0.687500</td>\n",
       "      <td>Positive</td>\n",
       "      <td>0.6975</td>\n",
       "    </tr>\n",
       "    <tr>\n",
       "      <th>10005</th>\n",
       "      <td>RT : I don't find these hurricane jokes funny....</td>\n",
       "      <td>Positive</td>\n",
       "      <td>0.250000</td>\n",
       "      <td>Positive</td>\n",
       "      <td>0.5994</td>\n",
       "    </tr>\n",
       "    <tr>\n",
       "      <th>10006</th>\n",
       "      <td>Best wishes to our friends in the northeast. S...</td>\n",
       "      <td>Positive</td>\n",
       "      <td>0.812500</td>\n",
       "      <td>Positive</td>\n",
       "      <td>0.9020</td>\n",
       "    </tr>\n",
       "    <tr>\n",
       "      <th>10007</th>\n",
       "      <td>UPDATE 7-Threat of Hurricane Sandy grows as it...</td>\n",
       "      <td>Positive</td>\n",
       "      <td>0.200000</td>\n",
       "      <td>Neutral</td>\n",
       "      <td>0.0000</td>\n",
       "    </tr>\n",
       "  </tbody>\n",
       "</table>\n",
       "<p>6138 rows × 5 columns</p>\n",
       "</div>"
      ],
      "text/plain": [
       "                                              clean_text sentiment_textblob  \\\n",
       "1      Sandy be soooo mad that she be shattering our ...           Negative   \n",
       "5      Neighborly duties. arrives to the rescue sport...            Neutral   \n",
       "7      I don't know how I'm getting back to Jersey si...            Neutral   \n",
       "10               Already flooded so much SANDY @ Hoboken           Positive   \n",
       "12     On that note, i pray that everyone stays safe,...           Positive   \n",
       "...                                                  ...                ...   \n",
       "10003               sandy is a weak name for a hurricane           Negative   \n",
       "10004  so freaking excited :D and i don't know...i ha...           Positive   \n",
       "10005  RT : I don't find these hurricane jokes funny....           Positive   \n",
       "10006  Best wishes to our friends in the northeast. S...           Positive   \n",
       "10007  UPDATE 7-Threat of Hurricane Sandy grows as it...           Positive   \n",
       "\n",
       "       sent_textblob_cont sentiment_vader  sent_vader_cont  \n",
       "1               -0.625000        Negative          -0.4939  \n",
       "5                0.000000        Positive           0.5106  \n",
       "7                0.000000         Neutral           0.0000  \n",
       "10               0.200000         Neutral           0.0000  \n",
       "12               0.392045        Positive           0.8439  \n",
       "...                   ...             ...              ...  \n",
       "10003           -0.375000        Negative          -0.4404  \n",
       "10004            0.687500        Positive           0.6975  \n",
       "10005            0.250000        Positive           0.5994  \n",
       "10006            0.812500        Positive           0.9020  \n",
       "10007            0.200000         Neutral           0.0000  \n",
       "\n",
       "[6138 rows x 5 columns]"
      ]
     },
     "execution_count": 9,
     "metadata": {},
     "output_type": "execute_result"
    }
   ],
   "source": [
    "#Applying Sentiment Analysis Functions to Hurricane Sandy Dataset\n",
    "sandy['sentiment_textblob'] = sandy['clean_text'].apply(get_sentiment_textblob)\n",
    "sandy['sent_textblob_cont'] = sandy['clean_text'].apply(get_sent_textblob_cont)\n",
    "sandy['sentiment_vader'] = sandy['clean_text'].apply(get_sentiment_vader)\n",
    "sandy['sent_vader_cont'] = sandy['clean_text'].apply(get_sent_vader_cont)\n",
    "sandy[[\"clean_text\", \"sentiment_textblob\", \"sent_textblob_cont\", \"sentiment_vader\", \"sent_vader_cont\"]]"
   ]
  },
  {
   "cell_type": "markdown",
   "id": "640aab84-7999-4f0c-987d-a7a5689cef6d",
   "metadata": {
    "tags": []
   },
   "source": [
    "## Visualization "
   ]
  },
  {
   "cell_type": "markdown",
   "id": "fee25659-6d8b-4f70-aaa6-fac828286b40",
   "metadata": {},
   "source": [
    "To analyze the difference between Vader and TextBlob in creating sentiment scores, we used bar plots that are color coded to represent the different libraries. TextBlob counts are shown in coral, Vader in periwinkle, and any overlapping counts are shown in purple. To create these plots, we used Seaborns countplot() function to create two layers of the plot, one with the continuous scores from the TextBlob functions, and one with the continous scores from Vader. "
   ]
  },
  {
   "cell_type": "markdown",
   "id": "719e4dc3-6ca9-4779-ab1c-0dc938c1fc1d",
   "metadata": {
    "tags": []
   },
   "source": [
    "## Boston Bombing"
   ]
  },
  {
   "cell_type": "code",
   "execution_count": 10,
   "id": "ce58c4e7-c515-43c3-91e5-c8bfeb6ec465",
   "metadata": {
    "tags": []
   },
   "outputs": [
    {
     "data": {
      "image/png": "[encoded data removed]",
      "text/plain": [
       "<Figure size 1000x500 with 1 Axes>"
      ]
     },
     "metadata": {},
     "output_type": "display_data"
    }
   ],
   "source": [
    "plt.figure(figsize=(10, 5))\n",
    "sns.countplot(x=\"sentiment_textblob\", data= bomb , label=\"TextBlob\", color='r', alpha=0.5)\n",
    "sns.countplot(x=\"sentiment_vader\", data= bomb , label=\"Vader\", color='b', alpha=0.5)\n",
    "plt.legend()\n",
    "plt.title('Distribution of Sentiment Scores from TextBlob and Vader: Boston Bombings')\n",
    "plt.show()"
   ]
  },
  {
   "cell_type": "markdown",
   "id": "2b776783-c4bc-482a-a939-64200f7fe3b9",
   "metadata": {
    "tags": []
   },
   "source": [
    "## Hurricane Sandy"
   ]
  },
  {
   "cell_type": "code",
   "execution_count": 11,
   "id": "a67f3067-234b-407f-b2b9-84f85fe2f15a",
   "metadata": {
    "tags": []
   },
   "outputs": [
    {
     "data": {
      "image/png": "[encoded data removed]",
      "text/plain": [
       "<Figure size 1000x500 with 1 Axes>"
      ]
     },
     "metadata": {},
     "output_type": "display_data"
    }
   ],
   "source": [
    "plt.figure(figsize=(10, 5))\n",
    "sns.countplot(x=\"sentiment_textblob\", data=sandy, label=\"TextBlob\", color='r', alpha=0.5)\n",
    "sns.countplot(x=\"sentiment_vader\", data=sandy , label=\"Vader\", color='b', alpha=0.5)\n",
    "plt.legend()\n",
    "plt.title('Distribution of Sentiment Scores from TextBlob and Vader: Hurricane Sandy')\n",
    "plt.show()"
   ]
  },
  {
   "cell_type": "markdown",
   "id": "f8ea61b7-b558-4ae5-b424-19153ea558e4",
   "metadata": {
    "tags": []
   },
   "source": [
    "# Topic Modeling"
   ]
  },
  {
   "cell_type": "markdown",
   "id": "ed10a9d1-7b5d-44d8-87ae-e11ab7a739a9",
   "metadata": {},
   "source": [
    "- Add your explanations in here"
   ]
  },
  {
   "cell_type": "markdown",
   "id": "f40a7e6c-dae2-4124-bb0d-1113df530339",
   "metadata": {
    "tags": []
   },
   "source": [
    "## Boston Bombing"
   ]
  },
  {
   "cell_type": "code",
   "execution_count": 13,
   "id": "2caeda54-2d64-449c-8753-8f7b8900d045",
   "metadata": {
    "tags": []
   },
   "outputs": [],
   "source": [
    "# We will only use the 'text_cleaned' column for our analysis\n",
    "boom = bomb['clean_text']\n",
    "\n",
    "# Initialize CountVectorizer\n",
    "count_vectorizer = CountVectorizer(stop_words='english')"
   ]
  },
  {
   "cell_type": "code",
   "execution_count": 14,
   "id": "e5d3835c-af15-46f6-911a-6fa76cd399d0",
   "metadata": {
    "tags": []
   },
   "outputs": [
    {
     "name": "stdout",
     "output_type": "stream",
     "text": [
      "\n",
      "Topic #1:\n",
      "boston rt marathon bombing bomb suspect breaking suspects explosions news\n",
      "\n",
      "Topic #2:\n",
      "boston rt prayforboston marathon old died explosions year people running\n",
      "\n",
      "Topic #3:\n",
      "boston rt marathon suspects bombing fbi bombings prayforboston thoughts bostonmarathon\n",
      "\n",
      "Topic #4:\n",
      "boston rt suspect bombing marathon police bostonmarathon dead bomb suspects\n",
      "\n",
      "Topic #5:\n",
      "boston rt bombing explosion bostonmarathon obama texas prayforboston martin right\n"
     ]
    }
   ],
   "source": [
    "# Fit and transform the processed titles\n",
    "count_data_boom = count_vectorizer.fit_transform(boom)\n",
    "\n",
    "# Tweak the two parameters below (use int values below 15)\n",
    "number_topics = 5\n",
    "number_words = 10\n",
    "\n",
    "# Create and fit the LDA model with a fixed random state to prevent changes with every update\n",
    "lda_model = LDA(n_components=number_topics, n_jobs=-1, random_state=5)\n",
    "lda_model.fit(count_data_boom)\n",
    "\n",
    "def print_topics(model, count_vectorizer, n_top_words):\n",
    "    words = count_vectorizer.get_feature_names_out()\n",
    "    topic_word_distributions = model.components_\n",
    "    for topic_idx, topic in enumerate(topic_word_distributions):\n",
    "        print(\"\\nTopic #%d:\" % (topic_idx + 1))\n",
    "        print(\" \".join([words[i]\n",
    "                        for i in topic.argsort()[:-n_top_words - 1:-1]]))\n",
    "\n",
    "print_topics(lda_model, count_vectorizer, number_words)"
   ]
  },
  {
   "cell_type": "code",
   "execution_count": null,
   "id": "f65d13a5-1021-4d56-aff6-6f184aed80cb",
   "metadata": {
    "tags": []
   },
   "outputs": [],
   "source": [
    "### add explanation about top 5 topics about boston bombing here"
   ]
  },
  {
   "cell_type": "markdown",
   "id": "22a895b0-6e92-47c6-8b4c-4c2fbb77fa7f",
   "metadata": {},
   "source": [
    "### Visualization"
   ]
  },
  {
   "cell_type": "code",
   "execution_count": 28,
   "id": "fec78e31-7fa3-436c-b635-22865132bb52",
   "metadata": {
    "tags": []
   },
   "outputs": [
    {
     "name": "stdout",
     "output_type": "stream",
     "text": [
      "[t-SNE] Computing 91 nearest neighbors...\n",
      "[t-SNE] Indexed 5632 samples in 0.003s...\n",
      "[t-SNE] Computed neighbors for 5632 samples in 0.208s...\n",
      "[t-SNE] Computed conditional probabilities for sample 1000 / 5632\n",
      "[t-SNE] Computed conditional probabilities for sample 2000 / 5632\n",
      "[t-SNE] Computed conditional probabilities for sample 3000 / 5632\n",
      "[t-SNE] Computed conditional probabilities for sample 4000 / 5632\n",
      "[t-SNE] Computed conditional probabilities for sample 5000 / 5632\n",
      "[t-SNE] Computed conditional probabilities for sample 5632 / 5632\n",
      "[t-SNE] Mean sigma: 0.000000\n",
      "[t-SNE] KL divergence after 250 iterations with early exaggeration: 55.625057\n",
      "[t-SNE] KL divergence after 1000 iterations: 0.382354\n"
     ]
    },
    {
     "data": {
      "text/html": [
       "<style>\n",
       "        .bk-notebook-logo {\n",
       "            display: block;\n",
       "            width: 20px;\n",
       "            height: 20px;\n",
       "            background-image: url(data:image/png;base64,iVBORw0KGgoAAAANSUhEUgAAABQAAAAUCAYAAACNiR0NAAAABHNCSVQICAgIfAhkiAAAAAlwSFlzAAALEgAACxIB0t1+/AAAABx0RVh0U29mdHdhcmUAQWRvYmUgRmlyZXdvcmtzIENTNui8sowAAAOkSURBVDiNjZRtaJVlGMd/1/08zzln5zjP1LWcU9N0NkN8m2CYjpgQYQXqSs0I84OLIC0hkEKoPtiH3gmKoiJDU7QpLgoLjLIQCpEsNJ1vqUOdO7ppbuec5+V+rj4ctwzd8IIbbi6u+8f1539dt3A78eXC7QizUF7gyV1fD1Yqg4JWz84yffhm0qkFqBogB9rM8tZdtwVsPUhWhGcFJngGeWrPzHm5oaMmkfEg1usvLFyc8jLRqDOMru7AyC8saQr7GG7f5fvDeH7Ej8CM66nIF+8yngt6HWaKh7k49Soy9nXurCi1o3qUbS3zWfrYeQDTB/Qj6kX6Ybhw4B+bOYoLKCC9H3Nu/leUTZ1JdRWkkn2ldcCamzrcf47KKXdAJllSlxAOkRgyHsGC/zRday5Qld9DyoM4/q/rUoy/CXh3jzOu3bHUVZeU+DEn8FInkPBFlu3+nW3Nw0mk6vCDiWg8CeJaxEwuHS3+z5RgY+YBR6V1Z1nxSOfoaPa4LASWxxdNp+VWTk7+4vzaou8v8PN+xo+KY2xsw6une2frhw05CTYOmQvsEhjhWjn0bmXPjpE1+kplmmkP3suftwTubK9Vq22qKmrBhpY4jvd5afdRA3wGjFAgcnTK2s4hY0/GPNIb0nErGMCRxWOOX64Z8RAC4oCXdklmEvcL8o0BfkNK4lUg9HTl+oPlQxdNo3Mg4Nv175e/1LDGzZen30MEjRUtmXSfiTVu1kK8W4txyV6BMKlbgk3lMwYCiusNy9fVfvvwMxv8Ynl6vxoByANLTWplvuj/nF9m2+PDtt1eiHPBr1oIfhCChQMBw6Aw0UulqTKZdfVvfG7VcfIqLG9bcldL/+pdWTLxLUy8Qq38heUIjh4XlzZxzQm19lLFlr8vdQ97rjZVOLf8nclzckbcD4wxXMidpX30sFd37Fv/GtwwhzhxGVAprjbg0gCAEeIgwCZyTV2Z1REEW8O4py0wsjeloKoMr6iCY6dP92H6Vw/oTyICIthibxjm/DfN9lVz8IqtqKYLUXfoKVMVQVVJOElGjrnnUt9T9wbgp8AyYKaGlqingHZU/uG2NTZSVqwHQTWkx9hxjkpWDaCg6Ckj5qebgBVbT3V3NNXMSiWSDdGV3hrtzla7J+duwPOToIg42ChPQOQjspnSlp1V+Gjdged7+8UN5CRAV7a5EdFNwCjEaBR27b3W890TE7g24NAP/mMDXRWrGoFPQI9ls/MWO2dWFAar/xcOIImbbpA3zgAAAABJRU5ErkJggg==);\n",
       "        }\n",
       "    </style>\n",
       "    <div>\n",
       "        <a href=\"https://bokeh.org\" target=\"_blank\" class=\"bk-notebook-logo\"></a>\n",
       "        <span id=\"ce5d113f-07f7-4c3e-8b77-065088cdf172\">Loading BokehJS ...</span>\n",
       "    </div>\n"
      ]
     },
     "metadata": {},
     "output_type": "display_data"
    },
    {
     "data": {
      "application/javascript": [
       "(function(root) {\n",
       "  function now() {\n",
       "    return new Date();\n",
       "  }\n",
       "\n",
       "  const force = true;\n",
       "\n",
       "  if (typeof root._bokeh_onload_callbacks === \"undefined\" || force === true) {\n",
       "    root._bokeh_onload_callbacks = [];\n",
       "    root._bokeh_is_loading = undefined;\n",
       "  }\n",
       "\n",
       "const JS_MIME_TYPE = 'application/javascript';\n",
       "  const HTML_MIME_TYPE = 'text/html';\n",
       "  const EXEC_MIME_TYPE = 'application/vnd.bokehjs_exec.v0+json';\n",
       "  const CLASS_NAME = 'output_bokeh rendered_html';\n",
       "\n",
       "  /**\n",
       "   * Render data to the DOM node\n",
       "   */\n",
       "  function render(props, node) {\n",
       "    const script = document.createElement(\"script\");\n",
       "    node.appendChild(script);\n",
       "  }\n",
       "\n",
       "  /**\n",
       "   * Handle when an output is cleared or removed\n",
       "   */\n",
       "  function handleClearOutput(event, handle) {\n",
       "    const cell = handle.cell;\n",
       "\n",
       "    const id = cell.output_area._bokeh_element_id;\n",
       "    const server_id = cell.output_area._bokeh_server_id;\n",
       "    // Clean up Bokeh references\n",
       "    if (id != null && id in Bokeh.index) {\n",
       "      Bokeh.index[id].model.document.clear();\n",
       "      delete Bokeh.index[id];\n",
       "    }\n",
       "\n",
       "    if (server_id !== undefined) {\n",
       "      // Clean up Bokeh references\n",
       "      const cmd_clean = \"from bokeh.io.state import curstate; print(curstate().uuid_to_server['\" + server_id + \"'].get_sessions()[0].document.roots[0]._id)\";\n",
       "      cell.notebook.kernel.execute(cmd_clean, {\n",
       "        iopub: {\n",
       "          output: function(msg) {\n",
       "            const id = msg.content.text.trim();\n",
       "            if (id in Bokeh.index) {\n",
       "              Bokeh.index[id].model.document.clear();\n",
       "              delete Bokeh.index[id];\n",
       "            }\n",
       "          }\n",
       "        }\n",
       "      });\n",
       "      // Destroy server and session\n",
       "      const cmd_destroy = \"import bokeh.io.notebook as ion; ion.destroy_server('\" + server_id + \"')\";\n",
       "      cell.notebook.kernel.execute(cmd_destroy);\n",
       "    }\n",
       "  }\n",
       "\n",
       "  /**\n",
       "   * Handle when a new output is added\n",
       "   */\n",
       "  function handleAddOutput(event, handle) {\n",
       "    const output_area = handle.output_area;\n",
       "    const output = handle.output;\n",
       "\n",
       "    // limit handleAddOutput to display_data with EXEC_MIME_TYPE content only\n",
       "    if ((output.output_type != \"display_data\") || (!Object.prototype.hasOwnProperty.call(output.data, EXEC_MIME_TYPE))) {\n",
       "      return\n",
       "    }\n",
       "\n",
       "    const toinsert = output_area.element.find(\".\" + CLASS_NAME.split(' ')[0]);\n",
       "\n",
       "    if (output.metadata[EXEC_MIME_TYPE][\"id\"] !== undefined) {\n",
       "      toinsert[toinsert.length - 1].firstChild.textContent = output.data[JS_MIME_TYPE];\n",
       "      // store reference to embed id on output_area\n",
       "      output_area._bokeh_element_id = output.metadata[EXEC_MIME_TYPE][\"id\"];\n",
       "    }\n",
       "    if (output.metadata[EXEC_MIME_TYPE][\"server_id\"] !== undefined) {\n",
       "      const bk_div = document.createElement(\"div\");\n",
       "      bk_div.innerHTML = output.data[HTML_MIME_TYPE];\n",
       "      const script_attrs = bk_div.children[0].attributes;\n",
       "      for (let i = 0; i < script_attrs.length; i++) {\n",
       "        toinsert[toinsert.length - 1].firstChild.setAttribute(script_attrs[i].name, script_attrs[i].value);\n",
       "        toinsert[toinsert.length - 1].firstChild.textContent = bk_div.children[0].textContent\n",
       "      }\n",
       "      // store reference to server id on output_area\n",
       "      output_area._bokeh_server_id = output.metadata[EXEC_MIME_TYPE][\"server_id\"];\n",
       "    }\n",
       "  }\n",
       "\n",
       "  function register_renderer(events, OutputArea) {\n",
       "\n",
       "    function append_mime(data, metadata, element) {\n",
       "      // create a DOM node to render to\n",
       "      const toinsert = this.create_output_subarea(\n",
       "        metadata,\n",
       "        CLASS_NAME,\n",
       "        EXEC_MIME_TYPE\n",
       "      );\n",
       "      this.keyboard_manager.register_events(toinsert);\n",
       "      // Render to node\n",
       "      const props = {data: data, metadata: metadata[EXEC_MIME_TYPE]};\n",
       "      render(props, toinsert[toinsert.length - 1]);\n",
       "      element.append(toinsert);\n",
       "      return toinsert\n",
       "    }\n",
       "\n",
       "    /* Handle when an output is cleared or removed */\n",
       "    events.on('clear_output.CodeCell', handleClearOutput);\n",
       "    events.on('delete.Cell', handleClearOutput);\n",
       "\n",
       "    /* Handle when a new output is added */\n",
       "    events.on('output_added.OutputArea', handleAddOutput);\n",
       "\n",
       "    /**\n",
       "     * Register the mime type and append_mime function with output_area\n",
       "     */\n",
       "    OutputArea.prototype.register_mime_type(EXEC_MIME_TYPE, append_mime, {\n",
       "      /* Is output safe? */\n",
       "      safe: true,\n",
       "      /* Index of renderer in `output_area.display_order` */\n",
       "      index: 0\n",
       "    });\n",
       "  }\n",
       "\n",
       "  // register the mime type if in Jupyter Notebook environment and previously unregistered\n",
       "  if (root.Jupyter !== undefined) {\n",
       "    const events = require('base/js/events');\n",
       "    const OutputArea = require('notebook/js/outputarea').OutputArea;\n",
       "\n",
       "    if (OutputArea.prototype.mime_types().indexOf(EXEC_MIME_TYPE) == -1) {\n",
       "      register_renderer(events, OutputArea);\n",
       "    }\n",
       "  }\n",
       "  if (typeof (root._bokeh_timeout) === \"undefined\" || force === true) {\n",
       "    root._bokeh_timeout = Date.now() + 5000;\n",
       "    root._bokeh_failed_load = false;\n",
       "  }\n",
       "\n",
       "  const NB_LOAD_WARNING = {'data': {'text/html':\n",
       "     \"<div style='background-color: #fdd'>\\n\"+\n",
       "     \"<p>\\n\"+\n",
       "     \"BokehJS does not appear to have successfully loaded. If loading BokehJS from CDN, this \\n\"+\n",
       "     \"may be due to a slow or bad network connection. Possible fixes:\\n\"+\n",
       "     \"</p>\\n\"+\n",
       "     \"<ul>\\n\"+\n",
       "     \"<li>re-rerun `output_notebook()` to attempt to load from CDN again, or</li>\\n\"+\n",
       "     \"<li>use INLINE resources instead, as so:</li>\\n\"+\n",
       "     \"</ul>\\n\"+\n",
       "     \"<code>\\n\"+\n",
       "     \"from bokeh.resources import INLINE\\n\"+\n",
       "     \"output_notebook(resources=INLINE)\\n\"+\n",
       "     \"</code>\\n\"+\n",
       "     \"</div>\"}};\n",
       "\n",
       "  function display_loaded() {\n",
       "    const el = document.getElementById(\"ce5d113f-07f7-4c3e-8b77-065088cdf172\");\n",
       "    if (el != null) {\n",
       "      el.textContent = \"BokehJS is loading...\";\n",
       "    }\n",
       "    if (root.Bokeh !== undefined) {\n",
       "      if (el != null) {\n",
       "        el.textContent = \"BokehJS \" + root.Bokeh.version + \" successfully loaded.\";\n",
       "      }\n",
       "    } else if (Date.now() < root._bokeh_timeout) {\n",
       "      setTimeout(display_loaded, 100)\n",
       "    }\n",
       "  }\n",
       "\n",
       "  function run_callbacks() {\n",
       "    try {\n",
       "      root._bokeh_onload_callbacks.forEach(function(callback) {\n",
       "        if (callback != null)\n",
       "          callback();\n",
       "      });\n",
       "    } finally {\n",
       "      delete root._bokeh_onload_callbacks\n",
       "    }\n",
       "    console.debug(\"Bokeh: all callbacks have finished\");\n",
       "  }\n",
       "\n",
       "  function load_libs(css_urls, js_urls, callback) {\n",
       "    if (css_urls == null) css_urls = [];\n",
       "    if (js_urls == null) js_urls = [];\n",
       "\n",
       "    root._bokeh_onload_callbacks.push(callback);\n",
       "    if (root._bokeh_is_loading > 0) {\n",
       "      console.debug(\"Bokeh: BokehJS is being loaded, scheduling callback at\", now());\n",
       "      return null;\n",
       "    }\n",
       "    if (js_urls == null || js_urls.length === 0) {\n",
       "      run_callbacks();\n",
       "      return null;\n",
       "    }\n",
       "    console.debug(\"Bokeh: BokehJS not loaded, scheduling load and callback at\", now());\n",
       "    root._bokeh_is_loading = css_urls.length + js_urls.length;\n",
       "\n",
       "    function on_load() {\n",
       "      root._bokeh_is_loading--;\n",
       "      if (root._bokeh_is_loading === 0) {\n",
       "        console.debug(\"Bokeh: all BokehJS libraries/stylesheets loaded\");\n",
       "        run_callbacks()\n",
       "      }\n",
       "    }\n",
       "\n",
       "    function on_error(url) {\n",
       "      console.error(\"failed to load \" + url);\n",
       "    }\n",
       "\n",
       "    for (let i = 0; i < css_urls.length; i++) {\n",
       "      const url = css_urls[i];\n",
       "      const element = document.createElement(\"link\");\n",
       "      element.onload = on_load;\n",
       "      element.onerror = on_error.bind(null, url);\n",
       "      element.rel = \"stylesheet\";\n",
       "      element.type = \"text/css\";\n",
       "      element.href = url;\n",
       "      console.debug(\"Bokeh: injecting link tag for BokehJS stylesheet: \", url);\n",
       "      document.body.appendChild(element);\n",
       "    }\n",
       "\n",
       "    for (let i = 0; i < js_urls.length; i++) {\n",
       "      const url = js_urls[i];\n",
       "      const element = document.createElement('script');\n",
       "      element.onload = on_load;\n",
       "      element.onerror = on_error.bind(null, url);\n",
       "      element.async = false;\n",
       "      element.src = url;\n",
       "      console.debug(\"Bokeh: injecting script tag for BokehJS library: \", url);\n",
       "      document.head.appendChild(element);\n",
       "    }\n",
       "  };\n",
       "\n",
       "  function inject_raw_css(css) {\n",
       "    const element = document.createElement(\"style\");\n",
       "    element.appendChild(document.createTextNode(css));\n",
       "    document.body.appendChild(element);\n",
       "  }\n",
       "\n",
       "  const js_urls = [\"https://cdn.bokeh.org/bokeh/release/bokeh-3.1.1.min.js\", \"https://cdn.bokeh.org/bokeh/release/bokeh-gl-3.1.1.min.js\", \"https://cdn.bokeh.org/bokeh/release/bokeh-widgets-3.1.1.min.js\", \"https://cdn.bokeh.org/bokeh/release/bokeh-tables-3.1.1.min.js\", \"https://cdn.bokeh.org/bokeh/release/bokeh-mathjax-3.1.1.min.js\"];\n",
       "  const css_urls = [];\n",
       "\n",
       "  const inline_js = [    function(Bokeh) {\n",
       "      Bokeh.set_log_level(\"info\");\n",
       "    },\n",
       "function(Bokeh) {\n",
       "    }\n",
       "  ];\n",
       "\n",
       "  function run_inline_js() {\n",
       "    if (root.Bokeh !== undefined || force === true) {\n",
       "          for (let i = 0; i < inline_js.length; i++) {\n",
       "      inline_js[i].call(root, root.Bokeh);\n",
       "    }\n",
       "if (force === true) {\n",
       "        display_loaded();\n",
       "      }} else if (Date.now() < root._bokeh_timeout) {\n",
       "      setTimeout(run_inline_js, 100);\n",
       "    } else if (!root._bokeh_failed_load) {\n",
       "      console.log(\"Bokeh: BokehJS failed to load within specified timeout.\");\n",
       "      root._bokeh_failed_load = true;\n",
       "    } else if (force !== true) {\n",
       "      const cell = $(document.getElementById(\"ce5d113f-07f7-4c3e-8b77-065088cdf172\")).parents('.cell').data().cell;\n",
       "      cell.output_area.append_execute_result(NB_LOAD_WARNING)\n",
       "    }\n",
       "  }\n",
       "\n",
       "  if (root._bokeh_is_loading === 0) {\n",
       "    console.debug(\"Bokeh: BokehJS loaded, going straight to plotting\");\n",
       "    run_inline_js();\n",
       "  } else {\n",
       "    load_libs(css_urls, js_urls, function() {\n",
       "      console.debug(\"Bokeh: BokehJS plotting callback run at\", now());\n",
       "      run_inline_js();\n",
       "    });\n",
       "  }\n",
       "}(window));"
      ],
      "application/vnd.bokehjs_load.v0+json": "(function(root) {\n  function now() {\n    return new Date();\n  }\n\n  const force = true;\n\n  if (typeof root._bokeh_onload_callbacks === \"undefined\" || force === true) {\n    root._bokeh_onload_callbacks = [];\n    root._bokeh_is_loading = undefined;\n  }\n\n\n  if (typeof (root._bokeh_timeout) === \"undefined\" || force === true) {\n    root._bokeh_timeout = Date.now() + 5000;\n    root._bokeh_failed_load = false;\n  }\n\n  const NB_LOAD_WARNING = {'data': {'text/html':\n     \"<div style='background-color: #fdd'>\\n\"+\n     \"<p>\\n\"+\n     \"BokehJS does not appear to have successfully loaded. If loading BokehJS from CDN, this \\n\"+\n     \"may be due to a slow or bad network connection. Possible fixes:\\n\"+\n     \"</p>\\n\"+\n     \"<ul>\\n\"+\n     \"<li>re-rerun `output_notebook()` to attempt to load from CDN again, or</li>\\n\"+\n     \"<li>use INLINE resources instead, as so:</li>\\n\"+\n     \"</ul>\\n\"+\n     \"<code>\\n\"+\n     \"from bokeh.resources import INLINE\\n\"+\n     \"output_notebook(resources=INLINE)\\n\"+\n     \"</code>\\n\"+\n     \"</div>\"}};\n\n  function display_loaded() {\n    const el = document.getElementById(\"ce5d113f-07f7-4c3e-8b77-065088cdf172\");\n    if (el != null) {\n      el.textContent = \"BokehJS is loading...\";\n    }\n    if (root.Bokeh !== undefined) {\n      if (el != null) {\n        el.textContent = \"BokehJS \" + root.Bokeh.version + \" successfully loaded.\";\n      }\n    } else if (Date.now() < root._bokeh_timeout) {\n      setTimeout(display_loaded, 100)\n    }\n  }\n\n  function run_callbacks() {\n    try {\n      root._bokeh_onload_callbacks.forEach(function(callback) {\n        if (callback != null)\n          callback();\n      });\n    } finally {\n      delete root._bokeh_onload_callbacks\n    }\n    console.debug(\"Bokeh: all callbacks have finished\");\n  }\n\n  function load_libs(css_urls, js_urls, callback) {\n    if (css_urls == null) css_urls = [];\n    if (js_urls == null) js_urls = [];\n\n    root._bokeh_onload_callbacks.push(callback);\n    if (root._bokeh_is_loading > 0) {\n      console.debug(\"Bokeh: BokehJS is being loaded, scheduling callback at\", now());\n      return null;\n    }\n    if (js_urls == null || js_urls.length === 0) {\n      run_callbacks();\n      return null;\n    }\n    console.debug(\"Bokeh: BokehJS not loaded, scheduling load and callback at\", now());\n    root._bokeh_is_loading = css_urls.length + js_urls.length;\n\n    function on_load() {\n      root._bokeh_is_loading--;\n      if (root._bokeh_is_loading === 0) {\n        console.debug(\"Bokeh: all BokehJS libraries/stylesheets loaded\");\n        run_callbacks()\n      }\n    }\n\n    function on_error(url) {\n      console.error(\"failed to load \" + url);\n    }\n\n    for (let i = 0; i < css_urls.length; i++) {\n      const url = css_urls[i];\n      const element = document.createElement(\"link\");\n      element.onload = on_load;\n      element.onerror = on_error.bind(null, url);\n      element.rel = \"stylesheet\";\n      element.type = \"text/css\";\n      element.href = url;\n      console.debug(\"Bokeh: injecting link tag for BokehJS stylesheet: \", url);\n      document.body.appendChild(element);\n    }\n\n    for (let i = 0; i < js_urls.length; i++) {\n      const url = js_urls[i];\n      const element = document.createElement('script');\n      element.onload = on_load;\n      element.onerror = on_error.bind(null, url);\n      element.async = false;\n      element.src = url;\n      console.debug(\"Bokeh: injecting script tag for BokehJS library: \", url);\n      document.head.appendChild(element);\n    }\n  };\n\n  function inject_raw_css(css) {\n    const element = document.createElement(\"style\");\n    element.appendChild(document.createTextNode(css));\n    document.body.appendChild(element);\n  }\n\n  const js_urls = [\"https://cdn.bokeh.org/bokeh/release/bokeh-3.1.1.min.js\", \"https://cdn.bokeh.org/bokeh/release/bokeh-gl-3.1.1.min.js\", \"https://cdn.bokeh.org/bokeh/release/bokeh-widgets-3.1.1.min.js\", \"https://cdn.bokeh.org/bokeh/release/bokeh-tables-3.1.1.min.js\", \"https://cdn.bokeh.org/bokeh/release/bokeh-mathjax-3.1.1.min.js\"];\n  const css_urls = [];\n\n  const inline_js = [    function(Bokeh) {\n      Bokeh.set_log_level(\"info\");\n    },\nfunction(Bokeh) {\n    }\n  ];\n\n  function run_inline_js() {\n    if (root.Bokeh !== undefined || force === true) {\n          for (let i = 0; i < inline_js.length; i++) {\n      inline_js[i].call(root, root.Bokeh);\n    }\nif (force === true) {\n        display_loaded();\n      }} else if (Date.now() < root._bokeh_timeout) {\n      setTimeout(run_inline_js, 100);\n    } else if (!root._bokeh_failed_load) {\n      console.log(\"Bokeh: BokehJS failed to load within specified timeout.\");\n      root._bokeh_failed_load = true;\n    } else if (force !== true) {\n      const cell = $(document.getElementById(\"ce5d113f-07f7-4c3e-8b77-065088cdf172\")).parents('.cell').data().cell;\n      cell.output_area.append_execute_result(NB_LOAD_WARNING)\n    }\n  }\n\n  if (root._bokeh_is_loading === 0) {\n    console.debug(\"Bokeh: BokehJS loaded, going straight to plotting\");\n    run_inline_js();\n  } else {\n    load_libs(css_urls, js_urls, function() {\n      console.debug(\"Bokeh: BokehJS plotting callback run at\", now());\n      run_inline_js();\n    });\n  }\n}(window));"
     },
     "metadata": {},
     "output_type": "display_data"
    },
    {
     "data": {
      "text/html": [
       "\n",
       "  <div id=\"bb022b5a-9e4e-4c06-ae01-4acff8424e50\" data-root-id=\"p1427\" style=\"display: contents;\"></div>\n"
      ]
     },
     "metadata": {},
     "output_type": "display_data"
    },
    {
     "data": {
      "application/javascript": [
       "(function(root) {\n",
       "  function embed_document(root) {\n",
       "  const docs_json = {\"9ad81a6e-393c-49c8-9df1-9409a833900b\":{\"version\":\"3.1.1\",\"title\":\"Bokeh Application\",\"defs\":[],\"roots\":[{\"type\":\"object\",\"name\":\"Figure\",\"id\":\"p1427\",\"attributes\":{\"width\":900,\"height\":700,\"x_range\":{\"type\":\"object\",\"name\":\"DataRange1d\",\"id\":\"p1429\"},\"y_range\":{\"type\":\"object\",\"name\":\"DataRange1d\",\"id\":\"p1428\"},\"x_scale\":{\"type\":\"object\",\"name\":\"LinearScale\",\"id\":\"p1441\"},\"y_scale\":{\"type\":\"object\",\"name\":\"LinearScale\",\"id\":\"p1443\"},\"title\":{\"type\":\"object\",\"name\":\"Title\",\"id\":\"p1430\",\"attributes\":{\"text\":\"Clustering of Top 10 Boston Bombing Topics\"}},\"renderers\":[{\"type\":\"object\",\"name\":\"GlyphRenderer\",\"id\":\"p1480\",\"attributes\":{\"data_source\":{\"type\":\"object\",\"name\":\"ColumnDataSource\",\"id\":\"p1474\",\"attributes\":{\"selected\":{\"type\":\"object\",\"name\":\"Selection\",\"id\":\"p1475\",\"attributes\":{\"indices\":[],\"line_indices\":[]}},\"selection_policy\":{\"type\":\"object\",\"name\":\"UnionRenderers\",\"id\":\"p1476\"},\"data\":{\"type\":\"map\",\"entries\":[[\"x\",{\"type\":\"ndarray\",\"array\":{\"type\":\"bytes\",\"data\":\"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\"},\"shape\":[1499],\"dtype\":\"float32\",\"order\":\"little\"}],[\"y\",{\"type\":\"ndarray\",\"array\":{\"type\":\"bytes\",\"data\":\"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\"},\"shape\":[1499],\"dtype\":\"float32\",\"order\":\"little\"}]]}}},\"view\":{\"type\":\"object\",\"name\":\"CDSView\",\"id\":\"p1481\",\"attributes\":{\"filter\":{\"type\":\"object\",\"name\":\"AllIndices\",\"id\":\"p1482\"}}},\"glyph\":{\"type\":\"object\",\"name\":\"Scatter\",\"id\":\"p1477\",\"attributes\":{\"x\":{\"type\":\"field\",\"field\":\"x\"},\"y\":{\"type\":\"field\",\"field\":\"y\"},\"line_color\":{\"type\":\"value\",\"value\":\"#1f77b4\"},\"fill_color\":{\"type\":\"value\",\"value\":\"#1f77b4\"},\"hatch_color\":{\"type\":\"value\",\"value\":\"#1f77b4\"}}},\"nonselection_glyph\":{\"type\":\"object\",\"name\":\"Scatter\",\"id\":\"p1478\",\"attributes\":{\"x\":{\"type\":\"field\",\"field\":\"x\"},\"y\":{\"type\":\"field\",\"field\":\"y\"},\"line_color\":{\"type\":\"value\",\"value\":\"#1f77b4\"},\"line_alpha\":{\"type\":\"value\",\"value\":0.1},\"fill_color\":{\"type\":\"value\",\"value\":\"#1f77b4\"},\"fill_alpha\":{\"type\":\"value\",\"value\":0.1},\"hatch_color\":{\"type\":\"value\",\"value\":\"#1f77b4\"},\"hatch_alpha\":{\"type\":\"value\",\"value\":0.1}}},\"muted_glyph\":{\"type\":\"object\",\"name\":\"Scatter\",\"id\":\"p1479\",\"attributes\":{\"x\":{\"type\":\"field\",\"field\":\"x\"},\"y\":{\"type\":\"field\",\"field\":\"y\"},\"line_color\":{\"type\":\"value\",\"value\":\"#1f77b4\"},\"line_alpha\":{\"type\":\"value\",\"value\":0.2},\"fill_color\":{\"type\":\"value\",\"value\":\"#1f77b4\"},\"fill_alpha\":{\"type\":\"value\",\"value\":0.2},\"hatch_color\":{\"type\":\"value\",\"value\":\"#1f77b4\"},\"hatch_alpha\":{\"type\":\"value\",\"value\":0.2}}}}},{\"type\":\"object\",\"name\":\"GlyphRenderer\",\"id\":\"p1489\",\"attributes\":{\"data_source\":{\"type\":\"object\",\"name\":\"ColumnDataSource\",\"id\":\"p1483\",\"attributes\":{\"selected\":{\"type\":\"object\",\"name\":\"Selection\",\"id\":\"p1484\",\"attributes\":{\"indices\":[],\"line_indices\":[]}},\"selection_policy\":{\"type\":\"object\",\"name\":\"UnionRenderers\",\"id\":\"p1485\"},\"data\":{\"type\":\"map\",\"entries\":[[\"x\",{\"type\":\"ndarray\",\"array\":{\"type\":\"bytes\",\"data\":\"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\"},\"shape\":[1649],\"dtype\":\"float32\",\"order\":\"little\"}],[\"y\",{\"type\":\"ndarray\",\"array\":{\"type\":\"bytes\",\"data\":\"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\"},\"shape\":[1649],\"dtype\":\"float32\",\"order\":\"little\"}]]}}},\"view\":{\"type\":\"object\",\"name\":\"CDSView\",\"id\":\"p1490\",\"attributes\":{\"filter\":{\"type\":\"object\",\"name\":\"AllIndices\",\"id\":\"p1491\"}}},\"glyph\":{\"type\":\"object\",\"name\":\"Scatter\",\"id\":\"p1486\",\"attributes\":{\"x\":{\"type\":\"field\",\"field\":\"x\"},\"y\":{\"type\":\"field\",\"field\":\"y\"},\"line_color\":{\"type\":\"value\",\"value\":\"#ff7f0e\"},\"fill_color\":{\"type\":\"value\",\"value\":\"#ff7f0e\"},\"hatch_color\":{\"type\":\"value\",\"value\":\"#ff7f0e\"}}},\"nonselection_glyph\":{\"type\":\"object\",\"name\":\"Scatter\",\"id\":\"p1487\",\"attributes\":{\"x\":{\"type\":\"field\",\"field\":\"x\"},\"y\":{\"type\":\"field\",\"field\":\"y\"},\"line_color\":{\"type\":\"value\",\"value\":\"#ff7f0e\"},\"line_alpha\":{\"type\":\"value\",\"value\":0.1},\"fill_color\":{\"type\":\"value\",\"value\":\"#ff7f0e\"},\"fill_alpha\":{\"type\":\"value\",\"value\":0.1},\"hatch_color\":{\"type\":\"value\",\"value\":\"#ff7f0e\"},\"hatch_alpha\":{\"type\":\"value\",\"value\":0.1}}},\"muted_glyph\":{\"type\":\"object\",\"name\":\"Scatter\",\"id\":\"p1488\",\"attributes\":{\"x\":{\"type\":\"field\",\"field\":\"x\"},\"y\":{\"type\":\"field\",\"field\":\"y\"},\"line_color\":{\"type\":\"value\",\"value\":\"#ff7f0e\"},\"line_alpha\":{\"type\":\"value\",\"value\":0.2},\"fill_color\":{\"type\":\"value\",\"value\":\"#ff7f0e\"},\"fill_alpha\":{\"type\":\"value\",\"value\":0.2},\"hatch_color\":{\"type\":\"value\",\"value\":\"#ff7f0e\"},\"hatch_alpha\":{\"type\":\"value\",\"value\":0.2}}}}},{\"type\":\"object\",\"name\":\"GlyphRenderer\",\"id\":\"p1498\",\"attributes\":{\"data_source\":{\"type\":\"object\",\"name\":\"ColumnDataSource\",\"id\":\"p1492\",\"attributes\":{\"selected\":{\"type\":\"object\",\"name\":\"Selection\",\"id\":\"p1493\",\"attributes\":{\"indices\":[],\"line_indices\":[]}},\"selection_policy\":{\"type\":\"object\",\"name\":\"UnionRenderers\",\"id\":\"p1494\"},\"data\":{\"type\":\"map\",\"entries\":[[\"x\",{\"type\":\"ndarray\",\"array\":{\"type\":\"bytes\",\"data\":\"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\"},\"shape\":[929],\"dtype\":\"float32\",\"order\":\"little\"}],[\"y\",{\"type\":\"ndarray\",\"array\":{\"type\":\"bytes\",\"data\":\"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\"},\"shape\":[929],\"dtype\":\"float32\",\"order\":\"little\"}]]}}},\"view\":{\"type\":\"object\",\"name\":\"CDSView\",\"id\":\"p1499\",\"attributes\":{\"filter\":{\"type\":\"object\",\"name\":\"AllIndices\",\"id\":\"p1500\"}}},\"glyph\":{\"type\":\"object\",\"name\":\"Scatter\",\"id\":\"p1495\",\"attributes\":{\"x\":{\"type\":\"field\",\"field\":\"x\"},\"y\":{\"type\":\"field\",\"field\":\"y\"},\"line_color\":{\"type\":\"value\",\"value\":\"#2ca02c\"},\"fill_color\":{\"type\":\"value\",\"value\":\"#2ca02c\"},\"hatch_color\":{\"type\":\"value\",\"value\":\"#2ca02c\"}}},\"nonselection_glyph\":{\"type\":\"object\",\"name\":\"Scatter\",\"id\":\"p1496\",\"attributes\":{\"x\":{\"type\":\"field\",\"field\":\"x\"},\"y\":{\"type\":\"field\",\"field\":\"y\"},\"line_color\":{\"type\":\"value\",\"value\":\"#2ca02c\"},\"line_alpha\":{\"type\":\"value\",\"value\":0.1},\"fill_color\":{\"type\":\"value\",\"value\":\"#2ca02c\"},\"fill_alpha\":{\"type\":\"value\",\"value\":0.1},\"hatch_color\":{\"type\":\"value\",\"value\":\"#2ca02c\"},\"hatch_alpha\":{\"type\":\"value\",\"value\":0.1}}},\"muted_glyph\":{\"type\":\"object\",\"name\":\"Scatter\",\"id\":\"p1497\",\"attributes\":{\"x\":{\"type\":\"field\",\"field\":\"x\"},\"y\":{\"type\":\"field\",\"field\":\"y\"},\"line_color\":{\"type\":\"value\",\"value\":\"#2ca02c\"},\"line_alpha\":{\"type\":\"value\",\"value\":0.2},\"fill_color\":{\"type\":\"value\",\"value\":\"#2ca02c\"},\"fill_alpha\":{\"type\":\"value\",\"value\":0.2},\"hatch_color\":{\"type\":\"value\",\"value\":\"#2ca02c\"},\"hatch_alpha\":{\"type\":\"value\",\"value\":0.2}}}}},{\"type\":\"object\",\"name\":\"GlyphRenderer\",\"id\":\"p1507\",\"attributes\":{\"data_source\":{\"type\":\"object\",\"name\":\"ColumnDataSource\",\"id\":\"p1501\",\"attributes\":{\"selected\":{\"type\":\"object\",\"name\":\"Selection\",\"id\":\"p1502\",\"attributes\":{\"indices\":[],\"line_indices\":[]}},\"selection_policy\":{\"type\":\"object\",\"name\":\"UnionRenderers\",\"id\":\"p1503\"},\"data\":{\"type\":\"map\",\"entries\":[[\"x\",{\"type\":\"ndarray\",\"array\":{\"type\":\"bytes\",\"data\":\"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\"},\"shape\":[1044],\"dtype\":\"float32\",\"order\":\"little\"}],[\"y\",{\"type\":\"ndarray\",\"array\":{\"type\":\"bytes\",\"data\":\"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\"},\"shape\":[1044],\"dtype\":\"float32\",\"order\":\"little\"}]]}}},\"view\":{\"type\":\"object\",\"name\":\"CDSView\",\"id\":\"p1508\",\"attributes\":{\"filter\":{\"type\":\"object\",\"name\":\"AllIndices\",\"id\":\"p1509\"}}},\"glyph\":{\"type\":\"object\",\"name\":\"Scatter\",\"id\":\"p1504\",\"attributes\":{\"x\":{\"type\":\"field\",\"field\":\"x\"},\"y\":{\"type\":\"field\",\"field\":\"y\"},\"line_color\":{\"type\":\"value\",\"value\":\"#d62728\"},\"fill_color\":{\"type\":\"value\",\"value\":\"#d62728\"},\"hatch_color\":{\"type\":\"value\",\"value\":\"#d62728\"}}},\"nonselection_glyph\":{\"type\":\"object\",\"name\":\"Scatter\",\"id\":\"p1505\",\"attributes\":{\"x\":{\"type\":\"field\",\"field\":\"x\"},\"y\":{\"type\":\"field\",\"field\":\"y\"},\"line_color\":{\"type\":\"value\",\"value\":\"#d62728\"},\"line_alpha\":{\"type\":\"value\",\"value\":0.1},\"fill_color\":{\"type\":\"value\",\"value\":\"#d62728\"},\"fill_alpha\":{\"type\":\"value\",\"value\":0.1},\"hatch_color\":{\"type\":\"value\",\"value\":\"#d62728\"},\"hatch_alpha\":{\"type\":\"value\",\"value\":0.1}}},\"muted_glyph\":{\"type\":\"object\",\"name\":\"Scatter\",\"id\":\"p1506\",\"attributes\":{\"x\":{\"type\":\"field\",\"field\":\"x\"},\"y\":{\"type\":\"field\",\"field\":\"y\"},\"line_color\":{\"type\":\"value\",\"value\":\"#d62728\"},\"line_alpha\":{\"type\":\"value\",\"value\":0.2},\"fill_color\":{\"type\":\"value\",\"value\":\"#d62728\"},\"fill_alpha\":{\"type\":\"value\",\"value\":0.2},\"hatch_color\":{\"type\":\"value\",\"value\":\"#d62728\"},\"hatch_alpha\":{\"type\":\"value\",\"value\":0.2}}}}},{\"type\":\"object\",\"name\":\"GlyphRenderer\",\"id\":\"p1516\",\"attributes\":{\"data_source\":{\"type\":\"object\",\"name\":\"ColumnDataSource\",\"id\":\"p1510\",\"attributes\":{\"selected\":{\"type\":\"object\",\"name\":\"Selection\",\"id\":\"p1511\",\"attributes\":{\"indices\":[],\"line_indices\":[]}},\"selection_policy\":{\"type\":\"object\",\"name\":\"UnionRenderers\",\"id\":\"p1512\"},\"data\":{\"type\":\"map\",\"entries\":[[\"x\",{\"type\":\"ndarray\",\"array\":{\"type\":\"bytes\",\"data\":\"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\"},\"shape\":[511],\"dtype\":\"float32\",\"order\":\"little\"}],[\"y\",{\"type\":\"ndarray\",\"array\":{\"type\":\"bytes\",\"data\":\"KYgKPhu4EEFBxFZA9xOJQars+j8reNnAwOrYQSkpo0HUgMxB87M0QOB8iUFn+5E99y28wAFwzEFYcvs/r61hQMsZH0Ao+elBRUMhQDkLHUF5VKJBYnaGQfJ0+z/fhIFA9oniwIij6UGtimtAjAvpQYf610DG/X9AYMBFQRxN2EH0XSJA+aMhQDgqGEGuRc4/oN1FwP+k1MDC1OVBtlUOQJaGCEGnSeG/17TaQU/3iUERuKJBOKWbwDMcWsCB/IBAhtXewPq/D75FNLxAvcE0QPjjIUBS/SFAVbbPwK8U3ED4+utBJ631wAodIkAvZstBoqrzQCwTo0EqQ8tB82IVQeVr0EDp9Kc9ABnAQFGx6UF60ulBCXKDQFEu6UBP5NpBkBuPwKlrlEDOvohBphiJQRjgn0G/q0u/mI8Ivu5aOcEspRvAxS7GQBFGMcBpnYlB0AwxQdG7M0DY2uhBVEOGwKR2iEHqoeBAmurfPSPP7b/zi/DAG2d2QDgH2kFuHhRBWGCkQSGWNEBeBjvAnKCAQIWLKkBQ+utB13yGQYg3Y0BtyCjAX9GDQBtpiUF88sc8lC+6wGgF2r4pZIC/Mro0QBrp5EFOYw1BktQ0QFP9oUEmDzdBTKh5QKv/NEA4gSJAgBTaQfz6KkGs9cdAJpVfQJ3d60H4V9fAeIvcwJxZiUED5ny/wxWiQVRRgUChSAs+vYB6QJ9NRUHvSjRADFzQwOY25UEjtHNAn0+JQYRhk0CGKUVBiJYhQFU9NEASIXnAiAvWQGZZIUBOmNE9v830wE2tM0BqTIBAusTZQWbq+z8rK6JBjqp2QJbfNEBEb9nA1u4vv9bz7EGA1qvAWAoiQI6qdkD97ohB6myEwEcCScAkaGlAyaQyQMYmIUACe+DAp6RFwNysR8Bn0sZAZ9ohQKFsYUCfI6e/LcQ2wOb6iMCMU6JBiyR4QCZ8uMBoteLAtSo0QXtIkcBkH9VAn6jrQRslyUFI64m/ZZU1QJH+vkDrePdAYq7pQaQi6kFvqN7ATkqzvlm06UFd9cxB5vfpQa/8ykHrKKFBFSJGQbTlLkEQMiZBZjCIQepshMDqbITA+jvrQa2H3kBMGyZB77e2wGkryECJp+1BKqLtQUA3X0D47dhB9ESjQZK5oL9e7HW/fQaSwFW5OEER3oNBGhLMQek77UFM/CFA0NjnwIAc1kBz7t9AM2t+QIE1rsDmjpHAxpIBQaw+x8CdL+VBSAm9wKfr7UHmjpHAGt/LQe3148BOPi9BFqDzwMsWiMCeedq+VrCIv/dF2sCpDulBMwTKQW5SusDqtNxAZXGVwJuCt75F5MzABysqQYX8y0GmvORB1uAcQa4omMCKFKNBtcvMwLF2M0Gg/i7BGr2hQeuaRMClDqNBBwYMv34iREEnaIhBYlVBv6l/IUCPMuVBnFkrQYutskCAE8tBKOJ2QIpoWsArK6JBbP2lQJGm60HEYza/nVIzQU+O20At4EZBoD+iQY604b9/E8tBRjoTvhXImb/8AH1AF0aswAgeAL6qpctB/YbgwDxV10BoteLAmA5VwGE1skDAOfo/cWbaQU71jz56++tByXraQSjidkA6ry5BDNQZQf3gNUHDFMtBtGg+wFK06UGtWja/iPB3wOpshMCdm9lBEZPaQZ442kE46KJBEA3lwC98iUGAdjFBlzPNwOvvyUGbjuPAJny4wMm0NL/9i4dBmRbZQQKCusDmVfk/nMOOwKmjFUHn4RlBqP0zQG335UBOc6NBMK/ZQfpbzEERk9pBRyIjQTwDzcBXb9VACU8zQLPwjMDJ9xlBMwgOPqUOo0GmfENB+68oQdpkJsBWq4PAb5iBQGi7d8CYku1BG2bZQWi14sC8QSJAeFmjQeDVokGooMZBuKXYQYiHp78LAGK+uOu9wOy16UH4ocZB8WcmwI/gIUB8ge0+45SIQfj860GysilBpZOOvofxIUCISTFBEZPaQVrMykHO8ZDAyBp4wKxuIkB7NV9As5mqQEMf3kDqiPFA4tPtQb+/DcAxCbdAJkDSwCsi5UH7J+VBCyLLvNkChcAaQOlBI/0zQAWSWMBRZSe/M+V2QOpshMBVf26+jqp2QILWEUH5dKlANX+JQcRVeL5BmNdAcxYiQFK06UFQUbPAUrDLwGmGf8A65aW+rOSiQa5moEGNmZJAlyJ9QDra0sCCMfHAo63JwMOgGUArRhRBrifaQfjt2EG5e2dA8s0wv9buL79W29ZAkXHnwLJqCkDqYdhApR25PYlL2sAA2fBAEGZRvPHWz0DelePA7TcHQZ035UFIUNlBP8ztQZpyAUHXyZPAqgiKQbS3lL43El1AmYjaQcEz80BtlWvADOktwbe2iEHJ8shBcGikwMi8QsASyyFA/YuHQQ/OoMC0EslBvqCgvtcitsBDxcxARpKMwNjqFkEGo4C/Y3ESQSZ8uMAk+9pBL17VwE7FIUBlG9ZAaH/HwEhRisCagNlBGjzlQVbX4cDRohVBqDjSwMhT2kEuONu/gQC1wGAv60DhVGjAq6ntvzrYyUEqou1BNycsvwoog8COiki/G0c0QD2t7UHzEkNBccEJQINWy0E2f9bALuruwNaIoUHU0dpBIGHMwJgkncDZ+CFATwmHQQxWaMB7/ulBHhDnvOu660FrMy3AEUPHQIft2EGOGO++EW/FQGHfIUBU6g1Btq7tQDSCucAr8ohBhFikwHA0078fU93AT5sjPg==\"},\"shape\":[511],\"dtype\":\"float32\",\"order\":\"little\"}]]}}},\"view\":{\"type\":\"object\",\"name\":\"CDSView\",\"id\":\"p1517\",\"attributes\":{\"filter\":{\"type\":\"object\",\"name\":\"AllIndices\",\"id\":\"p1518\"}}},\"glyph\":{\"type\":\"object\",\"name\":\"Scatter\",\"id\":\"p1513\",\"attributes\":{\"x\":{\"type\":\"field\",\"field\":\"x\"},\"y\":{\"type\":\"field\",\"field\":\"y\"},\"line_color\":{\"type\":\"value\",\"value\":\"#9467bd\"},\"fill_color\":{\"type\":\"value\",\"value\":\"#9467bd\"},\"hatch_color\":{\"type\":\"value\",\"value\":\"#9467bd\"}}},\"nonselection_glyph\":{\"type\":\"object\",\"name\":\"Scatter\",\"id\":\"p1514\",\"attributes\":{\"x\":{\"type\":\"field\",\"field\":\"x\"},\"y\":{\"type\":\"field\",\"field\":\"y\"},\"line_color\":{\"type\":\"value\",\"value\":\"#9467bd\"},\"line_alpha\":{\"type\":\"value\",\"value\":0.1},\"fill_color\":{\"type\":\"value\",\"value\":\"#9467bd\"},\"fill_alpha\":{\"type\":\"value\",\"value\":0.1},\"hatch_color\":{\"type\":\"value\",\"value\":\"#9467bd\"},\"hatch_alpha\":{\"type\":\"value\",\"value\":0.1}}},\"muted_glyph\":{\"type\":\"object\",\"name\":\"Scatter\",\"id\":\"p1515\",\"attributes\":{\"x\":{\"type\":\"field\",\"field\":\"x\"},\"y\":{\"type\":\"field\",\"field\":\"y\"},\"line_color\":{\"type\":\"value\",\"value\":\"#9467bd\"},\"line_alpha\":{\"type\":\"value\",\"value\":0.2},\"fill_color\":{\"type\":\"value\",\"value\":\"#9467bd\"},\"fill_alpha\":{\"type\":\"value\",\"value\":0.2},\"hatch_color\":{\"type\":\"value\",\"value\":\"#9467bd\"},\"hatch_alpha\":{\"type\":\"value\",\"value\":0.2}}}}}],\"toolbar\":{\"type\":\"object\",\"name\":\"Toolbar\",\"id\":\"p1434\",\"attributes\":{\"tools\":[{\"type\":\"object\",\"name\":\"PanTool\",\"id\":\"p1459\"},{\"type\":\"object\",\"name\":\"WheelZoomTool\",\"id\":\"p1460\"},{\"type\":\"object\",\"name\":\"BoxZoomTool\",\"id\":\"p1461\",\"attributes\":{\"overlay\":{\"type\":\"object\",\"name\":\"BoxAnnotation\",\"id\":\"p1462\",\"attributes\":{\"syncable\":false,\"level\":\"overlay\",\"visible\":false,\"left_units\":\"canvas\",\"right_units\":\"canvas\",\"bottom_units\":\"canvas\",\"top_units\":\"canvas\",\"line_color\":\"black\",\"line_alpha\":1.0,\"line_width\":2,\"line_dash\":[4,4],\"fill_color\":\"lightgrey\",\"fill_alpha\":0.5}}}},{\"type\":\"object\",\"name\":\"SaveTool\",\"id\":\"p1463\"},{\"type\":\"object\",\"name\":\"ResetTool\",\"id\":\"p1464\"},{\"type\":\"object\",\"name\":\"HelpTool\",\"id\":\"p1465\"}]}},\"left\":[{\"type\":\"object\",\"name\":\"LinearAxis\",\"id\":\"p1452\",\"attributes\":{\"ticker\":{\"type\":\"object\",\"name\":\"BasicTicker\",\"id\":\"p1455\",\"attributes\":{\"mantissas\":[1,2,5]}},\"formatter\":{\"type\":\"object\",\"name\":\"BasicTickFormatter\",\"id\":\"p1454\"},\"major_label_policy\":{\"type\":\"object\",\"name\":\"AllLabels\",\"id\":\"p1453\"}}}],\"right\":[{\"type\":\"object\",\"name\":\"Legend\",\"id\":\"p1519\",\"attributes\":{\"location\":\"top_left\",\"items\":[{\"type\":\"object\",\"name\":\"LegendItem\",\"id\":\"p1520\",\"attributes\":{\"label\":{\"type\":\"value\",\"value\":\"Topic 1\"},\"renderers\":[{\"id\":\"p1480\"}]}},{\"type\":\"object\",\"name\":\"LegendItem\",\"id\":\"p1521\",\"attributes\":{\"label\":{\"type\":\"value\",\"value\":\"Topic 2\"},\"renderers\":[{\"id\":\"p1489\"}]}},{\"type\":\"object\",\"name\":\"LegendItem\",\"id\":\"p1522\",\"attributes\":{\"label\":{\"type\":\"value\",\"value\":\"Topic 3\"},\"renderers\":[{\"id\":\"p1498\"}]}},{\"type\":\"object\",\"name\":\"LegendItem\",\"id\":\"p1523\",\"attributes\":{\"label\":{\"type\":\"value\",\"value\":\"Topic 4\"},\"renderers\":[{\"id\":\"p1507\"}]}},{\"type\":\"object\",\"name\":\"LegendItem\",\"id\":\"p1524\",\"attributes\":{\"label\":{\"type\":\"value\",\"value\":\"Topic 5\"},\"renderers\":[{\"id\":\"p1516\"}]}}]}}],\"below\":[{\"type\":\"object\",\"name\":\"LinearAxis\",\"id\":\"p1445\",\"attributes\":{\"ticker\":{\"type\":\"object\",\"name\":\"BasicTicker\",\"id\":\"p1448\",\"attributes\":{\"mantissas\":[1,2,5]}},\"formatter\":{\"type\":\"object\",\"name\":\"BasicTickFormatter\",\"id\":\"p1447\"},\"major_label_policy\":{\"type\":\"object\",\"name\":\"AllLabels\",\"id\":\"p1446\"}}}],\"center\":[{\"type\":\"object\",\"name\":\"Grid\",\"id\":\"p1451\",\"attributes\":{\"axis\":{\"id\":\"p1445\"}}},{\"type\":\"object\",\"name\":\"Grid\",\"id\":\"p1458\",\"attributes\":{\"dimension\":1,\"axis\":{\"id\":\"p1452\"}}}]}}],\"callbacks\":{\"type\":\"map\"}}};\n",
       "  const render_items = [{\"docid\":\"9ad81a6e-393c-49c8-9df1-9409a833900b\",\"roots\":{\"p1427\":\"bb022b5a-9e4e-4c06-ae01-4acff8424e50\"},\"root_ids\":[\"p1427\"]}];\n",
       "  root.Bokeh.embed.embed_items_notebook(docs_json, render_items);\n",
       "  }\n",
       "  if (root.Bokeh !== undefined) {\n",
       "    embed_document(root);\n",
       "  } else {\n",
       "    let attempts = 0;\n",
       "    const timer = setInterval(function(root) {\n",
       "      if (root.Bokeh !== undefined) {\n",
       "        clearInterval(timer);\n",
       "        embed_document(root);\n",
       "      } else {\n",
       "        attempts++;\n",
       "        if (attempts > 100) {\n",
       "          clearInterval(timer);\n",
       "          console.log(\"Bokeh: ERROR: Unable to run BokehJS code because BokehJS library is missing\");\n",
       "        }\n",
       "      }\n",
       "    }, 10, root)\n",
       "  }\n",
       "})(window);"
      ],
      "application/vnd.bokehjs_exec.v0+json": ""
     },
     "metadata": {
      "application/vnd.bokehjs_exec.v0+json": {
       "id": "p1427"
      }
     },
     "output_type": "display_data"
    }
   ],
   "source": [
    "# Get topic weights\n",
    "topic_weights = lda_model.transform(count_data_boom)\n",
    "\n",
    "# Array of topic weights    \n",
    "arr_boom = pd.DataFrame(topic_weights).fillna(0).values\n",
    "\n",
    "# Keep the well separated points (optional)\n",
    "arr_boom = arr_boom[np.amax(arr_boom, axis=1) > 0.35]\n",
    "\n",
    "# Dominant topic number in each doc\n",
    "topic_num_boom = np.argmax(arr_boom, axis=1)\n",
    "\n",
    "# tSNE Dimension Reduction\n",
    "tsne_model_boom = TSNE(n_components=2, verbose=1, random_state=5, angle=.99, init='pca')\n",
    "tsne_lda_boom = tsne_model.fit_transform(arr_boom)\n",
    "\n",
    "from bokeh.io import output_notebook\n",
    "from bokeh.plotting import figure, show\n",
    "from bokeh.models import Legend\n",
    "\n",
    "# Plot the Topic Clusters using Bokeh\n",
    "output_notebook()\n",
    "mycolors_boom = np.array([color for name, color in mcolors.TABLEAU_COLORS.items()])\n",
    "plot_boom = figure(title=\"Clustering of Top {} Boston Bombing Topics\".format(number_words), \n",
    "              width=900, height=700)\n",
    "\n",
    "scatter_list_boom = []\n",
    "for topic in np.unique(topic_num_boom):\n",
    "    indices = np.where(topic_num_boom == topic)[0]\n",
    "    scatter = plot_boom.scatter(x=tsne_lda_boom[indices, 0], \n",
    "                                y=tsne_lda_boom[indices, 1], \n",
    "                                color=mycolors_boom[topic])\n",
    "    scatter_list_boom.append(scatter)\n",
    "\n",
    "# Define topic labels\n",
    "topic_labels_boom = ['Topic 1', 'Topic 2', 'Topic 3', 'Topic 4', 'Topic 5']\n",
    "\n",
    "# Create legend\n",
    "legend_boom = Legend(items=[(label, [scatter]) for label, scatter in zip(topic_labels_boom, scatter_list_boom)],\n",
    "                location='top_left')\n",
    "plot_boom.add_layout(legend_boom, 'right')\n",
    "\n",
    "show(plot_boom)"
   ]
  },
  {
   "cell_type": "code",
   "execution_count": 29,
   "id": "ca8c11fa-ee8b-4074-b21c-300f7feebd1e",
   "metadata": {
    "tags": []
   },
   "outputs": [],
   "source": [
    "# Topic Analysis here"
   ]
  },
  {
   "cell_type": "markdown",
   "id": "f9465fe4-6f71-488b-950a-4edd4e90fe34",
   "metadata": {
    "tags": []
   },
   "source": [
    "## Hurricane Sandy"
   ]
  },
  {
   "cell_type": "code",
   "execution_count": 30,
   "id": "22d72c78-1999-4ffc-93e9-c2d20b7a7542",
   "metadata": {
    "tags": []
   },
   "outputs": [],
   "source": [
    "# We will only use the 'text_cleaned' column for our analysis\n",
    "natural = sandy['clean_text']"
   ]
  },
  {
   "cell_type": "code",
   "execution_count": 36,
   "id": "6748e787-ae28-4412-9ceb-03ca1a016e33",
   "metadata": {
    "tags": []
   },
   "outputs": [
    {
     "name": "stdout",
     "output_type": "stream",
     "text": [
      "\n",
      "Topic #1:\n",
      "hurricane sandy storm rt power lt going really away don\n",
      "\n",
      "Topic #2:\n",
      "hurricane rt sandy just like school new people power don\n",
      "\n",
      "Topic #3:\n",
      "hurricane sandy rt frankenstorm stay safe new hit ny apocalypse\n",
      "\n",
      "Topic #4:\n",
      "hurricane rt fuck water went bout gonna house sandy irene\n",
      "\n",
      "Topic #5:\n",
      "hurricane sandy rt east coast like safe shit new affected\n"
     ]
    }
   ],
   "source": [
    "# Fit and transform the processed titles\n",
    "count_data_natural = count_vectorizer.fit_transform(natural)\n",
    "\n",
    "# Tweak the two parameters below (use int values below 15)\n",
    "number_topics = 5\n",
    "number_words = 10\n",
    "\n",
    "# Create and fit the LDA model with a fixed random state to prevent changes with every update\n",
    "lda_model = LDA(n_components=number_topics, n_jobs=-1, random_state=5)\n",
    "lda_model.fit(count_data_natural)\n",
    "\n",
    "def print_topics(model, count_vectorizer, n_top_words):\n",
    "    words = count_vectorizer.get_feature_names_out()\n",
    "    topic_word_distributions = model.components_\n",
    "    for topic_idx, topic in enumerate(topic_word_distributions):\n",
    "        print(\"\\nTopic #%d:\" % (topic_idx + 1))\n",
    "        print(\" \".join([words[i]\n",
    "                        for i in topic.argsort()[:-n_top_words - 1:-1]]))\n",
    "\n",
    "print_topics(lda_model, count_vectorizer, number_words)"
   ]
  },
  {
   "cell_type": "code",
   "execution_count": 32,
   "id": "09b64495-c877-4657-b113-8231cecc9d19",
   "metadata": {
    "tags": []
   },
   "outputs": [],
   "source": [
    "### add explanation about top 5 topics about Hurricane Sandy here"
   ]
  },
  {
   "cell_type": "markdown",
   "id": "e7779209-1027-4176-952e-d15f5f3ac0f3",
   "metadata": {},
   "source": [
    "### Visualization"
   ]
  },
  {
   "cell_type": "code",
   "execution_count": 37,
   "id": "9cbcc0a8-7cf7-4e6d-9076-78eb00345e30",
   "metadata": {
    "tags": []
   },
   "outputs": [
    {
     "name": "stdout",
     "output_type": "stream",
     "text": [
      "[t-SNE] Computing 91 nearest neighbors...\n",
      "[t-SNE] Indexed 6128 samples in 0.003s...\n",
      "[t-SNE] Computed neighbors for 6128 samples in 0.201s...\n",
      "[t-SNE] Computed conditional probabilities for sample 1000 / 6128\n",
      "[t-SNE] Computed conditional probabilities for sample 2000 / 6128\n",
      "[t-SNE] Computed conditional probabilities for sample 3000 / 6128\n",
      "[t-SNE] Computed conditional probabilities for sample 4000 / 6128\n",
      "[t-SNE] Computed conditional probabilities for sample 5000 / 6128\n",
      "[t-SNE] Computed conditional probabilities for sample 6000 / 6128\n",
      "[t-SNE] Computed conditional probabilities for sample 6128 / 6128\n",
      "[t-SNE] Mean sigma: 0.000000\n",
      "[t-SNE] KL divergence after 250 iterations with early exaggeration: 55.279282\n",
      "[t-SNE] KL divergence after 1000 iterations: 0.404162\n"
     ]
    },
    {
     "data": {
      "text/html": [
       "<style>\n",
       "        .bk-notebook-logo {\n",
       "            display: block;\n",
       "            width: 20px;\n",
       "            height: 20px;\n",
       "            background-image: url(data:image/png;base64,iVBORw0KGgoAAAANSUhEUgAAABQAAAAUCAYAAACNiR0NAAAABHNCSVQICAgIfAhkiAAAAAlwSFlzAAALEgAACxIB0t1+/AAAABx0RVh0U29mdHdhcmUAQWRvYmUgRmlyZXdvcmtzIENTNui8sowAAAOkSURBVDiNjZRtaJVlGMd/1/08zzln5zjP1LWcU9N0NkN8m2CYjpgQYQXqSs0I84OLIC0hkEKoPtiH3gmKoiJDU7QpLgoLjLIQCpEsNJ1vqUOdO7ppbuec5+V+rj4ctwzd8IIbbi6u+8f1539dt3A78eXC7QizUF7gyV1fD1Yqg4JWz84yffhm0qkFqBogB9rM8tZdtwVsPUhWhGcFJngGeWrPzHm5oaMmkfEg1usvLFyc8jLRqDOMru7AyC8saQr7GG7f5fvDeH7Ej8CM66nIF+8yngt6HWaKh7k49Soy9nXurCi1o3qUbS3zWfrYeQDTB/Qj6kX6Ybhw4B+bOYoLKCC9H3Nu/leUTZ1JdRWkkn2ldcCamzrcf47KKXdAJllSlxAOkRgyHsGC/zRday5Qld9DyoM4/q/rUoy/CXh3jzOu3bHUVZeU+DEn8FInkPBFlu3+nW3Nw0mk6vCDiWg8CeJaxEwuHS3+z5RgY+YBR6V1Z1nxSOfoaPa4LASWxxdNp+VWTk7+4vzaou8v8PN+xo+KY2xsw6une2frhw05CTYOmQvsEhjhWjn0bmXPjpE1+kplmmkP3suftwTubK9Vq22qKmrBhpY4jvd5afdRA3wGjFAgcnTK2s4hY0/GPNIb0nErGMCRxWOOX64Z8RAC4oCXdklmEvcL8o0BfkNK4lUg9HTl+oPlQxdNo3Mg4Nv175e/1LDGzZen30MEjRUtmXSfiTVu1kK8W4txyV6BMKlbgk3lMwYCiusNy9fVfvvwMxv8Ynl6vxoByANLTWplvuj/nF9m2+PDtt1eiHPBr1oIfhCChQMBw6Aw0UulqTKZdfVvfG7VcfIqLG9bcldL/+pdWTLxLUy8Qq38heUIjh4XlzZxzQm19lLFlr8vdQ97rjZVOLf8nclzckbcD4wxXMidpX30sFd37Fv/GtwwhzhxGVAprjbg0gCAEeIgwCZyTV2Z1REEW8O4py0wsjeloKoMr6iCY6dP92H6Vw/oTyICIthibxjm/DfN9lVz8IqtqKYLUXfoKVMVQVVJOElGjrnnUt9T9wbgp8AyYKaGlqingHZU/uG2NTZSVqwHQTWkx9hxjkpWDaCg6Ckj5qebgBVbT3V3NNXMSiWSDdGV3hrtzla7J+duwPOToIg42ChPQOQjspnSlp1V+Gjdged7+8UN5CRAV7a5EdFNwCjEaBR27b3W890TE7g24NAP/mMDXRWrGoFPQI9ls/MWO2dWFAar/xcOIImbbpA3zgAAAABJRU5ErkJggg==);\n",
       "        }\n",
       "    </style>\n",
       "    <div>\n",
       "        <a href=\"https://bokeh.org\" target=\"_blank\" class=\"bk-notebook-logo\"></a>\n",
       "        <span id=\"ea03f82b-5687-47a5-94a1-361faed4ebb6\">Loading BokehJS ...</span>\n",
       "    </div>\n"
      ]
     },
     "metadata": {},
     "output_type": "display_data"
    },
    {
     "data": {
      "application/javascript": [
       "(function(root) {\n",
       "  function now() {\n",
       "    return new Date();\n",
       "  }\n",
       "\n",
       "  const force = true;\n",
       "\n",
       "  if (typeof root._bokeh_onload_callbacks === \"undefined\" || force === true) {\n",
       "    root._bokeh_onload_callbacks = [];\n",
       "    root._bokeh_is_loading = undefined;\n",
       "  }\n",
       "\n",
       "const JS_MIME_TYPE = 'application/javascript';\n",
       "  const HTML_MIME_TYPE = 'text/html';\n",
       "  const EXEC_MIME_TYPE = 'application/vnd.bokehjs_exec.v0+json';\n",
       "  const CLASS_NAME = 'output_bokeh rendered_html';\n",
       "\n",
       "  /**\n",
       "   * Render data to the DOM node\n",
       "   */\n",
       "  function render(props, node) {\n",
       "    const script = document.createElement(\"script\");\n",
       "    node.appendChild(script);\n",
       "  }\n",
       "\n",
       "  /**\n",
       "   * Handle when an output is cleared or removed\n",
       "   */\n",
       "  function handleClearOutput(event, handle) {\n",
       "    const cell = handle.cell;\n",
       "\n",
       "    const id = cell.output_area._bokeh_element_id;\n",
       "    const server_id = cell.output_area._bokeh_server_id;\n",
       "    // Clean up Bokeh references\n",
       "    if (id != null && id in Bokeh.index) {\n",
       "      Bokeh.index[id].model.document.clear();\n",
       "      delete Bokeh.index[id];\n",
       "    }\n",
       "\n",
       "    if (server_id !== undefined) {\n",
       "      // Clean up Bokeh references\n",
       "      const cmd_clean = \"from bokeh.io.state import curstate; print(curstate().uuid_to_server['\" + server_id + \"'].get_sessions()[0].document.roots[0]._id)\";\n",
       "      cell.notebook.kernel.execute(cmd_clean, {\n",
       "        iopub: {\n",
       "          output: function(msg) {\n",
       "            const id = msg.content.text.trim();\n",
       "            if (id in Bokeh.index) {\n",
       "              Bokeh.index[id].model.document.clear();\n",
       "              delete Bokeh.index[id];\n",
       "            }\n",
       "          }\n",
       "        }\n",
       "      });\n",
       "      // Destroy server and session\n",
       "      const cmd_destroy = \"import bokeh.io.notebook as ion; ion.destroy_server('\" + server_id + \"')\";\n",
       "      cell.notebook.kernel.execute(cmd_destroy);\n",
       "    }\n",
       "  }\n",
       "\n",
       "  /**\n",
       "   * Handle when a new output is added\n",
       "   */\n",
       "  function handleAddOutput(event, handle) {\n",
       "    const output_area = handle.output_area;\n",
       "    const output = handle.output;\n",
       "\n",
       "    // limit handleAddOutput to display_data with EXEC_MIME_TYPE content only\n",
       "    if ((output.output_type != \"display_data\") || (!Object.prototype.hasOwnProperty.call(output.data, EXEC_MIME_TYPE))) {\n",
       "      return\n",
       "    }\n",
       "\n",
       "    const toinsert = output_area.element.find(\".\" + CLASS_NAME.split(' ')[0]);\n",
       "\n",
       "    if (output.metadata[EXEC_MIME_TYPE][\"id\"] !== undefined) {\n",
       "      toinsert[toinsert.length - 1].firstChild.textContent = output.data[JS_MIME_TYPE];\n",
       "      // store reference to embed id on output_area\n",
       "      output_area._bokeh_element_id = output.metadata[EXEC_MIME_TYPE][\"id\"];\n",
       "    }\n",
       "    if (output.metadata[EXEC_MIME_TYPE][\"server_id\"] !== undefined) {\n",
       "      const bk_div = document.createElement(\"div\");\n",
       "      bk_div.innerHTML = output.data[HTML_MIME_TYPE];\n",
       "      const script_attrs = bk_div.children[0].attributes;\n",
       "      for (let i = 0; i < script_attrs.length; i++) {\n",
       "        toinsert[toinsert.length - 1].firstChild.setAttribute(script_attrs[i].name, script_attrs[i].value);\n",
       "        toinsert[toinsert.length - 1].firstChild.textContent = bk_div.children[0].textContent\n",
       "      }\n",
       "      // store reference to server id on output_area\n",
       "      output_area._bokeh_server_id = output.metadata[EXEC_MIME_TYPE][\"server_id\"];\n",
       "    }\n",
       "  }\n",
       "\n",
       "  function register_renderer(events, OutputArea) {\n",
       "\n",
       "    function append_mime(data, metadata, element) {\n",
       "      // create a DOM node to render to\n",
       "      const toinsert = this.create_output_subarea(\n",
       "        metadata,\n",
       "        CLASS_NAME,\n",
       "        EXEC_MIME_TYPE\n",
       "      );\n",
       "      this.keyboard_manager.register_events(toinsert);\n",
       "      // Render to node\n",
       "      const props = {data: data, metadata: metadata[EXEC_MIME_TYPE]};\n",
       "      render(props, toinsert[toinsert.length - 1]);\n",
       "      element.append(toinsert);\n",
       "      return toinsert\n",
       "    }\n",
       "\n",
       "    /* Handle when an output is cleared or removed */\n",
       "    events.on('clear_output.CodeCell', handleClearOutput);\n",
       "    events.on('delete.Cell', handleClearOutput);\n",
       "\n",
       "    /* Handle when a new output is added */\n",
       "    events.on('output_added.OutputArea', handleAddOutput);\n",
       "\n",
       "    /**\n",
       "     * Register the mime type and append_mime function with output_area\n",
       "     */\n",
       "    OutputArea.prototype.register_mime_type(EXEC_MIME_TYPE, append_mime, {\n",
       "      /* Is output safe? */\n",
       "      safe: true,\n",
       "      /* Index of renderer in `output_area.display_order` */\n",
       "      index: 0\n",
       "    });\n",
       "  }\n",
       "\n",
       "  // register the mime type if in Jupyter Notebook environment and previously unregistered\n",
       "  if (root.Jupyter !== undefined) {\n",
       "    const events = require('base/js/events');\n",
       "    const OutputArea = require('notebook/js/outputarea').OutputArea;\n",
       "\n",
       "    if (OutputArea.prototype.mime_types().indexOf(EXEC_MIME_TYPE) == -1) {\n",
       "      register_renderer(events, OutputArea);\n",
       "    }\n",
       "  }\n",
       "  if (typeof (root._bokeh_timeout) === \"undefined\" || force === true) {\n",
       "    root._bokeh_timeout = Date.now() + 5000;\n",
       "    root._bokeh_failed_load = false;\n",
       "  }\n",
       "\n",
       "  const NB_LOAD_WARNING = {'data': {'text/html':\n",
       "     \"<div style='background-color: #fdd'>\\n\"+\n",
       "     \"<p>\\n\"+\n",
       "     \"BokehJS does not appear to have successfully loaded. If loading BokehJS from CDN, this \\n\"+\n",
       "     \"may be due to a slow or bad network connection. Possible fixes:\\n\"+\n",
       "     \"</p>\\n\"+\n",
       "     \"<ul>\\n\"+\n",
       "     \"<li>re-rerun `output_notebook()` to attempt to load from CDN again, or</li>\\n\"+\n",
       "     \"<li>use INLINE resources instead, as so:</li>\\n\"+\n",
       "     \"</ul>\\n\"+\n",
       "     \"<code>\\n\"+\n",
       "     \"from bokeh.resources import INLINE\\n\"+\n",
       "     \"output_notebook(resources=INLINE)\\n\"+\n",
       "     \"</code>\\n\"+\n",
       "     \"</div>\"}};\n",
       "\n",
       "  function display_loaded() {\n",
       "    const el = document.getElementById(\"ea03f82b-5687-47a5-94a1-361faed4ebb6\");\n",
       "    if (el != null) {\n",
       "      el.textContent = \"BokehJS is loading...\";\n",
       "    }\n",
       "    if (root.Bokeh !== undefined) {\n",
       "      if (el != null) {\n",
       "        el.textContent = \"BokehJS \" + root.Bokeh.version + \" successfully loaded.\";\n",
       "      }\n",
       "    } else if (Date.now() < root._bokeh_timeout) {\n",
       "      setTimeout(display_loaded, 100)\n",
       "    }\n",
       "  }\n",
       "\n",
       "  function run_callbacks() {\n",
       "    try {\n",
       "      root._bokeh_onload_callbacks.forEach(function(callback) {\n",
       "        if (callback != null)\n",
       "          callback();\n",
       "      });\n",
       "    } finally {\n",
       "      delete root._bokeh_onload_callbacks\n",
       "    }\n",
       "    console.debug(\"Bokeh: all callbacks have finished\");\n",
       "  }\n",
       "\n",
       "  function load_libs(css_urls, js_urls, callback) {\n",
       "    if (css_urls == null) css_urls = [];\n",
       "    if (js_urls == null) js_urls = [];\n",
       "\n",
       "    root._bokeh_onload_callbacks.push(callback);\n",
       "    if (root._bokeh_is_loading > 0) {\n",
       "      console.debug(\"Bokeh: BokehJS is being loaded, scheduling callback at\", now());\n",
       "      return null;\n",
       "    }\n",
       "    if (js_urls == null || js_urls.length === 0) {\n",
       "      run_callbacks();\n",
       "      return null;\n",
       "    }\n",
       "    console.debug(\"Bokeh: BokehJS not loaded, scheduling load and callback at\", now());\n",
       "    root._bokeh_is_loading = css_urls.length + js_urls.length;\n",
       "\n",
       "    function on_load() {\n",
       "      root._bokeh_is_loading--;\n",
       "      if (root._bokeh_is_loading === 0) {\n",
       "        console.debug(\"Bokeh: all BokehJS libraries/stylesheets loaded\");\n",
       "        run_callbacks()\n",
       "      }\n",
       "    }\n",
       "\n",
       "    function on_error(url) {\n",
       "      console.error(\"failed to load \" + url);\n",
       "    }\n",
       "\n",
       "    for (let i = 0; i < css_urls.length; i++) {\n",
       "      const url = css_urls[i];\n",
       "      const element = document.createElement(\"link\");\n",
       "      element.onload = on_load;\n",
       "      element.onerror = on_error.bind(null, url);\n",
       "      element.rel = \"stylesheet\";\n",
       "      element.type = \"text/css\";\n",
       "      element.href = url;\n",
       "      console.debug(\"Bokeh: injecting link tag for BokehJS stylesheet: \", url);\n",
       "      document.body.appendChild(element);\n",
       "    }\n",
       "\n",
       "    for (let i = 0; i < js_urls.length; i++) {\n",
       "      const url = js_urls[i];\n",
       "      const element = document.createElement('script');\n",
       "      element.onload = on_load;\n",
       "      element.onerror = on_error.bind(null, url);\n",
       "      element.async = false;\n",
       "      element.src = url;\n",
       "      console.debug(\"Bokeh: injecting script tag for BokehJS library: \", url);\n",
       "      document.head.appendChild(element);\n",
       "    }\n",
       "  };\n",
       "\n",
       "  function inject_raw_css(css) {\n",
       "    const element = document.createElement(\"style\");\n",
       "    element.appendChild(document.createTextNode(css));\n",
       "    document.body.appendChild(element);\n",
       "  }\n",
       "\n",
       "  const js_urls = [\"https://cdn.bokeh.org/bokeh/release/bokeh-3.1.1.min.js\", \"https://cdn.bokeh.org/bokeh/release/bokeh-gl-3.1.1.min.js\", \"https://cdn.bokeh.org/bokeh/release/bokeh-widgets-3.1.1.min.js\", \"https://cdn.bokeh.org/bokeh/release/bokeh-tables-3.1.1.min.js\", \"https://cdn.bokeh.org/bokeh/release/bokeh-mathjax-3.1.1.min.js\"];\n",
       "  const css_urls = [];\n",
       "\n",
       "  const inline_js = [    function(Bokeh) {\n",
       "      Bokeh.set_log_level(\"info\");\n",
       "    },\n",
       "function(Bokeh) {\n",
       "    }\n",
       "  ];\n",
       "\n",
       "  function run_inline_js() {\n",
       "    if (root.Bokeh !== undefined || force === true) {\n",
       "          for (let i = 0; i < inline_js.length; i++) {\n",
       "      inline_js[i].call(root, root.Bokeh);\n",
       "    }\n",
       "if (force === true) {\n",
       "        display_loaded();\n",
       "      }} else if (Date.now() < root._bokeh_timeout) {\n",
       "      setTimeout(run_inline_js, 100);\n",
       "    } else if (!root._bokeh_failed_load) {\n",
       "      console.log(\"Bokeh: BokehJS failed to load within specified timeout.\");\n",
       "      root._bokeh_failed_load = true;\n",
       "    } else if (force !== true) {\n",
       "      const cell = $(document.getElementById(\"ea03f82b-5687-47a5-94a1-361faed4ebb6\")).parents('.cell').data().cell;\n",
       "      cell.output_area.append_execute_result(NB_LOAD_WARNING)\n",
       "    }\n",
       "  }\n",
       "\n",
       "  if (root._bokeh_is_loading === 0) {\n",
       "    console.debug(\"Bokeh: BokehJS loaded, going straight to plotting\");\n",
       "    run_inline_js();\n",
       "  } else {\n",
       "    load_libs(css_urls, js_urls, function() {\n",
       "      console.debug(\"Bokeh: BokehJS plotting callback run at\", now());\n",
       "      run_inline_js();\n",
       "    });\n",
       "  }\n",
       "}(window));"
      ],
      "application/vnd.bokehjs_load.v0+json": "(function(root) {\n  function now() {\n    return new Date();\n  }\n\n  const force = true;\n\n  if (typeof root._bokeh_onload_callbacks === \"undefined\" || force === true) {\n    root._bokeh_onload_callbacks = [];\n    root._bokeh_is_loading = undefined;\n  }\n\n\n  if (typeof (root._bokeh_timeout) === \"undefined\" || force === true) {\n    root._bokeh_timeout = Date.now() + 5000;\n    root._bokeh_failed_load = false;\n  }\n\n  const NB_LOAD_WARNING = {'data': {'text/html':\n     \"<div style='background-color: #fdd'>\\n\"+\n     \"<p>\\n\"+\n     \"BokehJS does not appear to have successfully loaded. If loading BokehJS from CDN, this \\n\"+\n     \"may be due to a slow or bad network connection. Possible fixes:\\n\"+\n     \"</p>\\n\"+\n     \"<ul>\\n\"+\n     \"<li>re-rerun `output_notebook()` to attempt to load from CDN again, or</li>\\n\"+\n     \"<li>use INLINE resources instead, as so:</li>\\n\"+\n     \"</ul>\\n\"+\n     \"<code>\\n\"+\n     \"from bokeh.resources import INLINE\\n\"+\n     \"output_notebook(resources=INLINE)\\n\"+\n     \"</code>\\n\"+\n     \"</div>\"}};\n\n  function display_loaded() {\n    const el = document.getElementById(\"ea03f82b-5687-47a5-94a1-361faed4ebb6\");\n    if (el != null) {\n      el.textContent = \"BokehJS is loading...\";\n    }\n    if (root.Bokeh !== undefined) {\n      if (el != null) {\n        el.textContent = \"BokehJS \" + root.Bokeh.version + \" successfully loaded.\";\n      }\n    } else if (Date.now() < root._bokeh_timeout) {\n      setTimeout(display_loaded, 100)\n    }\n  }\n\n  function run_callbacks() {\n    try {\n      root._bokeh_onload_callbacks.forEach(function(callback) {\n        if (callback != null)\n          callback();\n      });\n    } finally {\n      delete root._bokeh_onload_callbacks\n    }\n    console.debug(\"Bokeh: all callbacks have finished\");\n  }\n\n  function load_libs(css_urls, js_urls, callback) {\n    if (css_urls == null) css_urls = [];\n    if (js_urls == null) js_urls = [];\n\n    root._bokeh_onload_callbacks.push(callback);\n    if (root._bokeh_is_loading > 0) {\n      console.debug(\"Bokeh: BokehJS is being loaded, scheduling callback at\", now());\n      return null;\n    }\n    if (js_urls == null || js_urls.length === 0) {\n      run_callbacks();\n      return null;\n    }\n    console.debug(\"Bokeh: BokehJS not loaded, scheduling load and callback at\", now());\n    root._bokeh_is_loading = css_urls.length + js_urls.length;\n\n    function on_load() {\n      root._bokeh_is_loading--;\n      if (root._bokeh_is_loading === 0) {\n        console.debug(\"Bokeh: all BokehJS libraries/stylesheets loaded\");\n        run_callbacks()\n      }\n    }\n\n    function on_error(url) {\n      console.error(\"failed to load \" + url);\n    }\n\n    for (let i = 0; i < css_urls.length; i++) {\n      const url = css_urls[i];\n      const element = document.createElement(\"link\");\n      element.onload = on_load;\n      element.onerror = on_error.bind(null, url);\n      element.rel = \"stylesheet\";\n      element.type = \"text/css\";\n      element.href = url;\n      console.debug(\"Bokeh: injecting link tag for BokehJS stylesheet: \", url);\n      document.body.appendChild(element);\n    }\n\n    for (let i = 0; i < js_urls.length; i++) {\n      const url = js_urls[i];\n      const element = document.createElement('script');\n      element.onload = on_load;\n      element.onerror = on_error.bind(null, url);\n      element.async = false;\n      element.src = url;\n      console.debug(\"Bokeh: injecting script tag for BokehJS library: \", url);\n      document.head.appendChild(element);\n    }\n  };\n\n  function inject_raw_css(css) {\n    const element = document.createElement(\"style\");\n    element.appendChild(document.createTextNode(css));\n    document.body.appendChild(element);\n  }\n\n  const js_urls = [\"https://cdn.bokeh.org/bokeh/release/bokeh-3.1.1.min.js\", \"https://cdn.bokeh.org/bokeh/release/bokeh-gl-3.1.1.min.js\", \"https://cdn.bokeh.org/bokeh/release/bokeh-widgets-3.1.1.min.js\", \"https://cdn.bokeh.org/bokeh/release/bokeh-tables-3.1.1.min.js\", \"https://cdn.bokeh.org/bokeh/release/bokeh-mathjax-3.1.1.min.js\"];\n  const css_urls = [];\n\n  const inline_js = [    function(Bokeh) {\n      Bokeh.set_log_level(\"info\");\n    },\nfunction(Bokeh) {\n    }\n  ];\n\n  function run_inline_js() {\n    if (root.Bokeh !== undefined || force === true) {\n          for (let i = 0; i < inline_js.length; i++) {\n      inline_js[i].call(root, root.Bokeh);\n    }\nif (force === true) {\n        display_loaded();\n      }} else if (Date.now() < root._bokeh_timeout) {\n      setTimeout(run_inline_js, 100);\n    } else if (!root._bokeh_failed_load) {\n      console.log(\"Bokeh: BokehJS failed to load within specified timeout.\");\n      root._bokeh_failed_load = true;\n    } else if (force !== true) {\n      const cell = $(document.getElementById(\"ea03f82b-5687-47a5-94a1-361faed4ebb6\")).parents('.cell').data().cell;\n      cell.output_area.append_execute_result(NB_LOAD_WARNING)\n    }\n  }\n\n  if (root._bokeh_is_loading === 0) {\n    console.debug(\"Bokeh: BokehJS loaded, going straight to plotting\");\n    run_inline_js();\n  } else {\n    load_libs(css_urls, js_urls, function() {\n      console.debug(\"Bokeh: BokehJS plotting callback run at\", now());\n      run_inline_js();\n    });\n  }\n}(window));"
     },
     "metadata": {},
     "output_type": "display_data"
    },
    {
     "data": {
      "text/html": [
       "\n",
       "  <div id=\"c1489338-7d7a-4ffb-85c9-b5a6cc8dbdc6\" data-root-id=\"p1898\" style=\"display: contents;\"></div>\n"
      ]
     },
     "metadata": {},
     "output_type": "display_data"
    },
    {
     "data": {
      "application/javascript": [
       "(function(root) {\n",
       "  function embed_document(root) {\n",
       "  const docs_json = {\"b73690c4-751a-4b2e-8d7a-3e6220162d68\":{\"version\":\"3.1.1\",\"title\":\"Bokeh Application\",\"defs\":[],\"roots\":[{\"type\":\"object\",\"name\":\"Figure\",\"id\":\"p1898\",\"attributes\":{\"width\":900,\"height\":700,\"x_range\":{\"type\":\"object\",\"name\":\"DataRange1d\",\"id\":\"p1900\"},\"y_range\":{\"type\":\"object\",\"name\":\"DataRange1d\",\"id\":\"p1899\"},\"x_scale\":{\"type\":\"object\",\"name\":\"LinearScale\",\"id\":\"p1912\"},\"y_scale\":{\"type\":\"object\",\"name\":\"LinearScale\",\"id\":\"p1914\"},\"title\":{\"type\":\"object\",\"name\":\"Title\",\"id\":\"p1901\",\"attributes\":{\"text\":\"Clustering of Top 10 Natural Disaster Topics\"}},\"renderers\":[{\"type\":\"object\",\"name\":\"GlyphRenderer\",\"id\":\"p1951\",\"attributes\":{\"data_source\":{\"type\":\"object\",\"name\":\"ColumnDataSource\",\"id\":\"p1945\",\"attributes\":{\"selected\":{\"type\":\"object\",\"name\":\"Selection\",\"id\":\"p1946\",\"attributes\":{\"indices\":[],\"line_indices\":[]}},\"selection_policy\":{\"type\":\"object\",\"name\":\"UnionRenderers\",\"id\":\"p1947\"},\"data\":{\"type\":\"map\",\"entries\":[[\"x\",{\"type\":\"ndarray\",\"array\":{\"type\":\"bytes\",\"data\":\"B/KAQVees0BlKchB2PtuQWh978BrUAZCDtrVwc+CdT9Da/Q/jHJwQdUYc0GKU7ZB5xMMQbsTc0Hp4+FApe61QG2sukGg51dA+GiBQQOqiEHhyR9BYO7fwDIyGsHEC3NBAQlzQXsNc0G7gHpAATbvP4aIF8LP5hRBLPBjwTUYc8ESdR1B+bnnwBivcUEBG25BeXwtQWtP5EBfqRfCA6IXwhTFBUJYod5AVOyEwfAj2T8jKttBSjowQa6j58AiKkBAs7WyQfmP/0FQPgs/LeaBQX508kE8k4JBfjJ6QRkZlkGIhIhB3f30QXqgakBwzuxB3CC9QSKaA0Ik0eRB/qHZwVd5ekFcKmJBccWEwWVcVUEu1DVBQNAGQnNiHUG9TJdAKqhkQbQLlEFfl3FAO03OQUIE2MEyjwZCwnYUQVS39sDKJwVBeXYSQTj1JsINe1DBg85mQT9458DOcg/B7p1VQYzJDUF38RrCf6gKQfJdhkDYFnNBKG/2QFZ4dkCCNTpBvwMkwv4KE8ErExJB6utYQV+AEMFVLBzC35p6wWvnG8LKYOZBW4URwUkec0FF66JBRGclwsisC0EmQ4RBMbb1wJ/18ECBAnNBxZbrQQ/8lz89rr5BKtlFQdVgbsGUNmVAE3QyQSTXU0GtJulB5JPSQcPno0GK8gJBIqpfQMc2A0JVT3hBk8v8QG59I8B8R6BBFqAGwQU9dEBcgfXAuqwGQfuEYUHR5RhBbRTlQajG28FeVdbBwhKXQRir5EGMyXFBcs9wQRsB8z/AYOBAVFcSwWI9OEEbA5dB4mLjQeyEMEHCeNJBWrwSwTThIUH8lxNBazMEQB/Tl0EAxwZC3bT7Qc/680DbhPlBodR/QEF9AUKiXwtBKv2sQO8qAcHO+QXC8fvjQclVGkFb5O7AWxt3Qc8gFkG7f0/B6iOaQeAaakCcLB/C0hdzQWPCA0EGTbtBDJ/EQBLcE0E4kKFAnfDxQb7g98BgoINB9XG6QP8CHMB+BxfCWFyMQUcL8sDd8JxB7FATwbvVf8EeEoRBLzVCQNkh6MCH7tnBikIewpey7kHR8TZBZndhQDBxGMKzCzJBfgC/QKdge0Cj9i5B4nUYwsj+0EB+OSLCGML0wIfSrEFyU0JAgpl3QbltDUG4TTxB1ABSQFfs8UBGOOXAPN6UQYmog0GFfQZCHhnkQYGdJ0BYVX5AwYaFQFhmmz+LV7FAXy5SQPAVIsA0t3rBAE7/P0P0HMK7G5hBh90jwFfhBkLUDCTAY8aXQd+0JMKyGHNBcNMDwQ0q6cA7ywBB9LuHQbyA2cEfqQZC/aNWQF82E0H6Ix5BprXrQach2MF/pQ3BIZMZwnbbJsLxDWtAQ+3pQURP4kAE5EBAxAqXQfflV8FS1nvBP6VdQU3pxkE02hnCW0bZwRjvbEFuihVBHxTrQf/MHsLmuiVB2LBvQaPEmUFgQrFBgY4GwllCIUE18FHBPlqkQUPyaMCueeTAP+QFwTbME8HCGSPCrAqYQe4vFUDGB3NBWB8mwuvwI8Isgx7CDf0IwdwygsEIbTFBa7VSQF4eEsFUhLBAt+7dQZQj0kEvBulBL8gcwuX1SEEhLWpA04/AQcI10kD/b+xBT/bhQWIUd0Ftloo/EYARwbmOaUA+jeJA96DWQTom78CQOYdB7D3KQB4Af0B85J9ARQ//QeqF3EEY9+fAoWdQQWDJPUFE8GlBYxrmwC+SBEKAUflB1VLWwbd+3MGIeH/BxPpcwDqNeEEWDXNBV7LDQNYvUEDqZBDBOLx4Qfx0lkDnoY9AWOTuwFfZsEEdaBlBZSnsQHFuVUEUPoRAl4IEQlI2A8EZ4t5BcBwzwIGIlkCm8l9A+CrBQVXJDUFqO9nBD07iQJQLk0GTTAVCdxZtQSAYDUCvadRAbQkfwKZj7kGGsvbAjj94QZ0g2MELEQtBRM7ZQZEHlUHkYvBAHZLOP94aa0AYneVBclcRwapfHcKCrYVB7gIJweQr2ME54OZBz6jEQPyjCsGN5iXCbxPewIwHF8JI/GVBRCRUwZbio0Ghpec/vubrQVzpFcJQi95BRN4WwRkRgUFGl4DB4WDmQGjdEcGNgC/ALn8WwlLPoUDuvnzBgiSWQR/hakFHIXHBZJD2QaNe3MAvJexBFHL8QGaLrUHNeD7BLwGyQSlQf8FFTw7BWz/aQelTgMFYNehBX3kJwcjaVEGQxq1Ay0anQJjYYMGz9BjAhgeVQTTy3UF5OGXBc1kWwrx8TMCkxB/CYngmQU11U8EIzlpBoi+hQDlx+cBx3YI/YFNYwRmG9cABkjVBeZLcwOcS5kGqIifCqXT/wNs9OsFzPdjBPIQcwojj2sGDVclB8zgGwR6Jg0DOkTVBh3kwQR4Nq0FuFz5BCZNpwYeB58D9C+1Bp0U8wS9jIMLONuNBVbGCQN+yGkC4bCbCYPjyQfCQz0HOdyXAY53iwA/RTUGbiPhBwgPfQHMYqkF0pCTCbacCQTw2VEF+hvHAbgBxwWrQL8BE/23B1SP2QTZF5kEV4hbCDY6dQY+gAcEakfZBnQetQKE+oEEhSB/CPMsBQmTx7sConAZBnn4awjHPGcAqS4NBuiSIQcbKXsFE+tk/3MKbQenjYUExBXNB15ABQFmR+z8bHSPCetXlQfggBEHOdyXAHUA1Qbe880H2NzFB7kpTQTd330E321BB6JcawvJQmUBw8e5BvWYQQUsj4UFu3QlBnokbwhsFc0H1bOhBEpvdQT8WFsIRJttBoOUYwVCoAsHuiWXBQAMkQVYZQ0E+gJhB4CuiQa1bAcEoLtfBrgaBwWBnAkLk6rNB9QFQwD4BNcANjp1B5h5Awc9f9UETVZpAMoFOQT+K6UBQHhjCap5GQZcW2cCi3KtBqJvYwS/SU0Ezpv5AGG9IwPpf40G7tyBAqu++QYUZ6UGGQtjBYXIWwqd6F8IKkd5BpmaiQD3xtUEXszfAouLlQRhrJsIsoATB33r2wEUpJcLhzKBBnz/awZ6Y/UB9K8dBMhkZwj7b2cEKKBjCa5fnwERBPkGhyxnCOZ5aQc14PsH+atjBronYQcv1xEFF47FBV/wQwap5rEHl0SXCfzjdQA2OnUF6xD1BXTOhQQ8i0kCIe/TAqUsRQfVjDUALJa5Bga/jQbcZJkF6/P1BTAgjwqI/88DpaeTAkBjIQErB2kFRz+BAt/M8wHIEJkEX9qlA09diwWgTGEHrguhB/7fywEVv28C9wrBBVwuEQThiB0A/2U4/kfIlQQbWg0GlL/s/atmeQDB9hUAuphhBy2uDwXHGAUGIz+NBdk3SQWROIMBS9tFA6fIdwJOD20FW89jBqPSIQfJJV0Fj0RJBjGriQUoNpEHPJwpBk/gWwqCOk0FagCBBrRciwmNTg0E/teRBJG3fQZZGAUFDoiPCXaYnQUXyO8GgMu7ALdoXwsEuCkHe09PB/wRzQXzCTED/dbtBCj9QQb1X8cALDDbBIa6tQSvs18HsQidBz0PawZTD3EBZt4VApE2qQWba2kGfYNrBg0EzwMuCJcLQa+VB2eMdQePZdcGozx/C570TQQ2OnUEtxVNBGNA5wfVNg0FlbdNBO5bJQf6qqEE4NwXCf25VQYd7f8FpOuhBZuWEQUaXgMFJRufAtIEbwtqpQ0H2gPNBdTMlwtsk6MCV91hASBavQbbN3kFxJPPAeHTYwUoEc0FFPoNB7RfowOBw00H7DsdA8r0AQde9rUGmSjlB77s1QLFegMHE0lnBfSxsQMWR58A8IBbCXM6tQe8s60E4HqJBjmiBwU3X7sCxidrBNLD1wJuYtUDcqWZBggzXQRLZJ0GizsdBdNHXwWnENEFAKbBAKac/wY2TVcBHyYdBHHvIQfG6CkGcyRTCPJgkwtXZzkAr8f7As9TAQVMh1UEjiptBZ4LnwFpnMUEidyDCbeYcwliAP0Hh//rAznclwGSV7sAnPvdBTH32QS317sDKjpxB6Ki8QWaU5kGZbONBQntPQfaV70HxVCxB53s0QXTtYMFejRHBA/WCQUieeUD0p9NBqpqIQeDuSMGAYg/B/buuQVHtNMCcj3g/TPhGwEds+sDyi+s/bxoxQQnwIUGKXCxBskvawb+lGkHZuz3Bw9H/wIfCpkCEmNrB1svkQZ8t/D/udkzBW7DBQT9/rUGU4O5B8FdWQVKmEMHHgBVBNFwXwpWhUkHef5ZBvWYQQSgu18F4BFZBNudVwIwhSkEbc98/+49xQA0oXkCnsCTCds5ZQUUu2sGtR+RA9QnVQXeIC0E/ogDBAQwGQfoA/EF6euZBlj+wQLZKsUF/cYxA1D8lwjqHG8KiZP9BbkBLwX9058B7GOjAK1wxQA6sIMIr4HxAC+w1wOVfIcIHvxzAGympQOYumUCnWsFB3F5/QAnkDMGkqSPCPKmIQcPusUH1K6tA+idVQfJkUUGrxdvBCxDwQK3v9sDodOBBMtZ4wRc21T9/ykhBG9jfwHw43UDFP1xBsERgQLhc3EF5JwPBvZ1zwZ6JG8IXGFRBdawNwQBr78BxlQbC+c6vQKtr1MFCvMZB3HSFQVQj0EGRjstBlT8awgsMNsGyV/9AZJD2QeIX+cAZR/fAvsgVwqI+HsJ9GAjBvXroQeCi5UF9gUtBndBJQVV7mUAE9eJBgic4QeB128Bj+J5AxZuvQQ/AHMLGdF9ALcVTQU4B2EEoq9jBG7p0QGPlFsCIPwZCzG7fQD3KP8AhNaxA2c3xQWDH4kECr61AwPrZQJ8dTEEip1JBtEsjwhGlJkG1SiDC+FQ+Qen6W0H+ygFBP789wAtYAkKvlGJBsBkZwgBL4kG0ux7C5OTywBSYc8GGzvtAqYiKQTGhOEEiuM1B9A8RwZyxlkE7vYhATM4UwgYNIMJY8e9BqM7ywG0W28EPcSRBUfdVQZhj9MBk8e7Av31UQaWWEcKplyHChh4HwQ3OyUD1pbhAwGPIQQPJDMFUt/LA2qcGQMFV3kHGAuNB3G/IQQDtEcFezjZBw5+SQOssHMI1XBfCv8ZrwUgdWMAqLPJBj2JjQXMwFMJw/ppBBGpMwEmMF8J/tu7AVoOsQef+TUFNY0pBtWagQVYnpkGh5ddBhc3OQKoRU0HE/T7B8bPZwaF4a0F6C/s/4zhCwR3PK8BBdO/A2AS/QS/OgUDNIOjAhLnzwG9ThUCDPSLC2MfdQK3AakFnIAbC+XrvwN72xEE9xANB61GDQX/4HsK6sOrAyh4LQWlrr0EMsD5Bs1L8QY4hUUGmIxvCGw7ZwT+/PcDuPibCcEUfwq3JOMHXoOpBWlfAQYeFrEEdnMhBM4kmQR3dQUGIs3DB3NJWQXEO/kEvNBjC9on0wLkdFsLEQ9jBQpnTwQBNPUH3UkvAowSWQBKbuEG15xXCqJR6wdYg90GkgefA4cmFQDFM7kD/pFbB0GrvwA1VhEAAnlFB4HP3QZIHGMIVtqNBW5g+QWG3JEG56ufAznclwMii28FHzlNBQKf5wM6N9EG18eVBC+w1wH9lJcINjp1B40cEQdXpJcA9KGzBhTrmQWnsUMEYX+fAKVB/wZ9g2sGUGBfCULqwP0DsHMJEwEJBlPZVQeEEJMIAf+/A4eEaQXqGMkGR+xzCV6UZwln5VkE9oRpBYHnxQI730kEFcNrARi6XQFQfEsAi0adB\"},\"shape\":[1059],\"dtype\":\"float32\",\"order\":\"little\"}],[\"y\",{\"type\":\"ndarray\",\"array\":{\"type\":\"bytes\",\"data\":\"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\"},\"shape\":[1059],\"dtype\":\"float32\",\"order\":\"little\"}]]}}},\"view\":{\"type\":\"object\",\"name\":\"CDSView\",\"id\":\"p1952\",\"attributes\":{\"filter\":{\"type\":\"object\",\"name\":\"AllIndices\",\"id\":\"p1953\"}}},\"glyph\":{\"type\":\"object\",\"name\":\"Scatter\",\"id\":\"p1948\",\"attributes\":{\"x\":{\"type\":\"field\",\"field\":\"x\"},\"y\":{\"type\":\"field\",\"field\":\"y\"},\"line_color\":{\"type\":\"value\",\"value\":\"#1f77b4\"},\"fill_color\":{\"type\":\"value\",\"value\":\"#1f77b4\"},\"hatch_color\":{\"type\":\"value\",\"value\":\"#1f77b4\"}}},\"nonselection_glyph\":{\"type\":\"object\",\"name\":\"Scatter\",\"id\":\"p1949\",\"attributes\":{\"x\":{\"type\":\"field\",\"field\":\"x\"},\"y\":{\"type\":\"field\",\"field\":\"y\"},\"line_color\":{\"type\":\"value\",\"value\":\"#1f77b4\"},\"line_alpha\":{\"type\":\"value\",\"value\":0.1},\"fill_color\":{\"type\":\"value\",\"value\":\"#1f77b4\"},\"fill_alpha\":{\"type\":\"value\",\"value\":0.1},\"hatch_color\":{\"type\":\"value\",\"value\":\"#1f77b4\"},\"hatch_alpha\":{\"type\":\"value\",\"value\":0.1}}},\"muted_glyph\":{\"type\":\"object\",\"name\":\"Scatter\",\"id\":\"p1950\",\"attributes\":{\"x\":{\"type\":\"field\",\"field\":\"x\"},\"y\":{\"type\":\"field\",\"field\":\"y\"},\"line_color\":{\"type\":\"value\",\"value\":\"#1f77b4\"},\"line_alpha\":{\"type\":\"value\",\"value\":0.2},\"fill_color\":{\"type\":\"value\",\"value\":\"#1f77b4\"},\"fill_alpha\":{\"type\":\"value\",\"value\":0.2},\"hatch_color\":{\"type\":\"value\",\"value\":\"#1f77b4\"},\"hatch_alpha\":{\"type\":\"value\",\"value\":0.2}}}}},{\"type\":\"object\",\"name\":\"GlyphRenderer\",\"id\":\"p1960\",\"attributes\":{\"data_source\":{\"type\":\"object\",\"name\":\"ColumnDataSource\",\"id\":\"p1954\",\"attributes\":{\"selected\":{\"type\":\"object\",\"name\":\"Selection\",\"id\":\"p1955\",\"attributes\":{\"indices\":[],\"line_indices\":[]}},\"selection_policy\":{\"type\":\"object\",\"name\":\"UnionRenderers\",\"id\":\"p1956\"},\"data\":{\"type\":\"map\",\"entries\":[[\"x\",{\"type\":\"ndarray\",\"array\":{\"type\":\"bytes\",\"data\":\"9K1+QVrQs0FRAnxBkZLMQXMDxEEg8l1BK+sKQurpVEGctjxBk2jcQanONULxeYRBrHWsQQNvDUKFbShCCnL/Qa8fOEHgx4VBJmR1QCYmzUF8jgVBLbewQWk+yEGT3xNByC/mQTUt2UFcGZlBnOI8QbZxsEF8rOJBfogGQq6mgEE0xidCzh6eQRaCs0HD/7FB2UrtQcuFokChv45BU0DnQX6TNUIqRNRAsUmpQX8S+kDdoq9Bk6igQcyCfkB77axBDnVQQYM8oUFGG1lB1NCFQetnPUHOHBNBRpJIQf/ACkIeanFAWR/9QFbTtkEvXTJBj5SUQh7tIkFr1vZBIuqqQfP2qEHa+Z5BUMbXQfVNJUKK6ZNBif3eQQGK+UBT2pxB6HEDQb9orkGpLKxBmp+WQiPmK0LO4GJB4pFkQcZJBkJxxeNBQ57IQd8Br0GgKzhCdiLeQBmS0EHhRSRB1CEqQVq/p0E1+h9BcL9CQSPJP0IQAPtAsL0LQQahxUFQtR1Ck6bpQQc4SUGP/rlADtnGQQcxXEIzQN9B3H3CQVKBw0G3GINBrNThQTzCykGKbRFB7TrLQeMB6UHZ/rVBzW0MQbIMAEEImcZBqBr8QU5xKUJnCg9B3LatQfqWIEIIMMVBDSrqQSged0Gx6fFBbzYlQn86zUHIRZFCmm+sQdRxxEH5q0FBXkVjQadL3kH48lRBgoMNQso+P0JvigZCG90gQQ9KzUHT/DlCoaU7QWqFZUHG7CZCLOhcQRjiykGmt+JB1m7TQdwfREHS7ihCIkmCQemSCUFxHyxCIubLQQE9w0GdniZCUH8AQkPL3EFSpXBBlhTEQRtbAUIIIZRBao9/QcCZCUGdwAJCF5eWQkH6mkEhTENC/ABeQWYAAUE2f9pBJq+eQRvnH0EzYidCh6VoQYthe0G1bg5C9b34QRBNzUF+4ONBsoV0QQkFGkG1UnVAgTZsQOEiC0GKRdNBRLe4QQE+QEHb+SNCwgPHQZp5kUHf5EhCXS9BQsMnzEFisAJCogkBQblxQEEpDKpBlHNiQUtZqEFnQUZC2bK8Qci3zEEEPcNAmAkZQiMjdkFPaFtCCMK8QYvCBEKghTlBkYGiQTxgrkF4p+NBaJMLQaZkG0HqmGZBaXGsQVzAH0LgHadBbZAwQvFB3kFH+/BBPHasQTjDK0I0UNRBArm5QQGrDULui3RBl2uwQZ0KAEKsX6hBzKKWQtMv1EDFVIdBS+81QqgqW0FUQtxBsKe4QfyWlkJKaXlBy6AlQuq7hkHO/xtCJavDQeBPBkIviQlBgmN0QWWWp0HWeKxBuqA0QlhFsEEuyDhCzhNHQkDmW0EuZSRCmlI4QjwAgkGrd8NBIsHTQVUeQUI8XcZB0ROzQTxpHUI+Sn5BsufvQVGPkUJcsIdBSw2OQWDRDkKHSylCXpUfQr2n/j9K62RB6EkkQQ4UnEHiN8xBkwAiQgmbxEG3JJtBDcskQk/fWEDRRThCodWnQXyALUJQ2ThCSfCiQdvRDkLrCjpC9IssQuJZukFw5tNBWtiaQS8pHUKUCsVB1SjhQRjJOUKh+C5C+IssQm3dKkJ8KipCGi0sQr9cZUCg3KVB13WoQeVRLELuLblBhMT9QBJxhkHqbUZCfAFfQRucp0GJjfNAHkozQhCSTkGb5ctBvBN6QP90/kFtAbVBWLxFQn7DCkLETrhBi0ehQT+WkUIekD1BAVhgQrQ370FcTgdCR/JYQiV/RUIwRbdBBuwrQn66H0JX+KNBZWczQqa/yEEN3CNCZUczQtQ78UErBwZBF6QzQuUtqkFKgUJCJPmWQehJJEGvSylCCTzKQYMDRUJa3XJB9Rj2QWaFO0I8kTtBesmfQZnWNUKVIOdBinfmQRha5kFvYZJBS+YhQq1JhEEuc9BB2XLrQbtEOkJaEfJATZYmQkm3AUI4nB9CQ4+QQp2dBkJkFB5CTLCFQHeQrEFWuJxBuVh9QUbEO0IaLSxC/k2sQWFQt0FH9dFBI3lGQcCaM0If+NpB0Qi8QZctkULO3zZCgZ8ZQY1JNkKPevVBhvCiQUikKEJ5x5RCjaK6Qd3oNkJziA1CYjlWQRaNqEHSD2JCh/nzQGE4GkK4lzVCGGw1QREjTUGTQNJBtSfVQRBzHUIMecJBbyg3QltKSkFes75B4XL0Qezv6UESFe5B6rDKQcbmQ0KTm2ZC3vzyQYfCN0E/i8lBi4AjQh6LNkKeeblBT2jcQYoPQkFUeJRCb//+QRDZL0KC2HFAbnJWQbtPsEEYEIRBznBGQu66OEKS0gNCaLhZQWmNGEE4S2hBeK+HQQHYDUKZLSNCYbnWQIbNiEHNsRJB1LoCQnxNRUE5+y5BOuQAQjrDpkEB7QlCW9UzQof580C8UHNB8LgPQUvwokEi2h5BMBHwQXCzZUG3PiVCnqUrQi947UAsE+5BVDIHQi147UChTCBBYAMDQvWLLEKQmUdCxtG7QZn8OkGRwzpCahf+QfWXNUJARbdBxLJIQZB2yUCD8KJB2yBHQkbFK0LnsvpAjmA4Qj6FzEGBycNB546uQTCSdECHkyZC324yQrGXtkG84cxBrTSyQbSCX0JZruRBu5IQQV52k0EFnylC0zE2Qq9JJUJh0A1BvpY9QhbogEEoWJxBmIktQgnqsUF2fwVCyOlUQTTBmUEwjeZB+RxHQnv5SEIasIdBltEOQnXuE0ECippB0IEAQa4COkJ2gC1CDU7MQQtXBEI9FqtBYVYhQqGwK0Ls0a5Bx0BnQkUUOEFSvZRC9ZozQjHJyUEQqodBG58EQT/SDkLfIA1Cj3r1QbIvmkEwI5FCPP8gQWf9NkJuclZB9jcBQqafBUIwdclB9IssQo0zAUL0iyxCjndJQojwokGDsspB89ZdQvGJp0H2OUBCsGL5QBtPKkJbg/BANubLQXu1wkEgrWlBWH2sQXLT/UDUCzBCi0+bQVtHkUJVentBaesnQmpL4EF21gFCXQWnQWeilEJj1jpCmueUQhgFlUHt5K1BBnusQSPL0UGBjoFBIYwpQkmWkULL0e1Bgu8rQksftkEEzgNB+RqZQYnRZ0EMrytC+WixQV2AYUG5hoRAjpDAQZG35kG7gzRCzvI4QtBWAkJRtO9BXl8iQp5VikFA8wJBYlMHQujly0HF2gFC1RU8QUDKDEKH8KJBk5tmQnQ1uEG45mBC9IssQnpdtUFMFglBLGlLQVIlJ0HTw9BBY/q6Qe8G6EBtnOFBJ1wsQtIYLkLubWFC+FL0QC5//0CXyflB6wo6Qrq6+UCdgpVAwZn6QAIRLkJC589BJ3ztQflWgUERHoNB05Y3QkZfOEIPSeZBB9jvQVl4GkLrCjpC0AYDQh7UqEHPhQNCesmfQSTENUIdjI9BsU55QYlLKUK41NNBJ0oBQtA4XUJuyyJBD7k/QaIfR0KTm2ZCDXY2Qgb/OEJl75RCNQBHQqKuxEEOPLtATugrQlKRkUJbTShCrT84Qi1lJELkjQ5BEHs+Qq/Eu0GATARCIjjPQWQUHkLBc5ZCdq0hQm8+OUK7yWdB2QaWQhCqh0HBUmtBMFDxQYJq9kFfEAVCYVcmQvLE3UFJ8KJB2yGWQqGZyEHmtpRCo+8RQdxKg0G9zclB09PHQU3wokGTwzpCLGQRQaSDEUExkPNA9OygQTvDpkF5ZNVB6kFnQlI7DUIOdQJBi4AjQoyyDkK/TaBBKH6sQUDzIEIHHsZBEKqHQWx67kEOAP5AOUwZQrl1zkFpLC5BzhNHQmFEG0Jt3SpC0sUmQRg6EUGiYmBCGOcsQgNbIkIDrQBBBXusQYywu0EHsYdBF1RHQrxOuEETr71Bi0+bQeORIEGTm2ZC3gMqQuNWn0EFC5VBtmQ0Qr/fLkGDWz9BnMsYQleC5EHOcEZCd0xNQi1lJELhU0lC+fN8QQeExEGGJaBBDXFfQfqLv0EyVABBwSyeQVe0GUKAiw9BKPUjQeyrKEK/jgNBco8oQovRDkLsqFJBnBCWQjHsv0HirkpBzscAQZ2fOkKStrZBtokOQhv+NEK5BApC2+yzQYmQ9UEypElCEAb8QOYH8kDukwRCmpwmQh773EGTRl1AEvBQQSSXkULpq0BCAoFwQUYEdUEsn45BqSokQkbs6kGTm2ZCrBQnQRFNwkGH+N9BUlcTQWZGX0KZtlhB0S8OQa3a50HCyJRCxceyQSCgKkKRwzpC66GcQUDwokGO0aJBBxD5QMCdhkB195lAa4UiQgcBdECeASxCx49LQcGolEIf9ptBn9EOQtCchEFtn7tBb//+QSHbKkLAVv9BhC0/Qhq2qkFa8sVBSLqxQSiRKkLzHQpC9IssQkA6tEFr9tNBAwk/QnP0RkKmZVxBcwPJQW3dKkJCcBVBRNEOQgiiL0K0bAlCi5AhQnM1zEFlVKdBR84kQfxuskEyPDJCAsVYQurRDkLgGU5C5wANQlIlJ0EHgkRBv+czQYgst0GoWPxAYRaWQpEVnkEnod1BcL6GQYNDzEEQwrxBLzkZQeTLIUFZr81B7IvJQe7PlEJguIZBQPMCQb2QK0JyPJtBTd5eQYuAI0KBVfBBAATXQcMfuEESyAJCRuzqQb67okE6w6ZBiq+HQdtNjEHoMSBBKISRQoywu0HHG/VBclUAQesKOkIBdCZC/jgeQekSNUG2XR9C6wo6QqaZIkK9oiNBi9aNQNtgOEGMpehBV2jvQatjHUGBwi9CD+ChQD1VIEH51idCbtPuQXUUK0Lz2kFCjW8gQaJiYEJU5hxC44j5QJ69OEJPsC5C9YssQklSrEH3yfZBGpynQTJB/UBd5QhBwK2PQdS5j0Ec7qtBssrqQRCilkKMmQBBt3kJQbqclkJjJhFBwjBgQrOUDELN/7FBLwcFQaQ8iUFTbT9CLl4eQsUeokECVspBedEOQtmp4EEzbK5BnA9EQdNkv0H2I3lA0A+hQV2WOkI96zZCC7yhQVdEjEHzwJtBM2yuQcliMkIv+fZBCJ6MQZObZkL/f3xARNmkQcXaAUINWEhCfOrpQQehD0LM1chBs2kqQYqvh0EhNDZC7a7hQENXBEGDAnhB6qmUQhXkV0L6awRBOIs2QletP0GHm8tB/SjfQd90G0KYghhBTwp4QT/uyUGrJwNCzsi5QV9tMEKj/sZBguyUQqu8XEIUlrpBS0clQdMD7EENK71BAS3YQRFdAULeL1dAf7btQZtInkAbTypCmTEPQfxTGEE8GkdCkEuXQY9mHEJN8jxB3X8vQnutukF7n2JCi4AjQoVpW0JfB5RBM2yuQTILOUK/sIdBccSHQUsucUFsTPdAWyRHQvzu50G6TrhBjJOwQVBq30D9qxBBcW9GQgCONEI3QSBCdp8xQlE8BUKpCCxC0tG0QVv8gEHFEwpCtLYcQjCb50AHsgxCutwFQYnUnEHe1KdBtE64QYBzBUJkpalB0U9eQgp+wUFarFBBc5HoQUlNJkIEBMRB6IvyQbjCJ0LLGQNCk5tmQo1qvkEctwRCsBb7QIxgL0L8TSBBT0SRQu90SkIrq49BpFYiQn8ODkJnIzhCirLKQb2kBEI4UW1BoMb1QXdOuEEH9JRCz5+1QW4dykGR9F1C+IssQmQUHkKFpgJC/uhGQnKKNkJkpalBNib9QcAtJUH96ypCvLJbQisA+0AxeKxBxk64QT8aDEGpGwpCk5tmQvCJp0GrwD1BWG2zQccT7kHYlLlBLHCaQVzLNUL+0YRBDW5GQgCXU0GoQrxBuWEMQZmjLkIfeTZCjU3GQbyxTUJYAJJBTIaRQp+BXUEaIR5BmRmjQXeALULDNYNBqim1Qb6WPUJ3gC1C7JAzQs8WdkGJzshBdMoFQTxdxkG06vxASAyWQg6hNUI23yZC5VEsQjdk6EGTm2ZC0gUcQt5ci0FBuMhAh/CiQXpBfEC/SspB81sMQn2o/UBuclZBnTeaQUgMlkKM8KJB+14GQtchBUKfLqZBGQQ1Ql3gOELe/PJBRuAeQkjO6kB6Vl5Cg9cjQpcTL0LHbEhBkcM6QmFfREFd4zpCl680QsJ5E0EQXD5Bt/igQS5lJEJqbC9CZd03QnlOuEGdP4RBtGovQo6nwEE5zwJCqwCvQaXRDkJS4a5BmPM3QjvrIUKT0Q5CpbxpQByVGkI1+bxB0ZH4QXo8jkFe0rBBCnpSQLb6xUEM6oVB/aivQaD1uEHjk51BvKLEQZVv9EFroSdCzhNHQj+TCkLyGCBCm4nFQZKRDkEHn+ZAvy5IQRHey0FVhUdCI6CRQpc5sEHQ83NBXpqlQUbFK0I1bK5Bl17DQX1DREFdFVhB/ytNQSyHpUGhtSFCvpY9QqjOl0GF8yFCu064QW4EKkFie+RBASFHQpObZkLv3yhCSSC9QX53nEGw0mpBK1JtQXvRDkLp4s9B9YssQoJ4rEGfdqxB0R1nQi7CtEEda4VBwhtnQpA7U0EuZSRC+viVQvY5QEKZ0Q5C8HTIQVoR8EHQCEJCSL8BQoNPLkEg2jVCSZaRQofwokG5TrhBme+FQamNH0EzRQNCNmyuQbj1OUKLMEtCJHIDQuO1FUEa0S9CIjXSQe4bwUFuyQpCoLHjQY+yBEI8QW5BP6ECQm5yVkH4cMVBofqgQW8gu0FzqyRB0va3QdSkhUHiQLdBzYT3QN8IAkK5bMRBjV3OQSajV0ENVIFBgd8gQcRyOkJ+uSpC5nIEQkLl3UEiq61BC0d7QalIMkB4r4dBrO64QRzIX0KRwzpC04QBQa5LKUJHGGtBMNIOQqn5CkIPM6pBYMi6Qez3+kAqdPBBeXecQWvu00Eaw71B+VOHQXnuF0GI8KJBfCgdQt1qQEGCQu1Bz4UDQvvmr0H1iyxCpzy0QQGqP0JCQcZB9YssQktxCUI3OIZBrEspQubXokFw8JZB6ujdQYyyDkL4iyxC4Ml1QUiJA0Jlsa9Bd+EJQrJ2i0Fal+RB7K+HQYTwokEfc6lBSNEOQrJ7rEExnbtBczcCQof580DvlD5CZCFCQR+zQELdDbpBlV2UQemElUHngkZCObAkQtSOp0EJfExB9B5dQn2THUJguAVBa5mcQU4JEkHwVNpAPj04Qku1OUJYxWFBE/ddQUs2EkFzMStCzvI4QiuiKkKWgitCs466QcGvh0GdLQVBvoCRQjf5KUI4nB9CNCgWQcIHHkIfs0BCffCiQRokxEFt3SpCrWIqQvWLLEJm6idCsk64QYZ+CEK+FzVCLZXEQaoGbkG7Sk1CbWApQYGsykGyaqpBTxuRQtETR0L0uoxATdyUQuUCJUKTm2ZCLIgFQjfeqkG4Sz5CCiMzQjy2/UFrXXFBF6bsQbai30GSNgJC9XPQQc2vh0F9gC1C9jlAQrbtNEGI8KJB3tSnQXfKDkHFqUVBPGAAQQ48IkHJSDtCMZ27QTrRSkLXPgtCHvx5QQKoMkH0ZQ1CkpEOQTfRuUHoBUdC39PgQZCaiUB4r4dB9ypnQfWXNUK2XR9Cpp0uQpObZkIzvTpC78gNQiENlkLzGclB2yBHQlqsUEGxuRJB5qNUQUPuK0IptbVBfnecQfDdHkKI8KJBQSbBQf1PtEGHrLJBLW0LQV0DLEJMjsFBBlGwQXnD+UDhLA9BJ0cQQQRaBkKRwzpCWVxxQQj9vEHVakZCMkeGQVdVkkGBTS5BzdCYQQ2qC0LwFCRC35W2QdbgBULYcKRBSU0mQnYK5kGRwzpC4+3FQVEBcUFRkLJB5IcaQevDOELIBrlBBqn4Qfc5QEK4/I5Bv2mTQXx3nEEgdTdAx0gFQaifOkIKyeJB4ebLQaV+RUJLQgFCjLC7QYWrJ0KMsLtBhyJ5QeyH9EAJ8zVCiPCiQSoKWkI3ublBpgm8Qfc5QEIp2glCh/CiQZN3D0GZGaNBf54bQeMb5EFN3l5BQPCiQfQeXUKWhgZCmtEOQqiJ70GEmbpB9HesQb9KykFn0stBnpQDQbQo4EHAGxZB4ZwnQG8oN0JCwwRCebCHQSmulEIfeTZCXt9MQUjYEUFrBmtBTugrQk5CgUEmIwBBiYAaQiykDkLYCspBuD43Qo9E6EHRN+tBoCK5Qb6WPUIseO1APrfOQV8wQEFh3UVC5DG1QRaOV0Gs6wlCvFMsQs+FA0KMsLtBvpY9Qgef5kC0tDRCXZeoQR7ryEGKj/tBK8rIQXh3nEGYxexAIHKWQof580DzKc1BJeszQQTckkG2p+BBSogwQvGfvkHryQlCbFLmQaynp0HjUodAcGCCQb79kUDW8ilCyagNQaIM2EHtf2pB6IvyQVRJuUEyeaxBHModQYJv8UDMZpFCv1r+QfRpbEEnkjBBS1IjQlfkyUGhlFhC44spQrAftEGEJklBTA0JQs18nUFb1slBW+/8QUgMlkImGPhBsKpZQrdOuEHjtRVBvROiQZ3efEGFsg5CHxM4QSbfnkGALshBT3FAQnmuxUEXZ3RBhfMhQl8qHEFntJVByk0DQvul20GiYmBCc2yWQZ+lL0I6oadBjLIOQkbFK0Ikke5BkioGQT+WkULOmClBo1M3QsKg/UBV1rFBh4bJQZLEgEGJe5FCD3U2QlvYmkH7+IJBpg4/QWFFhEEZeNtByLJpQTBFt0E3VoVAWYgKQqhlWEJ2vQFCTNEOQlZtRkInw3tBwLdaQkmWkUKExP1ACBeYQTp8G0KQTbRBPbM+QWH4NkKvSylCtdEOQryxsEE6WwBBk6+HQSqDsUH1Eu5BzXydQeCiKkKg0Q5CFMVaQqYuY0FzLDxB/KHrQT3wokGeZsFBWFSCQZRXoUG25yRCkcM6QnR/O0FD6R5CiROlQbtOuEH/iZ9BHeEoQoHYlUFvKDdC0TH5QPG5y0GfBsxBBK0tQk/RDkJQov9BesmfQYUFl0EXATVC4UgqQnMiKUKMsLtBwVJrQZbmlEL03JRCpTXnQQSMd0BlxcFBuk64QTF+rEHsYf1BqV3BQRL/nUES1xxCLw9fQXHaLEFWcBtCltPCQSchPkE2iDlCeqfIQQx+rEHhYsNB0FYCQrtOuEGP9RRBFJHVQQ9ug0Gcp0pCTtKGQZocxUFyKyRCQJMrQmYXjEFku01CdWB3QVxEI0GgqwJCJ19yQXh3nEGbSSZB8+6XQYtPm0G3LidBVricQbfFt0Ft3SpCR/B3QRHrVkJa2JpBBVoGQigwN0JoS69BvE64QWuA4EGsmANBi4AjQs8UN0I1bK5B/nwYQZLmd0Fkx8tBv4FeQpIvu0Fu3SpCrgwBQif4eUFRXxxBXWruQUNvFUGB8KJBi0+bQQbhOkFX76BBYu3EQfCJp0ELieBBxfsGQvc/w0EUibhBQKP1QLlkDEJD8KJBDJwMQtzhO0L5dZFCjLC7QS1MyUEHrRZB3elTQfiLLEK2/0BCLOKUQpTDOkLs0Q5C7Ps4QjkQHELLSw1CvF6kQcXaAULdZrlBXIVwQfJtRkLzXIJBmhqoQW5yVkGL5wxBWXvmQbDRDkL1iyxCx9EOQmtsQkLthz1CKGfLQb5/H0Jo0Y5BGlMDQkChrkGRwzpCJMQ1Qi4FGUI91DZCdHWYQWa0y0HqKLlBNWyuQWLXH0Fc0Q5CjLC7QcdjA0K3jgxCNgb2QC7cjkHyqeVBNjXEQF0XlkJu3SpC63OqQZObZkIrkSpC8WA8QgpiXEG4NzRCxPhBQZd36EH3OUBCsSFSQUbFK0L6AFhB1BHrQWsQZ0Fdb7FBFUZVQQlmN0La5x1C+Q2WQdv9mEHQhKRByn09QkmWkULu6lxA0nXrQeQ390CzhDlCGqgBQjWHC0JIZB1BMu8mQfowBEJg/DpCqUgyQB/aAUF4Xr1Bo1jgQSga6EE6w6ZBcrqqQZwGFUGnrvBBAJT1QUFaLULpdzZCiLDIQYmIS0KMXyxCXW1GQnURLULGF3BBtDzKQSjhFEGjzShCjLC7QSiRKkKkqLxBv4SIQefrCEG+JyhCSUFXQvc6mkHTZL9B396wQQaRHEIsv8lAl93pQQY/OEFdbUZC7F0JQdl3rEHSodhBZXelQbCbKULzluxB6EeKQfGFKkI2S+9BTUbMQSj3HkJ6ZElCAqgyQTZK4EGGziJC4ks6QlDTLkKAszpCKAo1QtEo4UE/OiJCruuKQQdJOUHgJ1ZBNj4aQnPhqkHDPClCGpEpQitlxkGF8yFC9BiPQW3POUL2hSNCLrk5QgHVq0Ft3SpCMpv7QGoVBkK75cdBCl7JQVDGX0JLt+xBG+vGQW7dKkJI2BFBRxK7QeKtj0CJsIdB5ZE8QReAhkFcQARCddYtQoZ4/0B+8KJB7K+HQbYoEUEWXbVBbwXPQOzvOEIYcbdBdCfmQU2mAUIkxDVCBVLOQW8wA0H3OUBC7KQQQaCRxUEA0H5BomJgQtIBgUFtNqpBhVzGQZfRDkK/68hBW5qRQkBR7UF+zDtCXnUCQiyArEFe8zVBhMO2QM80zkGRGJZCMqqYQW62eEHfjRFBRH8gQcHePUJWbUZCRqYAQW6nDUFwGoJB/EMFQYb+p0Ft2UZCIKIsQobfAkGMsLtB01lIQgmKS0JKNiRCA4BAQvkVzEGjg49BYlfTQGOVBUK7haxBaDlIQaRpxUEjjkJBxVzkQQ4UnEH3bEZC4xqAQWmBJUITgOdBQj5OQX08hkGnwrJB5VEsQvmLLEK1OOtA4ZGnQchvO0Ld4ypCM7WUQpytt0FjSndBC6IKQcPZAULUnd1B5fqPQTJGK0KzOylCXH2sQaaGAUJQcahBlMM6Qm5yVkG7jldCtv9IQka1CkJSZC1Cf7jfQUyTpEE1bK5B9B5dQi547UCqoINBRPufQdBdjkHfo3tBMmeRQkWqh0EAp6FBJSm9QZ2XUUEYLd9BHMMCQoojoEEcTMZB6m1GQu31hkFLH7VBtHT0QYifJkKkLK1BzFofQm+RhEE30SBC2m3JQZCqjkFPzI5BgZAaQrZSykFbwkdCk5tmQtKwh0EksD5BJ39MQrh8CkLHp8dBIDqBQYCj00E=\"},\"shape\":[2051],\"dtype\":\"float32\",\"order\":\"little\"}],[\"y\",{\"type\":\"ndarray\",\"array\":{\"type\":\"bytes\",\"data\":\"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\"},\"shape\":[2051],\"dtype\":\"float32\",\"order\":\"little\"}]]}}},\"view\":{\"type\":\"object\",\"name\":\"CDSView\",\"id\":\"p1961\",\"attributes\":{\"filter\":{\"type\":\"object\",\"name\":\"AllIndices\",\"id\":\"p1962\"}}},\"glyph\":{\"type\":\"object\",\"name\":\"Scatter\",\"id\":\"p1957\",\"attributes\":{\"x\":{\"type\":\"field\",\"field\":\"x\"},\"y\":{\"type\":\"field\",\"field\":\"y\"},\"line_color\":{\"type\":\"value\",\"value\":\"#ff7f0e\"},\"fill_color\":{\"type\":\"value\",\"value\":\"#ff7f0e\"},\"hatch_color\":{\"type\":\"value\",\"value\":\"#ff7f0e\"}}},\"nonselection_glyph\":{\"type\":\"object\",\"name\":\"Scatter\",\"id\":\"p1958\",\"attributes\":{\"x\":{\"type\":\"field\",\"field\":\"x\"},\"y\":{\"type\":\"field\",\"field\":\"y\"},\"line_color\":{\"type\":\"value\",\"value\":\"#ff7f0e\"},\"line_alpha\":{\"type\":\"value\",\"value\":0.1},\"fill_color\":{\"type\":\"value\",\"value\":\"#ff7f0e\"},\"fill_alpha\":{\"type\":\"value\",\"value\":0.1},\"hatch_color\":{\"type\":\"value\",\"value\":\"#ff7f0e\"},\"hatch_alpha\":{\"type\":\"value\",\"value\":0.1}}},\"muted_glyph\":{\"type\":\"object\",\"name\":\"Scatter\",\"id\":\"p1959\",\"attributes\":{\"x\":{\"type\":\"field\",\"field\":\"x\"},\"y\":{\"type\":\"field\",\"field\":\"y\"},\"line_color\":{\"type\":\"value\",\"value\":\"#ff7f0e\"},\"line_alpha\":{\"type\":\"value\",\"value\":0.2},\"fill_color\":{\"type\":\"value\",\"value\":\"#ff7f0e\"},\"fill_alpha\":{\"type\":\"value\",\"value\":0.2},\"hatch_color\":{\"type\":\"value\",\"value\":\"#ff7f0e\"},\"hatch_alpha\":{\"type\":\"value\",\"value\":0.2}}}}},{\"type\":\"object\",\"name\":\"GlyphRenderer\",\"id\":\"p1969\",\"attributes\":{\"data_source\":{\"type\":\"object\",\"name\":\"ColumnDataSource\",\"id\":\"p1963\",\"attributes\":{\"selected\":{\"type\":\"object\",\"name\":\"Selection\",\"id\":\"p1964\",\"attributes\":{\"indices\":[],\"line_indices\":[]}},\"selection_policy\":{\"type\":\"object\",\"name\":\"UnionRenderers\",\"id\":\"p1965\"},\"data\":{\"type\":\"map\",\"entries\":[[\"x\",{\"type\":\"ndarray\",\"array\":{\"type\":\"bytes\",\"data\":\"LHKZwallJ8KVLAM/NjRJwfevhcH6TBLAGgElQe55f0DBeTXBm8FRwc4SrMBVEKzAcddbwTbwZj8VW5TBh88ewdbuvsAmYZ7Bul87wTj+2cExLsY/CHzdwdBvu8BBB3o+LCJQwQtQusE0q2dA6i1DwWXTn8FhUOM/kCKEwQfiycEzgEvCbFW6wb/GCsG3HUzCCxmUwcAFVUDuVq3BasMcP6ZdQsK/ZJnBtOxUwQchHcHzSMbBvdWRwbfgwL6zK8LB5JYswSH5McGuBhDCC1C6wdGOisH/cQrCHTK7wMLIT8GCsuvASWgLQNh/MsGClk3BKR+PwQtQusF9NifCC4jrwEHoN0ELULrBtv3JwL/tRsALULrBYThAwVgBM8ILULrBQBOswC6xCsK9OjDBmsgPwq4nqMG5LYbB6zUowa1KOcFq38jAKYVCwUw+Eb8m3pfBMc86QfliOkDXWzzBPq4yQNx4JcL9EKzADJqRPgT+ksGHIonBeh5swQQtI8JKccTBYlqGwfjvJsH/pRxAjwoXQNv1UcL2krzB3reUwascQ8KGIL/AvMs9PwtQusFtbpDBQUrawVZNUcILULrBoRKpwSnI0D8ey33BqRCswAtQusFO+Z3BC1C6wSwZv8CVpaU/laRTwaoCwMDQUDDBeKOTwQN5I8KYEqG+hhKswAtQusGO9QLA+pwwwWdRpsELULrBabEjQQxWIMGFNJ/BhWfTv8emSsEFZRpA5fCZwQtQusG5/CrBlvQwwd04jcHfWzHB9PczwpxI2D8Jgb/BF/kCQf5nwMEf5ynB1kNBwd0CTMFwuYDBwpVMwarr6j6CVw9Bu8B7v045SsFnqgQ/e+2XwQBRJMIay9HA86hRwbGsjcB+EKzAjGgPwnlgQcG0mCbCbzBBwS2FEcHVEqzA3fc7QY44QcE1VevAGuEmQdASrMALULrBMAACwdq1S8ILULrBSPS/wPPQRcGGflbBNr4awQKbSMGSj9fA3OAOwgtQusGA98bANG4mwgtQusEL4b/B9xwjwqZql8H4ETTCLDJpwFtBkcGw5UTBOsbSwZEUa0ALULrBNhCswH12UcE7tR5A1BCswGhWm8FShwbBWYW/wOvGhcE/8Mw/6S8jwnsuv8C+ciLB82kHP4jV1j/LcDDB7tnwv38RrMAKeJ3BpUSZwa1YncFQB+w+bN+nwQWrRD+HJovBxpwlwjAIfUBaFxlB5MkGQdK8IMHjgVHB3J8xwXcROcGrrDTCO8OlwQqjUMH/Nb/A4JiMwV3wQD/Oz53BkFlMwtnjJsLbitPBmHwMQOT86r/YAjHBbhxEwjjVuD/76S5BLsIhQbfgUcJE6B1Bgso2wTtViMFGrSbB0HMswfiHz8ETECXC73wLwgdn0cHhA4LB6FulwDiYFUFixjVBIBSrP8h0cEBaVCvB0Sc0wv6FlcFtpXzAPzeQwIKOv8DeJyK/20Mewa4XCMGZW0XBKJ2YwRB70sFyN2tAejdAQOtIYMBDIaTB0I4Pwqzqu8GUwg1BmpOuwSlJNMKw7oXB+aEjwvVVjcHeJyK/MqXVwXcR3MHSzzlB6rO+wa+aUcEtcjVB7hG9wYcHFcFYadE/JacmwiIKSb9Y/KzB628nwjD3kMHy/0vC/hJ7wYgwp8E5WEPCwlxPwbk9NMJX76TBmurdwY/6OsF/WiXBwiyGwKREJsL9UknBTdqTwXrGIMHf/qDBs7FDwutHE8G3XyXBv/y+wCw4g8GnepQ/JoK8wOlFCr4njDlAznq7P8txCUFIRVjBJ1jOwTxET8K2ZSbCMbWcweqDm8FJSiLCj9hPwuNI2sFyETTCa/FLwgZ2UcG/utTBAZJRwcdAk8DablHBeCo0wZVjicCvUkPCSIYzwjF7m8Hyxh7Bx2yrv1yRuT/p6U/CSSZPv08bgMFxgSbCot5LwrJM9D7w9vY/Iq6vP456jD/amhlBlaE+wUU5v8DWeUHAGEyVwemod7196CTCMXubwfvpLkFFqVHBRNV6QIEHI8KZzJHA3dxLwtCvDcJi2SbCIygSQciJUMEwSsrBFwVDwunpT8IJjvM/T6BjwCkE2sGmKkvB9BFMws9aIMHMgjq/AZJRweEDgsEEh1jBLXI1QYDASsEHRjPB9fQzwmUGv8D3UzhBDe3MwaK6j8F6VN3Bx0M4QbxuDMH+syXCNv8zwaQp4L/p6U/CQjkUQdqaGUHg/MzA0H3/vplsv8CPNjHBVskxweepIsLJehM/f35GweB71j+svkjBVJwiQHyzEkHO0yLCv1wjws+QOcGaSiJBasw2wI5Fq8Huzg/CmnW/wD+aCUHR0DxA6Yj/vzF7m8Exe5vB1/vYwfvpLkGFFh/BFAu9P6bAC8L7rVrA4Y1DwsdAk8BPgrfB6Y8PwsydkcG1vj0/rXtLwpYuwsEeLJTBoZ8aQT/C18E6PAzCDBOMwRfbJcJckbk/kPzJwSY4D8IIRZg/mVbYwXWvDcJhnwnB++JSwV9qI8J89uvAbx+sP8VtE7+HuUPCIn0lwhTzDsJoaYHBpp/KwUY7Hb7gF1rBNhS/PsLxCcHsyCXC++kuQfneS8JBsDTB9VWNwfTeJcJtBU/CC16/wNV3Q8L76S5BrpJCwsbsDcIshyK/WNOWwcydUcGbmRDB8cg8wXKZw8EuVSHBCm/UPAXcNcHuA9Q/O+LdwXVFAUC4gsnAcGAUQUwDaMAYOd6+JtrPwUy4J8GLKyrBqBk4wXWvDcJBBkLBIRVNwdhDb8CcrFHBx+8MwkBaBsFLXIvB5r/YwYyNMEAFpsHAIOAIwautLcHZA4/BNhS/Pkmn8kAUn7zBt+QhwRE7CcIYdZvBENuVvgdn0cGsGdLBut8awUBCn8HoG53BNzE3waFt1T9S0Pm+qtgLwutvJ8IMiEHB/oWVwR2TzcGRPIi/TuMhwsB09b+I19PBIdZLwnS22MFefE3BVCdQwdcFCcG6lTPCXA8awE36LsGcIpLBhc1cwK8WUcFPTsDBzhxWwF7iWsFGUSPC++kuQStMv8Doz0PC6AVMwvpqQcI1PzvBL8k3wWG7ncEeAEzCn+uPwT83kMDhKULByfqVwPQRTMJr2TTBxh7OwelmMj+1JCbCnHLGwbcoHsGmYTc/NB0NwuezJMGBVofBSkndPuQ6NML6BDTCI7UUwcjgHkG/XCPCb9NBwXBDFUF9aeg/CWsmwgHQJsK6yb7BYT5EwQGSUcHeJyK/piw0wrUkJsILULrBKXSYPmSKQ8KMlgvCjx8kQa6dPkEZ4gzBGphPwo+ANMJLOc0/K8lvwYFq/r+4/to/+CSLwL3PJMKX86rB/7GOwZf6wcGCEznAb7NePyE5N8EL/qTBP1VRwoZIKUGIwNjB71DDwVXtXcFSNHvBNgu7wTrANsFLSwpB+mTTwAGSUcGm7QrCIFY0wjDsJsLhjUPC+hR/wYAXv8CbNdTBJFqQwa65FEHp6U/C6wnYwViAbkBBeOu/gQKvwR4NJcItnMk/MXubwQ+plMGtUSLBQ1mBwW1zDMKMR68/IBy/wHqOQ8KCth/BuAc0wqSiv8EZawrBhHc6wZjnOMG1JCbCNhS/PlFLNMLk+e0+t4EvwenpT8LoitjAPzkQwoddgMH76S5ByY9DwtIDn8FPwUXB3v4xwVwZCsECVzTBV7HRP6MOQ8L1zFDBI94rQQMKrMDjFVHCHBO+wUlcIsLp6U/C5zvKwf6FlcFIuKbBOWCiwdSzK0CZPChB0HWmwRlrCsEaD7/AWJczwgGSUcGQRUbBwtkMwv6FlcGeim/ArpJCwvmSiz6zfDTCkzV/wT80MMGOQDTCZDxAwbjM5b/ALiXC6elPwmg0GsETJkzCXv4fP+aEUcHbkWVAUFbGwEbilMEijoc/uP7aP+luY0AR0f+/W6URwenpT8I8LQrCLpNVwceLmj4gcxDCkh4PQVTm8L/Y5lHCtNVDwlOSBUH76S5BfZCCwA/+x8Axe5vBg68+wV0nJsKukkLC2RC/wJ09Q8JT6jXBNdkDPxlDCcHfaqfBqvl6PwDTjMGieBDBUtFEwcPfS8HQrw3CCWrMwS5ErD8v7L7BzII6v9ZML8GcSRjBRmgPwoMhEMJKLAG/1UwkwciVQ8LH7kvCKTCVweNTC8LdNtS9XLENwon2qMGJWkjBjCVdwTF7m8E89L3B5r/YwY1KOkHA1ENAwN6cwZFSqsHQnRjBF3QKwu9rRsEHDyZBNhS/PsHGUsHTTp0/8t0NwlpcNMKPHylB5Ey5wQREvz+WHzTB7GcewTgDFMFeXipBOozEwR1DmMEK0BdBKO0ZwcTis8E=\"},\"shape\":[806],\"dtype\":\"float32\",\"order\":\"little\"}],[\"y\",{\"type\":\"ndarray\",\"array\":{\"type\":\"bytes\",\"data\":\"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\"},\"shape\":[806],\"dtype\":\"float32\",\"order\":\"little\"}]]}}},\"view\":{\"type\":\"object\",\"name\":\"CDSView\",\"id\":\"p1970\",\"attributes\":{\"filter\":{\"type\":\"object\",\"name\":\"AllIndices\",\"id\":\"p1971\"}}},\"glyph\":{\"type\":\"object\",\"name\":\"Scatter\",\"id\":\"p1966\",\"attributes\":{\"x\":{\"type\":\"field\",\"field\":\"x\"},\"y\":{\"type\":\"field\",\"field\":\"y\"},\"line_color\":{\"type\":\"value\",\"value\":\"#2ca02c\"},\"fill_color\":{\"type\":\"value\",\"value\":\"#2ca02c\"},\"hatch_color\":{\"type\":\"value\",\"value\":\"#2ca02c\"}}},\"nonselection_glyph\":{\"type\":\"object\",\"name\":\"Scatter\",\"id\":\"p1967\",\"attributes\":{\"x\":{\"type\":\"field\",\"field\":\"x\"},\"y\":{\"type\":\"field\",\"field\":\"y\"},\"line_color\":{\"type\":\"value\",\"value\":\"#2ca02c\"},\"line_alpha\":{\"type\":\"value\",\"value\":0.1},\"fill_color\":{\"type\":\"value\",\"value\":\"#2ca02c\"},\"fill_alpha\":{\"type\":\"value\",\"value\":0.1},\"hatch_color\":{\"type\":\"value\",\"value\":\"#2ca02c\"},\"hatch_alpha\":{\"type\":\"value\",\"value\":0.1}}},\"muted_glyph\":{\"type\":\"object\",\"name\":\"Scatter\",\"id\":\"p1968\",\"attributes\":{\"x\":{\"type\":\"field\",\"field\":\"x\"},\"y\":{\"type\":\"field\",\"field\":\"y\"},\"line_color\":{\"type\":\"value\",\"value\":\"#2ca02c\"},\"line_alpha\":{\"type\":\"value\",\"value\":0.2},\"fill_color\":{\"type\":\"value\",\"value\":\"#2ca02c\"},\"fill_alpha\":{\"type\":\"value\",\"value\":0.2},\"hatch_color\":{\"type\":\"value\",\"value\":\"#2ca02c\"},\"hatch_alpha\":{\"type\":\"value\",\"value\":0.2}}}}},{\"type\":\"object\",\"name\":\"GlyphRenderer\",\"id\":\"p1978\",\"attributes\":{\"data_source\":{\"type\":\"object\",\"name\":\"ColumnDataSource\",\"id\":\"p1972\",\"attributes\":{\"selected\":{\"type\":\"object\",\"name\":\"Selection\",\"id\":\"p1973\",\"attributes\":{\"indices\":[],\"line_indices\":[]}},\"selection_policy\":{\"type\":\"object\",\"name\":\"UnionRenderers\",\"id\":\"p1974\"},\"data\":{\"type\":\"map\",\"entries\":[[\"x\",{\"type\":\"ndarray\",\"array\":{\"type\":\"bytes\",\"data\":\"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\"},\"shape\":[634],\"dtype\":\"float32\",\"order\":\"little\"}],[\"y\",{\"type\":\"ndarray\",\"array\":{\"type\":\"bytes\",\"data\":\"OZHwQJkta0GKx57AN/zfQPt30cDYVm9BW+BxQZALE0FJTf1Ax4ItQDrJb0FC8yNB4MXIQGkO370EYQVBRUPPQMi8FUHIN8hARWgVQZHF0EAlCbZAtlELP7eGd0Hjss/AXJiCQeyySz8K1cI+IQwtQOiBzUAdUbFADFnCQEFx2ED+VdfAFq5/QRrOzEFTbm5BFsblQRSZi71IUjBB1AF5QZWSykC3m9pBmTjnPYRqgkHPlIhBbMfaQYOimj2w+C5BEXJ1QRKbsL3VlCtBWaPSQcFZxUCkrqZAjmQtQPziXkF6UHRBz0UdQWYC40ATUwhB5+T/QKSU2EEJZnE/EiJ+QdNNiUGmcHRBI4ZoQRaiCEH6O8pAh6ErQVxrzEDlHWI+mA1oP7vJwUDXpCxBVTtHQIEJhEE3wvhAAVbeQNJD8r3DWsXAW7ZxQQlrEkE3dY5AeOh9QeKj2kCIxhpBqUNlQcMB8kDG+85AqDwdP21tgL1kxmtBT45sQbAgfkG0VGlBSWWDQUzQu8CPlAk/srxzQIopPD9UoV9BI6/WwH+h8kCnCptAO62CQX5RK0FTKGxBZKEpQTfN8EBaOplARo7YwPU6v8BzsuxAzdvcQQxS4EC8HtpAN0kVQRxSA0EYmPlAWIhwQd86C0ERk7hAEguCQMW2c0H/ICtBpJDQQLgM7kB6jMC9gMXyQG5E2MCk/pu9S9gNvUiK1EHeFspAHvtuQX4IgEFre8tACHYiQU5ZBTuL9s9A7gSKQR92sT1mnOJBAC0iQWUZc0E+iEs9yFiCQfrt30ALeuZAx9fZQWJhLEGgw5K9fQXFQJfM1D3+1HFBwpfZQVxFYEFhaXG9yZv0PsL3p0BSGL9ARhdxQUzruEGKQ9fABtq/PGSR30HsAOBAJy9/QSZ6YEDcKD8/xz+JQX+sDkF6JtdBi4fXwDJrCUHVyi5BorYtQG1330BQlXRBBMsPQfqLeEHFBdu9oMd5QGsue0ESLytBrFkNQQ5F2sDs0+RB318zQWgpJEHu408/mNGfwDyegj8qTm5BKnXFQGv3Y0GszmNAUE+7QOo95kFTxCNBUNfNQBs1ckBv+sZAN/8pQZeY7ECnGTBBwX0EQfmmYEFOnfRAcDF/Qb64i0E77NlAGPLDQOvJgUEUChJBWZuKQXUZdD8T+NXASXZ2P2iYJkFRP4FB6tm/wMrNwUEYjL9AhrLbQZVJ0kAWYy9BSdG1QL/b2kEC/e1AjrTDQGhTu0DKzcFBasSCQJNzCb2zFtlBhUHNQWAW4EDKzcFB7fUbQekGhUH8HWw/XRrFwEbooL/KzcFButq6wMrNwUHhAQlBiY+HvIsF5EDz6i1AfmvxQMByzUBXEtbAe5ReP8Eh7EDKzcFBsIcnQWl/sEB8bMHA2a14P54Dhz9cw4JA82R1P+AMRj/KzcFBnnTxQFC6fj8ys1Y/9sFKP69tF0ERuw0/HjLaQWvIDEEif8TAxDS9QBYntMBg3MtAgCIEQX2RbUHYpw1BIrnEQA6xq8AHBedAys3BQYqHZkEWrdtBJamzwLMW2UEPkE8/p6UuQGEX20HP5wJB9z7nQFRDm7/PXC5Ays3BQYqE40AKDXlB9+bAwGHWg0G6jLzAys3BQZQT00DlRc5AgCIEQQlhhEFH2RVBsPrHQKFDIUCl69xBGfKIQeIyjUDF33FBY6jbQTFH5UHIuNdBtkVZP8rNwUE2ni1BcXNxQY2NLkHKItpBys3BQcBavkDF17rAMo6HQPutH0FeOXJBO5hUQCwGckG3eqtA8/trQcrNwUHAnxBBW6/MQIkxIEG4dwJBys3BQXN+wcBuRCxBfNeJQaMwsDr7oWxBfPq0QEblFUG6OaxATue/PMa1v8DwdMBA1VErQWHWg0HwIHc/6t5sQdKur0Aesy1A+eStQFzqbUEWAlJAuI+6QAnqwECGZqM9VOLLQDHH4UAas3JBgCIEQZ4GvsA8ptk/uLIUQUYd50DKzcFBxSIHQVcQ3kC4yLZAV2u4QJxjLEHxdhtBxGkuQd5p0UBz1+xALlgoQRiiYUFkN4VBuPfMQMQhF0Ea3PxAA67ovDt+pUDaE6pAegBwQSbQFEFDB8E/ys3BQdewLUEV1SdByDZ/QZ+EckFkNtlBWoEuQJq+YD/x1SlBU8QPQTLcYT+6FmpBUiAnQQbRIUHKzcFBys3BQRu5h0By0m9BWe/YQYBrMkF0f7XAMXuxPoWHLUDKzcFBT12xwKhHF0HLc2hBys3BQYCOfz9OlDZBTn4tQROiiUESBNBB+NoiQQi/iTzKab1ATd6ePaH9uT2hNttBfCdgP7MW2UFJ0bVAi+PIQGYHgj+l3FY/F5yCQEnRtUCD4CJBtlueQBmTaUHr1ZlAJtO0QIY/20GZNKzA1eOjQCU+3EHx/7rA0n2bQOuy7UBzFtlBzGymPlE/gUGNU4ZBTnbXQJ7hykCrJHdAys3BQdgPfD9g0GxBW4u9wIAiBEGpFtlBpgJtQSx21UF8mNlBI89uQbWsxcCFfupAtpnbQawQdECEa+ZAT/fNQJ9oJEFFfLVABeFxQZWlcD8/u9hBCQUvQVL8ikGyFaq/wV/DwKvbLUA52olBpxbZQV7a7kC/1IJBPzppPklKbEFETYlBbWDzQIccekFdaxtAHyPZQUnRtUCd8IxATW2pQH+Z2UHwM9VBTm3MQEyjLkHKzcFBxNWzQACZxsCB+RRBLPsxP8jOej9J0bVAldSjQN8RojyxmYVBtMOjQEnRtUCrSoM/dKxhQcrNwUHRUoI/5y7lQbMW2UEkftE/NmLmQQSJAEFiTIQ8SdG1QPzN+0BkxDE+XA2BP09wikEhnORBNZTCQGKtLUHDSZY9cxbZQb8O70BRP4FBPgBqQQAhx0DKzcFBwyHSQGnIykBef4E/IFRhQaBx2bzKzcFBjNEUQcrNwUHABMVAHBWFP6mbX0HEuLLAdMbVQYAiBEFBNTg/kAVoQYSdGEG6GHBBW6jZQXUnzkDtTgxBbhWDQZXJNUFuNGtB4l8ZQbMW2UEKJfpAys3BQZQkZT8l+ec+CxvNQNb0usDCZsNAFCHXQXKuEEG/YsrAXmTGwMLKLkCt+ay8C7IGP8vMFUGcdnhBN9ItQHbELEEP9KNA78WCQBsyNEHYHXNBec6EQb/yr0CnXwRBC3WBPymdhUDty9ZBys3BQcjZlLvDomxBBo3mQcrNwUGnKhhBDrZ8P/AuZ0F3PLnAfBvmQYAiBEE24dxBys3BQRODqMB0Pr89bncuQSJGqkC/29pBgI3QQTiuGEF0oYE/pTooQTQutMDHNdhBuV7NQBFXzUCkBUo/mPHfQEJcAEEZBdlBFQq2wOLKcEEpNoI/Ry3MQFN2scDSoi5B19tiP8rNwUFCzRZBtthvPw==\"},\"shape\":[634],\"dtype\":\"float32\",\"order\":\"little\"}]]}}},\"view\":{\"type\":\"object\",\"name\":\"CDSView\",\"id\":\"p1979\",\"attributes\":{\"filter\":{\"type\":\"object\",\"name\":\"AllIndices\",\"id\":\"p1980\"}}},\"glyph\":{\"type\":\"object\",\"name\":\"Scatter\",\"id\":\"p1975\",\"attributes\":{\"x\":{\"type\":\"field\",\"field\":\"x\"},\"y\":{\"type\":\"field\",\"field\":\"y\"},\"line_color\":{\"type\":\"value\",\"value\":\"#d62728\"},\"fill_color\":{\"type\":\"value\",\"value\":\"#d62728\"},\"hatch_color\":{\"type\":\"value\",\"value\":\"#d62728\"}}},\"nonselection_glyph\":{\"type\":\"object\",\"name\":\"Scatter\",\"id\":\"p1976\",\"attributes\":{\"x\":{\"type\":\"field\",\"field\":\"x\"},\"y\":{\"type\":\"field\",\"field\":\"y\"},\"line_color\":{\"type\":\"value\",\"value\":\"#d62728\"},\"line_alpha\":{\"type\":\"value\",\"value\":0.1},\"fill_color\":{\"type\":\"value\",\"value\":\"#d62728\"},\"fill_alpha\":{\"type\":\"value\",\"value\":0.1},\"hatch_color\":{\"type\":\"value\",\"value\":\"#d62728\"},\"hatch_alpha\":{\"type\":\"value\",\"value\":0.1}}},\"muted_glyph\":{\"type\":\"object\",\"name\":\"Scatter\",\"id\":\"p1977\",\"attributes\":{\"x\":{\"type\":\"field\",\"field\":\"x\"},\"y\":{\"type\":\"field\",\"field\":\"y\"},\"line_color\":{\"type\":\"value\",\"value\":\"#d62728\"},\"line_alpha\":{\"type\":\"value\",\"value\":0.2},\"fill_color\":{\"type\":\"value\",\"value\":\"#d62728\"},\"fill_alpha\":{\"type\":\"value\",\"value\":0.2},\"hatch_color\":{\"type\":\"value\",\"value\":\"#d62728\"},\"hatch_alpha\":{\"type\":\"value\",\"value\":0.2}}}}},{\"type\":\"object\",\"name\":\"GlyphRenderer\",\"id\":\"p1987\",\"attributes\":{\"data_source\":{\"type\":\"object\",\"name\":\"ColumnDataSource\",\"id\":\"p1981\",\"attributes\":{\"selected\":{\"type\":\"object\",\"name\":\"Selection\",\"id\":\"p1982\",\"attributes\":{\"indices\":[],\"line_indices\":[]}},\"selection_policy\":{\"type\":\"object\",\"name\":\"UnionRenderers\",\"id\":\"p1983\"},\"data\":{\"type\":\"map\",\"entries\":[[\"x\",{\"type\":\"ndarray\",\"array\":{\"type\":\"bytes\",\"data\":\"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\"},\"shape\":[1578],\"dtype\":\"float32\",\"order\":\"little\"}],[\"y\",{\"type\":\"ndarray\",\"array\":{\"type\":\"bytes\",\"data\":\"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\"},\"shape\":[1578],\"dtype\":\"float32\",\"order\":\"little\"}]]}}},\"view\":{\"type\":\"object\",\"name\":\"CDSView\",\"id\":\"p1988\",\"attributes\":{\"filter\":{\"type\":\"object\",\"name\":\"AllIndices\",\"id\":\"p1989\"}}},\"glyph\":{\"type\":\"object\",\"name\":\"Scatter\",\"id\":\"p1984\",\"attributes\":{\"x\":{\"type\":\"field\",\"field\":\"x\"},\"y\":{\"type\":\"field\",\"field\":\"y\"},\"line_color\":{\"type\":\"value\",\"value\":\"#9467bd\"},\"fill_color\":{\"type\":\"value\",\"value\":\"#9467bd\"},\"hatch_color\":{\"type\":\"value\",\"value\":\"#9467bd\"}}},\"nonselection_glyph\":{\"type\":\"object\",\"name\":\"Scatter\",\"id\":\"p1985\",\"attributes\":{\"x\":{\"type\":\"field\",\"field\":\"x\"},\"y\":{\"type\":\"field\",\"field\":\"y\"},\"line_color\":{\"type\":\"value\",\"value\":\"#9467bd\"},\"line_alpha\":{\"type\":\"value\",\"value\":0.1},\"fill_color\":{\"type\":\"value\",\"value\":\"#9467bd\"},\"fill_alpha\":{\"type\":\"value\",\"value\":0.1},\"hatch_color\":{\"type\":\"value\",\"value\":\"#9467bd\"},\"hatch_alpha\":{\"type\":\"value\",\"value\":0.1}}},\"muted_glyph\":{\"type\":\"object\",\"name\":\"Scatter\",\"id\":\"p1986\",\"attributes\":{\"x\":{\"type\":\"field\",\"field\":\"x\"},\"y\":{\"type\":\"field\",\"field\":\"y\"},\"line_color\":{\"type\":\"value\",\"value\":\"#9467bd\"},\"line_alpha\":{\"type\":\"value\",\"value\":0.2},\"fill_color\":{\"type\":\"value\",\"value\":\"#9467bd\"},\"fill_alpha\":{\"type\":\"value\",\"value\":0.2},\"hatch_color\":{\"type\":\"value\",\"value\":\"#9467bd\"},\"hatch_alpha\":{\"type\":\"value\",\"value\":0.2}}}}}],\"toolbar\":{\"type\":\"object\",\"name\":\"Toolbar\",\"id\":\"p1905\",\"attributes\":{\"tools\":[{\"type\":\"object\",\"name\":\"PanTool\",\"id\":\"p1930\"},{\"type\":\"object\",\"name\":\"WheelZoomTool\",\"id\":\"p1931\"},{\"type\":\"object\",\"name\":\"BoxZoomTool\",\"id\":\"p1932\",\"attributes\":{\"overlay\":{\"type\":\"object\",\"name\":\"BoxAnnotation\",\"id\":\"p1933\",\"attributes\":{\"syncable\":false,\"level\":\"overlay\",\"visible\":false,\"left_units\":\"canvas\",\"right_units\":\"canvas\",\"bottom_units\":\"canvas\",\"top_units\":\"canvas\",\"line_color\":\"black\",\"line_alpha\":1.0,\"line_width\":2,\"line_dash\":[4,4],\"fill_color\":\"lightgrey\",\"fill_alpha\":0.5}}}},{\"type\":\"object\",\"name\":\"SaveTool\",\"id\":\"p1934\"},{\"type\":\"object\",\"name\":\"ResetTool\",\"id\":\"p1935\"},{\"type\":\"object\",\"name\":\"HelpTool\",\"id\":\"p1936\"}]}},\"left\":[{\"type\":\"object\",\"name\":\"LinearAxis\",\"id\":\"p1923\",\"attributes\":{\"ticker\":{\"type\":\"object\",\"name\":\"BasicTicker\",\"id\":\"p1926\",\"attributes\":{\"mantissas\":[1,2,5]}},\"formatter\":{\"type\":\"object\",\"name\":\"BasicTickFormatter\",\"id\":\"p1925\"},\"major_label_policy\":{\"type\":\"object\",\"name\":\"AllLabels\",\"id\":\"p1924\"}}}],\"right\":[{\"type\":\"object\",\"name\":\"Legend\",\"id\":\"p1990\",\"attributes\":{\"location\":\"top_left\",\"items\":[{\"type\":\"object\",\"name\":\"LegendItem\",\"id\":\"p1991\",\"attributes\":{\"label\":{\"type\":\"value\",\"value\":\"Topic 1\"},\"renderers\":[{\"id\":\"p1951\"}]}},{\"type\":\"object\",\"name\":\"LegendItem\",\"id\":\"p1992\",\"attributes\":{\"label\":{\"type\":\"value\",\"value\":\"Topic 2\"},\"renderers\":[{\"id\":\"p1960\"}]}},{\"type\":\"object\",\"name\":\"LegendItem\",\"id\":\"p1993\",\"attributes\":{\"label\":{\"type\":\"value\",\"value\":\"Topic 3\"},\"renderers\":[{\"id\":\"p1969\"}]}},{\"type\":\"object\",\"name\":\"LegendItem\",\"id\":\"p1994\",\"attributes\":{\"label\":{\"type\":\"value\",\"value\":\"Topic 4\"},\"renderers\":[{\"id\":\"p1978\"}]}},{\"type\":\"object\",\"name\":\"LegendItem\",\"id\":\"p1995\",\"attributes\":{\"label\":{\"type\":\"value\",\"value\":\"Topic 5\"},\"renderers\":[{\"id\":\"p1987\"}]}}]}}],\"below\":[{\"type\":\"object\",\"name\":\"LinearAxis\",\"id\":\"p1916\",\"attributes\":{\"ticker\":{\"type\":\"object\",\"name\":\"BasicTicker\",\"id\":\"p1919\",\"attributes\":{\"mantissas\":[1,2,5]}},\"formatter\":{\"type\":\"object\",\"name\":\"BasicTickFormatter\",\"id\":\"p1918\"},\"major_label_policy\":{\"type\":\"object\",\"name\":\"AllLabels\",\"id\":\"p1917\"}}}],\"center\":[{\"type\":\"object\",\"name\":\"Grid\",\"id\":\"p1922\",\"attributes\":{\"axis\":{\"id\":\"p1916\"}}},{\"type\":\"object\",\"name\":\"Grid\",\"id\":\"p1929\",\"attributes\":{\"dimension\":1,\"axis\":{\"id\":\"p1923\"}}}]}}],\"callbacks\":{\"type\":\"map\"}}};\n",
       "  const render_items = [{\"docid\":\"b73690c4-751a-4b2e-8d7a-3e6220162d68\",\"roots\":{\"p1898\":\"c1489338-7d7a-4ffb-85c9-b5a6cc8dbdc6\"},\"root_ids\":[\"p1898\"]}];\n",
       "  root.Bokeh.embed.embed_items_notebook(docs_json, render_items);\n",
       "  }\n",
       "  if (root.Bokeh !== undefined) {\n",
       "    embed_document(root);\n",
       "  } else {\n",
       "    let attempts = 0;\n",
       "    const timer = setInterval(function(root) {\n",
       "      if (root.Bokeh !== undefined) {\n",
       "        clearInterval(timer);\n",
       "        embed_document(root);\n",
       "      } else {\n",
       "        attempts++;\n",
       "        if (attempts > 100) {\n",
       "          clearInterval(timer);\n",
       "          console.log(\"Bokeh: ERROR: Unable to run BokehJS code because BokehJS library is missing\");\n",
       "        }\n",
       "      }\n",
       "    }, 10, root)\n",
       "  }\n",
       "})(window);"
      ],
      "application/vnd.bokehjs_exec.v0+json": ""
     },
     "metadata": {
      "application/vnd.bokehjs_exec.v0+json": {
       "id": "p1898"
      }
     },
     "output_type": "display_data"
    }
   ],
   "source": [
    "# Get topic weights\n",
    "topic_weights = lda_model.transform(count_data_natural)\n",
    "\n",
    "# Array of topic weights    \n",
    "arr_natural = pd.DataFrame(topic_weights).fillna(0).values\n",
    "\n",
    "# Keep the well separated points (optional)\n",
    "arr_natural = arr_natural[np.amax(arr_natural, axis=1) > 0.35]\n",
    "\n",
    "# Dominant topic number in each doc\n",
    "topic_num_natural = np.argmax(arr_natural, axis=1)\n",
    "\n",
    "# tSNE Dimension Reduction\n",
    "tsne_model_natural = TSNE(n_components=2, verbose=1, random_state=5, angle=.99, init='pca')\n",
    "tsne_lda_natural = tsne_model_natural.fit_transform(arr_natural)\n",
    "\n",
    "from bokeh.io import output_notebook\n",
    "from bokeh.plotting import figure, show\n",
    "from bokeh.models import Legend\n",
    "\n",
    "# Plot the Topic Clusters using Bokeh\n",
    "output_notebook()\n",
    "mycolors_natural = np.array([color for name, color in mcolors.TABLEAU_COLORS.items()])\n",
    "plot_natural = figure(title=\"Clustering of Top {} Natural Disaster Topics\".format(number_words), \n",
    "              width=900, height=700)\n",
    "\n",
    "scatter_list_natural = []\n",
    "for topic in np.unique(topic_num_natural):\n",
    "    indices = np.where(topic_num_natural == topic)[0]\n",
    "    scatter = plot_natural.scatter(x=tsne_lda_natural[indices, 0], \n",
    "                                y=tsne_lda_natural[indices, 1], \n",
    "                                color=mycolors_natural[topic])\n",
    "    scatter_list_natural.append(scatter)\n",
    "\n",
    "# Define topic labels\n",
    "topic_labels_natural = ['Topic 1', 'Topic 2', 'Topic 3', 'Topic 4', 'Topic 5']\n",
    "\n",
    "# Create legend\n",
    "legend_natural = Legend(items=[(label, [scatter]) for label, scatter in zip(topic_labels_natural, scatter_list_natural)],\n",
    "                location='top_left')\n",
    "plot_natural.add_layout(legend_natural, 'right')\n",
    "\n",
    "show(plot_natural)"
   ]
  },
  {
   "cell_type": "code",
   "execution_count": null,
   "id": "415c8ee4-b910-40df-b734-f9e132d63b9d",
   "metadata": {
    "tags": []
   },
   "outputs": [],
   "source": [
    "# Insert topic analysis here"
   ]
  },
  {
   "cell_type": "markdown",
   "id": "07b03bac-3518-4097-adf6-b5f3061cfb7f",
   "metadata": {
    "tags": []
   },
   "source": [
    "# Results/Findings"
   ]
  },
  {
   "cell_type": "markdown",
   "id": "8cfbfe45-a183-4c1f-82ce-50cf2d13a4fc",
   "metadata": {
    "tags": []
   },
   "source": [
    "## Sentiment Analysis\n",
    "Taking a look at our first research question, we can see that there are major disparities in the way that TextBlob and Vader calculate sentiment scores for the Boston Bombings tweets. Vader produced nearly twice as many \"negative\" labels as TextBlob, while the opposite effect occurred in \"neutral\" tweets. The positive tweets from both libraries are much fewer in frequencies, but TextBlob and Vader label them very similarly. Since Vader has a wider scope of what gets included in calculating the score, it would be a reasonable assumption that the emojis and capitalizations used in these tweets provide more negative context in a addition to the words written. Without these non-textual cues and components, these tweets can be defined as more neutral as they are in TextBlob's processing. In other words, these disparities in how the tweets are processed can show us how important non-textual aspects of written communication can be important in understanding context.\n",
    "\n",
    "In regards to comparing TextBlob and Vader's processing capabilities between man-made (Boston Bombing) and natural (Hurricane Sandy) disasters, we can clearly see a lot less variability between the two libraries when it comes to Hurricane Sandy. The overall trends are the same with Hurricane Sandy as they are with the Bombings: Vader produces more negative labels while TextBlob produces more positive and neutral labels. However, these differences are much less significant, the counts for labels are distribtued much more evenly. Opposite to the Boston Bombings, the most popular label was \"Positive\", which may imply that negative feelings to Hurricane Sandy, a natural disaster, are not as intense or prevalent as feelings toward a man-made disaster such as the Boston Bombings. Since we can connect the Boston Bombings to rhuman emotion and morality more easily than we can with Hurricane Sandy, these assumptions are logically sensible, but not able to be definitively made based on these types of analyses.\n",
    "\n",
    "Further research could be done to investigate the causes of these discrepancies and would be a great pathway into understand how connecting disaster with humanity may influence the tweets that we post and the feelings we share when disaster strikes, but it's safe to say that TextBlob and Vader's different processing abilities give insight to how emojis can change the sentiments of tweets.\n",
    "\n",
    "\n",
    "## Topic Modeling"
   ]
  },
  {
   "cell_type": "markdown",
   "id": "6a1bad11-5a68-4d38-a00b-90105e453927",
   "metadata": {},
   "source": [
    "- Insert topic modeling results here"
   ]
  },
  {
   "cell_type": "code",
   "execution_count": 48,
   "id": "29b21984-4222-4b8f-a538-3504f015f0a7",
   "metadata": {
    "tags": []
   },
   "outputs": [],
   "source": [
    "# I got this shit to work someone do smth with it"
   ]
  },
  {
   "cell_type": "code",
   "execution_count": 43,
   "id": "23b64993-6d9d-43a9-8249-8e8ea3d686be",
   "metadata": {
    "tags": []
   },
   "outputs": [
    {
     "name": "stdout",
     "output_type": "stream",
     "text": [
      "Requirement already satisfied: pyLDAvis in /home/jovyan/.local/lib/python3.10/site-packages (3.4.1)\n",
      "Requirement already satisfied: gensim in /home/jovyan/.local/lib/python3.10/site-packages (from pyLDAvis) (4.3.1)\n",
      "Requirement already satisfied: pandas>=2.0.0 in /home/jovyan/.local/lib/python3.10/site-packages (from pyLDAvis) (2.0.2)\n",
      "Requirement already satisfied: jinja2 in /opt/conda/lib/python3.10/site-packages (from pyLDAvis) (3.1.2)\n",
      "Requirement already satisfied: funcy in /home/jovyan/.local/lib/python3.10/site-packages (from pyLDAvis) (2.0)\n",
      "Requirement already satisfied: joblib>=1.2.0 in /opt/conda/lib/python3.10/site-packages (from pyLDAvis) (1.2.0)\n",
      "Requirement already satisfied: setuptools in /opt/conda/lib/python3.10/site-packages (from pyLDAvis) (67.4.0)\n",
      "Requirement already satisfied: scikit-learn>=1.0.0 in /opt/conda/lib/python3.10/site-packages (from pyLDAvis) (1.2.2)\n",
      "Requirement already satisfied: numexpr in /home/jovyan/.local/lib/python3.10/site-packages (from pyLDAvis) (2.8.4)\n",
      "Requirement already satisfied: scipy in /opt/conda/lib/python3.10/site-packages (from pyLDAvis) (1.10.1)\n",
      "Requirement already satisfied: numpy>=1.24.2 in /opt/conda/lib/python3.10/site-packages (from pyLDAvis) (1.24.2)\n",
      "Requirement already satisfied: python-dateutil>=2.8.2 in /opt/conda/lib/python3.10/site-packages (from pandas>=2.0.0->pyLDAvis) (2.8.2)\n",
      "Requirement already satisfied: tzdata>=2022.1 in /home/jovyan/.local/lib/python3.10/site-packages (from pandas>=2.0.0->pyLDAvis) (2023.3)\n",
      "Requirement already satisfied: pytz>=2020.1 in /opt/conda/lib/python3.10/site-packages (from pandas>=2.0.0->pyLDAvis) (2022.7.1)\n",
      "Requirement already satisfied: threadpoolctl>=2.0.0 in /opt/conda/lib/python3.10/site-packages (from scikit-learn>=1.0.0->pyLDAvis) (3.1.0)\n",
      "Requirement already satisfied: smart-open>=1.8.1 in /opt/conda/lib/python3.10/site-packages (from gensim->pyLDAvis) (6.3.0)\n",
      "Requirement already satisfied: MarkupSafe>=2.0 in /opt/conda/lib/python3.10/site-packages (from jinja2->pyLDAvis) (2.1.2)\n",
      "Requirement already satisfied: six>=1.5 in /opt/conda/lib/python3.10/site-packages (from python-dateutil>=2.8.2->pandas>=2.0.0->pyLDAvis) (1.16.0)\n"
     ]
    }
   ],
   "source": [
    "!pip install pyLDAvis"
   ]
  },
  {
   "cell_type": "code",
   "execution_count": 47,
   "id": "bf7f7553-8173-4147-8b69-41f4547ecdc7",
   "metadata": {
    "tags": []
   },
   "outputs": [
    {
     "data": {
      "text/html": [
       "\n",
       "<link rel=\"stylesheet\" type=\"text/css\" href=\"https://cdn.jsdelivr.net/gh/bmabey/pyLDAvis@3.4.0/pyLDAvis/js/ldavis.v1.0.0.css\">\n",
       "\n",
       "\n",
       "<div id=\"ldavis_el27481398951571288002746907507\" style=\"background-color:white;\"></div>\n",
       "<script type=\"text/javascript\">\n",
       "\n",
       "var ldavis_el27481398951571288002746907507_data = {\"mdsDat\": {\"x\": [0.07589553908725695, 0.0910091227175005, 0.03573259028252296, -0.020214903326166878, -0.18242234876111335], \"y\": [0.09548099169904915, 0.03432273848212775, -0.05015398562723216, -0.14245970802661603, 0.0628099634726714], \"topics\": [1, 2, 3, 4, 5], \"cluster\": [1, 1, 1, 1, 1], \"Freq\": [29.592344893939572, 26.86949695176539, 15.712915041642741, 15.55145396111614, 12.273789151536157]}, \"tinfo\": {\"Term\": [\"fuck\", \"ain\", \"frankenstorm\", \"away\", \"bout\", \"sandy\", \"better\", \"wit\", \"rt\", \"stay\", \"irene\", \"weather\", \"hit\", \"went\", \"twerk\", \"niggas\", \"east\", \"dat\", \"dolphin\", \"hate\", \"classes\", \"shanaynay\", \"european\", \"highschool\", \"threat\", \"help\", \"guys\", \"coast\", \"yo\", \"prayers\", \"dance\", \"style\", \"retweets\", \"singing\", \"damaged\", \"donating\", \"communities\", \"rebuilt\", \"gangnam\", \"hoe\", \"texas\", \"brought\", \"dyin\", \"category\", \"rod\", \"patrick\", \"000\", \"ways\", \"america\", \"stopped\", \"parody\", \"effect\", \"destroying\", \"extending\", \"errythang\", \"freaking\", \"preparation\", \"100\", \"sharks\", \"remind\", \"donate\", \"best\", \"hell\", \"help\", \"tweets\", \"won\", \"dealing\", \"president\", \"dis\", \"actually\", \"maybe\", \"north\", \"obama\", \"real\", \"just\", \"funny\", \"bitch\", \"rt\", \"hurricane\", \"like\", \"rain\", \"sandy\", \"romney\", \"school\", \"life\", \"bad\", \"watching\", \"don\", \"safe\", \"big\", \"make\", \"hope\", \"people\", \"new\", \"incredible\", \"blowin\", \"shanaynay\", \"pics\", \"vagina\", \"flow\", \"wideset\", \"sending\", \"spend\", \"data\", \"swear\", \"coasters\", \"virginia\", \"story\", \"kardashian\", \"shamwow\", \"beautiful\", \"heavy\", \"markets\", \"tebow\", \"tim\", \"intentions\", \"fox\", \"continue\", \"blackout\", \"classy\", \"western\", \"knicks\", \"nets\", \"music\", \"terrified\", \"niggas\", \"victims\", \"lives\", \"view\", \"heading\", \"terrifying\", \"hurricanes\", \"prayers\", \"lot\", \"names\", \"scary\", \"week\", \"pray\", \"thoughts\", \"photos\", \"sandy\", \"lost\", \"east\", \"hurricane\", \"rt\", \"photo\", \"york\", \"new\", \"jersey\", \"black\", \"people\", \"coast\", \"praying\", \"affected\", \"frankenstorm\", \"like\", \"going\", \"safe\", \"hope\", \"shit\", \"storm\", \"gonna\", \"seeing\", \"cancels\", \"google\", \"felt\", \"victimized\", \"southern\", \"type\", \"babies\", \"months\", \"grows\", \"targets\", \"surprise\", \"kind\", \"trippin\", \"vs\", \"awful\", \"personally\", \"early\", \"800\", \"clair\", \"coning\", \"ironic\", \"knowing\", \"drag\", \"pushed\", \"syria\", \"level\", \"hi\", \"economic\", \"threat\", \"odd\", \"feels\", \"changes\", \"guys\", \"took\", \"middle\", \"katrina\", \"stay\", \"frankenstorm\", \"disaster\", \"hit\", \"hurricane\", \"think\", \"sandy\", \"hard\", \"rt\", \"follow\", \"isn\", \"day\", \"safe\", \"tonight\", \"new\", \"coast\", \"ve\", \"east\", \"gets\", \"ll\", \"don\", \"got\", \"people\", \"just\", \"like\", \"big\", \"dolphin\", \"called\", \"heads\", \"ur\", \"ruin\", \"favorite\", \"tricks\", \"politics\", \"beverages\", \"mashable\", \"played\", \"productive\", \"fighting\", \"powerful\", \"land\", \"ihop\", \"position\", \"drinking\", \"join\", \"heard\", \"retweet\", \"cell\", \"creeping\", \"alot\", \"hours\", \"minutes\", \"glass\", \"apartment\", \"maps\", \"hoping\", \"jets\", \"away\", \"supposed\", \"yo\", \"talk\", \"open\", \"northeast\", \"lt\", \"hurricane\", \"sandy\", \"storm\", \"hope\", \"come\", \"twitter\", \"know\", \"place\", \"rt\", \"account\", \"hit\", \"don\", \"need\", \"just\", \"people\", \"lol\", \"twerk\", \"highschool\", \"lyfe\", \"homeless\", \"resources\", \"european\", \"walked\", \"broken\", \"status\", \"opening\", \"wit\", \"gassing\", \"31st\", \"kraykray\", \"moomoo\", \"cunt\", \"evening\", \"dat\", \"radio\", \"du\", \"earlier\", \"constant\", \"garbage\", \"hangout\", \"helping\", \"officially\", \"535\", \"7252\", \"hotline\", \"bout\", \"hate\", \"nigga\", \"classes\", \"went\", \"fuck\", \"better\", \"trying\", \"ain\", \"irene\", \"guy\", \"expecting\", \"weather\", \"hurricane\", \"rt\", \"true\", \"idea\", \"sandy\", \"cancelled\", \"shut\", \"watch\", \"tomorrow\", \"lol\", \"shit\", \"people\", \"gonna\"], \"Freq\": [130.0, 122.0, 204.0, 112.0, 77.0, 2899.0, 84.0, 65.0, 2803.0, 138.0, 86.0, 103.0, 151.0, 51.0, 44.0, 88.0, 200.0, 44.0, 47.0, 46.0, 49.0, 71.0, 41.0, 40.0, 48.0, 93.0, 61.0, 209.0, 62.0, 114.0, 48.76367169968343, 46.90684897784409, 51.48656594707638, 40.023372404758454, 37.63557365746145, 34.073851478237955, 33.167255370532956, 32.42043517520306, 31.912180883122627, 28.226471190500455, 28.121895703838938, 52.63371659280609, 27.84178103639394, 36.28555415674463, 26.885042170394023, 26.236397641508134, 36.45057219471102, 24.928346766922616, 47.87465006396744, 45.07031314150346, 23.210893613333596, 23.541454955872197, 21.687736401566305, 21.33442346099395, 20.968672769353798, 20.9520768040519, 26.52363063767159, 37.04385643413372, 21.453216280902875, 19.92933002016763, 28.09985910081713, 54.780711344359226, 26.059474146057788, 87.46582818656512, 68.3285071005292, 72.2208134599698, 38.29100097686609, 36.86471768386749, 30.611388876815656, 54.81424759688524, 46.63290224034246, 44.34767980446472, 84.71943923821445, 45.54488010103079, 198.0202401640637, 62.82802763593503, 80.56761252711524, 1092.5958025393493, 1752.752615435895, 188.7035494848386, 95.03563321482974, 832.5453356601025, 60.976938928147284, 70.92500358106795, 53.54768751392671, 68.9623405165263, 59.89617565711416, 79.96694644729891, 64.5080515911836, 53.87293821783849, 50.606328033865886, 51.73717609062539, 52.17553303249603, 50.08982758309729, 46.10960059094716, 57.843185360234294, 69.8383861788303, 25.61982975875605, 25.100194617624275, 25.10011964777867, 25.100025536695888, 24.93225099774534, 23.7657983601691, 24.49102793470496, 22.97623030217548, 22.252736199810244, 22.977121964807264, 27.77596730369147, 62.4944549506979, 20.71943856155018, 20.876860881394723, 26.03823008667027, 22.581737379494058, 19.583031285927834, 19.582895702164507, 22.356783179789566, 21.566835487258626, 22.917407685230604, 20.843406784120404, 19.80663602841142, 19.44288871794391, 19.436034559931812, 19.43602977462252, 40.320735373053196, 49.83422055827828, 84.39874247385353, 66.88065668874856, 59.90174247314967, 28.157082096689983, 25.982347244735003, 22.819881486715893, 54.00659234562989, 95.82218815759069, 28.75366341616609, 52.82602145053327, 48.21074376637289, 49.18248695408579, 50.99976239198556, 39.451908237223144, 49.48042031072989, 1185.969310978188, 38.68098852954822, 128.21556101297526, 1649.7087089808374, 964.0597930238581, 77.58618475055107, 99.20186707997969, 142.61603693427995, 78.84343225156847, 50.051850044556765, 151.2349404490547, 109.40656467107273, 57.67978299887535, 58.875178782164774, 77.73202821700724, 95.43900611097716, 58.475095023124865, 57.004295119347475, 56.31683120575982, 52.51686175828545, 51.71438453091974, 50.971299372304884, 42.28598584784972, 27.667704019337805, 37.14065397406611, 24.761769257008655, 23.3066471205072, 23.480770007617416, 22.321192620651107, 21.92175135209765, 21.134942907233402, 21.038997528687627, 21.038997528687627, 21.491373020555905, 23.239599716133082, 20.2310948685904, 20.74743767733393, 21.916941863562176, 24.06930551529707, 22.52931586794715, 21.598478352716583, 16.027846280747923, 16.026109417355165, 19.765011028483688, 20.80590710331933, 15.81068798574928, 15.656933599736941, 20.01259334948565, 22.00023481726404, 21.652662520685695, 19.933440137855243, 45.57266867658902, 21.879365169193843, 21.945412617844525, 20.01263252685541, 52.362826973615135, 23.85717684834018, 42.42084554810283, 52.12309878245583, 86.52650455485134, 109.46780964320983, 42.75752093912038, 77.84499343697529, 711.5025852668259, 50.305974018180564, 378.1817919812875, 42.08628573505239, 364.0197623386612, 24.916486286963703, 40.791044578958356, 45.901948872666836, 62.47510682871333, 33.42386705537341, 57.203246975312545, 49.93792688192928, 34.247326862444, 41.47549188458113, 29.17318026951693, 28.282697310729688, 37.267129717190265, 30.489554818213715, 40.63630889311294, 37.41219045829364, 34.54691807459879, 29.37510416444548, 47.266176184577084, 40.217760390815734, 31.51474284499571, 28.688158137766763, 27.148357475674597, 27.568345746279697, 23.727235141364574, 23.667461024991663, 22.80479384293549, 22.780978733029773, 24.833476354544377, 22.358658435458405, 23.10203219056554, 43.38106726566418, 23.585334162416345, 21.96938903471696, 22.41266249302721, 26.391933232366686, 26.71323964928043, 12.953455199089072, 12.940870931639669, 23.527821909094644, 22.205540462194993, 21.31560167420709, 27.17289268891907, 24.1065320340737, 21.21321775078702, 25.667581283915517, 26.776907862939055, 28.1469432397109, 27.085392747585367, 93.30695067118018, 47.46353619912216, 49.56285161616859, 41.46289661310918, 42.98973726152261, 31.88161518548313, 45.230536366864555, 634.91063805889, 403.49232057716245, 63.81451650003598, 72.70309544415845, 44.15606463585546, 39.327073803206815, 46.08875552598982, 26.041377694967867, 124.47821530210383, 30.788644184343365, 38.80076319784432, 37.11391558756007, 33.26290633136532, 38.670180766246226, 32.019387571955846, 28.90526006230656, 43.42985291233243, 39.393508938535014, 37.21736675024806, 27.113994757405802, 22.1776758845922, 40.09195459398941, 21.314893246602846, 20.940815344662273, 21.30724115967189, 22.844171053289557, 62.74098067201742, 17.28869182185123, 17.200310290661807, 17.200310290661807, 17.200310290661807, 21.476643587678566, 22.857340337158355, 42.618979432325865, 22.23063427178663, 21.16564330577351, 19.968984274539896, 20.02179693545493, 20.122116363452275, 19.970050990905055, 21.61872525282453, 21.2660487122757, 20.74821183571334, 20.74821183571334, 20.74821183571334, 71.79520505994223, 42.909070907663526, 28.901382950154453, 43.72219148689834, 44.44184031600451, 100.69399116779789, 68.44108740670272, 27.257030929681793, 79.89821573175327, 55.20374936542643, 28.62344796104381, 22.41730234937586, 51.613642575336925, 451.11278864093055, 257.86141562812276, 22.871110013298257, 22.902983265127226, 99.24810668175697, 25.63554336244599, 27.41829163045875, 27.922868872859084, 27.580554928037934, 29.415971587949127, 24.97183010842226, 25.441890624285428, 23.91703123838993], \"Total\": [130.0, 122.0, 204.0, 112.0, 77.0, 2899.0, 84.0, 65.0, 2803.0, 138.0, 86.0, 103.0, 151.0, 51.0, 44.0, 88.0, 200.0, 44.0, 47.0, 46.0, 49.0, 71.0, 41.0, 40.0, 48.0, 93.0, 61.0, 209.0, 62.0, 114.0, 49.491200167785145, 47.63574945804713, 52.449773717472354, 40.780325282555836, 38.36456041314489, 34.8022204515421, 33.89491652616979, 33.14784268886497, 32.63916158461294, 28.95478833724372, 28.8503889091235, 54.00704504916701, 28.56844382062887, 37.23791566703665, 27.621816959089482, 26.968929910461746, 37.484979636782974, 25.66172648185476, 49.347270955438155, 46.4702500748793, 23.949364386246614, 24.33092461081564, 22.427496130581982, 22.06871086905856, 21.706160439312125, 21.701688771369962, 27.478571061771245, 38.38474214836569, 22.23088598127888, 20.65947858932875, 29.145787297334476, 57.20829252212442, 27.046452943241356, 93.15640640027699, 72.88191765899455, 77.37955387222864, 40.34784332857421, 38.91391047569718, 32.070552443413796, 60.43504067395918, 50.85324344488108, 48.75308401479499, 102.16132098898322, 51.536213695954025, 308.70805740705026, 76.76520299995846, 104.39476532136638, 2803.0149888320952, 5199.9873363833785, 334.2782692454185, 138.5566422041285, 2899.4368658784974, 78.62623283753743, 99.20858815241257, 65.68151502423382, 117.93912490813582, 92.64913782291494, 161.8643494334438, 203.06821254736022, 113.59315110179988, 100.00724137294785, 205.62229096273384, 301.50806057090495, 263.5882156528265, 46.84421707923606, 58.85066114439889, 71.42908101628731, 26.358438475098193, 25.825994407432148, 25.825968236383297, 25.825940972632523, 25.66311899110802, 24.506235780368122, 25.25530525005773, 23.730715401781513, 22.985038953847397, 23.736297016779403, 28.71170547757045, 64.60466413205326, 21.44523382156961, 21.608950910505573, 26.954265891643594, 23.39565327420803, 20.308647330844707, 20.30857418655214, 23.187494604779516, 22.373072856651746, 23.81956294332069, 21.73900808732538, 20.659281190813257, 20.2849259662775, 20.284706156777343, 20.284733718261897, 42.10092062406729, 52.078855449552904, 88.97011329560841, 70.95132550088175, 63.740535283257564, 29.659475426701885, 27.355066086195272, 23.92029108716902, 60.57780899679958, 114.91594863083773, 30.722876228773906, 60.60611840860337, 54.987905757403055, 56.80866313861706, 60.25116214148155, 45.03841075974859, 58.83517364656578, 2899.4368658784974, 44.90098856006667, 200.82758357304635, 5199.9873363833785, 2803.0149888320952, 111.66396955424058, 155.5119790610875, 263.5882156528265, 121.18947055540549, 65.45187498403162, 301.50806057090495, 209.3021685069398, 85.00364925631087, 95.10236589756947, 204.05015060581024, 334.2782692454185, 132.7838630948259, 203.06821254736022, 205.62229096273384, 119.2624027674882, 150.22905158051924, 126.94113022177456, 43.055578235270666, 28.397658021379062, 38.12813899698756, 25.481408853332912, 24.03027371450529, 24.229665799991064, 23.049725001589252, 22.64529789977264, 21.85970646534824, 21.76656257574527, 21.76656257574527, 22.25434065676119, 24.159765147777968, 21.052938372351566, 21.604510943616685, 22.83175243425821, 25.115785510881015, 23.570943179707676, 22.612882686781585, 16.787722532624954, 16.78689401056222, 20.707974755762564, 21.8257105392429, 16.597442245221853, 16.463991467280138, 21.05012372043431, 23.145718559444912, 22.859966795241437, 21.060663726183112, 48.15650558921743, 23.186324478619728, 23.456128626860067, 21.378624694932217, 61.86823576041381, 26.09316099340126, 50.99209230510314, 70.81077369405247, 138.89941778841518, 204.05015060581024, 61.49645912316903, 151.23683262043494, 5199.9873363833785, 85.35547672062602, 2899.4368658784974, 70.25210232382665, 2803.0149888320952, 29.077563042980533, 82.01167918040865, 104.51271148165335, 203.06821254736022, 61.25069789595084, 263.5882156528265, 209.3021685069398, 74.43556935987979, 200.82758357304635, 55.20866670021463, 50.73932025563416, 161.8643494334438, 71.5552877726906, 301.50806057090495, 308.70805740705026, 334.2782692454185, 113.59315110179988, 47.967135415017395, 40.927150877336985, 32.24936449040482, 29.389613566984558, 27.86596512860919, 28.31462524164877, 24.426421568390676, 24.378501299134797, 23.53078471485916, 23.51345656666621, 25.66032687864718, 23.108794733045254, 23.896615818995805, 44.98892567002257, 24.48190942293862, 22.81924372985874, 23.39261185151358, 27.666151880182856, 28.022507484481167, 13.66282354177351, 13.661744743995051, 24.905024283051045, 23.537890365379635, 22.822448950107557, 29.151777537106813, 25.880274217322242, 22.875660937103415, 27.720411577207248, 29.058474632673235, 30.66739225411717, 29.838730918272518, 112.09293764496249, 58.18748720392565, 62.80162561808206, 52.60412360554948, 55.756469010208214, 37.878310936352605, 64.16399197757117, 5199.9873363833785, 2899.4368658784974, 150.22905158051924, 205.62229096273384, 102.36815660845215, 81.94413004711706, 151.4598448254091, 31.744078832875452, 2803.0149888320952, 53.55599489808028, 151.23683262043494, 161.8643494334438, 103.51888430594234, 308.70805740705026, 301.50806057090495, 119.1423605962257, 44.14529794958226, 40.109120270153575, 37.9324894676886, 27.838845238794168, 22.922180646971466, 41.49153557144605, 22.104240438803068, 21.716461142615856, 22.108775904029812, 23.707256556932084, 65.2932746747186, 18.030021809560868, 17.949835578583752, 17.949835578583752, 17.949835578583752, 22.439221233865535, 23.892671123470592, 44.58773261857115, 23.26691838019637, 22.192174997603185, 21.04111588316835, 21.132509741012274, 21.32427302580088, 21.22614241575109, 23.06732032032446, 22.719446721335295, 22.23838127224975, 22.23838127224975, 22.23838127224975, 77.74359448620461, 46.51479366245641, 31.676759848682526, 49.773106650186804, 51.070968699035646, 130.28427403402816, 84.4709169365153, 30.029300525772356, 122.31183316024942, 86.30664490070578, 34.85307297894929, 24.80882337986649, 103.65071926214495, 5199.9873363833785, 2803.0149888320952, 26.254830344817176, 26.34514586270618, 2899.4368658784974, 39.65306425550997, 53.42792491705807, 76.74722995331872, 74.10768842600834, 119.1423605962257, 119.2624027674882, 301.50806057090495, 126.94113022177456], \"Category\": [\"Default\", \"Default\", \"Default\", \"Default\", \"Default\", \"Default\", \"Default\", \"Default\", \"Default\", \"Default\", \"Default\", \"Default\", \"Default\", \"Default\", \"Default\", \"Default\", \"Default\", \"Default\", \"Default\", \"Default\", \"Default\", \"Default\", \"Default\", \"Default\", \"Default\", \"Default\", \"Default\", \"Default\", \"Default\", \"Default\", \"Topic1\", \"Topic1\", \"Topic1\", \"Topic1\", \"Topic1\", \"Topic1\", \"Topic1\", \"Topic1\", \"Topic1\", \"Topic1\", \"Topic1\", \"Topic1\", \"Topic1\", \"Topic1\", \"Topic1\", \"Topic1\", \"Topic1\", \"Topic1\", \"Topic1\", \"Topic1\", \"Topic1\", \"Topic1\", \"Topic1\", \"Topic1\", \"Topic1\", \"Topic1\", \"Topic1\", \"Topic1\", \"Topic1\", \"Topic1\", \"Topic1\", \"Topic1\", \"Topic1\", \"Topic1\", \"Topic1\", \"Topic1\", \"Topic1\", \"Topic1\", \"Topic1\", \"Topic1\", \"Topic1\", \"Topic1\", \"Topic1\", \"Topic1\", \"Topic1\", \"Topic1\", \"Topic1\", \"Topic1\", \"Topic1\", \"Topic1\", \"Topic1\", \"Topic1\", \"Topic1\", \"Topic1\", \"Topic1\", \"Topic1\", \"Topic1\", \"Topic1\", \"Topic1\", \"Topic1\", \"Topic1\", \"Topic1\", \"Topic1\", \"Topic1\", \"Topic2\", \"Topic2\", \"Topic2\", \"Topic2\", \"Topic2\", \"Topic2\", \"Topic2\", \"Topic2\", \"Topic2\", \"Topic2\", \"Topic2\", \"Topic2\", \"Topic2\", \"Topic2\", \"Topic2\", \"Topic2\", \"Topic2\", \"Topic2\", \"Topic2\", \"Topic2\", \"Topic2\", \"Topic2\", \"Topic2\", \"Topic2\", \"Topic2\", \"Topic2\", \"Topic2\", \"Topic2\", \"Topic2\", \"Topic2\", \"Topic2\", \"Topic2\", \"Topic2\", \"Topic2\", \"Topic2\", \"Topic2\", \"Topic2\", \"Topic2\", \"Topic2\", \"Topic2\", \"Topic2\", \"Topic2\", \"Topic2\", \"Topic2\", \"Topic2\", \"Topic2\", \"Topic2\", \"Topic2\", \"Topic2\", \"Topic2\", \"Topic2\", \"Topic2\", \"Topic2\", \"Topic2\", \"Topic2\", \"Topic2\", \"Topic2\", \"Topic2\", \"Topic2\", \"Topic2\", \"Topic2\", \"Topic2\", \"Topic2\", \"Topic2\", \"Topic2\", \"Topic2\", \"Topic2\", \"Topic2\", \"Topic3\", \"Topic3\", \"Topic3\", \"Topic3\", \"Topic3\", \"Topic3\", \"Topic3\", \"Topic3\", \"Topic3\", \"Topic3\", \"Topic3\", \"Topic3\", \"Topic3\", \"Topic3\", \"Topic3\", \"Topic3\", \"Topic3\", \"Topic3\", \"Topic3\", \"Topic3\", \"Topic3\", \"Topic3\", \"Topic3\", \"Topic3\", \"Topic3\", \"Topic3\", \"Topic3\", \"Topic3\", \"Topic3\", \"Topic3\", \"Topic3\", \"Topic3\", \"Topic3\", \"Topic3\", \"Topic3\", \"Topic3\", \"Topic3\", \"Topic3\", \"Topic3\", \"Topic3\", \"Topic3\", \"Topic3\", \"Topic3\", \"Topic3\", \"Topic3\", \"Topic3\", \"Topic3\", \"Topic3\", \"Topic3\", \"Topic3\", \"Topic3\", \"Topic3\", \"Topic3\", \"Topic3\", \"Topic3\", \"Topic3\", \"Topic3\", \"Topic3\", \"Topic3\", \"Topic3\", \"Topic3\", \"Topic3\", \"Topic3\", \"Topic4\", \"Topic4\", \"Topic4\", \"Topic4\", \"Topic4\", \"Topic4\", \"Topic4\", \"Topic4\", \"Topic4\", \"Topic4\", \"Topic4\", \"Topic4\", \"Topic4\", \"Topic4\", \"Topic4\", \"Topic4\", \"Topic4\", \"Topic4\", \"Topic4\", \"Topic4\", \"Topic4\", \"Topic4\", \"Topic4\", \"Topic4\", \"Topic4\", \"Topic4\", \"Topic4\", \"Topic4\", \"Topic4\", \"Topic4\", \"Topic4\", \"Topic4\", \"Topic4\", \"Topic4\", \"Topic4\", \"Topic4\", \"Topic4\", \"Topic4\", \"Topic4\", \"Topic4\", \"Topic4\", \"Topic4\", \"Topic4\", \"Topic4\", \"Topic4\", \"Topic4\", \"Topic4\", \"Topic4\", \"Topic4\", \"Topic4\", \"Topic4\", \"Topic4\", \"Topic4\", \"Topic4\", \"Topic5\", \"Topic5\", \"Topic5\", \"Topic5\", \"Topic5\", \"Topic5\", \"Topic5\", \"Topic5\", \"Topic5\", \"Topic5\", \"Topic5\", \"Topic5\", \"Topic5\", \"Topic5\", \"Topic5\", \"Topic5\", \"Topic5\", \"Topic5\", \"Topic5\", \"Topic5\", \"Topic5\", \"Topic5\", \"Topic5\", \"Topic5\", \"Topic5\", \"Topic5\", \"Topic5\", \"Topic5\", \"Topic5\", \"Topic5\", \"Topic5\", \"Topic5\", \"Topic5\", \"Topic5\", \"Topic5\", \"Topic5\", \"Topic5\", \"Topic5\", \"Topic5\", \"Topic5\", \"Topic5\", \"Topic5\", \"Topic5\", \"Topic5\", \"Topic5\", \"Topic5\", \"Topic5\", \"Topic5\", \"Topic5\", \"Topic5\", \"Topic5\", \"Topic5\", \"Topic5\", \"Topic5\", \"Topic5\"], \"logprob\": [30.0, 29.0, 28.0, 27.0, 26.0, 25.0, 24.0, 23.0, 22.0, 21.0, 20.0, 19.0, 18.0, 17.0, 16.0, 15.0, 14.0, 13.0, 12.0, 11.0, 10.0, 9.0, 8.0, 7.0, 6.0, 5.0, 4.0, 3.0, 2.0, 1.0, -5.7348, -5.7736, -5.6805, -5.9323, -5.9939, -6.0933, -6.1202, -6.143, -6.1588, -6.2815, -6.2853, -5.6585, -6.2953, -6.0304, -6.3302, -6.3547, -6.0259, -6.4058, -5.7532, -5.8136, -6.4772, -6.463, -6.5451, -6.5615, -6.5788, -6.5796, -6.3438, -6.0097, -6.5559, -6.6296, -6.286, -5.6185, -6.3614, -5.1506, -5.3975, -5.3421, -5.9766, -6.0146, -6.2004, -5.6179, -5.7795, -5.8297, -5.1825, -5.8031, -4.3334, -5.4814, -5.2327, -2.6255, -2.1529, -4.3816, -5.0676, -2.8973, -5.5113, -5.3602, -5.6412, -5.3882, -5.5292, -5.2402, -5.455, -5.6352, -5.6977, -5.6756, -5.6672, -5.708, -5.6943, -5.4675, -5.2791, -6.2819, -6.3024, -6.3024, -6.3024, -6.3091, -6.357, -6.327, -6.3908, -6.4228, -6.3908, -6.2011, -5.3902, -6.4942, -6.4866, -6.2657, -6.4081, -6.5506, -6.5506, -6.4182, -6.4541, -6.3934, -6.4882, -6.5393, -6.5578, -6.5582, -6.5582, -5.8284, -5.6166, -5.0897, -5.3224, -5.4326, -6.1875, -6.2679, -6.3977, -5.5362, -4.9628, -6.1665, -5.5583, -5.6497, -5.6297, -5.5935, -5.8502, -5.6237, -2.447, -5.8699, -4.6716, -2.1169, -2.6541, -5.1739, -4.9281, -4.5651, -5.1578, -5.6122, -4.5065, -4.8302, -5.4704, -5.4499, -5.172, -4.9668, -5.4567, -5.4822, -5.4943, -5.5642, -5.5795, -5.594, -5.2443, -5.6685, -5.3741, -5.7795, -5.84, -5.8326, -5.8832, -5.9013, -5.9378, -5.9424, -5.9424, -5.9211, -5.8429, -5.9816, -5.9564, -5.9015, -5.8078, -5.874, -5.9162, -6.2144, -6.2146, -6.0049, -5.9535, -6.2281, -6.2379, -5.9924, -5.8977, -5.9136, -5.9964, -5.1695, -5.9032, -5.9002, -5.9924, -5.0306, -5.8167, -5.2411, -5.0352, -4.5283, -4.2931, -5.2332, -4.6341, -2.4214, -5.0707, -3.0534, -5.2491, -3.0916, -5.7732, -5.2803, -5.1623, -4.854, -5.4795, -4.9422, -5.078, -5.4552, -5.2637, -5.6155, -5.6465, -5.3707, -5.5714, -5.2841, -5.3668, -5.4465, -5.6086, -5.1227, -5.2841, -5.528, -5.622, -5.6771, -5.6618, -5.8118, -5.8143, -5.8515, -5.8525, -5.7663, -5.8712, -5.8385, -5.2084, -5.8178, -5.8888, -5.8688, -5.7054, -5.6933, -6.4171, -6.4181, -5.8203, -5.8781, -5.919, -5.6762, -5.796, -5.9238, -5.7332, -5.6909, -5.641, -5.6795, -4.4426, -5.1185, -5.0752, -5.2536, -5.2175, -5.5164, -5.1667, -2.525, -2.9783, -4.8225, -4.6921, -5.1907, -5.3065, -5.1479, -5.7188, -4.1543, -5.5513, -5.32, -5.3645, -5.474, -5.3234, -5.5121, -5.6144, -4.9706, -5.0682, -5.125, -5.4417, -5.6427, -5.0506, -5.6824, -5.7001, -5.6827, -5.6131, -4.6027, -5.8917, -5.8968, -5.8968, -5.8968, -5.6748, -5.6125, -4.9895, -5.6403, -5.6894, -5.7476, -5.7449, -5.7399, -5.7475, -5.6682, -5.6846, -5.7093, -5.7093, -5.7093, -4.4679, -4.9827, -5.3779, -4.9639, -4.9476, -4.1297, -4.5158, -5.4364, -4.361, -4.7307, -5.3875, -5.6319, -4.798, -2.63, -3.1893, -5.6119, -5.6105, -4.1441, -5.4978, -5.4305, -5.4123, -5.4246, -5.3602, -5.524, -5.5054, -5.5672], \"loglift\": [30.0, 29.0, 28.0, 27.0, 26.0, 25.0, 24.0, 23.0, 22.0, 21.0, 20.0, 19.0, 18.0, 17.0, 16.0, 15.0, 14.0, 13.0, 12.0, 11.0, 10.0, 9.0, 8.0, 7.0, 6.0, 5.0, 4.0, 3.0, 2.0, 1.0, 1.2028, 1.2022, 1.1991, 1.1989, 1.1985, 1.1965, 1.196, 1.1955, 1.1951, 1.1922, 1.1921, 1.1919, 1.1919, 1.1917, 1.1906, 1.1901, 1.1897, 1.1887, 1.1874, 1.1871, 1.1863, 1.1847, 1.1841, 1.1838, 1.1831, 1.1825, 1.1823, 1.1821, 1.182, 1.1817, 1.1811, 1.1743, 1.1805, 1.1546, 1.1531, 1.1487, 1.1653, 1.1636, 1.1711, 1.12, 1.131, 1.1229, 1.0304, 1.0941, 0.7736, 1.0173, 0.9586, 0.2755, 0.1302, 0.6459, 0.8406, -0.0301, 0.9634, 0.8821, 1.0134, 0.681, 0.7814, 0.5125, 0.0709, 0.4717, 0.5365, -0.1622, -0.5365, -0.4429, 1.2984, 1.2969, 1.2917, 1.2858, 1.2857, 1.2857, 1.2857, 1.2853, 1.2835, 1.2834, 1.2819, 1.2818, 1.2817, 1.281, 1.281, 1.2797, 1.2797, 1.2796, 1.2788, 1.2778, 1.2778, 1.2777, 1.2775, 1.2756, 1.2721, 1.272, 1.2718, 1.2714, 1.2714, 1.271, 1.2701, 1.2614, 1.2551, 1.2521, 1.2622, 1.2627, 1.2671, 1.1994, 1.1325, 1.2479, 1.1768, 1.1826, 1.17, 1.1475, 1.1817, 1.141, 0.4202, 1.1651, 0.8654, 0.1661, 0.2469, 0.9501, 0.8646, 0.6999, 0.8843, 1.0459, 0.6242, 0.6655, 0.9264, 0.8346, 0.3491, 0.0607, 0.4941, 0.0438, 0.0191, 0.494, 0.2478, 0.4017, 1.8327, 1.8246, 1.8244, 1.822, 1.8201, 1.8193, 1.8186, 1.8182, 1.817, 1.8167, 1.8167, 1.8158, 1.8119, 1.8109, 1.8102, 1.8098, 1.8081, 1.8055, 1.8048, 1.8044, 1.8043, 1.8041, 1.8028, 1.8021, 1.8004, 1.8001, 1.7999, 1.7964, 1.7957, 1.7955, 1.7927, 1.7841, 1.7847, 1.6839, 1.7611, 1.6667, 1.5443, 1.3774, 1.228, 1.4873, 1.1866, -0.1383, 1.322, -0.1862, 1.3383, -0.1906, 1.6962, 1.1523, 1.0279, 0.6719, 1.245, 0.3229, 0.4177, 1.0744, 0.2733, 1.2128, 1.2662, 0.382, 0.9976, -0.1534, -0.2597, -0.419, 0.4982, 1.8463, 1.8435, 1.838, 1.8369, 1.8349, 1.8343, 1.832, 1.8314, 1.8297, 1.8294, 1.8283, 1.828, 1.8272, 1.8246, 1.8237, 1.8231, 1.8182, 1.8139, 1.8132, 1.8077, 1.8068, 1.8041, 1.8027, 1.7927, 1.7907, 1.79, 1.7856, 1.7841, 1.7792, 1.7753, 1.7642, 1.6776, 1.6573, 1.6243, 1.623, 1.601, 1.6887, 1.5113, -0.2419, -0.1111, 1.0048, 0.8214, 1.0202, 1.1269, 0.6713, 1.663, -1.2533, 1.3074, 0.5006, 0.3882, 0.7257, -0.2163, -0.3814, 0.4447, 2.0814, 2.0797, 2.0787, 2.0713, 2.0647, 2.0634, 2.0613, 2.0613, 2.0608, 2.0606, 2.0578, 2.0557, 2.0551, 2.0551, 2.0551, 2.0539, 2.0534, 2.0525, 2.0521, 2.0503, 2.0454, 2.0437, 2.0397, 2.0367, 2.0328, 2.0316, 2.0283, 2.0283, 2.0283, 2.0181, 2.017, 2.006, 1.9681, 1.9587, 1.8401, 1.8873, 2.0008, 1.6719, 1.6508, 1.9008, 1.9963, 1.4005, -0.347, -0.2883, 1.9597, 1.9577, -1.2769, 1.6615, 1.4306, 1.0866, 1.1093, 0.6989, 0.5341, -0.3747, 0.4286]}, \"token.table\": {\"Topic\": [1, 1, 3, 5, 3, 5, 3, 5, 3, 1, 4, 1, 4, 1, 2, 3, 4, 5, 1, 2, 3, 5, 3, 4, 1, 4, 1, 4, 5, 1, 2, 3, 4, 3, 3, 1, 2, 3, 4, 5, 2, 1, 2, 1, 2, 3, 4, 5, 4, 1, 2, 3, 5, 1, 2, 4, 5, 1, 2, 3, 4, 5, 2, 2, 1, 4, 5, 5, 1, 3, 4, 1, 2, 3, 5, 3, 1, 4, 5, 3, 5, 3, 1, 3, 4, 5, 2, 1, 2, 3, 4, 5, 2, 1, 2, 3, 4, 5, 1, 3, 5, 2, 1, 4, 5, 1, 1, 1, 2, 5, 2, 1, 2, 3, 4, 5, 1, 3, 1, 1, 2, 1, 3, 5, 4, 1, 2, 3, 4, 5, 1, 1, 3, 4, 5, 5, 1, 2, 5, 3, 1, 2, 3, 4, 5, 3, 1, 1, 3, 5, 5, 1, 5, 1, 4, 3, 4, 3, 4, 2, 1, 2, 3, 2, 1, 2, 3, 4, 5, 1, 1, 2, 3, 5, 1, 2, 3, 4, 5, 1, 5, 5, 1, 2, 3, 4, 4, 5, 1, 2, 3, 4, 5, 1, 2, 3, 4, 5, 3, 1, 2, 3, 4, 5, 3, 1, 3, 5, 1, 3, 4, 5, 2, 5, 1, 2, 3, 4, 5, 4, 5, 1, 2, 4, 4, 2, 1, 1, 2, 3, 4, 1, 5, 3, 4, 5, 1, 2, 3, 4, 5, 1, 5, 1, 2, 3, 4, 5, 3, 4, 5, 3, 5, 2, 3, 4, 1, 2, 3, 4, 5, 1, 2, 3, 4, 4, 5, 4, 2, 2, 1, 2, 3, 5, 3, 1, 2, 3, 4, 5, 1, 2, 3, 4, 5, 4, 5, 4, 5, 1, 2, 3, 4, 5, 1, 2, 4, 1, 3, 4, 5, 3, 2, 1, 2, 3, 4, 5, 3, 5, 4, 3, 1, 2, 3, 4, 5, 1, 2, 3, 4, 5, 1, 2, 3, 5, 1, 2, 3, 4, 1, 2, 3, 4, 5, 1, 2, 3, 4, 5, 2, 3, 4, 1, 2, 4, 5, 5, 1, 2, 3, 4, 5, 1, 4, 2, 4, 1, 2, 5, 1, 2, 3, 2, 4, 3, 5, 2, 5, 1, 2, 3, 1, 2, 3, 4, 5, 2, 1, 2, 3, 4, 5, 3, 5, 1, 2, 3, 4, 1, 2, 3, 5, 1, 2, 4, 1, 2, 3, 4, 1, 3, 2, 5, 1, 2, 4, 5, 5, 1, 1, 1, 2, 3, 4, 5, 3, 1, 2, 3, 2, 3, 4, 2, 1, 2, 4, 5, 4, 4, 4, 2, 4, 1, 2, 3, 4, 5, 1, 2, 3, 4, 1, 2, 3, 4, 5, 1, 1, 4, 4, 3, 5, 1, 2, 3, 4, 5, 1, 2, 4, 1, 1, 5, 4, 1, 1, 1, 2, 3, 4, 5, 1, 2, 3, 4, 5, 4, 1, 2, 3, 4, 5, 1, 2, 3, 4, 5, 1, 2, 1, 2, 3, 4, 5, 3, 2, 2, 1, 2, 1, 1, 2, 3, 4, 5, 1, 2, 3, 5, 1, 3, 2, 5, 1, 2, 3, 4, 5, 1, 5, 1, 2, 3, 4, 5, 2, 1, 2, 3, 4, 5, 3, 2, 3, 1, 2, 3, 4, 3, 2, 1, 2, 2, 1, 1, 2, 3, 4, 5, 1, 2, 4, 1, 3, 2, 1, 2, 3, 4, 5, 1, 2, 3, 4, 5, 1, 2, 3, 5, 4, 3, 1, 5, 1, 3, 5, 1, 3, 4, 5, 1, 2, 3, 4, 5, 3, 4, 2, 1, 2, 3, 4, 3, 1, 2, 3, 4, 5, 1, 2, 2, 3, 5, 1, 2, 3, 4, 5, 1, 2, 3, 4, 1, 1, 2, 4, 5, 1, 2, 3, 4, 1, 2, 5, 2, 2, 1, 5, 1, 2, 5, 1, 4, 5, 1, 2, 3, 4, 5], \"Freq\": [0.9603846753773929, 0.9639246723864042, 0.02605201817260552, 0.9470838841712279, 0.04496730170049984, 0.9443133357104967, 0.04496730170049984, 0.9443133357104967, 0.9728967467230595, 0.4107850118715392, 0.578833425818987, 0.9100680563238028, 0.08273345966580026, 0.2733896234295942, 0.6203841454748484, 0.04205994206609142, 0.06308991309913713, 0.010514985516522855, 0.008175823828016942, 0.3270329531206777, 0.008175823828016942, 0.6540659062413554, 0.043816507255032645, 0.9201466523556856, 0.9726981669025877, 0.02026454514380391, 0.03607450045302492, 0.9379370117786479, 0.03607450045302492, 0.053527011835518994, 0.035684674557012665, 0.0802905177532785, 0.8296686834505445, 0.9635703638319854, 0.9715041108035448, 0.5850475832659002, 0.2034948115707479, 0.05935265337480147, 0.06783160385691597, 0.07631055433903046, 0.9718195060450843, 0.9613990835110069, 0.03495996667312752, 0.023676788089125562, 0.09470715235650225, 0.047353576178251124, 0.023676788089125562, 0.8050107950302691, 0.9774429658300354, 0.47538077319121375, 0.246493734247296, 0.25529708189898515, 0.02641004295506743, 0.775900973105802, 0.09579024359330889, 0.0766321948746471, 0.04789512179665444, 0.18334081342860928, 0.7639200559525386, 0.015278401119050773, 0.015278401119050773, 0.030556802238101546, 0.9660054366622068, 0.9855454275643282, 0.06431398024550095, 0.01286279604910019, 0.9261213155352137, 0.9670083841970969, 0.9813534503091177, 0.01851610283602109, 0.9773463127175465, 0.30262478386730346, 0.025218731988941954, 0.025218731988941954, 0.6556870317124908, 0.985996802233491, 0.9667565800914989, 0.9636609756824468, 0.040152540653435286, 0.9355138735720909, 0.04677569367860455, 0.9530774629438801, 0.0401823421241578, 0.0602735131862367, 0.0200911710620789, 0.8840115267314717, 0.9680878930528123, 0.2245557240771809, 0.520778168604526, 0.23888906816721373, 0.004777781363344275, 0.00955556272668855, 0.9571443426384747, 0.03907465106849189, 0.4102838362191648, 0.03907465106849189, 0.4298211617534108, 0.08791796490410675, 0.9735973232009929, 0.9531245023607636, 0.9464091224898673, 0.9655928639299192, 0.042484691043970346, 0.9346632029673475, 0.9358613554870859, 0.9904974692992967, 0.9900749998763442, 0.022427693476915932, 0.022427693476915932, 0.9643908195073851, 0.950295383974626, 0.1817960679676304, 0.3444557077281418, 0.4401378487637368, 0.01913642820711899, 0.01913642820711899, 0.9418099423690517, 0.02478447216760662, 0.9809387491098905, 0.9666188337322, 0.03118125270103871, 0.24391648257271273, 0.6992272500417764, 0.048783296514542544, 0.9798375407109551, 0.49424101279877447, 0.030890063299923404, 0.22858646841943317, 0.22858646841943317, 0.012356025319969361, 0.9606877218431061, 0.9769491589578575, 0.9640039569715119, 0.9397765223223432, 0.03614525085855166, 0.9462794882551195, 0.9801023876484863, 0.047525996508575905, 0.9505199301715181, 0.9757776693382723, 0.13444368308190782, 0.637362645721637, 0.20415522245771187, 0.004979395669700289, 0.009958791339400579, 0.9496376875879524, 0.9863990121169282, 0.9674672800246517, 0.024101301295008887, 0.9640520518003555, 0.9626382869099265, 0.08061647944267654, 0.8867812738694419, 0.9515734799644802, 0.9888882427733503, 0.9379211868239575, 0.0426327812192708, 0.9811074475471969, 0.9624793809388243, 0.9680179179025055, 0.06878155494130413, 0.06878155494130413, 0.8597694367663016, 0.9833249165618827, 0.04900756000576681, 0.3822589680449811, 0.5341824040628582, 0.014702268001730042, 0.024503780002883405, 0.9676666282167097, 0.13815942202892953, 0.06907971101446476, 0.01535104689210328, 0.7752278680512157, 0.8206843405342664, 0.0521069422561439, 0.02605347112807195, 0.0521069422561439, 0.06513367782017987, 0.9804173405938753, 0.9378983272161915, 0.9428718489394908, 0.054339294522183, 0.09056549087030501, 0.5252798470477691, 0.34414886530715905, 0.9180062625398873, 0.04371458393047082, 0.1430896763896031, 0.4368000647682621, 0.06777932039507516, 0.19580692558577265, 0.15062071198905588, 0.24420768860211775, 0.40176103608735503, 0.08665434111688049, 0.07089900636835676, 0.1890640169822847, 0.970411905047957, 0.12577686821119724, 0.2655289440014164, 0.4192562273706575, 0.15372728336924107, 0.027950415158043834, 0.9647825616434513, 0.028691874619032425, 0.14345937309516213, 0.8320643639519403, 0.032326766319069555, 0.8404959242958085, 0.06465353263813911, 0.04849014947860434, 0.04711171631723054, 0.9422343263446108, 0.056937797840725446, 0.31315788812399, 0.5978468773276172, 0.014234449460181361, 0.028468898920362723, 0.06449561018737565, 0.9244370793523843, 0.03655629991347927, 0.9504637977504611, 0.9922676153671488, 0.951487074414234, 0.964596850996434, 0.9613090505643235, 0.9339132257439818, 0.010734634778666458, 0.010734634778666458, 0.04293853911466583, 0.043351372682803854, 0.9537301990216848, 0.962381100421351, 0.04374459547369777, 0.9723474296448505, 0.1322429176376286, 0.05950931293693287, 0.5157473787867516, 0.2578736893933758, 0.03967287529128858, 0.9670248552286738, 0.9698678148608975, 0.25289086974244573, 0.27234401356878774, 0.11185557700146638, 0.3550198748307411, 0.004863285956585495, 0.06521584826735619, 0.9130218757429867, 0.03260792413367809, 0.04496730170049984, 0.9443133357104967, 0.03430322554866909, 0.03430322554866909, 0.9261870898140653, 0.33711620559815086, 0.31730846505245236, 0.13692341037414912, 0.12211568200503468, 0.0867309804476703, 0.06603078035079357, 0.8914155347357132, 0.016507695087698393, 0.016507695087698393, 0.1138729698303458, 0.8730261020326511, 0.9640985591127733, 0.9819782006857307, 0.9487872827565103, 0.2896648343677598, 0.023173186749420784, 0.04634637349884157, 0.6372626356090716, 0.9658114922336599, 0.12193385259192265, 0.2682544757022298, 0.49992879562688286, 0.08535369681434586, 0.024386770518384532, 0.22279163260851215, 0.6518718139286096, 0.016503083896926826, 0.08251541948463413, 0.03300616779385365, 0.9048642207321844, 0.06702697931349515, 0.9635112066595957, 0.03568560024665169, 0.6413826761214885, 0.048589596675870345, 0.11985433846714684, 0.12633295135726288, 0.06478612890116045, 0.015478758591732316, 0.9596830326874036, 0.015478758591732316, 0.15534359287651606, 0.7343515299617123, 0.014122144806956005, 0.09885501364869204, 0.9519960090388282, 0.9366662673421026, 0.1056385606260427, 0.31691568187812813, 0.1254457907434257, 0.3037108617998728, 0.15845784093906407, 0.9621679881734773, 0.9470838841712279, 0.9803156929219299, 0.950499762774598, 0.822149123388463, 0.01522498376645302, 0.03044996753290604, 0.04567495129935906, 0.09134990259871811, 0.5653972076217765, 0.28419436361941147, 0.10470318659662528, 0.026923676553417927, 0.017949117702278618, 0.015688603736320764, 0.9413162241792458, 0.03137720747264153, 0.015688603736320764, 0.25621155219469977, 0.09854290469026915, 0.5518402662655072, 0.09854290469026915, 0.32733949373532456, 0.0923265238740659, 0.0923265238740659, 0.24340629021344645, 0.24340629021344645, 0.06681367373430376, 0.8685777585459488, 0.02227122457810125, 0.02227122457810125, 0.02227122457810125, 0.9439220398524952, 0.03254903585698259, 0.03254903585698259, 0.015585065223958552, 0.2649461088072954, 0.7013279350781348, 0.015585065223958552, 0.9754171297277258, 0.509963071672084, 0.049996379575694506, 0.21998407013305582, 0.1499891387270835, 0.06999493140597231, 0.0688267373040706, 0.929160953604953, 0.9830885989986777, 0.9781632885318056, 0.9242281674902891, 0.039328858191076135, 0.039328858191076135, 0.0392217677210285, 0.11766530316308549, 0.8236571221415985, 0.03863946693929069, 0.9273472065429765, 0.960671637255924, 0.9470838841712279, 0.9500979885255458, 0.023752449713138644, 0.06599993705309096, 0.8744991659534552, 0.049499952789818225, 0.3670827816081734, 0.2704820496060225, 0.00966007320021509, 0.31878241560709797, 0.03864029280086036, 0.9366649946651614, 0.18968981551836628, 0.5425128723825275, 0.21624638969093754, 0.030350370482938604, 0.018968981551836628, 0.06313777070489053, 0.9154976752209126, 0.02247945884203702, 0.9441372713655548, 0.02247945884203702, 0.01123972942101851, 0.9025070083083855, 0.06153456874829901, 0.02051152291609967, 0.02051152291609967, 0.026400332413985206, 0.13200166206992603, 0.8448106372475266, 0.8320174325972758, 0.039153761533989445, 0.048942201917486806, 0.07830752306797889, 0.04312887111202584, 0.9488351644645685, 0.044015156366502696, 0.9243182836965566, 0.17935138608166062, 0.017935138608166062, 0.7712109601511408, 0.017935138608166062, 0.9701670855405123, 0.9603595163973618, 0.9640723635057585, 0.17246636757086395, 0.5008157981384703, 0.13598309750779655, 0.10613314927437781, 0.08291652287060766, 0.9555743335044162, 0.2865740858733851, 0.6985243343163762, 0.01791088036708657, 0.8328351386256194, 0.08498317741077749, 0.067986541928622, 0.9864013767190032, 0.06300387579458501, 0.06300387579458501, 0.8190503853296051, 0.06300387579458501, 0.9742666224880924, 0.9844739717798718, 0.9404678767658229, 0.02222769237333287, 0.9557907720533134, 0.01659719023596265, 0.8464567020340951, 0.0995831414157759, 0.0331943804719253, 0.01659719023596265, 0.026106036940419505, 0.8353931820934242, 0.03480804925389267, 0.10442414776167802, 0.14117040979989565, 0.6823236473661624, 0.05882100408328986, 0.11764200816657971, 0.011764200816657971, 0.9825838446731663, 0.9508168042661128, 0.051395502933303396, 0.9520184957348861, 0.9718178020073531, 0.9455485097126267, 0.685640172053544, 0.02165179490695402, 0.15877982931766282, 0.1082589745347701, 0.028869059875938692, 0.8925762430159152, 0.05821149410973361, 0.038807662739822404, 0.9653720243685556, 0.9680786431043139, 0.9597690699164215, 0.9515622084590684, 0.9723588184520728, 0.9774881949290138, 0.7758224933152033, 0.050873606119029725, 0.012718401529757431, 0.038155204589272296, 0.11446561376781687, 0.38993726553542607, 0.3439153924758927, 0.1298601689431794, 0.04423807953009408, 0.09204374611906671, 0.9689239140071941, 0.3200894870970536, 0.2806938579158778, 0.3053161261541127, 0.08371571200999864, 0.009848907295293958, 0.2872971678752557, 0.40904494729898355, 0.13037014340557823, 0.13899250738742863, 0.03414456136812763, 0.10911490294740342, 0.8729192235792274, 0.7156638484858169, 0.1108774976527322, 0.07055840759719322, 0.06047863508330847, 0.050398862569423726, 0.9754833571273246, 0.9741606236039437, 0.9792385653020116, 0.013999900121520243, 0.979993008506417, 0.9446317172282096, 0.20123693169917062, 0.4443982241690018, 0.0838487215413211, 0.06707897723305688, 0.20962180385330273, 0.4304864925168885, 0.018716804022473412, 0.037433608044946824, 0.5053537086067822, 0.980865153057285, 0.9492495765256689, 0.9793425728494106, 0.9498490595389447, 0.05759563378578276, 0.1943852640270168, 0.6263525174203876, 0.11519126757156552, 0.01439890844644569, 0.968361477020024, 0.02151914393377831, 0.10650403388471355, 0.34613811012531903, 0.026626008471178388, 0.4260161355388542, 0.09319102964912435, 0.9752120096757598, 0.9866539423588363, 0.08592912738226428, 0.017185825476452858, 0.8077337973932842, 0.06874330190581143, 0.9436361348059035, 0.9692080331582984, 0.9501131805978457, 0.07603966620552194, 0.03801983310276097, 0.09504958275690242, 0.7794065786065999, 0.9647825616434513, 0.9848021719114727, 0.038403301738021776, 0.9600825434505444, 0.9615267605308253, 0.9705241786583134, 0.21088277743342893, 0.0702942591444763, 0.5857854928706359, 0.11715709857412718, 0.011715709857412718, 0.0666098103683787, 0.865927534788923, 0.044406540245585796, 0.04153125264238055, 0.9552188107747526, 0.9848057188201588, 0.2159020250101978, 0.1889142718839231, 0.17542039532078574, 0.040481629689412095, 0.3778285437678462, 0.016326344586289326, 0.048979033758867974, 0.5387693713475478, 0.14693710127660392, 0.2612215133806292, 0.038324218374802946, 0.038324218374802946, 0.9197812409952707, 0.038324218374802946, 0.982542609968605, 0.9499861561493776, 0.11426468808213852, 0.8760292752963953, 0.033300808959627934, 0.033300808959627934, 0.8991218419099543, 0.9330160646727705, 0.01372082448048192, 0.04116247344144576, 0.9740561735274663, 0.14644123981913187, 0.2684756063350751, 0.10983092986434892, 0.47593402941217866, 0.012203436651594323, 0.9544582418438018, 0.9867431544788245, 0.9680169369511501, 0.37616424836661205, 0.05373774976665886, 0.45677087301660035, 0.10747549953331773, 0.9571260100177972, 0.014094169389232516, 0.9443093490785786, 0.014094169389232516, 0.028188338778465032, 0.014094169389232516, 0.03371603798156586, 0.944049063483844, 0.968980122878522, 0.9720192257443673, 0.950043954604085, 0.40392337311529886, 0.10423828983620616, 0.02605957245905154, 0.0912085036066804, 0.3648340144267216, 0.6476045153780178, 0.22666158038230622, 0.06476045153780177, 0.05396704294816814, 0.9742134855064151, 0.43415038815302065, 0.009647786403400459, 0.05788671842040275, 0.5016848929768238, 0.03520589800044866, 0.8625445010109923, 0.07041179600089732, 0.01760294900022433, 0.09790297946892895, 0.01958059589378579, 0.8615462193265748, 0.9366561175321215, 0.9680189398129669, 0.030631026089037547, 0.9648773218046827, 0.9304783550301735, 0.012923310486530188, 0.05169324194612075, 0.07961577348979296, 0.7961577348979295, 0.12738523758366874, 0.1607593199632526, 0.6366069070544802, 0.1607593199632526, 0.03215186399265052, 0.012860745597060207], \"Term\": [\"000\", \"100\", \"100\", \"31st\", \"535\", \"535\", \"7252\", \"7252\", \"800\", \"account\", \"account\", \"actually\", \"actually\", \"affected\", \"affected\", \"affected\", \"affected\", \"affected\", \"ain\", \"ain\", \"ain\", \"ain\", \"alot\", \"alot\", \"america\", \"america\", \"apartment\", \"apartment\", \"apartment\", \"away\", \"away\", \"away\", \"away\", \"awful\", \"babies\", \"bad\", \"bad\", \"bad\", \"bad\", \"bad\", \"beautiful\", \"best\", \"best\", \"better\", \"better\", \"better\", \"better\", \"better\", \"beverages\", \"big\", \"big\", \"big\", \"big\", \"bitch\", \"bitch\", \"bitch\", \"bitch\", \"black\", \"black\", \"black\", \"black\", \"black\", \"blackout\", \"blowin\", \"bout\", \"bout\", \"bout\", \"broken\", \"brought\", \"brought\", \"called\", \"cancelled\", \"cancelled\", \"cancelled\", \"cancelled\", \"cancels\", \"category\", \"cell\", \"cell\", \"changes\", \"changes\", \"clair\", \"classes\", \"classes\", \"classes\", \"classes\", \"classy\", \"coast\", \"coast\", \"coast\", \"coast\", \"coast\", \"coasters\", \"come\", \"come\", \"come\", \"come\", \"come\", \"communities\", \"coning\", \"constant\", \"continue\", \"creeping\", \"creeping\", \"cunt\", \"damaged\", \"dance\", \"dat\", \"dat\", \"dat\", \"data\", \"day\", \"day\", \"day\", \"day\", \"day\", \"dealing\", \"dealing\", \"destroying\", \"dis\", \"dis\", \"disaster\", \"disaster\", \"disaster\", \"dolphin\", \"don\", \"don\", \"don\", \"don\", \"don\", \"donate\", \"donating\", \"drag\", \"drinking\", \"drinking\", \"du\", \"dyin\", \"earlier\", \"earlier\", \"early\", \"east\", \"east\", \"east\", \"east\", \"east\", \"economic\", \"effect\", \"errythang\", \"european\", \"european\", \"evening\", \"expecting\", \"expecting\", \"extending\", \"favorite\", \"feels\", \"feels\", \"felt\", \"fighting\", \"flow\", \"follow\", \"follow\", \"follow\", \"fox\", \"frankenstorm\", \"frankenstorm\", \"frankenstorm\", \"frankenstorm\", \"frankenstorm\", \"freaking\", \"fuck\", \"fuck\", \"fuck\", \"fuck\", \"funny\", \"funny\", \"funny\", \"funny\", \"funny\", \"gangnam\", \"garbage\", \"gassing\", \"gets\", \"gets\", \"gets\", \"gets\", \"glass\", \"glass\", \"going\", \"going\", \"going\", \"going\", \"going\", \"gonna\", \"gonna\", \"gonna\", \"gonna\", \"gonna\", \"google\", \"got\", \"got\", \"got\", \"got\", \"got\", \"grows\", \"guy\", \"guy\", \"guy\", \"guys\", \"guys\", \"guys\", \"guys\", \"hangout\", \"hangout\", \"hard\", \"hard\", \"hard\", \"hard\", \"hard\", \"hate\", \"hate\", \"heading\", \"heading\", \"heads\", \"heard\", \"heavy\", \"hell\", \"help\", \"help\", \"help\", \"help\", \"helping\", \"helping\", \"hi\", \"hi\", \"highschool\", \"hit\", \"hit\", \"hit\", \"hit\", \"hit\", \"hoe\", \"homeless\", \"hope\", \"hope\", \"hope\", \"hope\", \"hope\", \"hoping\", \"hoping\", \"hoping\", \"hotline\", \"hotline\", \"hours\", \"hours\", \"hours\", \"hurricane\", \"hurricane\", \"hurricane\", \"hurricane\", \"hurricane\", \"hurricanes\", \"hurricanes\", \"hurricanes\", \"hurricanes\", \"idea\", \"idea\", \"ihop\", \"incredible\", \"intentions\", \"irene\", \"irene\", \"irene\", \"irene\", \"ironic\", \"isn\", \"isn\", \"isn\", \"isn\", \"isn\", \"jersey\", \"jersey\", \"jersey\", \"jersey\", \"jersey\", \"jets\", \"jets\", \"join\", \"join\", \"just\", \"just\", \"just\", \"just\", \"just\", \"kardashian\", \"kardashian\", \"kardashian\", \"katrina\", \"katrina\", \"katrina\", \"katrina\", \"kind\", \"knicks\", \"know\", \"know\", \"know\", \"know\", \"know\", \"knowing\", \"kraykray\", \"land\", \"level\", \"life\", \"life\", \"life\", \"life\", \"life\", \"like\", \"like\", \"like\", \"like\", \"like\", \"lives\", \"lives\", \"lives\", \"lives\", \"ll\", \"ll\", \"ll\", \"ll\", \"lol\", \"lol\", \"lol\", \"lol\", \"lol\", \"lost\", \"lost\", \"lost\", \"lost\", \"lost\", \"lot\", \"lot\", \"lot\", \"lt\", \"lt\", \"lt\", \"lt\", \"lyfe\", \"make\", \"make\", \"make\", \"make\", \"make\", \"maps\", \"maps\", \"markets\", \"mashable\", \"maybe\", \"maybe\", \"maybe\", \"middle\", \"middle\", \"middle\", \"minutes\", \"minutes\", \"months\", \"moomoo\", \"music\", \"music\", \"names\", \"names\", \"names\", \"need\", \"need\", \"need\", \"need\", \"need\", \"nets\", \"new\", \"new\", \"new\", \"new\", \"new\", \"nigga\", \"nigga\", \"niggas\", \"niggas\", \"niggas\", \"niggas\", \"north\", \"north\", \"north\", \"north\", \"northeast\", \"northeast\", \"northeast\", \"obama\", \"obama\", \"obama\", \"obama\", \"odd\", \"odd\", \"officially\", \"officially\", \"open\", \"open\", \"open\", \"open\", \"opening\", \"parody\", \"patrick\", \"people\", \"people\", \"people\", \"people\", \"people\", \"personally\", \"photo\", \"photo\", \"photo\", \"photos\", \"photos\", \"photos\", \"pics\", \"place\", \"place\", \"place\", \"place\", \"played\", \"politics\", \"position\", \"powerful\", \"powerful\", \"pray\", \"pray\", \"pray\", \"pray\", \"pray\", \"prayers\", \"prayers\", \"prayers\", \"prayers\", \"praying\", \"praying\", \"praying\", \"praying\", \"praying\", \"preparation\", \"president\", \"president\", \"productive\", \"pushed\", \"radio\", \"rain\", \"rain\", \"rain\", \"rain\", \"rain\", \"real\", \"real\", \"real\", \"rebuilt\", \"remind\", \"resources\", \"retweet\", \"retweets\", \"rod\", \"romney\", \"romney\", \"romney\", \"romney\", \"romney\", \"rt\", \"rt\", \"rt\", \"rt\", \"rt\", \"ruin\", \"safe\", \"safe\", \"safe\", \"safe\", \"safe\", \"sandy\", \"sandy\", \"sandy\", \"sandy\", \"sandy\", \"scary\", \"scary\", \"school\", \"school\", \"school\", \"school\", \"school\", \"seeing\", \"sending\", \"shamwow\", \"shanaynay\", \"shanaynay\", \"sharks\", \"shit\", \"shit\", \"shit\", \"shit\", \"shit\", \"shut\", \"shut\", \"shut\", \"shut\", \"singing\", \"southern\", \"spend\", \"status\", \"stay\", \"stay\", \"stay\", \"stay\", \"stay\", \"stopped\", \"stopped\", \"storm\", \"storm\", \"storm\", \"storm\", \"storm\", \"story\", \"style\", \"supposed\", \"supposed\", \"supposed\", \"supposed\", \"surprise\", \"swear\", \"syria\", \"talk\", \"talk\", \"talk\", \"talk\", \"targets\", \"tebow\", \"terrified\", \"terrified\", \"terrifying\", \"texas\", \"think\", \"think\", \"think\", \"think\", \"think\", \"thoughts\", \"thoughts\", \"thoughts\", \"threat\", \"threat\", \"tim\", \"tomorrow\", \"tomorrow\", \"tomorrow\", \"tomorrow\", \"tomorrow\", \"tonight\", \"tonight\", \"tonight\", \"tonight\", \"tonight\", \"took\", \"took\", \"took\", \"took\", \"tricks\", \"trippin\", \"true\", \"true\", \"trying\", \"trying\", \"trying\", \"tweets\", \"tweets\", \"tweets\", \"twerk\", \"twitter\", \"twitter\", \"twitter\", \"twitter\", \"twitter\", \"type\", \"ur\", \"vagina\", \"ve\", \"ve\", \"ve\", \"ve\", \"victimized\", \"victims\", \"victims\", \"victims\", \"victims\", \"victims\", \"view\", \"view\", \"virginia\", \"vs\", \"walked\", \"watch\", \"watch\", \"watch\", \"watch\", \"watch\", \"watching\", \"watching\", \"watching\", \"watching\", \"ways\", \"weather\", \"weather\", \"weather\", \"weather\", \"week\", \"week\", \"week\", \"week\", \"went\", \"went\", \"went\", \"western\", \"wideset\", \"wit\", \"wit\", \"won\", \"won\", \"won\", \"yo\", \"yo\", \"yo\", \"york\", \"york\", \"york\", \"york\", \"york\"]}, \"R\": 30, \"lambda.step\": 0.01, \"plot.opts\": {\"xlab\": \"PC1\", \"ylab\": \"PC2\"}, \"topic.order\": [2, 5, 3, 1, 4]};\n",
       "\n",
       "function LDAvis_load_lib(url, callback){\n",
       "  var s = document.createElement('script');\n",
       "  s.src = url;\n",
       "  s.async = true;\n",
       "  s.onreadystatechange = s.onload = callback;\n",
       "  s.onerror = function(){console.warn(\"failed to load library \" + url);};\n",
       "  document.getElementsByTagName(\"head\")[0].appendChild(s);\n",
       "}\n",
       "\n",
       "if(typeof(LDAvis) !== \"undefined\"){\n",
       "   // already loaded: just create the visualization\n",
       "   !function(LDAvis){\n",
       "       new LDAvis(\"#\" + \"ldavis_el27481398951571288002746907507\", ldavis_el27481398951571288002746907507_data);\n",
       "   }(LDAvis);\n",
       "}else if(typeof define === \"function\" && define.amd){\n",
       "   // require.js is available: use it to load d3/LDAvis\n",
       "   require.config({paths: {d3: \"https://d3js.org/d3.v5\"}});\n",
       "   require([\"d3\"], function(d3){\n",
       "      window.d3 = d3;\n",
       "      LDAvis_load_lib(\"https://cdn.jsdelivr.net/gh/bmabey/pyLDAvis@3.4.0/pyLDAvis/js/ldavis.v3.0.0.js\", function(){\n",
       "        new LDAvis(\"#\" + \"ldavis_el27481398951571288002746907507\", ldavis_el27481398951571288002746907507_data);\n",
       "      });\n",
       "    });\n",
       "}else{\n",
       "    // require.js not available: dynamically load d3 & LDAvis\n",
       "    LDAvis_load_lib(\"https://d3js.org/d3.v5.js\", function(){\n",
       "         LDAvis_load_lib(\"https://cdn.jsdelivr.net/gh/bmabey/pyLDAvis@3.4.0/pyLDAvis/js/ldavis.v3.0.0.js\", function(){\n",
       "                 new LDAvis(\"#\" + \"ldavis_el27481398951571288002746907507\", ldavis_el27481398951571288002746907507_data);\n",
       "            })\n",
       "         });\n",
       "}\n",
       "</script>"
      ],
      "text/plain": [
       "<IPython.core.display.HTML object>"
      ]
     },
     "execution_count": 47,
     "metadata": {},
     "output_type": "execute_result"
    }
   ],
   "source": [
    "import gensim\n",
    "import pyLDAvis.gensim\n",
    "\n",
    "# Fit and transform the processed titles\n",
    "count_data_natural = count_vectorizer.fit_transform(natural)\n",
    "\n",
    "# Convert the count data to a gensim corpus\n",
    "corpus = gensim.matutils.Sparse2Corpus(count_data_natural.T)\n",
    "\n",
    "# Create a gensim Dictionary\n",
    "dictionary = gensim.corpora.Dictionary.from_corpus(corpus, id2word=dict(zip(range(len(count_vectorizer.get_feature_names_out())), count_vectorizer.get_feature_names_out())))\n",
    "\n",
    "# Create and fit the LDA model with gensim\n",
    "lda_model = gensim.models.LdaModel(corpus=corpus, id2word=dictionary, num_topics=number_topics, random_state=5)\n",
    "\n",
    "# Generate the pyLDAvis visualization\n",
    "panel = pyLDAvis.gensim.prepare(lda_model, corpus, dictionary)\n",
    "pyLDAvis.display(panel)"
   ]
  },
  {
   "cell_type": "code",
   "execution_count": 47,
   "id": "422c557f-2462-470a-8eee-9e097c9c725e",
   "metadata": {
    "tags": []
   },
   "outputs": [
    {
     "data": {
      "text/html": [
       "\n",
       "<link rel=\"stylesheet\" type=\"text/css\" href=\"https://cdn.jsdelivr.net/gh/bmabey/pyLDAvis@3.4.0/pyLDAvis/js/ldavis.v1.0.0.css\">\n",
       "\n",
       "\n",
       "<div id=\"ldavis_el27481398951571288002746907507\" style=\"background-color:white;\"></div>\n",
       "<script type=\"text/javascript\">\n",
       "\n",
       "var ldavis_el27481398951571288002746907507_data = {\"mdsDat\": {\"x\": [0.07589553908725695, 0.0910091227175005, 0.03573259028252296, -0.020214903326166878, -0.18242234876111335], \"y\": [0.09548099169904915, 0.03432273848212775, -0.05015398562723216, -0.14245970802661603, 0.0628099634726714], \"topics\": [1, 2, 3, 4, 5], \"cluster\": [1, 1, 1, 1, 1], \"Freq\": [29.592344893939572, 26.86949695176539, 15.712915041642741, 15.55145396111614, 12.273789151536157]}, \"tinfo\": {\"Term\": [\"fuck\", \"ain\", \"frankenstorm\", \"away\", \"bout\", \"sandy\", \"better\", \"wit\", \"rt\", \"stay\", \"irene\", \"weather\", \"hit\", \"went\", \"twerk\", \"niggas\", \"east\", \"dat\", \"dolphin\", \"hate\", \"classes\", \"shanaynay\", \"european\", \"highschool\", \"threat\", \"help\", \"guys\", \"coast\", \"yo\", \"prayers\", \"dance\", \"style\", \"retweets\", \"singing\", \"damaged\", \"donating\", \"communities\", \"rebuilt\", \"gangnam\", \"hoe\", \"texas\", \"brought\", \"dyin\", \"category\", \"rod\", \"patrick\", \"000\", \"ways\", \"america\", \"stopped\", \"parody\", \"effect\", \"destroying\", \"extending\", \"errythang\", \"freaking\", \"preparation\", \"100\", \"sharks\", \"remind\", \"donate\", \"best\", \"hell\", \"help\", \"tweets\", \"won\", \"dealing\", \"president\", \"dis\", \"actually\", \"maybe\", \"north\", \"obama\", \"real\", \"just\", \"funny\", \"bitch\", \"rt\", \"hurricane\", \"like\", \"rain\", \"sandy\", \"romney\", \"school\", \"life\", \"bad\", \"watching\", \"don\", \"safe\", \"big\", \"make\", \"hope\", \"people\", \"new\", \"incredible\", \"blowin\", \"shanaynay\", \"pics\", \"vagina\", \"flow\", \"wideset\", \"sending\", \"spend\", \"data\", \"swear\", \"coasters\", \"virginia\", \"story\", \"kardashian\", \"shamwow\", \"beautiful\", \"heavy\", \"markets\", \"tebow\", \"tim\", \"intentions\", \"fox\", \"continue\", \"blackout\", \"classy\", \"western\", \"knicks\", \"nets\", \"music\", \"terrified\", \"niggas\", \"victims\", \"lives\", \"view\", \"heading\", \"terrifying\", \"hurricanes\", \"prayers\", \"lot\", \"names\", \"scary\", \"week\", \"pray\", \"thoughts\", \"photos\", \"sandy\", \"lost\", \"east\", \"hurricane\", \"rt\", \"photo\", \"york\", \"new\", \"jersey\", \"black\", \"people\", \"coast\", \"praying\", \"affected\", \"frankenstorm\", \"like\", \"going\", \"safe\", \"hope\", \"shit\", \"storm\", \"gonna\", \"seeing\", \"cancels\", \"google\", \"felt\", \"victimized\", \"southern\", \"type\", \"babies\", \"months\", \"grows\", \"targets\", \"surprise\", \"kind\", \"trippin\", \"vs\", \"awful\", \"personally\", \"early\", \"800\", \"clair\", \"coning\", \"ironic\", \"knowing\", \"drag\", \"pushed\", \"syria\", \"level\", \"hi\", \"economic\", \"threat\", \"odd\", \"feels\", \"changes\", \"guys\", \"took\", \"middle\", \"katrina\", \"stay\", \"frankenstorm\", \"disaster\", \"hit\", \"hurricane\", \"think\", \"sandy\", \"hard\", \"rt\", \"follow\", \"isn\", \"day\", \"safe\", \"tonight\", \"new\", \"coast\", \"ve\", \"east\", \"gets\", \"ll\", \"don\", \"got\", \"people\", \"just\", \"like\", \"big\", \"dolphin\", \"called\", \"heads\", \"ur\", \"ruin\", \"favorite\", \"tricks\", \"politics\", \"beverages\", \"mashable\", \"played\", \"productive\", \"fighting\", \"powerful\", \"land\", \"ihop\", \"position\", \"drinking\", \"join\", \"heard\", \"retweet\", \"cell\", \"creeping\", \"alot\", \"hours\", \"minutes\", \"glass\", \"apartment\", \"maps\", \"hoping\", \"jets\", \"away\", \"supposed\", \"yo\", \"talk\", \"open\", \"northeast\", \"lt\", \"hurricane\", \"sandy\", \"storm\", \"hope\", \"come\", \"twitter\", \"know\", \"place\", \"rt\", \"account\", \"hit\", \"don\", \"need\", \"just\", \"people\", \"lol\", \"twerk\", \"highschool\", \"lyfe\", \"homeless\", \"resources\", \"european\", \"walked\", \"broken\", \"status\", \"opening\", \"wit\", \"gassing\", \"31st\", \"kraykray\", \"moomoo\", \"cunt\", \"evening\", \"dat\", \"radio\", \"du\", \"earlier\", \"constant\", \"garbage\", \"hangout\", \"helping\", \"officially\", \"535\", \"7252\", \"hotline\", \"bout\", \"hate\", \"nigga\", \"classes\", \"went\", \"fuck\", \"better\", \"trying\", \"ain\", \"irene\", \"guy\", \"expecting\", \"weather\", \"hurricane\", \"rt\", \"true\", \"idea\", \"sandy\", \"cancelled\", \"shut\", \"watch\", \"tomorrow\", \"lol\", \"shit\", \"people\", \"gonna\"], \"Freq\": [130.0, 122.0, 204.0, 112.0, 77.0, 2899.0, 84.0, 65.0, 2803.0, 138.0, 86.0, 103.0, 151.0, 51.0, 44.0, 88.0, 200.0, 44.0, 47.0, 46.0, 49.0, 71.0, 41.0, 40.0, 48.0, 93.0, 61.0, 209.0, 62.0, 114.0, 48.76367169968343, 46.90684897784409, 51.48656594707638, 40.023372404758454, 37.63557365746145, 34.073851478237955, 33.167255370532956, 32.42043517520306, 31.912180883122627, 28.226471190500455, 28.121895703838938, 52.63371659280609, 27.84178103639394, 36.28555415674463, 26.885042170394023, 26.236397641508134, 36.45057219471102, 24.928346766922616, 47.87465006396744, 45.07031314150346, 23.210893613333596, 23.541454955872197, 21.687736401566305, 21.33442346099395, 20.968672769353798, 20.9520768040519, 26.52363063767159, 37.04385643413372, 21.453216280902875, 19.92933002016763, 28.09985910081713, 54.780711344359226, 26.059474146057788, 87.46582818656512, 68.3285071005292, 72.2208134599698, 38.29100097686609, 36.86471768386749, 30.611388876815656, 54.81424759688524, 46.63290224034246, 44.34767980446472, 84.71943923821445, 45.54488010103079, 198.0202401640637, 62.82802763593503, 80.56761252711524, 1092.5958025393493, 1752.752615435895, 188.7035494848386, 95.03563321482974, 832.5453356601025, 60.976938928147284, 70.92500358106795, 53.54768751392671, 68.9623405165263, 59.89617565711416, 79.96694644729891, 64.5080515911836, 53.87293821783849, 50.606328033865886, 51.73717609062539, 52.17553303249603, 50.08982758309729, 46.10960059094716, 57.843185360234294, 69.8383861788303, 25.61982975875605, 25.100194617624275, 25.10011964777867, 25.100025536695888, 24.93225099774534, 23.7657983601691, 24.49102793470496, 22.97623030217548, 22.252736199810244, 22.977121964807264, 27.77596730369147, 62.4944549506979, 20.71943856155018, 20.876860881394723, 26.03823008667027, 22.581737379494058, 19.583031285927834, 19.582895702164507, 22.356783179789566, 21.566835487258626, 22.917407685230604, 20.843406784120404, 19.80663602841142, 19.44288871794391, 19.436034559931812, 19.43602977462252, 40.320735373053196, 49.83422055827828, 84.39874247385353, 66.88065668874856, 59.90174247314967, 28.157082096689983, 25.982347244735003, 22.819881486715893, 54.00659234562989, 95.82218815759069, 28.75366341616609, 52.82602145053327, 48.21074376637289, 49.18248695408579, 50.99976239198556, 39.451908237223144, 49.48042031072989, 1185.969310978188, 38.68098852954822, 128.21556101297526, 1649.7087089808374, 964.0597930238581, 77.58618475055107, 99.20186707997969, 142.61603693427995, 78.84343225156847, 50.051850044556765, 151.2349404490547, 109.40656467107273, 57.67978299887535, 58.875178782164774, 77.73202821700724, 95.43900611097716, 58.475095023124865, 57.004295119347475, 56.31683120575982, 52.51686175828545, 51.71438453091974, 50.971299372304884, 42.28598584784972, 27.667704019337805, 37.14065397406611, 24.761769257008655, 23.3066471205072, 23.480770007617416, 22.321192620651107, 21.92175135209765, 21.134942907233402, 21.038997528687627, 21.038997528687627, 21.491373020555905, 23.239599716133082, 20.2310948685904, 20.74743767733393, 21.916941863562176, 24.06930551529707, 22.52931586794715, 21.598478352716583, 16.027846280747923, 16.026109417355165, 19.765011028483688, 20.80590710331933, 15.81068798574928, 15.656933599736941, 20.01259334948565, 22.00023481726404, 21.652662520685695, 19.933440137855243, 45.57266867658902, 21.879365169193843, 21.945412617844525, 20.01263252685541, 52.362826973615135, 23.85717684834018, 42.42084554810283, 52.12309878245583, 86.52650455485134, 109.46780964320983, 42.75752093912038, 77.84499343697529, 711.5025852668259, 50.305974018180564, 378.1817919812875, 42.08628573505239, 364.0197623386612, 24.916486286963703, 40.791044578958356, 45.901948872666836, 62.47510682871333, 33.42386705537341, 57.203246975312545, 49.93792688192928, 34.247326862444, 41.47549188458113, 29.17318026951693, 28.282697310729688, 37.267129717190265, 30.489554818213715, 40.63630889311294, 37.41219045829364, 34.54691807459879, 29.37510416444548, 47.266176184577084, 40.217760390815734, 31.51474284499571, 28.688158137766763, 27.148357475674597, 27.568345746279697, 23.727235141364574, 23.667461024991663, 22.80479384293549, 22.780978733029773, 24.833476354544377, 22.358658435458405, 23.10203219056554, 43.38106726566418, 23.585334162416345, 21.96938903471696, 22.41266249302721, 26.391933232366686, 26.71323964928043, 12.953455199089072, 12.940870931639669, 23.527821909094644, 22.205540462194993, 21.31560167420709, 27.17289268891907, 24.1065320340737, 21.21321775078702, 25.667581283915517, 26.776907862939055, 28.1469432397109, 27.085392747585367, 93.30695067118018, 47.46353619912216, 49.56285161616859, 41.46289661310918, 42.98973726152261, 31.88161518548313, 45.230536366864555, 634.91063805889, 403.49232057716245, 63.81451650003598, 72.70309544415845, 44.15606463585546, 39.327073803206815, 46.08875552598982, 26.041377694967867, 124.47821530210383, 30.788644184343365, 38.80076319784432, 37.11391558756007, 33.26290633136532, 38.670180766246226, 32.019387571955846, 28.90526006230656, 43.42985291233243, 39.393508938535014, 37.21736675024806, 27.113994757405802, 22.1776758845922, 40.09195459398941, 21.314893246602846, 20.940815344662273, 21.30724115967189, 22.844171053289557, 62.74098067201742, 17.28869182185123, 17.200310290661807, 17.200310290661807, 17.200310290661807, 21.476643587678566, 22.857340337158355, 42.618979432325865, 22.23063427178663, 21.16564330577351, 19.968984274539896, 20.02179693545493, 20.122116363452275, 19.970050990905055, 21.61872525282453, 21.2660487122757, 20.74821183571334, 20.74821183571334, 20.74821183571334, 71.79520505994223, 42.909070907663526, 28.901382950154453, 43.72219148689834, 44.44184031600451, 100.69399116779789, 68.44108740670272, 27.257030929681793, 79.89821573175327, 55.20374936542643, 28.62344796104381, 22.41730234937586, 51.613642575336925, 451.11278864093055, 257.86141562812276, 22.871110013298257, 22.902983265127226, 99.24810668175697, 25.63554336244599, 27.41829163045875, 27.922868872859084, 27.580554928037934, 29.415971587949127, 24.97183010842226, 25.441890624285428, 23.91703123838993], \"Total\": [130.0, 122.0, 204.0, 112.0, 77.0, 2899.0, 84.0, 65.0, 2803.0, 138.0, 86.0, 103.0, 151.0, 51.0, 44.0, 88.0, 200.0, 44.0, 47.0, 46.0, 49.0, 71.0, 41.0, 40.0, 48.0, 93.0, 61.0, 209.0, 62.0, 114.0, 49.491200167785145, 47.63574945804713, 52.449773717472354, 40.780325282555836, 38.36456041314489, 34.8022204515421, 33.89491652616979, 33.14784268886497, 32.63916158461294, 28.95478833724372, 28.8503889091235, 54.00704504916701, 28.56844382062887, 37.23791566703665, 27.621816959089482, 26.968929910461746, 37.484979636782974, 25.66172648185476, 49.347270955438155, 46.4702500748793, 23.949364386246614, 24.33092461081564, 22.427496130581982, 22.06871086905856, 21.706160439312125, 21.701688771369962, 27.478571061771245, 38.38474214836569, 22.23088598127888, 20.65947858932875, 29.145787297334476, 57.20829252212442, 27.046452943241356, 93.15640640027699, 72.88191765899455, 77.37955387222864, 40.34784332857421, 38.91391047569718, 32.070552443413796, 60.43504067395918, 50.85324344488108, 48.75308401479499, 102.16132098898322, 51.536213695954025, 308.70805740705026, 76.76520299995846, 104.39476532136638, 2803.0149888320952, 5199.9873363833785, 334.2782692454185, 138.5566422041285, 2899.4368658784974, 78.62623283753743, 99.20858815241257, 65.68151502423382, 117.93912490813582, 92.64913782291494, 161.8643494334438, 203.06821254736022, 113.59315110179988, 100.00724137294785, 205.62229096273384, 301.50806057090495, 263.5882156528265, 46.84421707923606, 58.85066114439889, 71.42908101628731, 26.358438475098193, 25.825994407432148, 25.825968236383297, 25.825940972632523, 25.66311899110802, 24.506235780368122, 25.25530525005773, 23.730715401781513, 22.985038953847397, 23.736297016779403, 28.71170547757045, 64.60466413205326, 21.44523382156961, 21.608950910505573, 26.954265891643594, 23.39565327420803, 20.308647330844707, 20.30857418655214, 23.187494604779516, 22.373072856651746, 23.81956294332069, 21.73900808732538, 20.659281190813257, 20.2849259662775, 20.284706156777343, 20.284733718261897, 42.10092062406729, 52.078855449552904, 88.97011329560841, 70.95132550088175, 63.740535283257564, 29.659475426701885, 27.355066086195272, 23.92029108716902, 60.57780899679958, 114.91594863083773, 30.722876228773906, 60.60611840860337, 54.987905757403055, 56.80866313861706, 60.25116214148155, 45.03841075974859, 58.83517364656578, 2899.4368658784974, 44.90098856006667, 200.82758357304635, 5199.9873363833785, 2803.0149888320952, 111.66396955424058, 155.5119790610875, 263.5882156528265, 121.18947055540549, 65.45187498403162, 301.50806057090495, 209.3021685069398, 85.00364925631087, 95.10236589756947, 204.05015060581024, 334.2782692454185, 132.7838630948259, 203.06821254736022, 205.62229096273384, 119.2624027674882, 150.22905158051924, 126.94113022177456, 43.055578235270666, 28.397658021379062, 38.12813899698756, 25.481408853332912, 24.03027371450529, 24.229665799991064, 23.049725001589252, 22.64529789977264, 21.85970646534824, 21.76656257574527, 21.76656257574527, 22.25434065676119, 24.159765147777968, 21.052938372351566, 21.604510943616685, 22.83175243425821, 25.115785510881015, 23.570943179707676, 22.612882686781585, 16.787722532624954, 16.78689401056222, 20.707974755762564, 21.8257105392429, 16.597442245221853, 16.463991467280138, 21.05012372043431, 23.145718559444912, 22.859966795241437, 21.060663726183112, 48.15650558921743, 23.186324478619728, 23.456128626860067, 21.378624694932217, 61.86823576041381, 26.09316099340126, 50.99209230510314, 70.81077369405247, 138.89941778841518, 204.05015060581024, 61.49645912316903, 151.23683262043494, 5199.9873363833785, 85.35547672062602, 2899.4368658784974, 70.25210232382665, 2803.0149888320952, 29.077563042980533, 82.01167918040865, 104.51271148165335, 203.06821254736022, 61.25069789595084, 263.5882156528265, 209.3021685069398, 74.43556935987979, 200.82758357304635, 55.20866670021463, 50.73932025563416, 161.8643494334438, 71.5552877726906, 301.50806057090495, 308.70805740705026, 334.2782692454185, 113.59315110179988, 47.967135415017395, 40.927150877336985, 32.24936449040482, 29.389613566984558, 27.86596512860919, 28.31462524164877, 24.426421568390676, 24.378501299134797, 23.53078471485916, 23.51345656666621, 25.66032687864718, 23.108794733045254, 23.896615818995805, 44.98892567002257, 24.48190942293862, 22.81924372985874, 23.39261185151358, 27.666151880182856, 28.022507484481167, 13.66282354177351, 13.661744743995051, 24.905024283051045, 23.537890365379635, 22.822448950107557, 29.151777537106813, 25.880274217322242, 22.875660937103415, 27.720411577207248, 29.058474632673235, 30.66739225411717, 29.838730918272518, 112.09293764496249, 58.18748720392565, 62.80162561808206, 52.60412360554948, 55.756469010208214, 37.878310936352605, 64.16399197757117, 5199.9873363833785, 2899.4368658784974, 150.22905158051924, 205.62229096273384, 102.36815660845215, 81.94413004711706, 151.4598448254091, 31.744078832875452, 2803.0149888320952, 53.55599489808028, 151.23683262043494, 161.8643494334438, 103.51888430594234, 308.70805740705026, 301.50806057090495, 119.1423605962257, 44.14529794958226, 40.109120270153575, 37.9324894676886, 27.838845238794168, 22.922180646971466, 41.49153557144605, 22.104240438803068, 21.716461142615856, 22.108775904029812, 23.707256556932084, 65.2932746747186, 18.030021809560868, 17.949835578583752, 17.949835578583752, 17.949835578583752, 22.439221233865535, 23.892671123470592, 44.58773261857115, 23.26691838019637, 22.192174997603185, 21.04111588316835, 21.132509741012274, 21.32427302580088, 21.22614241575109, 23.06732032032446, 22.719446721335295, 22.23838127224975, 22.23838127224975, 22.23838127224975, 77.74359448620461, 46.51479366245641, 31.676759848682526, 49.773106650186804, 51.070968699035646, 130.28427403402816, 84.4709169365153, 30.029300525772356, 122.31183316024942, 86.30664490070578, 34.85307297894929, 24.80882337986649, 103.65071926214495, 5199.9873363833785, 2803.0149888320952, 26.254830344817176, 26.34514586270618, 2899.4368658784974, 39.65306425550997, 53.42792491705807, 76.74722995331872, 74.10768842600834, 119.1423605962257, 119.2624027674882, 301.50806057090495, 126.94113022177456], \"Category\": [\"Default\", \"Default\", \"Default\", \"Default\", \"Default\", \"Default\", \"Default\", \"Default\", \"Default\", \"Default\", \"Default\", \"Default\", \"Default\", \"Default\", \"Default\", \"Default\", \"Default\", \"Default\", \"Default\", \"Default\", \"Default\", \"Default\", \"Default\", \"Default\", \"Default\", \"Default\", \"Default\", \"Default\", \"Default\", \"Default\", \"Topic1\", \"Topic1\", \"Topic1\", \"Topic1\", \"Topic1\", \"Topic1\", \"Topic1\", \"Topic1\", \"Topic1\", \"Topic1\", \"Topic1\", \"Topic1\", \"Topic1\", \"Topic1\", \"Topic1\", \"Topic1\", \"Topic1\", \"Topic1\", \"Topic1\", \"Topic1\", \"Topic1\", \"Topic1\", \"Topic1\", \"Topic1\", \"Topic1\", \"Topic1\", \"Topic1\", \"Topic1\", \"Topic1\", \"Topic1\", \"Topic1\", \"Topic1\", \"Topic1\", \"Topic1\", \"Topic1\", \"Topic1\", \"Topic1\", \"Topic1\", \"Topic1\", \"Topic1\", \"Topic1\", \"Topic1\", \"Topic1\", \"Topic1\", \"Topic1\", \"Topic1\", \"Topic1\", \"Topic1\", \"Topic1\", \"Topic1\", \"Topic1\", \"Topic1\", \"Topic1\", \"Topic1\", \"Topic1\", \"Topic1\", \"Topic1\", \"Topic1\", \"Topic1\", \"Topic1\", \"Topic1\", \"Topic1\", \"Topic1\", \"Topic1\", \"Topic2\", \"Topic2\", \"Topic2\", \"Topic2\", \"Topic2\", \"Topic2\", \"Topic2\", \"Topic2\", \"Topic2\", \"Topic2\", \"Topic2\", \"Topic2\", \"Topic2\", \"Topic2\", \"Topic2\", \"Topic2\", \"Topic2\", \"Topic2\", \"Topic2\", \"Topic2\", \"Topic2\", \"Topic2\", \"Topic2\", \"Topic2\", \"Topic2\", \"Topic2\", \"Topic2\", \"Topic2\", \"Topic2\", \"Topic2\", \"Topic2\", \"Topic2\", \"Topic2\", \"Topic2\", \"Topic2\", \"Topic2\", \"Topic2\", \"Topic2\", \"Topic2\", \"Topic2\", \"Topic2\", \"Topic2\", \"Topic2\", \"Topic2\", \"Topic2\", \"Topic2\", \"Topic2\", \"Topic2\", \"Topic2\", \"Topic2\", \"Topic2\", \"Topic2\", \"Topic2\", \"Topic2\", \"Topic2\", \"Topic2\", \"Topic2\", \"Topic2\", \"Topic2\", \"Topic2\", \"Topic2\", \"Topic2\", \"Topic2\", \"Topic2\", \"Topic2\", \"Topic2\", \"Topic2\", \"Topic2\", \"Topic3\", \"Topic3\", \"Topic3\", \"Topic3\", \"Topic3\", \"Topic3\", \"Topic3\", \"Topic3\", \"Topic3\", \"Topic3\", \"Topic3\", \"Topic3\", \"Topic3\", \"Topic3\", \"Topic3\", \"Topic3\", \"Topic3\", \"Topic3\", \"Topic3\", \"Topic3\", \"Topic3\", \"Topic3\", \"Topic3\", \"Topic3\", \"Topic3\", \"Topic3\", \"Topic3\", \"Topic3\", \"Topic3\", \"Topic3\", \"Topic3\", \"Topic3\", \"Topic3\", \"Topic3\", \"Topic3\", \"Topic3\", \"Topic3\", \"Topic3\", \"Topic3\", \"Topic3\", \"Topic3\", \"Topic3\", \"Topic3\", \"Topic3\", \"Topic3\", \"Topic3\", \"Topic3\", \"Topic3\", \"Topic3\", \"Topic3\", \"Topic3\", \"Topic3\", \"Topic3\", \"Topic3\", \"Topic3\", \"Topic3\", \"Topic3\", \"Topic3\", \"Topic3\", \"Topic3\", \"Topic3\", \"Topic3\", \"Topic3\", \"Topic4\", \"Topic4\", \"Topic4\", \"Topic4\", \"Topic4\", \"Topic4\", \"Topic4\", \"Topic4\", \"Topic4\", \"Topic4\", \"Topic4\", \"Topic4\", \"Topic4\", \"Topic4\", \"Topic4\", \"Topic4\", \"Topic4\", \"Topic4\", \"Topic4\", \"Topic4\", \"Topic4\", \"Topic4\", \"Topic4\", \"Topic4\", \"Topic4\", \"Topic4\", \"Topic4\", \"Topic4\", \"Topic4\", \"Topic4\", \"Topic4\", \"Topic4\", \"Topic4\", \"Topic4\", \"Topic4\", \"Topic4\", \"Topic4\", \"Topic4\", \"Topic4\", \"Topic4\", \"Topic4\", \"Topic4\", \"Topic4\", \"Topic4\", \"Topic4\", \"Topic4\", \"Topic4\", \"Topic4\", \"Topic4\", \"Topic4\", \"Topic4\", \"Topic4\", \"Topic4\", \"Topic4\", \"Topic5\", \"Topic5\", \"Topic5\", \"Topic5\", \"Topic5\", \"Topic5\", \"Topic5\", \"Topic5\", \"Topic5\", \"Topic5\", \"Topic5\", \"Topic5\", \"Topic5\", \"Topic5\", \"Topic5\", \"Topic5\", \"Topic5\", \"Topic5\", \"Topic5\", \"Topic5\", \"Topic5\", \"Topic5\", \"Topic5\", \"Topic5\", \"Topic5\", \"Topic5\", \"Topic5\", \"Topic5\", \"Topic5\", \"Topic5\", \"Topic5\", \"Topic5\", \"Topic5\", \"Topic5\", \"Topic5\", \"Topic5\", \"Topic5\", \"Topic5\", \"Topic5\", \"Topic5\", \"Topic5\", \"Topic5\", \"Topic5\", \"Topic5\", \"Topic5\", \"Topic5\", \"Topic5\", \"Topic5\", \"Topic5\", \"Topic5\", \"Topic5\", \"Topic5\", \"Topic5\", \"Topic5\", \"Topic5\"], \"logprob\": [30.0, 29.0, 28.0, 27.0, 26.0, 25.0, 24.0, 23.0, 22.0, 21.0, 20.0, 19.0, 18.0, 17.0, 16.0, 15.0, 14.0, 13.0, 12.0, 11.0, 10.0, 9.0, 8.0, 7.0, 6.0, 5.0, 4.0, 3.0, 2.0, 1.0, -5.7348, -5.7736, -5.6805, -5.9323, -5.9939, -6.0933, -6.1202, -6.143, -6.1588, -6.2815, -6.2853, -5.6585, -6.2953, -6.0304, -6.3302, -6.3547, -6.0259, -6.4058, -5.7532, -5.8136, -6.4772, -6.463, -6.5451, -6.5615, -6.5788, -6.5796, -6.3438, -6.0097, -6.5559, -6.6296, -6.286, -5.6185, -6.3614, -5.1506, -5.3975, -5.3421, -5.9766, -6.0146, -6.2004, -5.6179, -5.7795, -5.8297, -5.1825, -5.8031, -4.3334, -5.4814, -5.2327, -2.6255, -2.1529, -4.3816, -5.0676, -2.8973, -5.5113, -5.3602, -5.6412, -5.3882, -5.5292, -5.2402, -5.455, -5.6352, -5.6977, -5.6756, -5.6672, -5.708, -5.6943, -5.4675, -5.2791, -6.2819, -6.3024, -6.3024, -6.3024, -6.3091, -6.357, -6.327, -6.3908, -6.4228, -6.3908, -6.2011, -5.3902, -6.4942, -6.4866, -6.2657, -6.4081, -6.5506, -6.5506, -6.4182, -6.4541, -6.3934, -6.4882, -6.5393, -6.5578, -6.5582, -6.5582, -5.8284, -5.6166, -5.0897, -5.3224, -5.4326, -6.1875, -6.2679, -6.3977, -5.5362, -4.9628, -6.1665, -5.5583, -5.6497, -5.6297, -5.5935, -5.8502, -5.6237, -2.447, -5.8699, -4.6716, -2.1169, -2.6541, -5.1739, -4.9281, -4.5651, -5.1578, -5.6122, -4.5065, -4.8302, -5.4704, -5.4499, -5.172, -4.9668, -5.4567, -5.4822, -5.4943, -5.5642, -5.5795, -5.594, -5.2443, -5.6685, -5.3741, -5.7795, -5.84, -5.8326, -5.8832, -5.9013, -5.9378, -5.9424, -5.9424, -5.9211, -5.8429, -5.9816, -5.9564, -5.9015, -5.8078, -5.874, -5.9162, -6.2144, -6.2146, -6.0049, -5.9535, -6.2281, -6.2379, -5.9924, -5.8977, -5.9136, -5.9964, -5.1695, -5.9032, -5.9002, -5.9924, -5.0306, -5.8167, -5.2411, -5.0352, -4.5283, -4.2931, -5.2332, -4.6341, -2.4214, -5.0707, -3.0534, -5.2491, -3.0916, -5.7732, -5.2803, -5.1623, -4.854, -5.4795, -4.9422, -5.078, -5.4552, -5.2637, -5.6155, -5.6465, -5.3707, -5.5714, -5.2841, -5.3668, -5.4465, -5.6086, -5.1227, -5.2841, -5.528, -5.622, -5.6771, -5.6618, -5.8118, -5.8143, -5.8515, -5.8525, -5.7663, -5.8712, -5.8385, -5.2084, -5.8178, -5.8888, -5.8688, -5.7054, -5.6933, -6.4171, -6.4181, -5.8203, -5.8781, -5.919, -5.6762, -5.796, -5.9238, -5.7332, -5.6909, -5.641, -5.6795, -4.4426, -5.1185, -5.0752, -5.2536, -5.2175, -5.5164, -5.1667, -2.525, -2.9783, -4.8225, -4.6921, -5.1907, -5.3065, -5.1479, -5.7188, -4.1543, -5.5513, -5.32, -5.3645, -5.474, -5.3234, -5.5121, -5.6144, -4.9706, -5.0682, -5.125, -5.4417, -5.6427, -5.0506, -5.6824, -5.7001, -5.6827, -5.6131, -4.6027, -5.8917, -5.8968, -5.8968, -5.8968, -5.6748, -5.6125, -4.9895, -5.6403, -5.6894, -5.7476, -5.7449, -5.7399, -5.7475, -5.6682, -5.6846, -5.7093, -5.7093, -5.7093, -4.4679, -4.9827, -5.3779, -4.9639, -4.9476, -4.1297, -4.5158, -5.4364, -4.361, -4.7307, -5.3875, -5.6319, -4.798, -2.63, -3.1893, -5.6119, -5.6105, -4.1441, -5.4978, -5.4305, -5.4123, -5.4246, -5.3602, -5.524, -5.5054, -5.5672], \"loglift\": [30.0, 29.0, 28.0, 27.0, 26.0, 25.0, 24.0, 23.0, 22.0, 21.0, 20.0, 19.0, 18.0, 17.0, 16.0, 15.0, 14.0, 13.0, 12.0, 11.0, 10.0, 9.0, 8.0, 7.0, 6.0, 5.0, 4.0, 3.0, 2.0, 1.0, 1.2028, 1.2022, 1.1991, 1.1989, 1.1985, 1.1965, 1.196, 1.1955, 1.1951, 1.1922, 1.1921, 1.1919, 1.1919, 1.1917, 1.1906, 1.1901, 1.1897, 1.1887, 1.1874, 1.1871, 1.1863, 1.1847, 1.1841, 1.1838, 1.1831, 1.1825, 1.1823, 1.1821, 1.182, 1.1817, 1.1811, 1.1743, 1.1805, 1.1546, 1.1531, 1.1487, 1.1653, 1.1636, 1.1711, 1.12, 1.131, 1.1229, 1.0304, 1.0941, 0.7736, 1.0173, 0.9586, 0.2755, 0.1302, 0.6459, 0.8406, -0.0301, 0.9634, 0.8821, 1.0134, 0.681, 0.7814, 0.5125, 0.0709, 0.4717, 0.5365, -0.1622, -0.5365, -0.4429, 1.2984, 1.2969, 1.2917, 1.2858, 1.2857, 1.2857, 1.2857, 1.2853, 1.2835, 1.2834, 1.2819, 1.2818, 1.2817, 1.281, 1.281, 1.2797, 1.2797, 1.2796, 1.2788, 1.2778, 1.2778, 1.2777, 1.2775, 1.2756, 1.2721, 1.272, 1.2718, 1.2714, 1.2714, 1.271, 1.2701, 1.2614, 1.2551, 1.2521, 1.2622, 1.2627, 1.2671, 1.1994, 1.1325, 1.2479, 1.1768, 1.1826, 1.17, 1.1475, 1.1817, 1.141, 0.4202, 1.1651, 0.8654, 0.1661, 0.2469, 0.9501, 0.8646, 0.6999, 0.8843, 1.0459, 0.6242, 0.6655, 0.9264, 0.8346, 0.3491, 0.0607, 0.4941, 0.0438, 0.0191, 0.494, 0.2478, 0.4017, 1.8327, 1.8246, 1.8244, 1.822, 1.8201, 1.8193, 1.8186, 1.8182, 1.817, 1.8167, 1.8167, 1.8158, 1.8119, 1.8109, 1.8102, 1.8098, 1.8081, 1.8055, 1.8048, 1.8044, 1.8043, 1.8041, 1.8028, 1.8021, 1.8004, 1.8001, 1.7999, 1.7964, 1.7957, 1.7955, 1.7927, 1.7841, 1.7847, 1.6839, 1.7611, 1.6667, 1.5443, 1.3774, 1.228, 1.4873, 1.1866, -0.1383, 1.322, -0.1862, 1.3383, -0.1906, 1.6962, 1.1523, 1.0279, 0.6719, 1.245, 0.3229, 0.4177, 1.0744, 0.2733, 1.2128, 1.2662, 0.382, 0.9976, -0.1534, -0.2597, -0.419, 0.4982, 1.8463, 1.8435, 1.838, 1.8369, 1.8349, 1.8343, 1.832, 1.8314, 1.8297, 1.8294, 1.8283, 1.828, 1.8272, 1.8246, 1.8237, 1.8231, 1.8182, 1.8139, 1.8132, 1.8077, 1.8068, 1.8041, 1.8027, 1.7927, 1.7907, 1.79, 1.7856, 1.7841, 1.7792, 1.7753, 1.7642, 1.6776, 1.6573, 1.6243, 1.623, 1.601, 1.6887, 1.5113, -0.2419, -0.1111, 1.0048, 0.8214, 1.0202, 1.1269, 0.6713, 1.663, -1.2533, 1.3074, 0.5006, 0.3882, 0.7257, -0.2163, -0.3814, 0.4447, 2.0814, 2.0797, 2.0787, 2.0713, 2.0647, 2.0634, 2.0613, 2.0613, 2.0608, 2.0606, 2.0578, 2.0557, 2.0551, 2.0551, 2.0551, 2.0539, 2.0534, 2.0525, 2.0521, 2.0503, 2.0454, 2.0437, 2.0397, 2.0367, 2.0328, 2.0316, 2.0283, 2.0283, 2.0283, 2.0181, 2.017, 2.006, 1.9681, 1.9587, 1.8401, 1.8873, 2.0008, 1.6719, 1.6508, 1.9008, 1.9963, 1.4005, -0.347, -0.2883, 1.9597, 1.9577, -1.2769, 1.6615, 1.4306, 1.0866, 1.1093, 0.6989, 0.5341, -0.3747, 0.4286]}, \"token.table\": {\"Topic\": [1, 1, 3, 5, 3, 5, 3, 5, 3, 1, 4, 1, 4, 1, 2, 3, 4, 5, 1, 2, 3, 5, 3, 4, 1, 4, 1, 4, 5, 1, 2, 3, 4, 3, 3, 1, 2, 3, 4, 5, 2, 1, 2, 1, 2, 3, 4, 5, 4, 1, 2, 3, 5, 1, 2, 4, 5, 1, 2, 3, 4, 5, 2, 2, 1, 4, 5, 5, 1, 3, 4, 1, 2, 3, 5, 3, 1, 4, 5, 3, 5, 3, 1, 3, 4, 5, 2, 1, 2, 3, 4, 5, 2, 1, 2, 3, 4, 5, 1, 3, 5, 2, 1, 4, 5, 1, 1, 1, 2, 5, 2, 1, 2, 3, 4, 5, 1, 3, 1, 1, 2, 1, 3, 5, 4, 1, 2, 3, 4, 5, 1, 1, 3, 4, 5, 5, 1, 2, 5, 3, 1, 2, 3, 4, 5, 3, 1, 1, 3, 5, 5, 1, 5, 1, 4, 3, 4, 3, 4, 2, 1, 2, 3, 2, 1, 2, 3, 4, 5, 1, 1, 2, 3, 5, 1, 2, 3, 4, 5, 1, 5, 5, 1, 2, 3, 4, 4, 5, 1, 2, 3, 4, 5, 1, 2, 3, 4, 5, 3, 1, 2, 3, 4, 5, 3, 1, 3, 5, 1, 3, 4, 5, 2, 5, 1, 2, 3, 4, 5, 4, 5, 1, 2, 4, 4, 2, 1, 1, 2, 3, 4, 1, 5, 3, 4, 5, 1, 2, 3, 4, 5, 1, 5, 1, 2, 3, 4, 5, 3, 4, 5, 3, 5, 2, 3, 4, 1, 2, 3, 4, 5, 1, 2, 3, 4, 4, 5, 4, 2, 2, 1, 2, 3, 5, 3, 1, 2, 3, 4, 5, 1, 2, 3, 4, 5, 4, 5, 4, 5, 1, 2, 3, 4, 5, 1, 2, 4, 1, 3, 4, 5, 3, 2, 1, 2, 3, 4, 5, 3, 5, 4, 3, 1, 2, 3, 4, 5, 1, 2, 3, 4, 5, 1, 2, 3, 5, 1, 2, 3, 4, 1, 2, 3, 4, 5, 1, 2, 3, 4, 5, 2, 3, 4, 1, 2, 4, 5, 5, 1, 2, 3, 4, 5, 1, 4, 2, 4, 1, 2, 5, 1, 2, 3, 2, 4, 3, 5, 2, 5, 1, 2, 3, 1, 2, 3, 4, 5, 2, 1, 2, 3, 4, 5, 3, 5, 1, 2, 3, 4, 1, 2, 3, 5, 1, 2, 4, 1, 2, 3, 4, 1, 3, 2, 5, 1, 2, 4, 5, 5, 1, 1, 1, 2, 3, 4, 5, 3, 1, 2, 3, 2, 3, 4, 2, 1, 2, 4, 5, 4, 4, 4, 2, 4, 1, 2, 3, 4, 5, 1, 2, 3, 4, 1, 2, 3, 4, 5, 1, 1, 4, 4, 3, 5, 1, 2, 3, 4, 5, 1, 2, 4, 1, 1, 5, 4, 1, 1, 1, 2, 3, 4, 5, 1, 2, 3, 4, 5, 4, 1, 2, 3, 4, 5, 1, 2, 3, 4, 5, 1, 2, 1, 2, 3, 4, 5, 3, 2, 2, 1, 2, 1, 1, 2, 3, 4, 5, 1, 2, 3, 5, 1, 3, 2, 5, 1, 2, 3, 4, 5, 1, 5, 1, 2, 3, 4, 5, 2, 1, 2, 3, 4, 5, 3, 2, 3, 1, 2, 3, 4, 3, 2, 1, 2, 2, 1, 1, 2, 3, 4, 5, 1, 2, 4, 1, 3, 2, 1, 2, 3, 4, 5, 1, 2, 3, 4, 5, 1, 2, 3, 5, 4, 3, 1, 5, 1, 3, 5, 1, 3, 4, 5, 1, 2, 3, 4, 5, 3, 4, 2, 1, 2, 3, 4, 3, 1, 2, 3, 4, 5, 1, 2, 2, 3, 5, 1, 2, 3, 4, 5, 1, 2, 3, 4, 1, 1, 2, 4, 5, 1, 2, 3, 4, 1, 2, 5, 2, 2, 1, 5, 1, 2, 5, 1, 4, 5, 1, 2, 3, 4, 5], \"Freq\": [0.9603846753773929, 0.9639246723864042, 0.02605201817260552, 0.9470838841712279, 0.04496730170049984, 0.9443133357104967, 0.04496730170049984, 0.9443133357104967, 0.9728967467230595, 0.4107850118715392, 0.578833425818987, 0.9100680563238028, 0.08273345966580026, 0.2733896234295942, 0.6203841454748484, 0.04205994206609142, 0.06308991309913713, 0.010514985516522855, 0.008175823828016942, 0.3270329531206777, 0.008175823828016942, 0.6540659062413554, 0.043816507255032645, 0.9201466523556856, 0.9726981669025877, 0.02026454514380391, 0.03607450045302492, 0.9379370117786479, 0.03607450045302492, 0.053527011835518994, 0.035684674557012665, 0.0802905177532785, 0.8296686834505445, 0.9635703638319854, 0.9715041108035448, 0.5850475832659002, 0.2034948115707479, 0.05935265337480147, 0.06783160385691597, 0.07631055433903046, 0.9718195060450843, 0.9613990835110069, 0.03495996667312752, 0.023676788089125562, 0.09470715235650225, 0.047353576178251124, 0.023676788089125562, 0.8050107950302691, 0.9774429658300354, 0.47538077319121375, 0.246493734247296, 0.25529708189898515, 0.02641004295506743, 0.775900973105802, 0.09579024359330889, 0.0766321948746471, 0.04789512179665444, 0.18334081342860928, 0.7639200559525386, 0.015278401119050773, 0.015278401119050773, 0.030556802238101546, 0.9660054366622068, 0.9855454275643282, 0.06431398024550095, 0.01286279604910019, 0.9261213155352137, 0.9670083841970969, 0.9813534503091177, 0.01851610283602109, 0.9773463127175465, 0.30262478386730346, 0.025218731988941954, 0.025218731988941954, 0.6556870317124908, 0.985996802233491, 0.9667565800914989, 0.9636609756824468, 0.040152540653435286, 0.9355138735720909, 0.04677569367860455, 0.9530774629438801, 0.0401823421241578, 0.0602735131862367, 0.0200911710620789, 0.8840115267314717, 0.9680878930528123, 0.2245557240771809, 0.520778168604526, 0.23888906816721373, 0.004777781363344275, 0.00955556272668855, 0.9571443426384747, 0.03907465106849189, 0.4102838362191648, 0.03907465106849189, 0.4298211617534108, 0.08791796490410675, 0.9735973232009929, 0.9531245023607636, 0.9464091224898673, 0.9655928639299192, 0.042484691043970346, 0.9346632029673475, 0.9358613554870859, 0.9904974692992967, 0.9900749998763442, 0.022427693476915932, 0.022427693476915932, 0.9643908195073851, 0.950295383974626, 0.1817960679676304, 0.3444557077281418, 0.4401378487637368, 0.01913642820711899, 0.01913642820711899, 0.9418099423690517, 0.02478447216760662, 0.9809387491098905, 0.9666188337322, 0.03118125270103871, 0.24391648257271273, 0.6992272500417764, 0.048783296514542544, 0.9798375407109551, 0.49424101279877447, 0.030890063299923404, 0.22858646841943317, 0.22858646841943317, 0.012356025319969361, 0.9606877218431061, 0.9769491589578575, 0.9640039569715119, 0.9397765223223432, 0.03614525085855166, 0.9462794882551195, 0.9801023876484863, 0.047525996508575905, 0.9505199301715181, 0.9757776693382723, 0.13444368308190782, 0.637362645721637, 0.20415522245771187, 0.004979395669700289, 0.009958791339400579, 0.9496376875879524, 0.9863990121169282, 0.9674672800246517, 0.024101301295008887, 0.9640520518003555, 0.9626382869099265, 0.08061647944267654, 0.8867812738694419, 0.9515734799644802, 0.9888882427733503, 0.9379211868239575, 0.0426327812192708, 0.9811074475471969, 0.9624793809388243, 0.9680179179025055, 0.06878155494130413, 0.06878155494130413, 0.8597694367663016, 0.9833249165618827, 0.04900756000576681, 0.3822589680449811, 0.5341824040628582, 0.014702268001730042, 0.024503780002883405, 0.9676666282167097, 0.13815942202892953, 0.06907971101446476, 0.01535104689210328, 0.7752278680512157, 0.8206843405342664, 0.0521069422561439, 0.02605347112807195, 0.0521069422561439, 0.06513367782017987, 0.9804173405938753, 0.9378983272161915, 0.9428718489394908, 0.054339294522183, 0.09056549087030501, 0.5252798470477691, 0.34414886530715905, 0.9180062625398873, 0.04371458393047082, 0.1430896763896031, 0.4368000647682621, 0.06777932039507516, 0.19580692558577265, 0.15062071198905588, 0.24420768860211775, 0.40176103608735503, 0.08665434111688049, 0.07089900636835676, 0.1890640169822847, 0.970411905047957, 0.12577686821119724, 0.2655289440014164, 0.4192562273706575, 0.15372728336924107, 0.027950415158043834, 0.9647825616434513, 0.028691874619032425, 0.14345937309516213, 0.8320643639519403, 0.032326766319069555, 0.8404959242958085, 0.06465353263813911, 0.04849014947860434, 0.04711171631723054, 0.9422343263446108, 0.056937797840725446, 0.31315788812399, 0.5978468773276172, 0.014234449460181361, 0.028468898920362723, 0.06449561018737565, 0.9244370793523843, 0.03655629991347927, 0.9504637977504611, 0.9922676153671488, 0.951487074414234, 0.964596850996434, 0.9613090505643235, 0.9339132257439818, 0.010734634778666458, 0.010734634778666458, 0.04293853911466583, 0.043351372682803854, 0.9537301990216848, 0.962381100421351, 0.04374459547369777, 0.9723474296448505, 0.1322429176376286, 0.05950931293693287, 0.5157473787867516, 0.2578736893933758, 0.03967287529128858, 0.9670248552286738, 0.9698678148608975, 0.25289086974244573, 0.27234401356878774, 0.11185557700146638, 0.3550198748307411, 0.004863285956585495, 0.06521584826735619, 0.9130218757429867, 0.03260792413367809, 0.04496730170049984, 0.9443133357104967, 0.03430322554866909, 0.03430322554866909, 0.9261870898140653, 0.33711620559815086, 0.31730846505245236, 0.13692341037414912, 0.12211568200503468, 0.0867309804476703, 0.06603078035079357, 0.8914155347357132, 0.016507695087698393, 0.016507695087698393, 0.1138729698303458, 0.8730261020326511, 0.9640985591127733, 0.9819782006857307, 0.9487872827565103, 0.2896648343677598, 0.023173186749420784, 0.04634637349884157, 0.6372626356090716, 0.9658114922336599, 0.12193385259192265, 0.2682544757022298, 0.49992879562688286, 0.08535369681434586, 0.024386770518384532, 0.22279163260851215, 0.6518718139286096, 0.016503083896926826, 0.08251541948463413, 0.03300616779385365, 0.9048642207321844, 0.06702697931349515, 0.9635112066595957, 0.03568560024665169, 0.6413826761214885, 0.048589596675870345, 0.11985433846714684, 0.12633295135726288, 0.06478612890116045, 0.015478758591732316, 0.9596830326874036, 0.015478758591732316, 0.15534359287651606, 0.7343515299617123, 0.014122144806956005, 0.09885501364869204, 0.9519960090388282, 0.9366662673421026, 0.1056385606260427, 0.31691568187812813, 0.1254457907434257, 0.3037108617998728, 0.15845784093906407, 0.9621679881734773, 0.9470838841712279, 0.9803156929219299, 0.950499762774598, 0.822149123388463, 0.01522498376645302, 0.03044996753290604, 0.04567495129935906, 0.09134990259871811, 0.5653972076217765, 0.28419436361941147, 0.10470318659662528, 0.026923676553417927, 0.017949117702278618, 0.015688603736320764, 0.9413162241792458, 0.03137720747264153, 0.015688603736320764, 0.25621155219469977, 0.09854290469026915, 0.5518402662655072, 0.09854290469026915, 0.32733949373532456, 0.0923265238740659, 0.0923265238740659, 0.24340629021344645, 0.24340629021344645, 0.06681367373430376, 0.8685777585459488, 0.02227122457810125, 0.02227122457810125, 0.02227122457810125, 0.9439220398524952, 0.03254903585698259, 0.03254903585698259, 0.015585065223958552, 0.2649461088072954, 0.7013279350781348, 0.015585065223958552, 0.9754171297277258, 0.509963071672084, 0.049996379575694506, 0.21998407013305582, 0.1499891387270835, 0.06999493140597231, 0.0688267373040706, 0.929160953604953, 0.9830885989986777, 0.9781632885318056, 0.9242281674902891, 0.039328858191076135, 0.039328858191076135, 0.0392217677210285, 0.11766530316308549, 0.8236571221415985, 0.03863946693929069, 0.9273472065429765, 0.960671637255924, 0.9470838841712279, 0.9500979885255458, 0.023752449713138644, 0.06599993705309096, 0.8744991659534552, 0.049499952789818225, 0.3670827816081734, 0.2704820496060225, 0.00966007320021509, 0.31878241560709797, 0.03864029280086036, 0.9366649946651614, 0.18968981551836628, 0.5425128723825275, 0.21624638969093754, 0.030350370482938604, 0.018968981551836628, 0.06313777070489053, 0.9154976752209126, 0.02247945884203702, 0.9441372713655548, 0.02247945884203702, 0.01123972942101851, 0.9025070083083855, 0.06153456874829901, 0.02051152291609967, 0.02051152291609967, 0.026400332413985206, 0.13200166206992603, 0.8448106372475266, 0.8320174325972758, 0.039153761533989445, 0.048942201917486806, 0.07830752306797889, 0.04312887111202584, 0.9488351644645685, 0.044015156366502696, 0.9243182836965566, 0.17935138608166062, 0.017935138608166062, 0.7712109601511408, 0.017935138608166062, 0.9701670855405123, 0.9603595163973618, 0.9640723635057585, 0.17246636757086395, 0.5008157981384703, 0.13598309750779655, 0.10613314927437781, 0.08291652287060766, 0.9555743335044162, 0.2865740858733851, 0.6985243343163762, 0.01791088036708657, 0.8328351386256194, 0.08498317741077749, 0.067986541928622, 0.9864013767190032, 0.06300387579458501, 0.06300387579458501, 0.8190503853296051, 0.06300387579458501, 0.9742666224880924, 0.9844739717798718, 0.9404678767658229, 0.02222769237333287, 0.9557907720533134, 0.01659719023596265, 0.8464567020340951, 0.0995831414157759, 0.0331943804719253, 0.01659719023596265, 0.026106036940419505, 0.8353931820934242, 0.03480804925389267, 0.10442414776167802, 0.14117040979989565, 0.6823236473661624, 0.05882100408328986, 0.11764200816657971, 0.011764200816657971, 0.9825838446731663, 0.9508168042661128, 0.051395502933303396, 0.9520184957348861, 0.9718178020073531, 0.9455485097126267, 0.685640172053544, 0.02165179490695402, 0.15877982931766282, 0.1082589745347701, 0.028869059875938692, 0.8925762430159152, 0.05821149410973361, 0.038807662739822404, 0.9653720243685556, 0.9680786431043139, 0.9597690699164215, 0.9515622084590684, 0.9723588184520728, 0.9774881949290138, 0.7758224933152033, 0.050873606119029725, 0.012718401529757431, 0.038155204589272296, 0.11446561376781687, 0.38993726553542607, 0.3439153924758927, 0.1298601689431794, 0.04423807953009408, 0.09204374611906671, 0.9689239140071941, 0.3200894870970536, 0.2806938579158778, 0.3053161261541127, 0.08371571200999864, 0.009848907295293958, 0.2872971678752557, 0.40904494729898355, 0.13037014340557823, 0.13899250738742863, 0.03414456136812763, 0.10911490294740342, 0.8729192235792274, 0.7156638484858169, 0.1108774976527322, 0.07055840759719322, 0.06047863508330847, 0.050398862569423726, 0.9754833571273246, 0.9741606236039437, 0.9792385653020116, 0.013999900121520243, 0.979993008506417, 0.9446317172282096, 0.20123693169917062, 0.4443982241690018, 0.0838487215413211, 0.06707897723305688, 0.20962180385330273, 0.4304864925168885, 0.018716804022473412, 0.037433608044946824, 0.5053537086067822, 0.980865153057285, 0.9492495765256689, 0.9793425728494106, 0.9498490595389447, 0.05759563378578276, 0.1943852640270168, 0.6263525174203876, 0.11519126757156552, 0.01439890844644569, 0.968361477020024, 0.02151914393377831, 0.10650403388471355, 0.34613811012531903, 0.026626008471178388, 0.4260161355388542, 0.09319102964912435, 0.9752120096757598, 0.9866539423588363, 0.08592912738226428, 0.017185825476452858, 0.8077337973932842, 0.06874330190581143, 0.9436361348059035, 0.9692080331582984, 0.9501131805978457, 0.07603966620552194, 0.03801983310276097, 0.09504958275690242, 0.7794065786065999, 0.9647825616434513, 0.9848021719114727, 0.038403301738021776, 0.9600825434505444, 0.9615267605308253, 0.9705241786583134, 0.21088277743342893, 0.0702942591444763, 0.5857854928706359, 0.11715709857412718, 0.011715709857412718, 0.0666098103683787, 0.865927534788923, 0.044406540245585796, 0.04153125264238055, 0.9552188107747526, 0.9848057188201588, 0.2159020250101978, 0.1889142718839231, 0.17542039532078574, 0.040481629689412095, 0.3778285437678462, 0.016326344586289326, 0.048979033758867974, 0.5387693713475478, 0.14693710127660392, 0.2612215133806292, 0.038324218374802946, 0.038324218374802946, 0.9197812409952707, 0.038324218374802946, 0.982542609968605, 0.9499861561493776, 0.11426468808213852, 0.8760292752963953, 0.033300808959627934, 0.033300808959627934, 0.8991218419099543, 0.9330160646727705, 0.01372082448048192, 0.04116247344144576, 0.9740561735274663, 0.14644123981913187, 0.2684756063350751, 0.10983092986434892, 0.47593402941217866, 0.012203436651594323, 0.9544582418438018, 0.9867431544788245, 0.9680169369511501, 0.37616424836661205, 0.05373774976665886, 0.45677087301660035, 0.10747549953331773, 0.9571260100177972, 0.014094169389232516, 0.9443093490785786, 0.014094169389232516, 0.028188338778465032, 0.014094169389232516, 0.03371603798156586, 0.944049063483844, 0.968980122878522, 0.9720192257443673, 0.950043954604085, 0.40392337311529886, 0.10423828983620616, 0.02605957245905154, 0.0912085036066804, 0.3648340144267216, 0.6476045153780178, 0.22666158038230622, 0.06476045153780177, 0.05396704294816814, 0.9742134855064151, 0.43415038815302065, 0.009647786403400459, 0.05788671842040275, 0.5016848929768238, 0.03520589800044866, 0.8625445010109923, 0.07041179600089732, 0.01760294900022433, 0.09790297946892895, 0.01958059589378579, 0.8615462193265748, 0.9366561175321215, 0.9680189398129669, 0.030631026089037547, 0.9648773218046827, 0.9304783550301735, 0.012923310486530188, 0.05169324194612075, 0.07961577348979296, 0.7961577348979295, 0.12738523758366874, 0.1607593199632526, 0.6366069070544802, 0.1607593199632526, 0.03215186399265052, 0.012860745597060207], \"Term\": [\"000\", \"100\", \"100\", \"31st\", \"535\", \"535\", \"7252\", \"7252\", \"800\", \"account\", \"account\", \"actually\", \"actually\", \"affected\", \"affected\", \"affected\", \"affected\", \"affected\", \"ain\", \"ain\", \"ain\", \"ain\", \"alot\", \"alot\", \"america\", \"america\", \"apartment\", \"apartment\", \"apartment\", \"away\", \"away\", \"away\", \"away\", \"awful\", \"babies\", \"bad\", \"bad\", \"bad\", \"bad\", \"bad\", \"beautiful\", \"best\", \"best\", \"better\", \"better\", \"better\", \"better\", \"better\", \"beverages\", \"big\", \"big\", \"big\", \"big\", \"bitch\", \"bitch\", \"bitch\", \"bitch\", \"black\", \"black\", \"black\", \"black\", \"black\", \"blackout\", \"blowin\", \"bout\", \"bout\", \"bout\", \"broken\", \"brought\", \"brought\", \"called\", \"cancelled\", \"cancelled\", \"cancelled\", \"cancelled\", \"cancels\", \"category\", \"cell\", \"cell\", \"changes\", \"changes\", \"clair\", \"classes\", \"classes\", \"classes\", \"classes\", \"classy\", \"coast\", \"coast\", \"coast\", \"coast\", \"coast\", \"coasters\", \"come\", \"come\", \"come\", \"come\", \"come\", \"communities\", \"coning\", \"constant\", \"continue\", \"creeping\", \"creeping\", \"cunt\", \"damaged\", \"dance\", \"dat\", \"dat\", \"dat\", \"data\", \"day\", \"day\", \"day\", \"day\", \"day\", \"dealing\", \"dealing\", \"destroying\", \"dis\", \"dis\", \"disaster\", \"disaster\", \"disaster\", \"dolphin\", \"don\", \"don\", \"don\", \"don\", \"don\", \"donate\", \"donating\", \"drag\", \"drinking\", \"drinking\", \"du\", \"dyin\", \"earlier\", \"earlier\", \"early\", \"east\", \"east\", \"east\", \"east\", \"east\", \"economic\", \"effect\", \"errythang\", \"european\", \"european\", \"evening\", \"expecting\", \"expecting\", \"extending\", \"favorite\", \"feels\", \"feels\", \"felt\", \"fighting\", \"flow\", \"follow\", \"follow\", \"follow\", \"fox\", \"frankenstorm\", \"frankenstorm\", \"frankenstorm\", \"frankenstorm\", \"frankenstorm\", \"freaking\", \"fuck\", \"fuck\", \"fuck\", \"fuck\", \"funny\", \"funny\", \"funny\", \"funny\", \"funny\", \"gangnam\", \"garbage\", \"gassing\", \"gets\", \"gets\", \"gets\", \"gets\", \"glass\", \"glass\", \"going\", \"going\", \"going\", \"going\", \"going\", \"gonna\", \"gonna\", \"gonna\", \"gonna\", \"gonna\", \"google\", \"got\", \"got\", \"got\", \"got\", \"got\", \"grows\", \"guy\", \"guy\", \"guy\", \"guys\", \"guys\", \"guys\", \"guys\", \"hangout\", \"hangout\", \"hard\", \"hard\", \"hard\", \"hard\", \"hard\", \"hate\", \"hate\", \"heading\", \"heading\", \"heads\", \"heard\", \"heavy\", \"hell\", \"help\", \"help\", \"help\", \"help\", \"helping\", \"helping\", \"hi\", \"hi\", \"highschool\", \"hit\", \"hit\", \"hit\", \"hit\", \"hit\", \"hoe\", \"homeless\", \"hope\", \"hope\", \"hope\", \"hope\", \"hope\", \"hoping\", \"hoping\", \"hoping\", \"hotline\", \"hotline\", \"hours\", \"hours\", \"hours\", \"hurricane\", \"hurricane\", \"hurricane\", \"hurricane\", \"hurricane\", \"hurricanes\", \"hurricanes\", \"hurricanes\", \"hurricanes\", \"idea\", \"idea\", \"ihop\", \"incredible\", \"intentions\", \"irene\", \"irene\", \"irene\", \"irene\", \"ironic\", \"isn\", \"isn\", \"isn\", \"isn\", \"isn\", \"jersey\", \"jersey\", \"jersey\", \"jersey\", \"jersey\", \"jets\", \"jets\", \"join\", \"join\", \"just\", \"just\", \"just\", \"just\", \"just\", \"kardashian\", \"kardashian\", \"kardashian\", \"katrina\", \"katrina\", \"katrina\", \"katrina\", \"kind\", \"knicks\", \"know\", \"know\", \"know\", \"know\", \"know\", \"knowing\", \"kraykray\", \"land\", \"level\", \"life\", \"life\", \"life\", \"life\", \"life\", \"like\", \"like\", \"like\", \"like\", \"like\", \"lives\", \"lives\", \"lives\", \"lives\", \"ll\", \"ll\", \"ll\", \"ll\", \"lol\", \"lol\", \"lol\", \"lol\", \"lol\", \"lost\", \"lost\", \"lost\", \"lost\", \"lost\", \"lot\", \"lot\", \"lot\", \"lt\", \"lt\", \"lt\", \"lt\", \"lyfe\", \"make\", \"make\", \"make\", \"make\", \"make\", \"maps\", \"maps\", \"markets\", \"mashable\", \"maybe\", \"maybe\", \"maybe\", \"middle\", \"middle\", \"middle\", \"minutes\", \"minutes\", \"months\", \"moomoo\", \"music\", \"music\", \"names\", \"names\", \"names\", \"need\", \"need\", \"need\", \"need\", \"need\", \"nets\", \"new\", \"new\", \"new\", \"new\", \"new\", \"nigga\", \"nigga\", \"niggas\", \"niggas\", \"niggas\", \"niggas\", \"north\", \"north\", \"north\", \"north\", \"northeast\", \"northeast\", \"northeast\", \"obama\", \"obama\", \"obama\", \"obama\", \"odd\", \"odd\", \"officially\", \"officially\", \"open\", \"open\", \"open\", \"open\", \"opening\", \"parody\", \"patrick\", \"people\", \"people\", \"people\", \"people\", \"people\", \"personally\", \"photo\", \"photo\", \"photo\", \"photos\", \"photos\", \"photos\", \"pics\", \"place\", \"place\", \"place\", \"place\", \"played\", \"politics\", \"position\", \"powerful\", \"powerful\", \"pray\", \"pray\", \"pray\", \"pray\", \"pray\", \"prayers\", \"prayers\", \"prayers\", \"prayers\", \"praying\", \"praying\", \"praying\", \"praying\", \"praying\", \"preparation\", \"president\", \"president\", \"productive\", \"pushed\", \"radio\", \"rain\", \"rain\", \"rain\", \"rain\", \"rain\", \"real\", \"real\", \"real\", \"rebuilt\", \"remind\", \"resources\", \"retweet\", \"retweets\", \"rod\", \"romney\", \"romney\", \"romney\", \"romney\", \"romney\", \"rt\", \"rt\", \"rt\", \"rt\", \"rt\", \"ruin\", \"safe\", \"safe\", \"safe\", \"safe\", \"safe\", \"sandy\", \"sandy\", \"sandy\", \"sandy\", \"sandy\", \"scary\", \"scary\", \"school\", \"school\", \"school\", \"school\", \"school\", \"seeing\", \"sending\", \"shamwow\", \"shanaynay\", \"shanaynay\", \"sharks\", \"shit\", \"shit\", \"shit\", \"shit\", \"shit\", \"shut\", \"shut\", \"shut\", \"shut\", \"singing\", \"southern\", \"spend\", \"status\", \"stay\", \"stay\", \"stay\", \"stay\", \"stay\", \"stopped\", \"stopped\", \"storm\", \"storm\", \"storm\", \"storm\", \"storm\", \"story\", \"style\", \"supposed\", \"supposed\", \"supposed\", \"supposed\", \"surprise\", \"swear\", \"syria\", \"talk\", \"talk\", \"talk\", \"talk\", \"targets\", \"tebow\", \"terrified\", \"terrified\", \"terrifying\", \"texas\", \"think\", \"think\", \"think\", \"think\", \"think\", \"thoughts\", \"thoughts\", \"thoughts\", \"threat\", \"threat\", \"tim\", \"tomorrow\", \"tomorrow\", \"tomorrow\", \"tomorrow\", \"tomorrow\", \"tonight\", \"tonight\", \"tonight\", \"tonight\", \"tonight\", \"took\", \"took\", \"took\", \"took\", \"tricks\", \"trippin\", \"true\", \"true\", \"trying\", \"trying\", \"trying\", \"tweets\", \"tweets\", \"tweets\", \"twerk\", \"twitter\", \"twitter\", \"twitter\", \"twitter\", \"twitter\", \"type\", \"ur\", \"vagina\", \"ve\", \"ve\", \"ve\", \"ve\", \"victimized\", \"victims\", \"victims\", \"victims\", \"victims\", \"victims\", \"view\", \"view\", \"virginia\", \"vs\", \"walked\", \"watch\", \"watch\", \"watch\", \"watch\", \"watch\", \"watching\", \"watching\", \"watching\", \"watching\", \"ways\", \"weather\", \"weather\", \"weather\", \"weather\", \"week\", \"week\", \"week\", \"week\", \"went\", \"went\", \"went\", \"western\", \"wideset\", \"wit\", \"wit\", \"won\", \"won\", \"won\", \"yo\", \"yo\", \"yo\", \"york\", \"york\", \"york\", \"york\", \"york\"]}, \"R\": 30, \"lambda.step\": 0.01, \"plot.opts\": {\"xlab\": \"PC1\", \"ylab\": \"PC2\"}, \"topic.order\": [2, 5, 3, 1, 4]};\n",
       "\n",
       "function LDAvis_load_lib(url, callback){\n",
       "  var s = document.createElement('script');\n",
       "  s.src = url;\n",
       "  s.async = true;\n",
       "  s.onreadystatechange = s.onload = callback;\n",
       "  s.onerror = function(){console.warn(\"failed to load library \" + url);};\n",
       "  document.getElementsByTagName(\"head\")[0].appendChild(s);\n",
       "}\n",
       "\n",
       "if(typeof(LDAvis) !== \"undefined\"){\n",
       "   // already loaded: just create the visualization\n",
       "   !function(LDAvis){\n",
       "       new LDAvis(\"#\" + \"ldavis_el27481398951571288002746907507\", ldavis_el27481398951571288002746907507_data);\n",
       "   }(LDAvis);\n",
       "}else if(typeof define === \"function\" && define.amd){\n",
       "   // require.js is available: use it to load d3/LDAvis\n",
       "   require.config({paths: {d3: \"https://d3js.org/d3.v5\"}});\n",
       "   require([\"d3\"], function(d3){\n",
       "      window.d3 = d3;\n",
       "      LDAvis_load_lib(\"https://cdn.jsdelivr.net/gh/bmabey/pyLDAvis@3.4.0/pyLDAvis/js/ldavis.v3.0.0.js\", function(){\n",
       "        new LDAvis(\"#\" + \"ldavis_el27481398951571288002746907507\", ldavis_el27481398951571288002746907507_data);\n",
       "      });\n",
       "    });\n",
       "}else{\n",
       "    // require.js not available: dynamically load d3 & LDAvis\n",
       "    LDAvis_load_lib(\"https://d3js.org/d3.v5.js\", function(){\n",
       "         LDAvis_load_lib(\"https://cdn.jsdelivr.net/gh/bmabey/pyLDAvis@3.4.0/pyLDAvis/js/ldavis.v3.0.0.js\", function(){\n",
       "                 new LDAvis(\"#\" + \"ldavis_el27481398951571288002746907507\", ldavis_el27481398951571288002746907507_data);\n",
       "            })\n",
       "         });\n",
       "}\n",
       "</script>"
      ],
      "text/plain": [
       "<IPython.core.display.HTML object>"
      ]
     },
     "execution_count": 47,
     "metadata": {},
     "output_type": "execute_result"
    }
   ],
   "source": [
    "import gensim\n",
    "import pyLDAvis.gensim\n",
    "\n",
    "# Fit and transform the processed titles\n",
    "count_data_natural = count_vectorizer.fit_transform(natural)\n",
    "\n",
    "# Convert the count data to a gensim corpus\n",
    "corpus = gensim.matutils.Sparse2Corpus(count_data_natural.T)\n",
    "\n",
    "# Create a gensim Dictionary\n",
    "dictionary = gensim.corpora.Dictionary.from_corpus(corpus, id2word=dict(zip(range(len(count_vectorizer.get_feature_names_out())), count_vectorizer.get_feature_names_out())))\n",
    "\n",
    "# Create and fit the LDA model with gensim\n",
    "lda_model = gensim.models.LdaModel(corpus=corpus, id2word=dictionary, num_topics=number_topics, random_state=5)\n",
    "\n",
    "# Generate the pyLDAvis visualization\n",
    "panel = pyLDAvis.gensim.prepare(lda_model, corpus, dictionary)\n",
    "pyLDAvis.display(panel)"
   ]
  }
 ],
 "metadata": {
  "kernelspec": {
   "display_name": "Python 3 (ipykernel)",
   "language": "python",
   "name": "python3"
  },
  "language_info": {
   "codemirror_mode": {
    "name": "ipython",
    "version": 3
   },
   "file_extension": ".py",
   "mimetype": "text/x-python",
   "name": "python",
   "nbconvert_exporter": "python",
   "pygments_lexer": "ipython3",
   "version": "3.10.9"
  }
 },
 "nbformat": 4,
 "nbformat_minor": 5
}
