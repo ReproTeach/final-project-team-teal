{
 "cells": [
  {
   "cell_type": "markdown",
   "id": "8b750025-903e-443c-a7d2-2198a797cd7d",
   "metadata": {},
   "source": [
    "# Your Final Project Title\n",
    "\n",
    "- member 1: put their contribution here\n",
    "- member 2: put their contribution here\n",
    "- member 3: put their contribution here\n",
    "- ..."
   ]
  },
  {
   "cell_type": "code",
   "execution_count": 23,
   "id": "f9e7b812-d39f-462d-b618-521e4909f7e5",
   "metadata": {
    "tags": []
   },
   "outputs": [],
   "source": [
    "#Add all Import here\n",
    "import pandas as pd\n",
    "import re\n",
    "import matplotlib.pyplot as plt\n",
    "import seaborn as sns"
   ]
  },
  {
   "cell_type": "code",
   "execution_count": 24,
   "id": "66446d61-eddb-46fa-8b5a-8316a327d22b",
   "metadata": {
    "tags": []
   },
   "outputs": [
    {
     "data": {
      "text/html": [
       "<div>\n",
       "<style scoped>\n",
       "    .dataframe tbody tr th:only-of-type {\n",
       "        vertical-align: middle;\n",
       "    }\n",
       "\n",
       "    .dataframe tbody tr th {\n",
       "        vertical-align: top;\n",
       "    }\n",
       "\n",
       "    .dataframe thead th {\n",
       "        text-align: right;\n",
       "    }\n",
       "</style>\n",
       "<table border=\"1\" class=\"dataframe\">\n",
       "  <thead>\n",
       "    <tr style=\"text-align: right;\">\n",
       "      <th></th>\n",
       "      <th>tweet id</th>\n",
       "      <th>tweet</th>\n",
       "      <th>label</th>\n",
       "    </tr>\n",
       "  </thead>\n",
       "  <tbody>\n",
       "    <tr>\n",
       "      <th>0</th>\n",
       "      <td>'325208201740029952'</td>\n",
       "      <td>Funny how I got twenty minutes of sleep last n...</td>\n",
       "      <td>off-topic</td>\n",
       "    </tr>\n",
       "    <tr>\n",
       "      <th>1</th>\n",
       "      <td>'325301650791215106'</td>\n",
       "      <td>I just wanna go outside</td>\n",
       "      <td>off-topic</td>\n",
       "    </tr>\n",
       "    <tr>\n",
       "      <th>2</th>\n",
       "      <td>'325182966332530688'</td>\n",
       "      <td>This is fucking crazy. Suspect # 2 has like 2 ...</td>\n",
       "      <td>on-topic</td>\n",
       "    </tr>\n",
       "    <tr>\n",
       "      <th>3</th>\n",
       "      <td>'324654539850539009'</td>\n",
       "      <td>@J_Adams91 oops, someone doesn't like to be to...</td>\n",
       "      <td>off-topic</td>\n",
       "    </tr>\n",
       "    <tr>\n",
       "      <th>4</th>\n",
       "      <td>'323630018536275968'</td>\n",
       "      <td>Let me love you @GavinQuin you know who else too</td>\n",
       "      <td>off-topic</td>\n",
       "    </tr>\n",
       "  </tbody>\n",
       "</table>\n",
       "</div>"
      ],
      "text/plain": [
       "               tweet id                                              tweet  \\\n",
       "0  '325208201740029952'  Funny how I got twenty minutes of sleep last n...   \n",
       "1  '325301650791215106'                            I just wanna go outside   \n",
       "2  '325182966332530688'  This is fucking crazy. Suspect # 2 has like 2 ...   \n",
       "3  '324654539850539009'  @J_Adams91 oops, someone doesn't like to be to...   \n",
       "4  '323630018536275968'   Let me love you @GavinQuin you know who else too   \n",
       "\n",
       "       label  \n",
       "0  off-topic  \n",
       "1  off-topic  \n",
       "2   on-topic  \n",
       "3  off-topic  \n",
       "4  off-topic  "
      ]
     },
     "execution_count": 24,
     "metadata": {},
     "output_type": "execute_result"
    }
   ],
   "source": [
    "# df = \n",
    "df=pd.read_csv(\"2013_Boston_Bombings-ontopic_offtopic.csv\")\n",
    "df.head()"
   ]
  },
  {
   "cell_type": "code",
   "execution_count": 4,
   "id": "ff71a4e3-bffd-4a92-beb9-e0efee7d59b0",
   "metadata": {
    "tags": []
   },
   "outputs": [
    {
     "data": {
      "text/plain": [
       "Index(['tweet id', ' tweet', ' label'], dtype='object')"
      ]
     },
     "execution_count": 4,
     "metadata": {},
     "output_type": "execute_result"
    }
   ],
   "source": [
    "# maybe delete this later\n",
    "df.columns"
   ]
  },
  {
   "cell_type": "code",
   "execution_count": 5,
   "id": "3464ddd8-e684-4ba5-8dd9-1f15fd623e89",
   "metadata": {
    "tags": []
   },
   "outputs": [
    {
     "data": {
      "text/html": [
       "<div>\n",
       "<style scoped>\n",
       "    .dataframe tbody tr th:only-of-type {\n",
       "        vertical-align: middle;\n",
       "    }\n",
       "\n",
       "    .dataframe tbody tr th {\n",
       "        vertical-align: top;\n",
       "    }\n",
       "\n",
       "    .dataframe thead th {\n",
       "        text-align: right;\n",
       "    }\n",
       "</style>\n",
       "<table border=\"1\" class=\"dataframe\">\n",
       "  <thead>\n",
       "    <tr style=\"text-align: right;\">\n",
       "      <th></th>\n",
       "      <th>tweet id</th>\n",
       "      <th>tweet</th>\n",
       "      <th>label</th>\n",
       "    </tr>\n",
       "  </thead>\n",
       "  <tbody>\n",
       "    <tr>\n",
       "      <th>count</th>\n",
       "      <td>10012</td>\n",
       "      <td>10012</td>\n",
       "      <td>10012</td>\n",
       "    </tr>\n",
       "    <tr>\n",
       "      <th>unique</th>\n",
       "      <td>10012</td>\n",
       "      <td>9226</td>\n",
       "      <td>2</td>\n",
       "    </tr>\n",
       "    <tr>\n",
       "      <th>top</th>\n",
       "      <td>'325208201740029952'</td>\n",
       "      <td>RT @DannyAmendola: I will DONATE $100 for EVER...</td>\n",
       "      <td>on-topic</td>\n",
       "    </tr>\n",
       "    <tr>\n",
       "      <th>freq</th>\n",
       "      <td>1</td>\n",
       "      <td>34</td>\n",
       "      <td>5648</td>\n",
       "    </tr>\n",
       "  </tbody>\n",
       "</table>\n",
       "</div>"
      ],
      "text/plain": [
       "                    tweet id  \\\n",
       "count                  10012   \n",
       "unique                 10012   \n",
       "top     '325208201740029952'   \n",
       "freq                       1   \n",
       "\n",
       "                                                    tweet     label  \n",
       "count                                               10012     10012  \n",
       "unique                                               9226         2  \n",
       "top     RT @DannyAmendola: I will DONATE $100 for EVER...  on-topic  \n",
       "freq                                                   34      5648  "
      ]
     },
     "execution_count": 5,
     "metadata": {},
     "output_type": "execute_result"
    }
   ],
   "source": [
    "df.describe()"
   ]
  },
  {
   "cell_type": "code",
   "execution_count": 25,
   "id": "4aac9997-9865-4f46-8884-842ec1a505aa",
   "metadata": {
    "tags": []
   },
   "outputs": [
    {
     "data": {
      "text/plain": [
       "0    Funny how I got twenty minutes of sleep last n...\n",
       "1                              I just wanna go outside\n",
       "2    This is fucking crazy Suspect 2 has like 2 hou...\n",
       "3    oops someone doesn t like to be told he s a ly...\n",
       "4                Let me love you you know who else too\n",
       "Name: cleaned_text, dtype: object"
      ]
     },
     "execution_count": 32,
     "metadata": {},
     "output_type": "execute_result"
    }
   ],
   "source": [
    "# define the function\n",
    "def clean_text(text):\n",
    "    text = re.sub(r'http\\S+|www\\S+|https\\S+', '', text, flags=re.MULTILINE)  # remove URLs\n",
    "    text = re.sub(r'@\\w+', '', text)  # remove mentions\n",
    "    text = re.sub(r'#\\w+', '', text) # remove hashtag\n",
    "    text = re.sub(r'\\W', ' ', text)  # remove special characters\n",
    "    text = re.sub(r'\\s+', ' ', text)  # remove extra spaces\n",
    "    return text.strip()\n",
    "\n",
    "# apply the function to your dataframe\n",
    "text = df[' tweet']\n",
    "df[\"cleaned_text\"] = df[' tweet'].apply(clean_text)\n",
    "df[\"cleaned_text\"].head()"
   ]
  },
  {
   "cell_type": "code",
   "execution_count": 26,
   "id": "afcd4625-8f1f-4130-8e0b-600a28980e8b",
   "metadata": {
    "tags": []
   },
   "outputs": [
    {
     "name": "stdout",
     "output_type": "stream",
     "text": [
      "Requirement already satisfied: textblob in /opt/conda/lib/python3.10/site-packages (0.17.1)\n",
      "Requirement already satisfied: nltk>=3.1 in /opt/conda/lib/python3.10/site-packages (from textblob) (3.8.1)\n",
      "Requirement already satisfied: regex>=2021.8.3 in /opt/conda/lib/python3.10/site-packages (from nltk>=3.1->textblob) (2023.5.5)\n",
      "Requirement already satisfied: click in /opt/conda/lib/python3.10/site-packages (from nltk>=3.1->textblob) (8.1.3)\n",
      "Requirement already satisfied: joblib in /opt/conda/lib/python3.10/site-packages (from nltk>=3.1->textblob) (1.2.0)\n",
      "Requirement already satisfied: tqdm in /opt/conda/lib/python3.10/site-packages (from nltk>=3.1->textblob) (4.65.0)\n"
     ]
    }
   ],
   "source": [
    "!pip install textblob"
   ]
  },
  {
   "cell_type": "code",
   "execution_count": 27,
   "id": "e7ec6e3a-d251-407c-b20f-1888a7d1e0ad",
   "metadata": {
    "tags": []
   },
   "outputs": [
    {
     "data": {
      "text/plain": [
       "0        positive\n",
       "1         neutral\n",
       "2        negative\n",
       "3         neutral\n",
       "4        positive\n",
       "           ...   \n",
       "10007    negative\n",
       "10008     neutral\n",
       "10009    negative\n",
       "10010    negative\n",
       "10011    negative\n",
       "Name:  tweet, Length: 10012, dtype: object"
      ]
     },
     "execution_count": 27,
     "metadata": {},
     "output_type": "execute_result"
    }
   ],
   "source": [
    "# write your code here: this is the sentiment analysis for the comments\n",
    "\n",
    "from textblob import TextBlob\n",
    "\n",
    "def get_sentiment(text):\n",
    "    analysis = TextBlob(text)\n",
    "    if analysis.sentiment.polarity > 0:\n",
    "        return 'positive'\n",
    "    elif analysis.sentiment.polarity == 0:\n",
    "        return 'neutral'\n",
    "    else:\n",
    "        return 'negative'\n",
    "\n",
    "sentiment = df[\" tweet\"].apply(get_sentiment)\n",
    "sentiment"
   ]
  },
  {
   "cell_type": "code",
   "execution_count": 10,
   "id": "dcdaeef0-cfc0-4ae8-a541-803a2388170c",
   "metadata": {
    "tags": []
   },
   "outputs": [],
   "source": [
    "# write your code here\n",
    "from nltk import ngrams\n",
    "\n",
    "def generate_ngrams(text, n):\n",
    "    tokens = text.split()\n",
    "    return list(ngrams(tokens, n))"
   ]
  },
  {
   "cell_type": "code",
   "execution_count": 12,
   "id": "17955627-4518-4fa1-9ac0-d23fee705aa2",
   "metadata": {
    "tags": []
   },
   "outputs": [
    {
     "data": {
      "text/plain": [
       "0        [(Funny, how), (how, I), (I, got), (got, twent...\n",
       "1        [(I, just), (just, wanna), (wanna, go), (go, o...\n",
       "2        [(This, is), (is, fucking), (fucking, crazy.),...\n",
       "3        [(@J_Adams91, oops,), (oops,, someone), (someo...\n",
       "4        [(Let, me), (me, love), (love, you), (you, @Ga...\n",
       "                               ...                        \n",
       "10007    [(RT, @ISCOSEU:), (@ISCOSEU:, Boston), (Boston...\n",
       "10008    [(Like, the), (the, boston), (boston, marathon...\n",
       "10009    [(RT, @SportsCenter:), (@SportsCenter:, MUST),...\n",
       "10010    [(RT, @iamPink_Lipss:), (@iamPink_Lipss:, So),...\n",
       "10011    [(RT, @CBSNews:), (@CBSNews:, Both), (Both, FB...\n",
       "Name: n_grams, Length: 10012, dtype: object"
      ]
     },
     "execution_count": 12,
     "metadata": {},
     "output_type": "execute_result"
    }
   ],
   "source": [
    "df[\"n_grams\"] =df[\" tweet\"].apply(lambda x: generate_ngrams (x, n=2))\n",
    "df[\"n_grams\"]"
   ]
  },
  {
   "cell_type": "code",
   "execution_count": 13,
   "id": "6829fdc0-e042-4e52-b343-0f4e1c40b355",
   "metadata": {
    "tags": []
   },
   "outputs": [
    {
     "name": "stdout",
     "output_type": "stream",
     "text": [
      "Requirement already satisfied: nltk in /opt/conda/lib/python3.10/site-packages (3.8.1)\n",
      "Requirement already satisfied: regex>=2021.8.3 in /opt/conda/lib/python3.10/site-packages (from nltk) (2023.5.5)\n",
      "Requirement already satisfied: joblib in /opt/conda/lib/python3.10/site-packages (from nltk) (1.2.0)\n",
      "Requirement already satisfied: tqdm in /opt/conda/lib/python3.10/site-packages (from nltk) (4.65.0)\n",
      "Requirement already satisfied: click in /opt/conda/lib/python3.10/site-packages (from nltk) (8.1.3)\n"
     ]
    }
   ],
   "source": [
    "!pip install nltk"
   ]
  },
  {
   "cell_type": "code",
   "execution_count": 17,
   "id": "c7e0fded-8774-4215-84b7-4a57f82cdab1",
   "metadata": {
    "tags": []
   },
   "outputs": [],
   "source": [
    "def generate_ngrams(text, n):\n",
    "    tokens = text.split()\n",
    "    return list(ngrams(tokens, n))"
   ]
  },
  {
   "cell_type": "code",
   "execution_count": 6,
   "id": "5f6f582b-4a18-4fe8-b54d-4798d60f293d",
   "metadata": {
    "tags": []
   },
   "outputs": [],
   "source": [
    "# Everything below this point is experimenting"
   ]
  },
  {
   "cell_type": "code",
   "execution_count": 28,
   "id": "bc439661-1047-4377-a87a-c900bb080316",
   "metadata": {
    "tags": []
   },
   "outputs": [
    {
     "name": "stdout",
     "output_type": "stream",
     "text": [
      "Requirement already satisfied: nltk in /opt/conda/lib/python3.10/site-packages (3.8.1)\n",
      "Requirement already satisfied: click in /opt/conda/lib/python3.10/site-packages (from nltk) (8.1.3)\n",
      "Requirement already satisfied: joblib in /opt/conda/lib/python3.10/site-packages (from nltk) (1.2.0)\n",
      "Requirement already satisfied: tqdm in /opt/conda/lib/python3.10/site-packages (from nltk) (4.65.0)\n",
      "Requirement already satisfied: regex>=2021.8.3 in /opt/conda/lib/python3.10/site-packages (from nltk) (2023.5.5)\n",
      "Requirement already satisfied: textblob in /opt/conda/lib/python3.10/site-packages (0.17.1)\n",
      "Requirement already satisfied: nltk>=3.1 in /opt/conda/lib/python3.10/site-packages (from textblob) (3.8.1)\n",
      "Requirement already satisfied: regex>=2021.8.3 in /opt/conda/lib/python3.10/site-packages (from nltk>=3.1->textblob) (2023.5.5)\n",
      "Requirement already satisfied: tqdm in /opt/conda/lib/python3.10/site-packages (from nltk>=3.1->textblob) (4.65.0)\n",
      "Requirement already satisfied: joblib in /opt/conda/lib/python3.10/site-packages (from nltk>=3.1->textblob) (1.2.0)\n",
      "Requirement already satisfied: click in /opt/conda/lib/python3.10/site-packages (from nltk>=3.1->textblob) (8.1.3)\n"
     ]
    }
   ],
   "source": [
    "!pip install nltk \n",
    "!pip install -U textblob"
   ]
  },
  {
   "cell_type": "code",
   "execution_count": 29,
   "id": "018a7ab7-499d-4ebd-821d-587370f07816",
   "metadata": {
    "tags": []
   },
   "outputs": [
    {
     "name": "stderr",
     "output_type": "stream",
     "text": [
      "[nltk_data] Downloading package vader_lexicon to\n",
      "[nltk_data]     /home/jovyan/nltk_data...\n",
      "[nltk_data]   Package vader_lexicon is already up-to-date!\n"
     ]
    }
   ],
   "source": [
    "# Import necessary libraries\n",
    "import pandas as pd\n",
    "import nltk\n",
    "nltk.download('vader_lexicon')\n",
    "from nltk.sentiment.vader import SentimentIntensityAnalyzer\n",
    "from textblob import TextBlob\n",
    "import re"
   ]
  },
  {
   "cell_type": "code",
   "execution_count": null,
   "id": "f943d1b2-149d-4f81-a7bd-8d4a55737342",
   "metadata": {},
   "outputs": [],
   "source": [
    "# Textblob was alr used up top"
   ]
  },
  {
   "cell_type": "code",
   "execution_count": 30,
   "id": "6b9eb1d3-33b3-4d39-a79d-b0acb3f39d1e",
   "metadata": {
    "tags": []
   },
   "outputs": [],
   "source": [
    "# Define a function for sentiment analysis using NLTK's Vader\n",
    "from nltk.sentiment.vader import SentimentIntensityAnalyzer\n",
    "\n",
    "def get_sentiment_vader(text):\n",
    "    sia = SentimentIntensityAnalyzer()\n",
    "    sentiment = sia.polarity_scores(text)\n",
    "    \n",
    "    if sentiment['compound'] > 0.05:\n",
    "        return \"Positive\"\n",
    "    elif sentiment['compound'] < -0.05:\n",
    "        return \"Negative\"\n",
    "    else:\n",
    "        return \"Neutral\""
   ]
  },
  {
   "cell_type": "code",
   "execution_count": 10,
   "id": "04401cfb-8173-4065-a2a5-9b75ab226f0f",
   "metadata": {
    "tags": []
   },
   "outputs": [],
   "source": [
    "# forgot to preprocess the data earlier so lets do this again"
   ]
  },
  {
   "cell_type": "code",
   "execution_count": 37,
   "id": "315e113d-e9e9-4681-970d-e7dab64eb89f",
   "metadata": {
    "tags": []
   },
   "outputs": [],
   "source": [
    "# text cleaning\n",
    "def clean_text(text):\n",
    "    text = re.sub(r'http\\S+|www\\S+|https\\S+', '', text, flags=re.MULTILINE)  # remove URLs\n",
    "    text = re.sub(r'@\\w+', '', text)  # remove mentions\n",
    "    text = re.sub(r'#', '', text) # remove hashtag\n",
    "    text = re.sub(r'\\s+', ' ', text)  # remove extra spaces\n",
    "    return text.strip()\n",
    "\n",
    "df['clean_text'] = df[' tweet'].apply(clean_text)"
   ]
  },
  {
   "cell_type": "code",
   "execution_count": 38,
   "id": "fbf426a9-a56e-4f7c-a97e-c2c4ae7fb2da",
   "metadata": {
    "tags": []
   },
   "outputs": [
    {
     "data": {
      "text/plain": [
       "0        Funny how I got twenty minutes of sleep last n...\n",
       "1                                  I just wanna go outside\n",
       "2        This is fucking crazy. Suspect 2 has like 2 ho...\n",
       "3        oops, someone doesn't like to be told he's a l...\n",
       "4                    Let me love you you know who else too\n",
       "                               ...                        \n",
       "10007    RT : Boston bombing suspects’ dad says sons we...\n",
       "10008    Like the boston marathon, on a episode peter h...\n",
       "10009    RT : MUST WATCH: Bruins fans sing emotional Na...\n",
       "10010    RT : So that Boston bombing was fake just like...\n",
       "10011    RT : Both FBI and al Qaeda struggling to ident...\n",
       "Name: clean_text, Length: 10012, dtype: object"
      ]
     },
     "execution_count": 38,
     "metadata": {},
     "output_type": "execute_result"
    }
   ],
   "source": [
    "# test to make sure it worked\n",
    "df['clean_text']"
   ]
  },
  {
   "cell_type": "code",
   "execution_count": 14,
   "id": "4c0aa75f-982c-4f7e-94af-086afa619366",
   "metadata": {
    "tags": []
   },
   "outputs": [],
   "source": [
    "# Hehe sentiment scores?"
   ]
  },
  {
   "cell_type": "code",
   "execution_count": 39,
   "id": "0e2a1e04-3ccb-4eff-9e26-6a6a812cb5de",
   "metadata": {
    "tags": []
   },
   "outputs": [],
   "source": [
    "# Define a function for sentiment analysis using TextBlob\n",
    "def get_sentiment_textblob(text):\n",
    "    \"\"\"\n",
    "    this function takes text as the input and calculates the sentiment score of this given text.\n",
    "    \"\"\"\n",
    "    sentiment = TextBlob(text).sentiment.polarity\n",
    "    if sentiment > 0:\n",
    "        return \"Positive\"\n",
    "    elif sentiment < 0:\n",
    "        return \"Negative\"\n",
    "    else:\n",
    "        return \"Neutral\"\n",
    "\n",
    "# get continuous textblob sentiment scores\n",
    "def get_sent_textblob_cont(text):\n",
    "    return TextBlob(text).sentiment.polarity\n",
    "\n",
    "# Define a function for sentiment analysis using NLTK's Vader\n",
    "def get_sentiment_vader(text):\n",
    "    sia = SentimentIntensityAnalyzer()\n",
    "    sentiment = sia.polarity_scores(text)\n",
    "    if sentiment['compound'] > 0.05:\n",
    "        return \"Positive\"\n",
    "    elif sentiment['compound'] < -0.05:\n",
    "        return \"Negative\"\n",
    "    else:\n",
    "        return \"Neutral\"\n",
    "    \n",
    "# get continuous textblob sentiment scores\n",
    "def get_sent_vader_cont(text):\n",
    "    sia = SentimentIntensityAnalyzer()\n",
    "    return sia.polarity_scores(text)['compound']"
   ]
  },
  {
   "cell_type": "code",
   "execution_count": 40,
   "id": "0f0b601a-9ce3-41f1-865c-2c9513290673",
   "metadata": {
    "tags": []
   },
   "outputs": [
    {
     "data": {
      "text/html": [
       "<div>\n",
       "<style scoped>\n",
       "    .dataframe tbody tr th:only-of-type {\n",
       "        vertical-align: middle;\n",
       "    }\n",
       "\n",
       "    .dataframe tbody tr th {\n",
       "        vertical-align: top;\n",
       "    }\n",
       "\n",
       "    .dataframe thead th {\n",
       "        text-align: right;\n",
       "    }\n",
       "</style>\n",
       "<table border=\"1\" class=\"dataframe\">\n",
       "  <thead>\n",
       "    <tr style=\"text-align: right;\">\n",
       "      <th></th>\n",
       "      <th>clean_text</th>\n",
       "      <th>sentiment_textblob</th>\n",
       "    </tr>\n",
       "  </thead>\n",
       "  <tbody>\n",
       "    <tr>\n",
       "      <th>0</th>\n",
       "      <td>Funny how I got twenty minutes of sleep last n...</td>\n",
       "      <td>Positive</td>\n",
       "    </tr>\n",
       "    <tr>\n",
       "      <th>1</th>\n",
       "      <td>I just wanna go outside</td>\n",
       "      <td>Neutral</td>\n",
       "    </tr>\n",
       "    <tr>\n",
       "      <th>2</th>\n",
       "      <td>This is fucking crazy. Suspect 2 has like 2 ho...</td>\n",
       "      <td>Negative</td>\n",
       "    </tr>\n",
       "    <tr>\n",
       "      <th>3</th>\n",
       "      <td>oops, someone doesn't like to be told he's a l...</td>\n",
       "      <td>Neutral</td>\n",
       "    </tr>\n",
       "    <tr>\n",
       "      <th>4</th>\n",
       "      <td>Let me love you you know who else too</td>\n",
       "      <td>Positive</td>\n",
       "    </tr>\n",
       "    <tr>\n",
       "      <th>...</th>\n",
       "      <td>...</td>\n",
       "      <td>...</td>\n",
       "    </tr>\n",
       "    <tr>\n",
       "      <th>10007</th>\n",
       "      <td>RT : Boston bombing suspects’ dad says sons we...</td>\n",
       "      <td>Negative</td>\n",
       "    </tr>\n",
       "    <tr>\n",
       "      <th>10008</th>\n",
       "      <td>Like the boston marathon, on a episode peter h...</td>\n",
       "      <td>Neutral</td>\n",
       "    </tr>\n",
       "    <tr>\n",
       "      <th>10009</th>\n",
       "      <td>RT : MUST WATCH: Bruins fans sing emotional Na...</td>\n",
       "      <td>Negative</td>\n",
       "    </tr>\n",
       "    <tr>\n",
       "      <th>10010</th>\n",
       "      <td>RT : So that Boston bombing was fake just like...</td>\n",
       "      <td>Negative</td>\n",
       "    </tr>\n",
       "    <tr>\n",
       "      <th>10011</th>\n",
       "      <td>RT : Both FBI and al Qaeda struggling to ident...</td>\n",
       "      <td>Negative</td>\n",
       "    </tr>\n",
       "  </tbody>\n",
       "</table>\n",
       "<p>10012 rows × 2 columns</p>\n",
       "</div>"
      ],
      "text/plain": [
       "                                              clean_text sentiment_textblob\n",
       "0      Funny how I got twenty minutes of sleep last n...           Positive\n",
       "1                                I just wanna go outside            Neutral\n",
       "2      This is fucking crazy. Suspect 2 has like 2 ho...           Negative\n",
       "3      oops, someone doesn't like to be told he's a l...            Neutral\n",
       "4                  Let me love you you know who else too           Positive\n",
       "...                                                  ...                ...\n",
       "10007  RT : Boston bombing suspects’ dad says sons we...           Negative\n",
       "10008  Like the boston marathon, on a episode peter h...            Neutral\n",
       "10009  RT : MUST WATCH: Bruins fans sing emotional Na...           Negative\n",
       "10010  RT : So that Boston bombing was fake just like...           Negative\n",
       "10011  RT : Both FBI and al Qaeda struggling to ident...           Negative\n",
       "\n",
       "[10012 rows x 2 columns]"
      ]
     },
     "execution_count": 40,
     "metadata": {},
     "output_type": "execute_result"
    }
   ],
   "source": [
    "df['sentiment_textblob'] = df['clean_text'].apply(get_sentiment_textblob)\n",
    "df[[\"clean_text\", \"sentiment_textblob\"]]"
   ]
  },
  {
   "cell_type": "code",
   "execution_count": 41,
   "id": "e96eca15-b042-40a7-85bb-d12ebe0fb61a",
   "metadata": {
    "tags": []
   },
   "outputs": [
    {
     "data": {
      "text/html": [
       "<div>\n",
       "<style scoped>\n",
       "    .dataframe tbody tr th:only-of-type {\n",
       "        vertical-align: middle;\n",
       "    }\n",
       "\n",
       "    .dataframe tbody tr th {\n",
       "        vertical-align: top;\n",
       "    }\n",
       "\n",
       "    .dataframe thead th {\n",
       "        text-align: right;\n",
       "    }\n",
       "</style>\n",
       "<table border=\"1\" class=\"dataframe\">\n",
       "  <thead>\n",
       "    <tr style=\"text-align: right;\">\n",
       "      <th></th>\n",
       "      <th>clean_text</th>\n",
       "      <th>sentiment_textblob</th>\n",
       "      <th>sent_textblob_cont</th>\n",
       "    </tr>\n",
       "  </thead>\n",
       "  <tbody>\n",
       "    <tr>\n",
       "      <th>0</th>\n",
       "      <td>Funny how I got twenty minutes of sleep last n...</td>\n",
       "      <td>Positive</td>\n",
       "      <td>0.166667</td>\n",
       "    </tr>\n",
       "    <tr>\n",
       "      <th>1</th>\n",
       "      <td>I just wanna go outside</td>\n",
       "      <td>Neutral</td>\n",
       "      <td>0.000000</td>\n",
       "    </tr>\n",
       "    <tr>\n",
       "      <th>2</th>\n",
       "      <td>This is fucking crazy. Suspect 2 has like 2 ho...</td>\n",
       "      <td>Negative</td>\n",
       "      <td>-0.600000</td>\n",
       "    </tr>\n",
       "    <tr>\n",
       "      <th>3</th>\n",
       "      <td>oops, someone doesn't like to be told he's a l...</td>\n",
       "      <td>Neutral</td>\n",
       "      <td>0.000000</td>\n",
       "    </tr>\n",
       "    <tr>\n",
       "      <th>4</th>\n",
       "      <td>Let me love you you know who else too</td>\n",
       "      <td>Positive</td>\n",
       "      <td>0.500000</td>\n",
       "    </tr>\n",
       "    <tr>\n",
       "      <th>...</th>\n",
       "      <td>...</td>\n",
       "      <td>...</td>\n",
       "      <td>...</td>\n",
       "    </tr>\n",
       "    <tr>\n",
       "      <th>10007</th>\n",
       "      <td>RT : Boston bombing suspects’ dad says sons we...</td>\n",
       "      <td>Negative</td>\n",
       "      <td>-0.250000</td>\n",
       "    </tr>\n",
       "    <tr>\n",
       "      <th>10008</th>\n",
       "      <td>Like the boston marathon, on a episode peter h...</td>\n",
       "      <td>Neutral</td>\n",
       "      <td>0.000000</td>\n",
       "    </tr>\n",
       "    <tr>\n",
       "      <th>10009</th>\n",
       "      <td>RT : MUST WATCH: Bruins fans sing emotional Na...</td>\n",
       "      <td>Negative</td>\n",
       "      <td>-0.050000</td>\n",
       "    </tr>\n",
       "    <tr>\n",
       "      <th>10010</th>\n",
       "      <td>RT : So that Boston bombing was fake just like...</td>\n",
       "      <td>Negative</td>\n",
       "      <td>-0.500000</td>\n",
       "    </tr>\n",
       "    <tr>\n",
       "      <th>10011</th>\n",
       "      <td>RT : Both FBI and al Qaeda struggling to ident...</td>\n",
       "      <td>Negative</td>\n",
       "      <td>-0.400000</td>\n",
       "    </tr>\n",
       "  </tbody>\n",
       "</table>\n",
       "<p>10012 rows × 3 columns</p>\n",
       "</div>"
      ],
      "text/plain": [
       "                                              clean_text sentiment_textblob  \\\n",
       "0      Funny how I got twenty minutes of sleep last n...           Positive   \n",
       "1                                I just wanna go outside            Neutral   \n",
       "2      This is fucking crazy. Suspect 2 has like 2 ho...           Negative   \n",
       "3      oops, someone doesn't like to be told he's a l...            Neutral   \n",
       "4                  Let me love you you know who else too           Positive   \n",
       "...                                                  ...                ...   \n",
       "10007  RT : Boston bombing suspects’ dad says sons we...           Negative   \n",
       "10008  Like the boston marathon, on a episode peter h...            Neutral   \n",
       "10009  RT : MUST WATCH: Bruins fans sing emotional Na...           Negative   \n",
       "10010  RT : So that Boston bombing was fake just like...           Negative   \n",
       "10011  RT : Both FBI and al Qaeda struggling to ident...           Negative   \n",
       "\n",
       "       sent_textblob_cont  \n",
       "0                0.166667  \n",
       "1                0.000000  \n",
       "2               -0.600000  \n",
       "3                0.000000  \n",
       "4                0.500000  \n",
       "...                   ...  \n",
       "10007           -0.250000  \n",
       "10008            0.000000  \n",
       "10009           -0.050000  \n",
       "10010           -0.500000  \n",
       "10011           -0.400000  \n",
       "\n",
       "[10012 rows x 3 columns]"
      ]
     },
     "execution_count": 41,
     "metadata": {},
     "output_type": "execute_result"
    }
   ],
   "source": [
    "df['sent_textblob_cont'] = df['clean_text'].apply(get_sent_textblob_cont)\n",
    "df[[\"clean_text\", \"sentiment_textblob\", \"sent_textblob_cont\"]]"
   ]
  },
  {
   "cell_type": "code",
   "execution_count": 42,
   "id": "8a0ff61b-c0da-4e23-8613-5011adc6f8aa",
   "metadata": {
    "tags": []
   },
   "outputs": [
    {
     "data": {
      "text/html": [
       "<div>\n",
       "<style scoped>\n",
       "    .dataframe tbody tr th:only-of-type {\n",
       "        vertical-align: middle;\n",
       "    }\n",
       "\n",
       "    .dataframe tbody tr th {\n",
       "        vertical-align: top;\n",
       "    }\n",
       "\n",
       "    .dataframe thead th {\n",
       "        text-align: right;\n",
       "    }\n",
       "</style>\n",
       "<table border=\"1\" class=\"dataframe\">\n",
       "  <thead>\n",
       "    <tr style=\"text-align: right;\">\n",
       "      <th></th>\n",
       "      <th>clean_text</th>\n",
       "      <th>sentiment_textblob</th>\n",
       "      <th>sentiment_vader</th>\n",
       "    </tr>\n",
       "  </thead>\n",
       "  <tbody>\n",
       "    <tr>\n",
       "      <th>0</th>\n",
       "      <td>Funny how I got twenty minutes of sleep last n...</td>\n",
       "      <td>Positive</td>\n",
       "      <td>Positive</td>\n",
       "    </tr>\n",
       "    <tr>\n",
       "      <th>1</th>\n",
       "      <td>I just wanna go outside</td>\n",
       "      <td>Neutral</td>\n",
       "      <td>Neutral</td>\n",
       "    </tr>\n",
       "    <tr>\n",
       "      <th>2</th>\n",
       "      <td>This is fucking crazy. Suspect 2 has like 2 ho...</td>\n",
       "      <td>Negative</td>\n",
       "      <td>Negative</td>\n",
       "    </tr>\n",
       "    <tr>\n",
       "      <th>3</th>\n",
       "      <td>oops, someone doesn't like to be told he's a l...</td>\n",
       "      <td>Neutral</td>\n",
       "      <td>Negative</td>\n",
       "    </tr>\n",
       "    <tr>\n",
       "      <th>4</th>\n",
       "      <td>Let me love you you know who else too</td>\n",
       "      <td>Positive</td>\n",
       "      <td>Positive</td>\n",
       "    </tr>\n",
       "    <tr>\n",
       "      <th>...</th>\n",
       "      <td>...</td>\n",
       "      <td>...</td>\n",
       "      <td>...</td>\n",
       "    </tr>\n",
       "    <tr>\n",
       "      <th>10007</th>\n",
       "      <td>RT : Boston bombing suspects’ dad says sons we...</td>\n",
       "      <td>Negative</td>\n",
       "      <td>Neutral</td>\n",
       "    </tr>\n",
       "    <tr>\n",
       "      <th>10008</th>\n",
       "      <td>Like the boston marathon, on a episode peter h...</td>\n",
       "      <td>Neutral</td>\n",
       "      <td>Negative</td>\n",
       "    </tr>\n",
       "    <tr>\n",
       "      <th>10009</th>\n",
       "      <td>RT : MUST WATCH: Bruins fans sing emotional Na...</td>\n",
       "      <td>Negative</td>\n",
       "      <td>Positive</td>\n",
       "    </tr>\n",
       "    <tr>\n",
       "      <th>10010</th>\n",
       "      <td>RT : So that Boston bombing was fake just like...</td>\n",
       "      <td>Negative</td>\n",
       "      <td>Negative</td>\n",
       "    </tr>\n",
       "    <tr>\n",
       "      <th>10011</th>\n",
       "      <td>RT : Both FBI and al Qaeda struggling to ident...</td>\n",
       "      <td>Negative</td>\n",
       "      <td>Negative</td>\n",
       "    </tr>\n",
       "  </tbody>\n",
       "</table>\n",
       "<p>10012 rows × 3 columns</p>\n",
       "</div>"
      ],
      "text/plain": [
       "                                              clean_text sentiment_textblob  \\\n",
       "0      Funny how I got twenty minutes of sleep last n...           Positive   \n",
       "1                                I just wanna go outside            Neutral   \n",
       "2      This is fucking crazy. Suspect 2 has like 2 ho...           Negative   \n",
       "3      oops, someone doesn't like to be told he's a l...            Neutral   \n",
       "4                  Let me love you you know who else too           Positive   \n",
       "...                                                  ...                ...   \n",
       "10007  RT : Boston bombing suspects’ dad says sons we...           Negative   \n",
       "10008  Like the boston marathon, on a episode peter h...            Neutral   \n",
       "10009  RT : MUST WATCH: Bruins fans sing emotional Na...           Negative   \n",
       "10010  RT : So that Boston bombing was fake just like...           Negative   \n",
       "10011  RT : Both FBI and al Qaeda struggling to ident...           Negative   \n",
       "\n",
       "      sentiment_vader  \n",
       "0            Positive  \n",
       "1             Neutral  \n",
       "2            Negative  \n",
       "3            Negative  \n",
       "4            Positive  \n",
       "...               ...  \n",
       "10007         Neutral  \n",
       "10008        Negative  \n",
       "10009        Positive  \n",
       "10010        Negative  \n",
       "10011        Negative  \n",
       "\n",
       "[10012 rows x 3 columns]"
      ]
     },
     "execution_count": 42,
     "metadata": {},
     "output_type": "execute_result"
    }
   ],
   "source": [
    "df['sentiment_vader'] = df['clean_text'].apply(get_sentiment_vader)\n",
    "df[[\"clean_text\", \"sentiment_textblob\", \"sentiment_vader\"]]"
   ]
  },
  {
   "cell_type": "code",
   "execution_count": 43,
   "id": "cabeec3c-e320-4152-a3e7-cb8c394129f7",
   "metadata": {
    "tags": []
   },
   "outputs": [
    {
     "data": {
      "text/html": [
       "<div>\n",
       "<style scoped>\n",
       "    .dataframe tbody tr th:only-of-type {\n",
       "        vertical-align: middle;\n",
       "    }\n",
       "\n",
       "    .dataframe tbody tr th {\n",
       "        vertical-align: top;\n",
       "    }\n",
       "\n",
       "    .dataframe thead th {\n",
       "        text-align: right;\n",
       "    }\n",
       "</style>\n",
       "<table border=\"1\" class=\"dataframe\">\n",
       "  <thead>\n",
       "    <tr style=\"text-align: right;\">\n",
       "      <th></th>\n",
       "      <th>clean_text</th>\n",
       "      <th>sentiment_textblob</th>\n",
       "      <th>sent_textblob_cont</th>\n",
       "      <th>sentiment_vader</th>\n",
       "      <th>sent_vader_cont</th>\n",
       "    </tr>\n",
       "  </thead>\n",
       "  <tbody>\n",
       "    <tr>\n",
       "      <th>0</th>\n",
       "      <td>Funny how I got twenty minutes of sleep last n...</td>\n",
       "      <td>Positive</td>\n",
       "      <td>0.166667</td>\n",
       "      <td>Positive</td>\n",
       "      <td>0.6597</td>\n",
       "    </tr>\n",
       "    <tr>\n",
       "      <th>1</th>\n",
       "      <td>I just wanna go outside</td>\n",
       "      <td>Neutral</td>\n",
       "      <td>0.000000</td>\n",
       "      <td>Neutral</td>\n",
       "      <td>0.0000</td>\n",
       "    </tr>\n",
       "    <tr>\n",
       "      <th>2</th>\n",
       "      <td>This is fucking crazy. Suspect 2 has like 2 ho...</td>\n",
       "      <td>Negative</td>\n",
       "      <td>-0.600000</td>\n",
       "      <td>Negative</td>\n",
       "      <td>-0.3962</td>\n",
       "    </tr>\n",
       "    <tr>\n",
       "      <th>3</th>\n",
       "      <td>oops, someone doesn't like to be told he's a l...</td>\n",
       "      <td>Neutral</td>\n",
       "      <td>0.000000</td>\n",
       "      <td>Negative</td>\n",
       "      <td>-0.6715</td>\n",
       "    </tr>\n",
       "    <tr>\n",
       "      <th>4</th>\n",
       "      <td>Let me love you you know who else too</td>\n",
       "      <td>Positive</td>\n",
       "      <td>0.500000</td>\n",
       "      <td>Positive</td>\n",
       "      <td>0.6369</td>\n",
       "    </tr>\n",
       "    <tr>\n",
       "      <th>...</th>\n",
       "      <td>...</td>\n",
       "      <td>...</td>\n",
       "      <td>...</td>\n",
       "      <td>...</td>\n",
       "      <td>...</td>\n",
       "    </tr>\n",
       "    <tr>\n",
       "      <th>10007</th>\n",
       "      <td>RT : Boston bombing suspects’ dad says sons we...</td>\n",
       "      <td>Negative</td>\n",
       "      <td>-0.250000</td>\n",
       "      <td>Neutral</td>\n",
       "      <td>0.0000</td>\n",
       "    </tr>\n",
       "    <tr>\n",
       "      <th>10008</th>\n",
       "      <td>Like the boston marathon, on a episode peter h...</td>\n",
       "      <td>Neutral</td>\n",
       "      <td>0.000000</td>\n",
       "      <td>Negative</td>\n",
       "      <td>-0.4939</td>\n",
       "    </tr>\n",
       "    <tr>\n",
       "      <th>10009</th>\n",
       "      <td>RT : MUST WATCH: Bruins fans sing emotional Na...</td>\n",
       "      <td>Negative</td>\n",
       "      <td>-0.050000</td>\n",
       "      <td>Positive</td>\n",
       "      <td>0.1531</td>\n",
       "    </tr>\n",
       "    <tr>\n",
       "      <th>10010</th>\n",
       "      <td>RT : So that Boston bombing was fake just like...</td>\n",
       "      <td>Negative</td>\n",
       "      <td>-0.500000</td>\n",
       "      <td>Negative</td>\n",
       "      <td>-0.1531</td>\n",
       "    </tr>\n",
       "    <tr>\n",
       "      <th>10011</th>\n",
       "      <td>RT : Both FBI and al Qaeda struggling to ident...</td>\n",
       "      <td>Negative</td>\n",
       "      <td>-0.400000</td>\n",
       "      <td>Negative</td>\n",
       "      <td>-0.4215</td>\n",
       "    </tr>\n",
       "  </tbody>\n",
       "</table>\n",
       "<p>10012 rows × 5 columns</p>\n",
       "</div>"
      ],
      "text/plain": [
       "                                              clean_text sentiment_textblob  \\\n",
       "0      Funny how I got twenty minutes of sleep last n...           Positive   \n",
       "1                                I just wanna go outside            Neutral   \n",
       "2      This is fucking crazy. Suspect 2 has like 2 ho...           Negative   \n",
       "3      oops, someone doesn't like to be told he's a l...            Neutral   \n",
       "4                  Let me love you you know who else too           Positive   \n",
       "...                                                  ...                ...   \n",
       "10007  RT : Boston bombing suspects’ dad says sons we...           Negative   \n",
       "10008  Like the boston marathon, on a episode peter h...            Neutral   \n",
       "10009  RT : MUST WATCH: Bruins fans sing emotional Na...           Negative   \n",
       "10010  RT : So that Boston bombing was fake just like...           Negative   \n",
       "10011  RT : Both FBI and al Qaeda struggling to ident...           Negative   \n",
       "\n",
       "       sent_textblob_cont sentiment_vader  sent_vader_cont  \n",
       "0                0.166667        Positive           0.6597  \n",
       "1                0.000000         Neutral           0.0000  \n",
       "2               -0.600000        Negative          -0.3962  \n",
       "3                0.000000        Negative          -0.6715  \n",
       "4                0.500000        Positive           0.6369  \n",
       "...                   ...             ...              ...  \n",
       "10007           -0.250000         Neutral           0.0000  \n",
       "10008            0.000000        Negative          -0.4939  \n",
       "10009           -0.050000        Positive           0.1531  \n",
       "10010           -0.500000        Negative          -0.1531  \n",
       "10011           -0.400000        Negative          -0.4215  \n",
       "\n",
       "[10012 rows x 5 columns]"
      ]
     },
     "execution_count": 43,
     "metadata": {},
     "output_type": "execute_result"
    }
   ],
   "source": [
    "# Apply sentiment analysis functions\n",
    "df['sent_vader_cont'] = df['clean_text'].apply(get_sent_vader_cont)\n",
    "df[[\"clean_text\", \"sentiment_textblob\", \"sent_textblob_cont\", \"sentiment_vader\", \"sent_vader_cont\"]]"
   ]
  },
  {
   "cell_type": "code",
   "execution_count": 44,
   "id": "59ce7083-8b2c-46a5-b2be-b5faf8808bcc",
   "metadata": {
    "tags": []
   },
   "outputs": [
    {
     "data": {
      "text/html": [
       "<div>\n",
       "<style scoped>\n",
       "    .dataframe tbody tr th:only-of-type {\n",
       "        vertical-align: middle;\n",
       "    }\n",
       "\n",
       "    .dataframe tbody tr th {\n",
       "        vertical-align: top;\n",
       "    }\n",
       "\n",
       "    .dataframe thead th {\n",
       "        text-align: right;\n",
       "    }\n",
       "</style>\n",
       "<table border=\"1\" class=\"dataframe\">\n",
       "  <thead>\n",
       "    <tr style=\"text-align: right;\">\n",
       "      <th></th>\n",
       "      <th>tweet id</th>\n",
       "      <th>tweet</th>\n",
       "      <th>label</th>\n",
       "      <th>cleaned_text</th>\n",
       "      <th>sentiment_textblob</th>\n",
       "      <th>clean_text</th>\n",
       "      <th>sent_textblob_cont</th>\n",
       "      <th>sentiment_vader</th>\n",
       "      <th>sent_vader_cont</th>\n",
       "    </tr>\n",
       "  </thead>\n",
       "  <tbody>\n",
       "    <tr>\n",
       "      <th>0</th>\n",
       "      <td>'325208201740029952'</td>\n",
       "      <td>Funny how I got twenty minutes of sleep last n...</td>\n",
       "      <td>off-topic</td>\n",
       "      <td>Funny how I got twenty minutes of sleep last n...</td>\n",
       "      <td>Positive</td>\n",
       "      <td>Funny how I got twenty minutes of sleep last n...</td>\n",
       "      <td>0.166667</td>\n",
       "      <td>Positive</td>\n",
       "      <td>0.6597</td>\n",
       "    </tr>\n",
       "    <tr>\n",
       "      <th>1</th>\n",
       "      <td>'325301650791215106'</td>\n",
       "      <td>I just wanna go outside</td>\n",
       "      <td>off-topic</td>\n",
       "      <td>I just wanna go outside</td>\n",
       "      <td>Neutral</td>\n",
       "      <td>I just wanna go outside</td>\n",
       "      <td>0.000000</td>\n",
       "      <td>Neutral</td>\n",
       "      <td>0.0000</td>\n",
       "    </tr>\n",
       "    <tr>\n",
       "      <th>2</th>\n",
       "      <td>'325182966332530688'</td>\n",
       "      <td>This is fucking crazy. Suspect # 2 has like 2 ...</td>\n",
       "      <td>on-topic</td>\n",
       "      <td>This is fucking crazy Suspect 2 has like 2 hou...</td>\n",
       "      <td>Negative</td>\n",
       "      <td>This is fucking crazy. Suspect 2 has like 2 ho...</td>\n",
       "      <td>-0.600000</td>\n",
       "      <td>Negative</td>\n",
       "      <td>-0.3962</td>\n",
       "    </tr>\n",
       "    <tr>\n",
       "      <th>3</th>\n",
       "      <td>'324654539850539009'</td>\n",
       "      <td>@J_Adams91 oops, someone doesn't like to be to...</td>\n",
       "      <td>off-topic</td>\n",
       "      <td>oops someone doesn t like to be told he s a ly...</td>\n",
       "      <td>Neutral</td>\n",
       "      <td>oops, someone doesn't like to be told he's a l...</td>\n",
       "      <td>0.000000</td>\n",
       "      <td>Negative</td>\n",
       "      <td>-0.6715</td>\n",
       "    </tr>\n",
       "    <tr>\n",
       "      <th>4</th>\n",
       "      <td>'323630018536275968'</td>\n",
       "      <td>Let me love you @GavinQuin you know who else too</td>\n",
       "      <td>off-topic</td>\n",
       "      <td>Let me love you you know who else too</td>\n",
       "      <td>Positive</td>\n",
       "      <td>Let me love you you know who else too</td>\n",
       "      <td>0.500000</td>\n",
       "      <td>Positive</td>\n",
       "      <td>0.6369</td>\n",
       "    </tr>\n",
       "    <tr>\n",
       "      <th>...</th>\n",
       "      <td>...</td>\n",
       "      <td>...</td>\n",
       "      <td>...</td>\n",
       "      <td>...</td>\n",
       "      <td>...</td>\n",
       "      <td>...</td>\n",
       "      <td>...</td>\n",
       "      <td>...</td>\n",
       "      <td>...</td>\n",
       "    </tr>\n",
       "    <tr>\n",
       "      <th>10007</th>\n",
       "      <td>'325357142418792448'</td>\n",
       "      <td>RT @ISCOSEU: Boston bombing suspects’ dad says...</td>\n",
       "      <td>on-topic</td>\n",
       "      <td>RT Boston bombing suspects dad says sons were ...</td>\n",
       "      <td>Negative</td>\n",
       "      <td>RT : Boston bombing suspects’ dad says sons we...</td>\n",
       "      <td>-0.250000</td>\n",
       "      <td>Neutral</td>\n",
       "      <td>0.0000</td>\n",
       "    </tr>\n",
       "    <tr>\n",
       "      <th>10008</th>\n",
       "      <td>'324425973623816193'</td>\n",
       "      <td>Like the boston marathon, on a episode peter h...</td>\n",
       "      <td>on-topic</td>\n",
       "      <td>Like the boston marathon on a episode peter ha...</td>\n",
       "      <td>Neutral</td>\n",
       "      <td>Like the boston marathon, on a episode peter h...</td>\n",
       "      <td>0.000000</td>\n",
       "      <td>Negative</td>\n",
       "      <td>-0.4939</td>\n",
       "    </tr>\n",
       "    <tr>\n",
       "      <th>10009</th>\n",
       "      <td>'324674851572965376'</td>\n",
       "      <td>RT @SportsCenter: MUST WATCH: Bruins fans sing...</td>\n",
       "      <td>on-topic</td>\n",
       "      <td>RT MUST WATCH Bruins fans sing emotional Natio...</td>\n",
       "      <td>Negative</td>\n",
       "      <td>RT : MUST WATCH: Bruins fans sing emotional Na...</td>\n",
       "      <td>-0.050000</td>\n",
       "      <td>Positive</td>\n",
       "      <td>0.1531</td>\n",
       "    </tr>\n",
       "    <tr>\n",
       "      <th>10010</th>\n",
       "      <td>'325378699237142528'</td>\n",
       "      <td>RT @iamPink_Lipss: So that Boston bombing was ...</td>\n",
       "      <td>on-topic</td>\n",
       "      <td>RT So that Boston bombing was fake just like t...</td>\n",
       "      <td>Negative</td>\n",
       "      <td>RT : So that Boston bombing was fake just like...</td>\n",
       "      <td>-0.500000</td>\n",
       "      <td>Negative</td>\n",
       "      <td>-0.1531</td>\n",
       "    </tr>\n",
       "    <tr>\n",
       "      <th>10011</th>\n",
       "      <td>'324513442813861889'</td>\n",
       "      <td>RT @CBSNews: Both FBI and al Qaeda struggling ...</td>\n",
       "      <td>on-topic</td>\n",
       "      <td>RT Both FBI and al Qaeda struggling to identif...</td>\n",
       "      <td>Negative</td>\n",
       "      <td>RT : Both FBI and al Qaeda struggling to ident...</td>\n",
       "      <td>-0.400000</td>\n",
       "      <td>Negative</td>\n",
       "      <td>-0.4215</td>\n",
       "    </tr>\n",
       "  </tbody>\n",
       "</table>\n",
       "<p>10012 rows × 9 columns</p>\n",
       "</div>"
      ],
      "text/plain": [
       "                   tweet id  \\\n",
       "0      '325208201740029952'   \n",
       "1      '325301650791215106'   \n",
       "2      '325182966332530688'   \n",
       "3      '324654539850539009'   \n",
       "4      '323630018536275968'   \n",
       "...                     ...   \n",
       "10007  '325357142418792448'   \n",
       "10008  '324425973623816193'   \n",
       "10009  '324674851572965376'   \n",
       "10010  '325378699237142528'   \n",
       "10011  '324513442813861889'   \n",
       "\n",
       "                                                   tweet      label  \\\n",
       "0      Funny how I got twenty minutes of sleep last n...  off-topic   \n",
       "1                                I just wanna go outside  off-topic   \n",
       "2      This is fucking crazy. Suspect # 2 has like 2 ...   on-topic   \n",
       "3      @J_Adams91 oops, someone doesn't like to be to...  off-topic   \n",
       "4       Let me love you @GavinQuin you know who else too  off-topic   \n",
       "...                                                  ...        ...   \n",
       "10007  RT @ISCOSEU: Boston bombing suspects’ dad says...   on-topic   \n",
       "10008  Like the boston marathon, on a episode peter h...   on-topic   \n",
       "10009  RT @SportsCenter: MUST WATCH: Bruins fans sing...   on-topic   \n",
       "10010  RT @iamPink_Lipss: So that Boston bombing was ...   on-topic   \n",
       "10011  RT @CBSNews: Both FBI and al Qaeda struggling ...   on-topic   \n",
       "\n",
       "                                            cleaned_text sentiment_textblob  \\\n",
       "0      Funny how I got twenty minutes of sleep last n...           Positive   \n",
       "1                                I just wanna go outside            Neutral   \n",
       "2      This is fucking crazy Suspect 2 has like 2 hou...           Negative   \n",
       "3      oops someone doesn t like to be told he s a ly...            Neutral   \n",
       "4                  Let me love you you know who else too           Positive   \n",
       "...                                                  ...                ...   \n",
       "10007  RT Boston bombing suspects dad says sons were ...           Negative   \n",
       "10008  Like the boston marathon on a episode peter ha...            Neutral   \n",
       "10009  RT MUST WATCH Bruins fans sing emotional Natio...           Negative   \n",
       "10010  RT So that Boston bombing was fake just like t...           Negative   \n",
       "10011  RT Both FBI and al Qaeda struggling to identif...           Negative   \n",
       "\n",
       "                                              clean_text  sent_textblob_cont  \\\n",
       "0      Funny how I got twenty minutes of sleep last n...            0.166667   \n",
       "1                                I just wanna go outside            0.000000   \n",
       "2      This is fucking crazy. Suspect 2 has like 2 ho...           -0.600000   \n",
       "3      oops, someone doesn't like to be told he's a l...            0.000000   \n",
       "4                  Let me love you you know who else too            0.500000   \n",
       "...                                                  ...                 ...   \n",
       "10007  RT : Boston bombing suspects’ dad says sons we...           -0.250000   \n",
       "10008  Like the boston marathon, on a episode peter h...            0.000000   \n",
       "10009  RT : MUST WATCH: Bruins fans sing emotional Na...           -0.050000   \n",
       "10010  RT : So that Boston bombing was fake just like...           -0.500000   \n",
       "10011  RT : Both FBI and al Qaeda struggling to ident...           -0.400000   \n",
       "\n",
       "      sentiment_vader  sent_vader_cont  \n",
       "0            Positive           0.6597  \n",
       "1             Neutral           0.0000  \n",
       "2            Negative          -0.3962  \n",
       "3            Negative          -0.6715  \n",
       "4            Positive           0.6369  \n",
       "...               ...              ...  \n",
       "10007         Neutral           0.0000  \n",
       "10008        Negative          -0.4939  \n",
       "10009        Positive           0.1531  \n",
       "10010        Negative          -0.1531  \n",
       "10011        Negative          -0.4215  \n",
       "\n",
       "[10012 rows x 9 columns]"
      ]
     },
     "execution_count": 44,
     "metadata": {},
     "output_type": "execute_result"
    }
   ],
   "source": [
    "# wtf does this look like\n",
    "df"
   ]
  },
  {
   "cell_type": "code",
   "execution_count": 45,
   "id": "c1e541f5-22f4-4650-8af0-4bcf8673e311",
   "metadata": {
    "tags": []
   },
   "outputs": [],
   "source": [
    "# aight so apparently i need to find some way to filter this sh to only on topic labels bet"
   ]
  },
  {
   "cell_type": "code",
   "execution_count": 46,
   "id": "ce58c4e7-c515-43c3-91e5-c8bfeb6ec465",
   "metadata": {
    "tags": []
   },
   "outputs": [
    {
     "data": {
      "image/png": "[encoded data removed]",
      "text/plain": [
       "<Figure size 1000x500 with 1 Axes>"
      ]
     },
     "metadata": {},
     "output_type": "display_data"
    }
   ],
   "source": [
    "import matplotlib.pyplot as plt\n",
    "import seaborn as sns\n",
    "\n",
    "plt.figure(figsize=(10, 5))\n",
    "sns.countplot(x=\"sentiment_textblob\", data=df, label=\"TextBlob\", color='blue', alpha=0.5)\n",
    "sns.countplot(x=\"sentiment_vader\", data=df, label=\"Vader\", color='red', alpha=0.5)\n",
    "plt.legend()\n",
    "plt.title('Distribution of Sentiment Scores from TextBlob and Vader')\n",
    "plt.show()"
   ]
  }
 ],
 "metadata": {
  "kernelspec": {
   "display_name": "Python 3 (ipykernel)",
   "language": "python",
   "name": "python3"
  },
  "language_info": {
   "codemirror_mode": {
    "name": "ipython",
    "version": 3
   },
   "file_extension": ".py",
   "mimetype": "text/x-python",
   "name": "python",
   "nbconvert_exporter": "python",
   "pygments_lexer": "ipython3",
   "version": "3.10.9"
  }
 },
 "nbformat": 4,
 "nbformat_minor": 5
}
